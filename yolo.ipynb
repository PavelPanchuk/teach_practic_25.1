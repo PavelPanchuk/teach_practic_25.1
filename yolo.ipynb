{
  "cells": [
    {
      "cell_type": "markdown",
      "metadata": {
        "id": "R3XpH2QEYfjY"
      },
      "source": [
        "\n",
        "Ссылки:\n",
        "1. https://www.ultralytics.com/\n",
        "2. https://docs.ultralytics.com/ru/models/yolo12/#detection-performance-coco-val2017\n",
        "3. https://habr.com/ru/articles/821971/\n",
        "4. https://docs.ultralytics.com/ru/datasets/detect/african-wildlife/#what-is-the-african-wildlife-dataset-and-how-can-it-be-used-in-computer-vision-projects\n",
        "5. https://docs.ultralytics.com/ru/datasets/detect/african-wildlife/\n",
        "6. https://public.roboflow.com/object-detection/raccoon -raccoon dataset\n",
        "7. https://www.kaggle.com/datasets/rahmasleam/bird-speciees-dataset?resource=download bird dataset (Barn Owl)\n",
        "8. https://www.kaggle.com/datasets/mmoreaux/caltech256 big dataset (owl)\n",
        "9. https://www.kaggle.com/datasets/snmahsa/animal-image-dataset-cats-dogs-and-foxes    fox dataset\n",
        "10. https://docs.ultralytics.com/ru/datasets/detect/open-images-v7/#open-images-v7-pretrained-models all dataset\n",
        "11. https://universe.roboflow.com/owl-kb7jn/owl-ljwf6/dataset/2# dataset store\n",
        "Библиотеки и пакеты:"
      ]
    },
    {
      "cell_type": "code",
      "execution_count": null,
      "metadata": {
        "colab": {
          "base_uri": "https://localhost:8080/",
          "height": 1000
        },
        "id": "PODWTqqTZ-SI",
        "outputId": "8765edc5-0a2b-485c-b360-5661f63493d3"
      },
      "outputs": [
        {
          "output_type": "stream",
          "name": "stdout",
          "text": [
            "Collecting ultralytics\n",
            "  Downloading ultralytics-8.3.162-py3-none-any.whl.metadata (37 kB)\n",
            "Collecting fiftyone\n",
            "  Downloading fiftyone-1.7.0-py3-none-any.whl.metadata (21 kB)\n",
            "Requirement already satisfied: numpy>=1.23.0 in /usr/local/lib/python3.11/dist-packages (from ultralytics) (2.0.2)\n",
            "Requirement already satisfied: matplotlib>=3.3.0 in /usr/local/lib/python3.11/dist-packages (from ultralytics) (3.10.0)\n",
            "Requirement already satisfied: opencv-python>=4.6.0 in /usr/local/lib/python3.11/dist-packages (from ultralytics) (4.11.0.86)\n",
            "Requirement already satisfied: pillow>=7.1.2 in /usr/local/lib/python3.11/dist-packages (from ultralytics) (11.2.1)\n",
            "Requirement already satisfied: pyyaml>=5.3.1 in /usr/local/lib/python3.11/dist-packages (from ultralytics) (6.0.2)\n",
            "Requirement already satisfied: requests>=2.23.0 in /usr/local/lib/python3.11/dist-packages (from ultralytics) (2.32.3)\n",
            "Requirement already satisfied: scipy>=1.4.1 in /usr/local/lib/python3.11/dist-packages (from ultralytics) (1.15.3)\n",
            "Requirement already satisfied: torch>=1.8.0 in /usr/local/lib/python3.11/dist-packages (from ultralytics) (2.6.0+cu124)\n",
            "Requirement already satisfied: torchvision>=0.9.0 in /usr/local/lib/python3.11/dist-packages (from ultralytics) (0.21.0+cu124)\n",
            "Requirement already satisfied: tqdm>=4.64.0 in /usr/local/lib/python3.11/dist-packages (from ultralytics) (4.67.1)\n",
            "Requirement already satisfied: psutil in /usr/local/lib/python3.11/dist-packages (from ultralytics) (5.9.5)\n",
            "Requirement already satisfied: py-cpuinfo in /usr/local/lib/python3.11/dist-packages (from ultralytics) (9.0.0)\n",
            "Requirement already satisfied: pandas>=1.1.4 in /usr/local/lib/python3.11/dist-packages (from ultralytics) (2.2.2)\n",
            "Collecting ultralytics-thop>=2.0.0 (from ultralytics)\n",
            "  Downloading ultralytics_thop-2.0.14-py3-none-any.whl.metadata (9.4 kB)\n",
            "Requirement already satisfied: aiofiles in /usr/local/lib/python3.11/dist-packages (from fiftyone) (24.1.0)\n",
            "Collecting argcomplete (from fiftyone)\n",
            "  Downloading argcomplete-3.6.2-py3-none-any.whl.metadata (16 kB)\n",
            "Collecting async_lru>=2 (from fiftyone)\n",
            "  Downloading async_lru-2.0.5-py3-none-any.whl.metadata (4.5 kB)\n",
            "Requirement already satisfied: beautifulsoup4 in /usr/local/lib/python3.11/dist-packages (from fiftyone) (4.13.4)\n",
            "Collecting boto3 (from fiftyone)\n",
            "  Downloading boto3-1.39.3-py3-none-any.whl.metadata (6.6 kB)\n",
            "Requirement already satisfied: cachetools in /usr/local/lib/python3.11/dist-packages (from fiftyone) (5.5.2)\n",
            "Collecting dacite<1.8.0,>=1.6.0 (from fiftyone)\n",
            "  Downloading dacite-1.7.0-py3-none-any.whl.metadata (14 kB)\n",
            "Requirement already satisfied: dill in /usr/local/lib/python3.11/dist-packages (from fiftyone) (0.3.7)\n",
            "Collecting Deprecated (from fiftyone)\n",
            "  Downloading Deprecated-1.2.18-py2.py3-none-any.whl.metadata (5.7 kB)\n",
            "Collecting ftfy (from fiftyone)\n",
            "  Downloading ftfy-6.3.1-py3-none-any.whl.metadata (7.3 kB)\n",
            "Requirement already satisfied: humanize in /usr/local/lib/python3.11/dist-packages (from fiftyone) (4.12.3)\n",
            "Collecting hypercorn>=0.13.2 (from fiftyone)\n",
            "  Downloading hypercorn-0.17.3-py3-none-any.whl.metadata (5.4 kB)\n",
            "Requirement already satisfied: Jinja2>=3 in /usr/local/lib/python3.11/dist-packages (from fiftyone) (3.1.6)\n",
            "Collecting kaleido!=0.2.1.post1 (from fiftyone)\n",
            "  Downloading kaleido-1.0.0-py3-none-any.whl.metadata (5.6 kB)\n",
            "Collecting mongoengine~=0.29.1 (from fiftyone)\n",
            "  Downloading mongoengine-0.29.1-py3-none-any.whl.metadata (6.7 kB)\n",
            "Collecting motor~=3.6.0 (from fiftyone)\n",
            "  Downloading motor-3.6.1-py3-none-any.whl.metadata (21 kB)\n",
            "Requirement already satisfied: packaging in /usr/local/lib/python3.11/dist-packages (from fiftyone) (24.2)\n",
            "Requirement already satisfied: plotly>=4.14 in /usr/local/lib/python3.11/dist-packages (from fiftyone) (5.24.1)\n",
            "Collecting pprintpp (from fiftyone)\n",
            "  Downloading pprintpp-0.4.0-py2.py3-none-any.whl.metadata (7.9 kB)\n",
            "Collecting pymongo~=4.9.2 (from fiftyone)\n",
            "  Downloading pymongo-4.9.2-cp311-cp311-manylinux_2_17_x86_64.manylinux2014_x86_64.whl.metadata (22 kB)\n",
            "Requirement already satisfied: pytz in /usr/local/lib/python3.11/dist-packages (from fiftyone) (2025.2)\n",
            "Requirement already satisfied: regex in /usr/local/lib/python3.11/dist-packages (from fiftyone) (2024.11.6)\n",
            "Collecting retrying (from fiftyone)\n",
            "  Downloading retrying-1.4.0-py3-none-any.whl.metadata (7.5 kB)\n",
            "Collecting rtree (from fiftyone)\n",
            "  Downloading rtree-1.4.0-py3-none-manylinux2014_x86_64.manylinux_2_17_x86_64.whl.metadata (2.1 kB)\n",
            "Requirement already satisfied: scikit-learn in /usr/local/lib/python3.11/dist-packages (from fiftyone) (1.6.1)\n",
            "Requirement already satisfied: scikit-image in /usr/local/lib/python3.11/dist-packages (from fiftyone) (0.25.2)\n",
            "Requirement already satisfied: setuptools in /usr/local/lib/python3.11/dist-packages (from fiftyone) (75.2.0)\n",
            "Collecting sseclient-py<2,>=1.7.2 (from fiftyone)\n",
            "  Downloading sseclient_py-1.8.0-py2.py3-none-any.whl.metadata (2.0 kB)\n",
            "Collecting sse-starlette<1,>=0.10.3 (from fiftyone)\n",
            "  Downloading sse_starlette-0.10.3-py3-none-any.whl.metadata (4.3 kB)\n",
            "Requirement already satisfied: starlette>=0.24.0 in /usr/local/lib/python3.11/dist-packages (from fiftyone) (0.46.2)\n",
            "Collecting strawberry-graphql>=0.262.4 (from fiftyone)\n",
            "  Downloading strawberry_graphql-0.275.5-py3-none-any.whl.metadata (7.4 kB)\n",
            "Requirement already satisfied: tabulate in /usr/local/lib/python3.11/dist-packages (from fiftyone) (0.9.0)\n",
            "Collecting xmltodict (from fiftyone)\n",
            "  Downloading xmltodict-0.14.2-py2.py3-none-any.whl.metadata (8.0 kB)\n",
            "Collecting universal-analytics-python3<2,>=1.0.1 (from fiftyone)\n",
            "  Downloading universal_analytics_python3-1.1.1-py3-none-any.whl.metadata (5.5 kB)\n",
            "Collecting pydash (from fiftyone)\n",
            "  Downloading pydash-8.0.5-py3-none-any.whl.metadata (4.5 kB)\n",
            "Collecting fiftyone-brain<0.22,>=0.21.2 (from fiftyone)\n",
            "  Downloading fiftyone_brain-0.21.2-py3-none-any.whl.metadata (4.8 kB)\n",
            "Collecting fiftyone-db<2.0,>=0.4 (from fiftyone)\n",
            "  Downloading fiftyone_db-1.3.0.tar.gz (8.2 kB)\n",
            "  Installing build dependencies ... \u001b[?25l\u001b[?25hdone\n",
            "  Getting requirements to build wheel ... \u001b[?25l\u001b[?25hdone\n",
            "  Preparing metadata (pyproject.toml) ... \u001b[?25l\u001b[?25hdone\n",
            "Collecting voxel51-eta<0.15,>=0.14.2 (from fiftyone)\n",
            "  Downloading voxel51_eta-0.14.2-py2.py3-none-any.whl.metadata (14 kB)\n",
            "Requirement already satisfied: opencv-python-headless in /usr/local/lib/python3.11/dist-packages (from fiftyone) (4.11.0.86)\n",
            "Requirement already satisfied: h11 in /usr/local/lib/python3.11/dist-packages (from hypercorn>=0.13.2->fiftyone) (0.16.0)\n",
            "Requirement already satisfied: h2>=3.1.0 in /usr/local/lib/python3.11/dist-packages (from hypercorn>=0.13.2->fiftyone) (4.2.0)\n",
            "Collecting priority (from hypercorn>=0.13.2->fiftyone)\n",
            "  Downloading priority-2.0.0-py3-none-any.whl.metadata (6.6 kB)\n",
            "Collecting wsproto>=0.14.0 (from hypercorn>=0.13.2->fiftyone)\n",
            "  Downloading wsproto-1.2.0-py3-none-any.whl.metadata (5.6 kB)\n",
            "Requirement already satisfied: MarkupSafe>=2.0 in /usr/local/lib/python3.11/dist-packages (from Jinja2>=3->fiftyone) (3.0.2)\n",
            "Collecting choreographer>=1.0.5 (from kaleido!=0.2.1.post1->fiftyone)\n",
            "  Downloading choreographer-1.0.9-py3-none-any.whl.metadata (5.6 kB)\n",
            "Collecting logistro>=1.0.8 (from kaleido!=0.2.1.post1->fiftyone)\n",
            "  Downloading logistro-1.1.0-py3-none-any.whl.metadata (2.6 kB)\n",
            "Requirement already satisfied: orjson>=3.10.15 in /usr/local/lib/python3.11/dist-packages (from kaleido!=0.2.1.post1->fiftyone) (3.10.18)\n",
            "Requirement already satisfied: contourpy>=1.0.1 in /usr/local/lib/python3.11/dist-packages (from matplotlib>=3.3.0->ultralytics) (1.3.2)\n",
            "Requirement already satisfied: cycler>=0.10 in /usr/local/lib/python3.11/dist-packages (from matplotlib>=3.3.0->ultralytics) (0.12.1)\n",
            "Requirement already satisfied: fonttools>=4.22.0 in /usr/local/lib/python3.11/dist-packages (from matplotlib>=3.3.0->ultralytics) (4.58.4)\n",
            "Requirement already satisfied: kiwisolver>=1.3.1 in /usr/local/lib/python3.11/dist-packages (from matplotlib>=3.3.0->ultralytics) (1.4.8)\n",
            "Requirement already satisfied: pyparsing>=2.3.1 in /usr/local/lib/python3.11/dist-packages (from matplotlib>=3.3.0->ultralytics) (3.2.3)\n",
            "Requirement already satisfied: python-dateutil>=2.7 in /usr/local/lib/python3.11/dist-packages (from matplotlib>=3.3.0->ultralytics) (2.9.0.post0)\n",
            "Requirement already satisfied: tzdata>=2022.7 in /usr/local/lib/python3.11/dist-packages (from pandas>=1.1.4->ultralytics) (2025.2)\n",
            "Requirement already satisfied: tenacity>=6.2.0 in /usr/local/lib/python3.11/dist-packages (from plotly>=4.14->fiftyone) (8.5.0)\n",
            "Collecting dnspython<3.0.0,>=1.16.0 (from pymongo~=4.9.2->fiftyone)\n",
            "  Downloading dnspython-2.7.0-py3-none-any.whl.metadata (5.8 kB)\n",
            "Requirement already satisfied: charset-normalizer<4,>=2 in /usr/local/lib/python3.11/dist-packages (from requests>=2.23.0->ultralytics) (3.4.2)\n",
            "Requirement already satisfied: idna<4,>=2.5 in /usr/local/lib/python3.11/dist-packages (from requests>=2.23.0->ultralytics) (3.10)\n",
            "Requirement already satisfied: urllib3<3,>=1.21.1 in /usr/local/lib/python3.11/dist-packages (from requests>=2.23.0->ultralytics) (2.4.0)\n",
            "Requirement already satisfied: certifi>=2017.4.17 in /usr/local/lib/python3.11/dist-packages (from requests>=2.23.0->ultralytics) (2025.6.15)\n",
            "Requirement already satisfied: anyio<5,>=3.6.2 in /usr/local/lib/python3.11/dist-packages (from starlette>=0.24.0->fiftyone) (4.9.0)\n",
            "Collecting graphql-core<3.4.0,>=3.2.0 (from strawberry-graphql>=0.262.4->fiftyone)\n",
            "  Downloading graphql_core-3.2.6-py3-none-any.whl.metadata (11 kB)\n",
            "Requirement already satisfied: typing-extensions>=4.5.0 in /usr/local/lib/python3.11/dist-packages (from strawberry-graphql>=0.262.4->fiftyone) (4.14.0)\n",
            "Requirement already satisfied: filelock in /usr/local/lib/python3.11/dist-packages (from torch>=1.8.0->ultralytics) (3.18.0)\n",
            "Requirement already satisfied: networkx in /usr/local/lib/python3.11/dist-packages (from torch>=1.8.0->ultralytics) (3.5)\n",
            "Requirement already satisfied: fsspec in /usr/local/lib/python3.11/dist-packages (from torch>=1.8.0->ultralytics) (2025.3.2)\n",
            "Collecting nvidia-cuda-nvrtc-cu12==12.4.127 (from torch>=1.8.0->ultralytics)\n",
            "  Downloading nvidia_cuda_nvrtc_cu12-12.4.127-py3-none-manylinux2014_x86_64.whl.metadata (1.5 kB)\n",
            "Collecting nvidia-cuda-runtime-cu12==12.4.127 (from torch>=1.8.0->ultralytics)\n",
            "  Downloading nvidia_cuda_runtime_cu12-12.4.127-py3-none-manylinux2014_x86_64.whl.metadata (1.5 kB)\n",
            "Collecting nvidia-cuda-cupti-cu12==12.4.127 (from torch>=1.8.0->ultralytics)\n",
            "  Downloading nvidia_cuda_cupti_cu12-12.4.127-py3-none-manylinux2014_x86_64.whl.metadata (1.6 kB)\n",
            "Collecting nvidia-cudnn-cu12==9.1.0.70 (from torch>=1.8.0->ultralytics)\n",
            "  Downloading nvidia_cudnn_cu12-9.1.0.70-py3-none-manylinux2014_x86_64.whl.metadata (1.6 kB)\n",
            "Collecting nvidia-cublas-cu12==12.4.5.8 (from torch>=1.8.0->ultralytics)\n",
            "  Downloading nvidia_cublas_cu12-12.4.5.8-py3-none-manylinux2014_x86_64.whl.metadata (1.5 kB)\n",
            "Collecting nvidia-cufft-cu12==11.2.1.3 (from torch>=1.8.0->ultralytics)\n",
            "  Downloading nvidia_cufft_cu12-11.2.1.3-py3-none-manylinux2014_x86_64.whl.metadata (1.5 kB)\n",
            "Collecting nvidia-curand-cu12==10.3.5.147 (from torch>=1.8.0->ultralytics)\n",
            "  Downloading nvidia_curand_cu12-10.3.5.147-py3-none-manylinux2014_x86_64.whl.metadata (1.5 kB)\n",
            "Collecting nvidia-cusolver-cu12==11.6.1.9 (from torch>=1.8.0->ultralytics)\n",
            "  Downloading nvidia_cusolver_cu12-11.6.1.9-py3-none-manylinux2014_x86_64.whl.metadata (1.6 kB)\n",
            "Collecting nvidia-cusparse-cu12==12.3.1.170 (from torch>=1.8.0->ultralytics)\n",
            "  Downloading nvidia_cusparse_cu12-12.3.1.170-py3-none-manylinux2014_x86_64.whl.metadata (1.6 kB)\n",
            "Requirement already satisfied: nvidia-cusparselt-cu12==0.6.2 in /usr/local/lib/python3.11/dist-packages (from torch>=1.8.0->ultralytics) (0.6.2)\n",
            "Requirement already satisfied: nvidia-nccl-cu12==2.21.5 in /usr/local/lib/python3.11/dist-packages (from torch>=1.8.0->ultralytics) (2.21.5)\n",
            "Requirement already satisfied: nvidia-nvtx-cu12==12.4.127 in /usr/local/lib/python3.11/dist-packages (from torch>=1.8.0->ultralytics) (12.4.127)\n",
            "Collecting nvidia-nvjitlink-cu12==12.4.127 (from torch>=1.8.0->ultralytics)\n",
            "  Downloading nvidia_nvjitlink_cu12-12.4.127-py3-none-manylinux2014_x86_64.whl.metadata (1.5 kB)\n",
            "Requirement already satisfied: triton==3.2.0 in /usr/local/lib/python3.11/dist-packages (from torch>=1.8.0->ultralytics) (3.2.0)\n",
            "Requirement already satisfied: sympy==1.13.1 in /usr/local/lib/python3.11/dist-packages (from torch>=1.8.0->ultralytics) (1.13.1)\n",
            "Requirement already satisfied: mpmath<1.4,>=1.1.0 in /usr/local/lib/python3.11/dist-packages (from sympy==1.13.1->torch>=1.8.0->ultralytics) (1.3.0)\n",
            "Requirement already satisfied: httpx>=0.10.0 in /usr/local/lib/python3.11/dist-packages (from universal-analytics-python3<2,>=1.0.1->fiftyone) (0.28.1)\n",
            "Requirement already satisfied: future in /usr/local/lib/python3.11/dist-packages (from voxel51-eta<0.15,>=0.14.2->fiftyone) (1.0.0)\n",
            "Requirement already satisfied: glob2 in /usr/local/lib/python3.11/dist-packages (from voxel51-eta<0.15,>=0.14.2->fiftyone) (0.7)\n",
            "Collecting jsonlines (from voxel51-eta<0.15,>=0.14.2->fiftyone)\n",
            "  Downloading jsonlines-4.0.0-py3-none-any.whl.metadata (1.6 kB)\n",
            "Collecting py7zr (from voxel51-eta<0.15,>=0.14.2->fiftyone)\n",
            "  Downloading py7zr-1.0.0-py3-none-any.whl.metadata (17 kB)\n",
            "Collecting rarfile (from voxel51-eta<0.15,>=0.14.2->fiftyone)\n",
            "  Downloading rarfile-4.2-py3-none-any.whl.metadata (4.4 kB)\n",
            "Requirement already satisfied: six in /usr/local/lib/python3.11/dist-packages (from voxel51-eta<0.15,>=0.14.2->fiftyone) (1.17.0)\n",
            "Requirement already satisfied: sortedcontainers in /usr/local/lib/python3.11/dist-packages (from voxel51-eta<0.15,>=0.14.2->fiftyone) (2.4.0)\n",
            "Requirement already satisfied: tzlocal in /usr/local/lib/python3.11/dist-packages (from voxel51-eta<0.15,>=0.14.2->fiftyone) (5.3.1)\n",
            "Requirement already satisfied: soupsieve>1.2 in /usr/local/lib/python3.11/dist-packages (from beautifulsoup4->fiftyone) (2.7)\n",
            "Collecting botocore<1.40.0,>=1.39.3 (from boto3->fiftyone)\n",
            "  Downloading botocore-1.39.3-py3-none-any.whl.metadata (5.7 kB)\n",
            "Collecting jmespath<2.0.0,>=0.7.1 (from boto3->fiftyone)\n",
            "  Downloading jmespath-1.0.1-py3-none-any.whl.metadata (7.6 kB)\n",
            "Collecting s3transfer<0.14.0,>=0.13.0 (from boto3->fiftyone)\n",
            "  Downloading s3transfer-0.13.0-py3-none-any.whl.metadata (1.7 kB)\n",
            "Requirement already satisfied: wrapt<2,>=1.10 in /usr/local/lib/python3.11/dist-packages (from Deprecated->fiftyone) (1.17.2)\n",
            "Requirement already satisfied: wcwidth in /usr/local/lib/python3.11/dist-packages (from ftfy->fiftyone) (0.2.13)\n",
            "Requirement already satisfied: imageio!=2.35.0,>=2.33 in /usr/local/lib/python3.11/dist-packages (from scikit-image->fiftyone) (2.37.0)\n",
            "Requirement already satisfied: tifffile>=2022.8.12 in /usr/local/lib/python3.11/dist-packages (from scikit-image->fiftyone) (2025.6.11)\n",
            "Requirement already satisfied: lazy-loader>=0.4 in /usr/local/lib/python3.11/dist-packages (from scikit-image->fiftyone) (0.4)\n",
            "Requirement already satisfied: joblib>=1.2.0 in /usr/local/lib/python3.11/dist-packages (from scikit-learn->fiftyone) (1.5.1)\n",
            "Requirement already satisfied: threadpoolctl>=3.1.0 in /usr/local/lib/python3.11/dist-packages (from scikit-learn->fiftyone) (3.6.0)\n",
            "Requirement already satisfied: sniffio>=1.1 in /usr/local/lib/python3.11/dist-packages (from anyio<5,>=3.6.2->starlette>=0.24.0->fiftyone) (1.3.1)\n",
            "Requirement already satisfied: simplejson>=3.19.3 in /usr/local/lib/python3.11/dist-packages (from choreographer>=1.0.5->kaleido!=0.2.1.post1->fiftyone) (3.20.1)\n",
            "Requirement already satisfied: hyperframe<7,>=6.1 in /usr/local/lib/python3.11/dist-packages (from h2>=3.1.0->hypercorn>=0.13.2->fiftyone) (6.1.0)\n",
            "Requirement already satisfied: hpack<5,>=4.1 in /usr/local/lib/python3.11/dist-packages (from h2>=3.1.0->hypercorn>=0.13.2->fiftyone) (4.1.0)\n",
            "Requirement already satisfied: httpcore==1.* in /usr/local/lib/python3.11/dist-packages (from httpx>=0.10.0->universal-analytics-python3<2,>=1.0.1->fiftyone) (1.0.9)\n",
            "Requirement already satisfied: attrs>=19.2.0 in /usr/local/lib/python3.11/dist-packages (from jsonlines->voxel51-eta<0.15,>=0.14.2->fiftyone) (25.3.0)\n",
            "Collecting texttable (from py7zr->voxel51-eta<0.15,>=0.14.2->fiftyone)\n",
            "  Downloading texttable-1.7.0-py2.py3-none-any.whl.metadata (9.8 kB)\n",
            "Requirement already satisfied: pycryptodomex>=3.20.0 in /usr/local/lib/python3.11/dist-packages (from py7zr->voxel51-eta<0.15,>=0.14.2->fiftyone) (3.23.0)\n",
            "Collecting brotli>=1.1.0 (from py7zr->voxel51-eta<0.15,>=0.14.2->fiftyone)\n",
            "  Downloading Brotli-1.1.0-cp311-cp311-manylinux_2_17_x86_64.manylinux2014_x86_64.whl.metadata (5.5 kB)\n",
            "Collecting pyzstd>=0.16.1 (from py7zr->voxel51-eta<0.15,>=0.14.2->fiftyone)\n",
            "  Downloading pyzstd-0.17.0-cp311-cp311-manylinux_2_17_x86_64.manylinux2014_x86_64.whl.metadata (2.5 kB)\n",
            "Collecting pyppmd<1.3.0,>=1.1.0 (from py7zr->voxel51-eta<0.15,>=0.14.2->fiftyone)\n",
            "  Downloading pyppmd-1.2.0-cp311-cp311-manylinux_2_17_x86_64.manylinux2014_x86_64.whl.metadata (5.4 kB)\n",
            "Collecting pybcj<1.1.0,>=1.0.0 (from py7zr->voxel51-eta<0.15,>=0.14.2->fiftyone)\n",
            "  Downloading pybcj-1.0.6-cp311-cp311-manylinux_2_17_x86_64.manylinux2014_x86_64.whl.metadata (3.7 kB)\n",
            "Collecting multivolumefile>=0.2.3 (from py7zr->voxel51-eta<0.15,>=0.14.2->fiftyone)\n",
            "  Downloading multivolumefile-0.2.3-py3-none-any.whl.metadata (6.3 kB)\n",
            "Collecting inflate64<1.1.0,>=1.0.0 (from py7zr->voxel51-eta<0.15,>=0.14.2->fiftyone)\n",
            "  Downloading inflate64-1.0.3-cp311-cp311-manylinux_2_17_x86_64.manylinux2014_x86_64.whl.metadata (4.4 kB)\n",
            "Downloading ultralytics-8.3.162-py3-none-any.whl (1.0 MB)\n",
            "\u001b[2K   \u001b[90m━━━━━━━━━━━━━━━━━━━━━━━━━━━━━━━━━━━━━━━━\u001b[0m \u001b[32m1.0/1.0 MB\u001b[0m \u001b[31m49.4 MB/s\u001b[0m eta \u001b[36m0:00:00\u001b[0m\n",
            "\u001b[?25hDownloading fiftyone-1.7.0-py3-none-any.whl (10.9 MB)\n",
            "\u001b[2K   \u001b[90m━━━━━━━━━━━━━━━━━━━━━━━━━━━━━━━━━━━━━━━━\u001b[0m \u001b[32m10.9/10.9 MB\u001b[0m \u001b[31m103.1 MB/s\u001b[0m eta \u001b[36m0:00:00\u001b[0m\n",
            "\u001b[?25hDownloading async_lru-2.0.5-py3-none-any.whl (6.1 kB)\n",
            "Downloading dacite-1.7.0-py3-none-any.whl (12 kB)\n",
            "Downloading fiftyone_brain-0.21.2-py3-none-any.whl (112 kB)\n",
            "\u001b[2K   \u001b[90m━━━━━━━━━━━━━━━━━━━━━━━━━━━━━━━━━━━━━━━━\u001b[0m \u001b[32m112.3/112.3 kB\u001b[0m \u001b[31m10.4 MB/s\u001b[0m eta \u001b[36m0:00:00\u001b[0m\n",
            "\u001b[?25hDownloading hypercorn-0.17.3-py3-none-any.whl (61 kB)\n",
            "\u001b[2K   \u001b[90m━━━━━━━━━━━━━━━━━━━━━━━━━━━━━━━━━━━━━━━━\u001b[0m \u001b[32m61.7/61.7 kB\u001b[0m \u001b[31m6.9 MB/s\u001b[0m eta \u001b[36m0:00:00\u001b[0m\n",
            "\u001b[?25hDownloading kaleido-1.0.0-py3-none-any.whl (51 kB)\n",
            "\u001b[2K   \u001b[90m━━━━━━━━━━━━━━━━━━━━━━━━━━━━━━━━━━━━━━━━\u001b[0m \u001b[32m51.5/51.5 kB\u001b[0m \u001b[31m5.0 MB/s\u001b[0m eta \u001b[36m0:00:00\u001b[0m\n",
            "\u001b[?25hDownloading mongoengine-0.29.1-py3-none-any.whl (112 kB)\n",
            "\u001b[2K   \u001b[90m━━━━━━━━━━━━━━━━━━━━━━━━━━━━━━━━━━━━━━━━\u001b[0m \u001b[32m112.4/112.4 kB\u001b[0m \u001b[31m11.6 MB/s\u001b[0m eta \u001b[36m0:00:00\u001b[0m\n",
            "\u001b[?25hDownloading motor-3.6.1-py3-none-any.whl (74 kB)\n",
            "\u001b[2K   \u001b[90m━━━━━━━━━━━━━━━━━━━━━━━━━━━━━━━━━━━━━━━━\u001b[0m \u001b[32m74.8/74.8 kB\u001b[0m \u001b[31m7.0 MB/s\u001b[0m eta \u001b[36m0:00:00\u001b[0m\n",
            "\u001b[?25hDownloading pymongo-4.9.2-cp311-cp311-manylinux_2_17_x86_64.manylinux2014_x86_64.whl (1.7 MB)\n",
            "\u001b[2K   \u001b[90m━━━━━━━━━━━━━━━━━━━━━━━━━━━━━━━━━━━━━━━━\u001b[0m \u001b[32m1.7/1.7 MB\u001b[0m \u001b[31m68.5 MB/s\u001b[0m eta \u001b[36m0:00:00\u001b[0m\n",
            "\u001b[?25hDownloading sse_starlette-0.10.3-py3-none-any.whl (8.0 kB)\n",
            "Downloading sseclient_py-1.8.0-py2.py3-none-any.whl (8.8 kB)\n",
            "Downloading strawberry_graphql-0.275.5-py3-none-any.whl (306 kB)\n",
            "\u001b[2K   \u001b[90m━━━━━━━━━━━━━━━━━━━━━━━━━━━━━━━━━━━━━━━━\u001b[0m \u001b[32m306.3/306.3 kB\u001b[0m \u001b[31m25.4 MB/s\u001b[0m eta \u001b[36m0:00:00\u001b[0m\n",
            "\u001b[?25hDownloading nvidia_cublas_cu12-12.4.5.8-py3-none-manylinux2014_x86_64.whl (363.4 MB)\n",
            "\u001b[2K   \u001b[90m━━━━━━━━━━━━━━━━━━━━━━━━━━━━━━━━━━━━━━━━\u001b[0m \u001b[32m363.4/363.4 MB\u001b[0m \u001b[31m3.8 MB/s\u001b[0m eta \u001b[36m0:00:00\u001b[0m\n",
            "\u001b[?25hDownloading nvidia_cuda_cupti_cu12-12.4.127-py3-none-manylinux2014_x86_64.whl (13.8 MB)\n",
            "\u001b[2K   \u001b[90m━━━━━━━━━━━━━━━━━━━━━━━━━━━━━━━━━━━━━━━━\u001b[0m \u001b[32m13.8/13.8 MB\u001b[0m \u001b[31m99.4 MB/s\u001b[0m eta \u001b[36m0:00:00\u001b[0m\n",
            "\u001b[?25hDownloading nvidia_cuda_nvrtc_cu12-12.4.127-py3-none-manylinux2014_x86_64.whl (24.6 MB)\n",
            "\u001b[2K   \u001b[90m━━━━━━━━━━━━━━━━━━━━━━━━━━━━━━━━━━━━━━━━\u001b[0m \u001b[32m24.6/24.6 MB\u001b[0m \u001b[31m88.4 MB/s\u001b[0m eta \u001b[36m0:00:00\u001b[0m\n",
            "\u001b[?25hDownloading nvidia_cuda_runtime_cu12-12.4.127-py3-none-manylinux2014_x86_64.whl (883 kB)\n",
            "\u001b[2K   \u001b[90m━━━━━━━━━━━━━━━━━━━━━━━━━━━━━━━━━━━━━━━━\u001b[0m \u001b[32m883.7/883.7 kB\u001b[0m \u001b[31m56.9 MB/s\u001b[0m eta \u001b[36m0:00:00\u001b[0m\n",
            "\u001b[?25hDownloading nvidia_cudnn_cu12-9.1.0.70-py3-none-manylinux2014_x86_64.whl (664.8 MB)\n",
            "\u001b[2K   \u001b[90m━━━━━━━━━━━━━━━━━━━━━━━━━━━━━━━━━━━━━━━━\u001b[0m \u001b[32m664.8/664.8 MB\u001b[0m \u001b[31m2.8 MB/s\u001b[0m eta \u001b[36m0:00:00\u001b[0m\n",
            "\u001b[?25hDownloading nvidia_cufft_cu12-11.2.1.3-py3-none-manylinux2014_x86_64.whl (211.5 MB)\n",
            "\u001b[2K   \u001b[90m━━━━━━━━━━━━━━━━━━━━━━━━━━━━━━━━━━━━━━━━\u001b[0m \u001b[32m211.5/211.5 MB\u001b[0m \u001b[31m5.5 MB/s\u001b[0m eta \u001b[36m0:00:00\u001b[0m\n",
            "\u001b[?25hDownloading nvidia_curand_cu12-10.3.5.147-py3-none-manylinux2014_x86_64.whl (56.3 MB)\n",
            "\u001b[2K   \u001b[90m━━━━━━━━━━━━━━━━━━━━━━━━━━━━━━━━━━━━━━━━\u001b[0m \u001b[32m56.3/56.3 MB\u001b[0m \u001b[31m13.7 MB/s\u001b[0m eta \u001b[36m0:00:00\u001b[0m\n",
            "\u001b[?25hDownloading nvidia_cusolver_cu12-11.6.1.9-py3-none-manylinux2014_x86_64.whl (127.9 MB)\n",
            "\u001b[2K   \u001b[90m━━━━━━━━━━━━━━━━━━━━━━━━━━━━━━━━━━━━━━━━\u001b[0m \u001b[32m127.9/127.9 MB\u001b[0m \u001b[31m6.9 MB/s\u001b[0m eta \u001b[36m0:00:00\u001b[0m\n",
            "\u001b[?25hDownloading nvidia_cusparse_cu12-12.3.1.170-py3-none-manylinux2014_x86_64.whl (207.5 MB)\n",
            "\u001b[2K   \u001b[90m━━━━━━━━━━━━━━━━━━━━━━━━━━━━━━━━━━━━━━━━\u001b[0m \u001b[32m207.5/207.5 MB\u001b[0m \u001b[31m6.6 MB/s\u001b[0m eta \u001b[36m0:00:00\u001b[0m\n",
            "\u001b[?25hDownloading nvidia_nvjitlink_cu12-12.4.127-py3-none-manylinux2014_x86_64.whl (21.1 MB)\n",
            "\u001b[2K   \u001b[90m━━━━━━━━━━━━━━━━━━━━━━━━━━━━━━━━━━━━━━━━\u001b[0m \u001b[32m21.1/21.1 MB\u001b[0m \u001b[31m100.6 MB/s\u001b[0m eta \u001b[36m0:00:00\u001b[0m\n",
            "\u001b[?25hDownloading ultralytics_thop-2.0.14-py3-none-any.whl (26 kB)\n",
            "Downloading universal_analytics_python3-1.1.1-py3-none-any.whl (10 kB)\n",
            "Downloading voxel51_eta-0.14.2-py2.py3-none-any.whl (943 kB)\n",
            "\u001b[2K   \u001b[90m━━━━━━━━━━━━━━━━━━━━━━━━━━━━━━━━━━━━━━━━\u001b[0m \u001b[32m943.0/943.0 kB\u001b[0m \u001b[31m64.3 MB/s\u001b[0m eta \u001b[36m0:00:00\u001b[0m\n",
            "\u001b[?25hDownloading argcomplete-3.6.2-py3-none-any.whl (43 kB)\n",
            "\u001b[2K   \u001b[90m━━━━━━━━━━━━━━━━━━━━━━━━━━━━━━━━━━━━━━━━\u001b[0m \u001b[32m43.7/43.7 kB\u001b[0m \u001b[31m3.3 MB/s\u001b[0m eta \u001b[36m0:00:00\u001b[0m\n",
            "\u001b[?25hDownloading boto3-1.39.3-py3-none-any.whl (139 kB)\n",
            "\u001b[2K   \u001b[90m━━━━━━━━━━━━━━━━━━━━━━━━━━━━━━━━━━━━━━━━\u001b[0m \u001b[32m139.9/139.9 kB\u001b[0m \u001b[31m14.4 MB/s\u001b[0m eta \u001b[36m0:00:00\u001b[0m\n",
            "\u001b[?25hDownloading Deprecated-1.2.18-py2.py3-none-any.whl (10.0 kB)\n",
            "Downloading ftfy-6.3.1-py3-none-any.whl (44 kB)\n",
            "\u001b[2K   \u001b[90m━━━━━━━━━━━━━━━━━━━━━━━━━━━━━━━━━━━━━━━━\u001b[0m \u001b[32m44.8/44.8 kB\u001b[0m \u001b[31m3.6 MB/s\u001b[0m eta \u001b[36m0:00:00\u001b[0m\n",
            "\u001b[?25hDownloading pprintpp-0.4.0-py2.py3-none-any.whl (16 kB)\n",
            "Downloading pydash-8.0.5-py3-none-any.whl (102 kB)\n",
            "\u001b[2K   \u001b[90m━━━━━━━━━━━━━━━━━━━━━━━━━━━━━━━━━━━━━━━━\u001b[0m \u001b[32m102.1/102.1 kB\u001b[0m \u001b[31m10.4 MB/s\u001b[0m eta \u001b[36m0:00:00\u001b[0m\n",
            "\u001b[?25hDownloading retrying-1.4.0-py3-none-any.whl (11 kB)\n",
            "Downloading rtree-1.4.0-py3-none-manylinux2014_x86_64.manylinux_2_17_x86_64.whl (541 kB)\n",
            "\u001b[2K   \u001b[90m━━━━━━━━━━━━━━━━━━━━━━━━━━━━━━━━━━━━━━━━\u001b[0m \u001b[32m541.1/541.1 kB\u001b[0m \u001b[31m45.8 MB/s\u001b[0m eta \u001b[36m0:00:00\u001b[0m\n",
            "\u001b[?25hDownloading xmltodict-0.14.2-py2.py3-none-any.whl (10.0 kB)\n",
            "Downloading botocore-1.39.3-py3-none-any.whl (13.8 MB)\n",
            "\u001b[2K   \u001b[90m━━━━━━━━━━━━━━━━━━━━━━━━━━━━━━━━━━━━━━━━\u001b[0m \u001b[32m13.8/13.8 MB\u001b[0m \u001b[31m112.2 MB/s\u001b[0m eta \u001b[36m0:00:00\u001b[0m\n",
            "\u001b[?25hDownloading choreographer-1.0.9-py3-none-any.whl (51 kB)\n",
            "\u001b[2K   \u001b[90m━━━━━━━━━━━━━━━━━━━━━━━━━━━━━━━━━━━━━━━━\u001b[0m \u001b[32m51.3/51.3 kB\u001b[0m \u001b[31m4.3 MB/s\u001b[0m eta \u001b[36m0:00:00\u001b[0m\n",
            "\u001b[?25hDownloading dnspython-2.7.0-py3-none-any.whl (313 kB)\n",
            "\u001b[2K   \u001b[90m━━━━━━━━━━━━━━━━━━━━━━━━━━━━━━━━━━━━━━━━\u001b[0m \u001b[32m313.6/313.6 kB\u001b[0m \u001b[31m28.3 MB/s\u001b[0m eta \u001b[36m0:00:00\u001b[0m\n",
            "\u001b[?25hDownloading graphql_core-3.2.6-py3-none-any.whl (203 kB)\n",
            "\u001b[2K   \u001b[90m━━━━━━━━━━━━━━━━━━━━━━━━━━━━━━━━━━━━━━━━\u001b[0m \u001b[32m203.4/203.4 kB\u001b[0m \u001b[31m18.6 MB/s\u001b[0m eta \u001b[36m0:00:00\u001b[0m\n",
            "\u001b[?25hDownloading jmespath-1.0.1-py3-none-any.whl (20 kB)\n",
            "Downloading logistro-1.1.0-py3-none-any.whl (7.9 kB)\n",
            "Downloading s3transfer-0.13.0-py3-none-any.whl (85 kB)\n",
            "\u001b[2K   \u001b[90m━━━━━━━━━━━━━━━━━━━━━━━━━━━━━━━━━━━━━━━━\u001b[0m \u001b[32m85.2/85.2 kB\u001b[0m \u001b[31m8.5 MB/s\u001b[0m eta \u001b[36m0:00:00\u001b[0m\n",
            "\u001b[?25hDownloading wsproto-1.2.0-py3-none-any.whl (24 kB)\n",
            "Downloading jsonlines-4.0.0-py3-none-any.whl (8.7 kB)\n",
            "Downloading priority-2.0.0-py3-none-any.whl (8.9 kB)\n",
            "Downloading py7zr-1.0.0-py3-none-any.whl (69 kB)\n",
            "\u001b[2K   \u001b[90m━━━━━━━━━━━━━━━━━━━━━━━━━━━━━━━━━━━━━━━━\u001b[0m \u001b[32m69.7/69.7 kB\u001b[0m \u001b[31m6.9 MB/s\u001b[0m eta \u001b[36m0:00:00\u001b[0m\n",
            "\u001b[?25hDownloading rarfile-4.2-py3-none-any.whl (29 kB)\n",
            "Downloading Brotli-1.1.0-cp311-cp311-manylinux_2_17_x86_64.manylinux2014_x86_64.whl (2.9 MB)\n",
            "\u001b[2K   \u001b[90m━━━━━━━━━━━━━━━━━━━━━━━━━━━━━━━━━━━━━━━━\u001b[0m \u001b[32m2.9/2.9 MB\u001b[0m \u001b[31m102.6 MB/s\u001b[0m eta \u001b[36m0:00:00\u001b[0m\n",
            "\u001b[?25hDownloading inflate64-1.0.3-cp311-cp311-manylinux_2_17_x86_64.manylinux2014_x86_64.whl (96 kB)\n",
            "\u001b[2K   \u001b[90m━━━━━━━━━━━━━━━━━━━━━━━━━━━━━━━━━━━━━━━━\u001b[0m \u001b[32m96.4/96.4 kB\u001b[0m \u001b[31m8.4 MB/s\u001b[0m eta \u001b[36m0:00:00\u001b[0m\n",
            "\u001b[?25hDownloading multivolumefile-0.2.3-py3-none-any.whl (17 kB)\n",
            "Downloading pybcj-1.0.6-cp311-cp311-manylinux_2_17_x86_64.manylinux2014_x86_64.whl (50 kB)\n",
            "\u001b[2K   \u001b[90m━━━━━━━━━━━━━━━━━━━━━━━━━━━━━━━━━━━━━━━━\u001b[0m \u001b[32m50.7/50.7 kB\u001b[0m \u001b[31m4.8 MB/s\u001b[0m eta \u001b[36m0:00:00\u001b[0m\n",
            "\u001b[?25hDownloading pyppmd-1.2.0-cp311-cp311-manylinux_2_17_x86_64.manylinux2014_x86_64.whl (141 kB)\n",
            "\u001b[2K   \u001b[90m━━━━━━━━━━━━━━━━━━━━━━━━━━━━━━━━━━━━━━━━\u001b[0m \u001b[32m141.3/141.3 kB\u001b[0m \u001b[31m13.2 MB/s\u001b[0m eta \u001b[36m0:00:00\u001b[0m\n",
            "\u001b[?25hDownloading pyzstd-0.17.0-cp311-cp311-manylinux_2_17_x86_64.manylinux2014_x86_64.whl (412 kB)\n",
            "\u001b[2K   \u001b[90m━━━━━━━━━━━━━━━━━━━━━━━━━━━━━━━━━━━━━━━━\u001b[0m \u001b[32m412.9/412.9 kB\u001b[0m \u001b[31m34.4 MB/s\u001b[0m eta \u001b[36m0:00:00\u001b[0m\n",
            "\u001b[?25hDownloading texttable-1.7.0-py2.py3-none-any.whl (10 kB)\n",
            "Building wheels for collected packages: fiftyone-db\n",
            "  Building wheel for fiftyone-db (pyproject.toml) ... \u001b[?25l\u001b[?25hdone\n",
            "  Created wheel for fiftyone-db: filename=fiftyone_db-1.3.0-py3-none-manylinux1_x86_64.whl size=42156245 sha256=d10e23c0a3fc081ff3e8b35944263f94a5e33c29c05238c10514f7e222749823\n",
            "  Stored in directory: /root/.cache/pip/wheels/4d/42/2f/67d2c5896157c73671b965144411c2e39148aa27b66833993d\n",
            "Successfully built fiftyone-db\n",
            "Installing collected packages: texttable, sseclient-py, pprintpp, brotli, xmltodict, wsproto, rtree, retrying, rarfile, pyzstd, pyppmd, pydash, pybcj, priority, nvidia-nvjitlink-cu12, nvidia-curand-cu12, nvidia-cufft-cu12, nvidia-cuda-runtime-cu12, nvidia-cuda-nvrtc-cu12, nvidia-cuda-cupti-cu12, nvidia-cublas-cu12, multivolumefile, logistro, jsonlines, jmespath, inflate64, graphql-core, ftfy, fiftyone-db, dnspython, Deprecated, dacite, async_lru, argcomplete, strawberry-graphql, pymongo, py7zr, nvidia-cusparse-cu12, nvidia-cudnn-cu12, hypercorn, choreographer, botocore, voxel51-eta, universal-analytics-python3, sse-starlette, s3transfer, nvidia-cusolver-cu12, motor, mongoengine, kaleido, fiftyone-brain, boto3, ultralytics-thop, fiftyone, ultralytics\n",
            "  Attempting uninstall: nvidia-nvjitlink-cu12\n",
            "    Found existing installation: nvidia-nvjitlink-cu12 12.5.82\n",
            "    Uninstalling nvidia-nvjitlink-cu12-12.5.82:\n",
            "      Successfully uninstalled nvidia-nvjitlink-cu12-12.5.82\n",
            "  Attempting uninstall: nvidia-curand-cu12\n",
            "    Found existing installation: nvidia-curand-cu12 10.3.6.82\n",
            "    Uninstalling nvidia-curand-cu12-10.3.6.82:\n",
            "      Successfully uninstalled nvidia-curand-cu12-10.3.6.82\n",
            "  Attempting uninstall: nvidia-cufft-cu12\n",
            "    Found existing installation: nvidia-cufft-cu12 11.2.3.61\n",
            "    Uninstalling nvidia-cufft-cu12-11.2.3.61:\n",
            "      Successfully uninstalled nvidia-cufft-cu12-11.2.3.61\n",
            "  Attempting uninstall: nvidia-cuda-runtime-cu12\n",
            "    Found existing installation: nvidia-cuda-runtime-cu12 12.5.82\n",
            "    Uninstalling nvidia-cuda-runtime-cu12-12.5.82:\n",
            "      Successfully uninstalled nvidia-cuda-runtime-cu12-12.5.82\n",
            "  Attempting uninstall: nvidia-cuda-nvrtc-cu12\n",
            "    Found existing installation: nvidia-cuda-nvrtc-cu12 12.5.82\n",
            "    Uninstalling nvidia-cuda-nvrtc-cu12-12.5.82:\n",
            "      Successfully uninstalled nvidia-cuda-nvrtc-cu12-12.5.82\n",
            "  Attempting uninstall: nvidia-cuda-cupti-cu12\n",
            "    Found existing installation: nvidia-cuda-cupti-cu12 12.5.82\n",
            "    Uninstalling nvidia-cuda-cupti-cu12-12.5.82:\n",
            "      Successfully uninstalled nvidia-cuda-cupti-cu12-12.5.82\n",
            "  Attempting uninstall: nvidia-cublas-cu12\n",
            "    Found existing installation: nvidia-cublas-cu12 12.5.3.2\n",
            "    Uninstalling nvidia-cublas-cu12-12.5.3.2:\n",
            "      Successfully uninstalled nvidia-cublas-cu12-12.5.3.2\n",
            "  Attempting uninstall: nvidia-cusparse-cu12\n",
            "    Found existing installation: nvidia-cusparse-cu12 12.5.1.3\n",
            "    Uninstalling nvidia-cusparse-cu12-12.5.1.3:\n",
            "      Successfully uninstalled nvidia-cusparse-cu12-12.5.1.3\n",
            "  Attempting uninstall: nvidia-cudnn-cu12\n",
            "    Found existing installation: nvidia-cudnn-cu12 9.3.0.75\n",
            "    Uninstalling nvidia-cudnn-cu12-9.3.0.75:\n",
            "      Successfully uninstalled nvidia-cudnn-cu12-9.3.0.75\n",
            "  Attempting uninstall: nvidia-cusolver-cu12\n",
            "    Found existing installation: nvidia-cusolver-cu12 11.6.3.83\n",
            "    Uninstalling nvidia-cusolver-cu12-11.6.3.83:\n",
            "      Successfully uninstalled nvidia-cusolver-cu12-11.6.3.83\n",
            "Successfully installed Deprecated-1.2.18 argcomplete-3.6.2 async_lru-2.0.5 boto3-1.39.3 botocore-1.39.3 brotli-1.1.0 choreographer-1.0.9 dacite-1.7.0 dnspython-2.7.0 fiftyone-1.7.0 fiftyone-brain-0.21.2 fiftyone-db-1.3.0 ftfy-6.3.1 graphql-core-3.2.6 hypercorn-0.17.3 inflate64-1.0.3 jmespath-1.0.1 jsonlines-4.0.0 kaleido-1.0.0 logistro-1.1.0 mongoengine-0.29.1 motor-3.6.1 multivolumefile-0.2.3 nvidia-cublas-cu12-12.4.5.8 nvidia-cuda-cupti-cu12-12.4.127 nvidia-cuda-nvrtc-cu12-12.4.127 nvidia-cuda-runtime-cu12-12.4.127 nvidia-cudnn-cu12-9.1.0.70 nvidia-cufft-cu12-11.2.1.3 nvidia-curand-cu12-10.3.5.147 nvidia-cusolver-cu12-11.6.1.9 nvidia-cusparse-cu12-12.3.1.170 nvidia-nvjitlink-cu12-12.4.127 pprintpp-0.4.0 priority-2.0.0 py7zr-1.0.0 pybcj-1.0.6 pydash-8.0.5 pymongo-4.9.2 pyppmd-1.2.0 pyzstd-0.17.0 rarfile-4.2 retrying-1.4.0 rtree-1.4.0 s3transfer-0.13.0 sse-starlette-0.10.3 sseclient-py-1.8.0 strawberry-graphql-0.275.5 texttable-1.7.0 ultralytics-8.3.162 ultralytics-thop-2.0.14 universal-analytics-python3-1.1.1 voxel51-eta-0.14.2 wsproto-1.2.0 xmltodict-0.14.2\n"
          ]
        },
        {
          "output_type": "display_data",
          "data": {
            "application/vnd.colab-display-data+json": {
              "pip_warning": {
                "packages": [
                  "site"
                ]
              },
              "id": "4628b3737e8c4326974e41d916ea2382"
            }
          },
          "metadata": {}
        },
        {
          "output_type": "stream",
          "name": "stdout",
          "text": [
            "Requirement already satisfied: tensorflow in /usr/local/lib/python3.11/dist-packages (2.18.0)\n",
            "Requirement already satisfied: opencv-python in /usr/local/lib/python3.11/dist-packages (4.11.0.86)\n",
            "Requirement already satisfied: numpy in /usr/local/lib/python3.11/dist-packages (2.0.2)\n",
            "Requirement already satisfied: matplotlib in /usr/local/lib/python3.11/dist-packages (3.10.0)\n",
            "Requirement already satisfied: absl-py>=1.0.0 in /usr/local/lib/python3.11/dist-packages (from tensorflow) (1.4.0)\n",
            "Requirement already satisfied: astunparse>=1.6.0 in /usr/local/lib/python3.11/dist-packages (from tensorflow) (1.6.3)\n",
            "Requirement already satisfied: flatbuffers>=24.3.25 in /usr/local/lib/python3.11/dist-packages (from tensorflow) (25.2.10)\n",
            "Requirement already satisfied: gast!=0.5.0,!=0.5.1,!=0.5.2,>=0.2.1 in /usr/local/lib/python3.11/dist-packages (from tensorflow) (0.6.0)\n",
            "Requirement already satisfied: google-pasta>=0.1.1 in /usr/local/lib/python3.11/dist-packages (from tensorflow) (0.2.0)\n",
            "Requirement already satisfied: libclang>=13.0.0 in /usr/local/lib/python3.11/dist-packages (from tensorflow) (18.1.1)\n",
            "Requirement already satisfied: opt-einsum>=2.3.2 in /usr/local/lib/python3.11/dist-packages (from tensorflow) (3.4.0)\n",
            "Requirement already satisfied: packaging in /usr/local/lib/python3.11/dist-packages (from tensorflow) (24.2)\n",
            "Requirement already satisfied: protobuf!=4.21.0,!=4.21.1,!=4.21.2,!=4.21.3,!=4.21.4,!=4.21.5,<6.0.0dev,>=3.20.3 in /usr/local/lib/python3.11/dist-packages (from tensorflow) (5.29.5)\n",
            "Requirement already satisfied: requests<3,>=2.21.0 in /usr/local/lib/python3.11/dist-packages (from tensorflow) (2.32.3)\n",
            "Requirement already satisfied: setuptools in /usr/local/lib/python3.11/dist-packages (from tensorflow) (75.2.0)\n",
            "Requirement already satisfied: six>=1.12.0 in /usr/local/lib/python3.11/dist-packages (from tensorflow) (1.17.0)\n",
            "Requirement already satisfied: termcolor>=1.1.0 in /usr/local/lib/python3.11/dist-packages (from tensorflow) (3.1.0)\n",
            "Requirement already satisfied: typing-extensions>=3.6.6 in /usr/local/lib/python3.11/dist-packages (from tensorflow) (4.14.0)\n",
            "Requirement already satisfied: wrapt>=1.11.0 in /usr/local/lib/python3.11/dist-packages (from tensorflow) (1.17.2)\n",
            "Requirement already satisfied: grpcio<2.0,>=1.24.3 in /usr/local/lib/python3.11/dist-packages (from tensorflow) (1.73.1)\n",
            "Requirement already satisfied: tensorboard<2.19,>=2.18 in /usr/local/lib/python3.11/dist-packages (from tensorflow) (2.18.0)\n",
            "Requirement already satisfied: keras>=3.5.0 in /usr/local/lib/python3.11/dist-packages (from tensorflow) (3.8.0)\n",
            "Requirement already satisfied: h5py>=3.11.0 in /usr/local/lib/python3.11/dist-packages (from tensorflow) (3.14.0)\n",
            "Requirement already satisfied: ml-dtypes<0.5.0,>=0.4.0 in /usr/local/lib/python3.11/dist-packages (from tensorflow) (0.4.1)\n",
            "Requirement already satisfied: tensorflow-io-gcs-filesystem>=0.23.1 in /usr/local/lib/python3.11/dist-packages (from tensorflow) (0.37.1)\n",
            "Requirement already satisfied: contourpy>=1.0.1 in /usr/local/lib/python3.11/dist-packages (from matplotlib) (1.3.2)\n",
            "Requirement already satisfied: cycler>=0.10 in /usr/local/lib/python3.11/dist-packages (from matplotlib) (0.12.1)\n",
            "Requirement already satisfied: fonttools>=4.22.0 in /usr/local/lib/python3.11/dist-packages (from matplotlib) (4.58.4)\n",
            "Requirement already satisfied: kiwisolver>=1.3.1 in /usr/local/lib/python3.11/dist-packages (from matplotlib) (1.4.8)\n",
            "Requirement already satisfied: pillow>=8 in /usr/local/lib/python3.11/dist-packages (from matplotlib) (11.2.1)\n",
            "Requirement already satisfied: pyparsing>=2.3.1 in /usr/local/lib/python3.11/dist-packages (from matplotlib) (3.2.3)\n",
            "Requirement already satisfied: python-dateutil>=2.7 in /usr/local/lib/python3.11/dist-packages (from matplotlib) (2.9.0.post0)\n",
            "Requirement already satisfied: wheel<1.0,>=0.23.0 in /usr/local/lib/python3.11/dist-packages (from astunparse>=1.6.0->tensorflow) (0.45.1)\n",
            "Requirement already satisfied: rich in /usr/local/lib/python3.11/dist-packages (from keras>=3.5.0->tensorflow) (13.9.4)\n",
            "Requirement already satisfied: namex in /usr/local/lib/python3.11/dist-packages (from keras>=3.5.0->tensorflow) (0.1.0)\n",
            "Requirement already satisfied: optree in /usr/local/lib/python3.11/dist-packages (from keras>=3.5.0->tensorflow) (0.16.0)\n",
            "Requirement already satisfied: charset-normalizer<4,>=2 in /usr/local/lib/python3.11/dist-packages (from requests<3,>=2.21.0->tensorflow) (3.4.2)\n",
            "Requirement already satisfied: idna<4,>=2.5 in /usr/local/lib/python3.11/dist-packages (from requests<3,>=2.21.0->tensorflow) (3.10)\n",
            "Requirement already satisfied: urllib3<3,>=1.21.1 in /usr/local/lib/python3.11/dist-packages (from requests<3,>=2.21.0->tensorflow) (2.4.0)\n",
            "Requirement already satisfied: certifi>=2017.4.17 in /usr/local/lib/python3.11/dist-packages (from requests<3,>=2.21.0->tensorflow) (2025.6.15)\n",
            "Requirement already satisfied: markdown>=2.6.8 in /usr/local/lib/python3.11/dist-packages (from tensorboard<2.19,>=2.18->tensorflow) (3.8.2)\n",
            "Requirement already satisfied: tensorboard-data-server<0.8.0,>=0.7.0 in /usr/local/lib/python3.11/dist-packages (from tensorboard<2.19,>=2.18->tensorflow) (0.7.2)\n",
            "Requirement already satisfied: werkzeug>=1.0.1 in /usr/local/lib/python3.11/dist-packages (from tensorboard<2.19,>=2.18->tensorflow) (3.1.3)\n",
            "Requirement already satisfied: MarkupSafe>=2.1.1 in /usr/local/lib/python3.11/dist-packages (from werkzeug>=1.0.1->tensorboard<2.19,>=2.18->tensorflow) (3.0.2)\n",
            "Requirement already satisfied: markdown-it-py>=2.2.0 in /usr/local/lib/python3.11/dist-packages (from rich->keras>=3.5.0->tensorflow) (3.0.0)\n",
            "Requirement already satisfied: pygments<3.0.0,>=2.13.0 in /usr/local/lib/python3.11/dist-packages (from rich->keras>=3.5.0->tensorflow) (2.19.2)\n",
            "Requirement already satisfied: mdurl~=0.1 in /usr/local/lib/python3.11/dist-packages (from markdown-it-py>=2.2.0->rich->keras>=3.5.0->tensorflow) (0.1.2)\n",
            "Archive:  animals.zip\n",
            "  inflating: animals/data.yaml       \n",
            "   creating: animals/test/\n",
            "   creating: animals/test/images/\n",
            "  inflating: animals/test/images/fox_0016a719395bc945_jpg.rf.faee34936c0abf99e959136fbfb387d7.jpg  \n",
            "  inflating: animals/test/images/fox_00648ee778a0a959_jpg.rf.d6af3c8f6942ab2ddb6994628df64a11.jpg  \n",
            "  inflating: animals/test/images/fox_026748cbec73bd58_jpg.rf.2573ef66bbb8c64951dfc58eb7d0b8a9.jpg  \n",
            "  inflating: animals/test/images/fox_03972182d0eec651_jpg.rf.ca81d8cb2e39684a536de4a2c2a9acad.jpg  \n",
            "  inflating: animals/test/images/fox_04caf00bac3a699c_jpg.rf.aad7a1768aa30ce115af49dac514d85d.jpg  \n",
            "  inflating: animals/test/images/fox_06dcda7babea0933_jpg.rf.fcd36023cc378372ad5cd743ddfe1f25.jpg  \n",
            "  inflating: animals/test/images/fox_070bfd68a9843dfa_jpg.rf.4fb2a48bd7add2968e9dad606dab29a4.jpg  \n",
            "  inflating: animals/test/images/fox_073731979351ff03_jpg.rf.ed31c260857634626dd9e62b695aba5b.jpg  \n",
            "  inflating: animals/test/images/fox_086b753b70ea980d_jpg.rf.2f589dbb3562e77b4d3738d401a2e97e.jpg  \n",
            "  inflating: animals/test/images/fox_090237a06b65a807_jpg.rf.4b26627b4ee96b0afc437f4003a38c3c.jpg  \n",
            "  inflating: animals/test/images/fox_09ce2931e9b28e5a_jpg.rf.097327868e921361cc30796f74609ffb.jpg  \n",
            "  inflating: animals/test/images/fox_0b390c2d8076d17c_jpg.rf.eccf75a0719c6c87111bbf9c85ffc08e.jpg  \n",
            "  inflating: animals/test/images/fox_0b925aee618c4344_jpg.rf.60a1c06c571606fa94b8fdb6e6ee3518.jpg  \n",
            "  inflating: animals/test/images/fox_0f85a83b7b3e9fc2_jpg.rf.adae7c46311970c2d45c7e6d0ca82d5b.jpg  \n",
            "  inflating: animals/test/images/fox_103275c3fcab798b_jpg.rf.cff01c95c00f12496e569f0bddac1559.jpg  \n",
            "  inflating: animals/test/images/fox_119ce05cc5fc3801_jpg.rf.ea6fb49f2d3c213c82543fcfffce85a9.jpg  \n",
            "  inflating: animals/test/images/fox_12fbf8ce7ea1cb96_jpg.rf.eae9653b9cd4d9217cb65e387be0b2cd.jpg  \n",
            "  inflating: animals/test/images/fox_166e3f519156b424_jpg.rf.8381aba45be22ac4912c98571dbf3bbc.jpg  \n",
            "  inflating: animals/test/images/fox_19bffa106ee6436f_jpg.rf.5a13612fa34ce0fbf9ff938ae5efca63.jpg  \n",
            "  inflating: animals/test/images/fox_1a87fe9093fa9fbb_jpg.rf.6f3ec856706e9052816cf776647c9282.jpg  \n",
            "  inflating: animals/test/images/fox_1bb377b98401d9f3_jpg.rf.f395fd7e760e9270122f34d0639007d0.jpg  \n",
            "  inflating: animals/test/images/fox_1d19f43216529d7b_jpg.rf.31ddce8a003797cda60409acb66df926.jpg  \n",
            "  inflating: animals/test/images/fox_206c7bd511627394_jpg.rf.7dac88f53fee85252529d71864120ff5.jpg  \n",
            "  inflating: animals/test/images/fox_23b7b733d05b51cd_jpg.rf.87ec43d22016b809ed67fbd79e6c7dfc.jpg  \n",
            "  inflating: animals/test/images/fox_24ce47dd0a1dccd4_jpg.rf.9e4128894b41d5e3cf9841c0b14d0a83.jpg  \n",
            "  inflating: animals/test/images/fox_27e4f9a67e4fa891_jpg.rf.4ebc45affd7594e2e7fba3f64cbac4e7.jpg  \n",
            "  inflating: animals/test/images/fox_2948e6aa939c362e_jpg.rf.97adf5fbd574a01908d271440f5cc46d.jpg  \n",
            "  inflating: animals/test/images/fox_296f42ae65d4bd64_jpg.rf.d3d4a78e11eda5b2ec09af194337d93c.jpg  \n",
            "  inflating: animals/test/images/fox_2d9500ecb0abb248_jpg.rf.1b1ee20b689d9e9e2978cf9eae28ce13.jpg  \n",
            "  inflating: animals/test/images/fox_2da2cfa999e2bd5d_jpg.rf.5438c1210f4e0f9396d48b107fc2966b.jpg  \n",
            "  inflating: animals/test/images/fox_2f487448f9142493_jpg.rf.9f908f511a11f7faa71bc83d3fbbdcc9.jpg  \n",
            "  inflating: animals/test/images/fox_331235fa6fdd78d1_jpg.rf.139291297bc07fc5085c883677f0a59c.jpg  \n",
            "  inflating: animals/test/images/fox_3336738bd5ab13fb_jpg.rf.0e511b0baa1d2e3a49729e1cce43871d.jpg  \n",
            "  inflating: animals/test/images/fox_34fcd80156feebfd_jpg.rf.6c0436ddcb24b30a3152136baf5a42b8.jpg  \n",
            "  inflating: animals/test/images/fox_34fcd80156feebfd_jpg.rf.6d556d44be434660bd48e5f3574dc61c.jpg  \n",
            "  inflating: animals/test/images/fox_36896eecec061850_jpg.rf.609e02c3a6a37e1ccc86d697df90bd2b.jpg  \n",
            "  inflating: animals/test/images/fox_38361a7e1e93eb18_jpg.rf.8499aa3967b4daa5a2d0bdc7cc2c5390.jpg  \n",
            "  inflating: animals/test/images/fox_386da3393379242e_jpg.rf.23d68fc6225dfed7bfc6017d2432d997.jpg  \n",
            "  inflating: animals/test/images/fox_3976a0fca6a4de39_jpg.rf.fff18e707d6c5cbd23e569665f65630a.jpg  \n",
            "  inflating: animals/test/images/fox_3dbdd49e1cef073e_jpg.rf.7a4cb58f78da44d3392051b1c89aac87.jpg  \n",
            "  inflating: animals/test/images/fox_3fee67408ae70284_jpg.rf.3f85510248ec303e09ab10f3f1463ea6.jpg  \n",
            "  inflating: animals/test/images/fox_40052ba90561859c_jpg.rf.29d1a39e4d0a8d22029514463e652458.jpg  \n",
            "  inflating: animals/test/images/fox_40db31c1b72ed4fa_jpg.rf.f41044da9e8aa7acd340345df557a6d2.jpg  \n",
            "  inflating: animals/test/images/fox_4345eca6d91ab4a9_jpg.rf.b00744a29e8cc3b0cb7468f5e8547530.jpg  \n",
            "  inflating: animals/test/images/fox_4778d6e36b69da30_jpg.rf.106cbaf8fe8572c9f088ca217f713b5d.jpg  \n",
            "  inflating: animals/test/images/fox_4baac56d8ed2e636_jpg.rf.1c3e876ec6cb301ac602e5a220d1a3a9.jpg  \n",
            "  inflating: animals/test/images/fox_510b1fe2e0d4546c_jpg.rf.f0f3c9e7a5caa581554643e04b496aa0.jpg  \n",
            "  inflating: animals/test/images/fox_51bf53620b5d4ff2_jpg.rf.acc03e1e9d967538f14106385fb1069c.jpg  \n",
            "  inflating: animals/test/images/fox_51d298677b3c6cf9_jpg.rf.2b734ca015a1799aff4b4ade72b3488d.jpg  \n",
            "  inflating: animals/test/images/fox_55f64fd939f53d63_jpg.rf.b446682f645f7a68802263f11c7dd06f.jpg  \n",
            "  inflating: animals/test/images/fox_588495909e8e1102_jpg.rf.7206464da71041d4ac01e11512aa2f55.jpg  \n",
            "  inflating: animals/test/images/fox_59e9ba12ec2a3880_jpg.rf.836e05331fde00284fe72b0c00f51429.jpg  \n",
            "  inflating: animals/test/images/fox_5a9e27aaab884347_jpg.rf.7429f7bcd4f82a1997f790aa60191220.jpg  \n",
            "  inflating: animals/test/images/fox_5ac9218afd5760c5_jpg.rf.f73226411e2990cf13b70db3256c5edd.jpg  \n",
            "  inflating: animals/test/images/fox_5afbd0233fa7c08a_jpg.rf.6ef17aeea180382e1976b86ddb9fc0eb.jpg  \n",
            "  inflating: animals/test/images/fox_6b1f86d33bf244fa_jpg.rf.735652a8d980081eec055f7c93e4a238.jpg  \n",
            "  inflating: animals/test/images/fox_6df1c79a88237d15_jpg.rf.280867b66cd671258a478bcdb251847a.jpg  \n",
            "  inflating: animals/test/images/fox_6f916821e49ecdae_jpg.rf.66cbefdc4f5591944fc555d29745bcd0.jpg  \n",
            "  inflating: animals/test/images/fox_73983f68658b9ed6_jpg.rf.da62d0effeb46ee020827952628d61bb.jpg  \n",
            "  inflating: animals/test/images/fox_75eca023930e6336_jpg.rf.4cb500c563d8e861eea75290ef131895.jpg  \n",
            "  inflating: animals/test/images/fox_7711bf0bb1c814f7_jpg.rf.7b3f2b9a2b1acbef6ad1f88c8f1a5a03.jpg  \n",
            "  inflating: animals/test/images/fox_7d4f17503df3b71c_jpg.rf.fd39ff4adcb03691bb592758ba1648ea.jpg  \n",
            "  inflating: animals/test/images/fox_7e2d18f4620700b5_jpg.rf.9c3a5e45d6e25f0deedac8fc2677fc52.jpg  \n",
            "  inflating: animals/test/images/fox_8333c287adcdb146_jpg.rf.9ee8616b1aea2b2cf4dcc1bdd6ed079b.jpg  \n",
            "  inflating: animals/test/images/fox_878b17f125c211c4_jpg.rf.c8a239f50f37bc3eedaf8886b048465b.jpg  \n",
            "  inflating: animals/test/images/fox_8796d6b644d952b2_jpg.rf.ca08f088d94fc972182326e27922c439.jpg  \n",
            "  inflating: animals/test/images/fox_8d20d171daba7888_jpg.rf.16fb4fc26a1c07d1856d8dc6f6549472.jpg  \n",
            "  inflating: animals/test/images/fox_92013993df228010_jpg.rf.a2cce4b1ce83cffbfe200aa8be10a63d.jpg  \n",
            "  inflating: animals/test/images/fox_99e2b9f1a1d4aaa6_jpg.rf.376296b2c5ebbb653deb176805e3ed0e.jpg  \n",
            "  inflating: animals/test/images/fox_9a8dc30042428459_jpg.rf.4c91739d6de3ef986374993eace45c6f.jpg  \n",
            "  inflating: animals/test/images/fox_9c008573a2709c80_jpg.rf.ac9bdfb70bc08101f8a3a799a1f9e6d7.jpg  \n",
            "  inflating: animals/test/images/fox_9c61e50af3f69b55_jpg.rf.55d2b39f3bba07517169e325f89ff6fb.jpg  \n",
            "  inflating: animals/test/images/fox_a06949bbe7a44417_jpg.rf.a2557c685b4c49d75bb1abafc41cdebd.jpg  \n",
            "  inflating: animals/test/images/fox_a1ea23e061c6fb13_jpg.rf.25956e14918e7627a1ae5d4d1c83e9d2.jpg  \n",
            "  inflating: animals/test/images/fox_a5e2eac593f772a9_jpg.rf.18c698ffba5f2c7a679b504cd2b2861d.jpg  \n",
            "  inflating: animals/test/images/fox_ab84879ac0a11bcd_jpg.rf.a292181ce50d86c291527dad7414e284.jpg  \n",
            "  inflating: animals/test/images/fox_abf9ff0ed59f3159_jpg.rf.e82fc01e35167094aca01605e644eca6.jpg  \n",
            "  inflating: animals/test/images/fox_ae8a24bf47733d92_jpg.rf.de5cb9cee9f86eb21ad0ebcfbec23356.jpg  \n",
            "  inflating: animals/test/images/fox_b0cd451010d43b90_jpg.rf.dbcfffb6d2c62ec101a085025d21ec90.jpg  \n",
            "  inflating: animals/test/images/fox_b84c8973b98a26c8_jpg.rf.14443230234e127f1a1990172aa1e2fa.jpg  \n",
            "  inflating: animals/test/images/fox_bca1432f686a3d5b_jpg.rf.942a761c2ac9558aaee62b14efd69ce8.jpg  \n",
            "  inflating: animals/test/images/fox_bca1432f686a3d5b_jpg.rf.b0f1750ac2b0f1b58e70720c2e8916a0.jpg  \n",
            "  inflating: animals/test/images/fox_c025f3b1c622b0e7_jpg.rf.23e3cf4a17388469e9aaae09a9ec0366.jpg  \n",
            "  inflating: animals/test/images/fox_cb919df175ea0599_jpg.rf.6ae1faf6de404f3dea8229becc79db6f.jpg  \n",
            "  inflating: animals/test/images/fox_cd5466fc30b1d9a4_jpg.rf.e5dd8c9b3a211d5ae325517aff2ee743.jpg  \n",
            "  inflating: animals/test/images/fox_d34fd26c1d9f3a26_jpg.rf.fa0b4b15fb8b6ef6b52dd3163846abc1.jpg  \n",
            "  inflating: animals/test/images/fox_d351e60e32cbcfac_jpg.rf.15d891090b9a8d2bad4c620c20f8c794.jpg  \n",
            "  inflating: animals/test/images/fox_d441566778531e20_jpg.rf.9600df8532ab3378a251de47627659a3.jpg  \n",
            "  inflating: animals/test/images/fox_dce634cff55c3a6e_jpg.rf.9f72ba846cec1cdf1afa0c5e16209ed0.jpg  \n",
            "  inflating: animals/test/images/fox_e4a4bc2fe15e4bec_jpg.rf.ab4f203804d12347c76953b548063be8.jpg  \n",
            "  inflating: animals/test/images/fox_e4a4bc2fe15e4bec_jpg.rf.cd6c3fa9e911beda7d66e0d575cca8e1.jpg  \n",
            "  inflating: animals/test/images/fox_e7c762fda96cc725_jpg.rf.7ae65ca5105d4e2226832510ccc29312.jpg  \n",
            "  inflating: animals/test/images/fox_e8fe6dbc7620fd28_jpg.rf.500848c9c09d2c0279ea3976f80ce2d5.jpg  \n",
            "  inflating: animals/test/images/fox_ea7745d3092e03bf_jpg.rf.b1fac2724e277e69f0cc232a81e89747.jpg  \n",
            "  inflating: animals/test/images/fox_f1bd292f0de7284a_jpg.rf.c18b90ca61e512264cc4a74d5f63e2be.jpg  \n",
            "  inflating: animals/test/images/fox_f214eefbef46540b_jpg.rf.c5c9c8458f236f8a12df6935850af285.jpg  \n",
            "  inflating: animals/test/images/fox_f24228a0f4f78a35_jpg.rf.2165d5de3a415575f14911cdf72dd977.jpg  \n",
            "  inflating: animals/test/images/fox_f350fccdd5e05ab6_jpg.rf.711abf8cff1669a58c023dd8a5463cd4.jpg  \n",
            "  inflating: animals/test/images/fox_f6504157f669aeb3_jpg.rf.3ffcc11dee67b84f772bdb5390b14e7d.jpg  \n",
            "  inflating: animals/test/images/fox_ffaa7d8efdd5c1ab_jpg.rf.7adb4a0fd5c56cda7013cb888d5cf30e.jpg  \n",
            "  inflating: animals/test/images/owl_-_jpg.rf.05cebad3ca2776b76bcc3defb6c3fb18.jpg  \n",
            "  inflating: animals/test/images/owl_-_jpg.rf.86ea61f188290027107effb96da460a5.jpg  \n",
            "  inflating: animals/test/images/owl_0879f212895d657472281e3e6a23eac3_jpg.rf.ea84232922e9f62d5c74fd7cf7c3fd2d.jpg  \n",
            "  inflating: animals/test/images/owl_10406064125_b2a34e5fcd_z_jpg.rf.73f06f860bd5fe08bfd5dcbbf06513b7.jpg  \n",
            "  inflating: animals/test/images/owl_14511043871_74decdf9f6_z_jpg.rf.50f722ad7102c74ffcb5af798e3af6be.jpg  \n",
            "  inflating: animals/test/images/owl_14834155247_69731da8b8_z_jpg.rf.2c3f1967940e905b5531752bdb38c280.jpg  \n",
            "  inflating: animals/test/images/owl_14834155247_69731da8b8_z_jpg.rf.557be954485993d57f2ffe9c671e618f.jpg  \n",
            "  inflating: animals/test/images/owl_15244729149_93775a385f_z_jpg.rf.85218ff50267dd85554a5668e0eb6334.jpg  \n",
            "  inflating: animals/test/images/owl_15389530640_c767a054fe_z_jpg.rf.df1dc42241c919b0d6ce1561d2600601.jpg  \n",
            "  inflating: animals/test/images/owl_16239111625_60bd808fd8_z_jpg.rf.fc0b7f2612101f5001604c14d9a1f43f.jpg  \n",
            "  inflating: animals/test/images/owl_193318059_44bbbaa166_z_jpg.rf.07d81c3023d8f70fc569ded34a2c823c.jpg  \n",
            "  inflating: animals/test/images/owl_198327fc396ce2711daf977bb32e64cf-1-_jpg.rf.89a6ad8f7d9870ce6cb4b6291ab54dc9.jpg  \n",
            "  inflating: animals/test/images/owl_2598094838_25aeacb90a_z_jpg.rf.151eeda130a2e5d3c02a418535b264d7.jpg  \n",
            "  inflating: animals/test/images/owl_33f11f16-746b-4ea8-9860-9ccbdc887ef6_jpg.rf.e39a8618aa1ee0492c8802ffde8c3212.jpg  \n",
            "  inflating: animals/test/images/owl_3485459279_72dcb3186e_z_jpg.rf.b7bf12ac46a6a1c25db70b33848799e9.jpg  \n",
            "  inflating: animals/test/images/owl_3485459279_72dcb3186e_z_jpg.rf.f5e2b5b25843a1b246dbf83132ec0000.jpg  \n",
            "  inflating: animals/test/images/owl_4199729697_6d3da4b0ce_z_jpg.rf.e78e7ae60b3caf36e75117614bb20332.jpg  \n",
            "  inflating: animals/test/images/owl_4643954054_2558280401_z_jpg.rf.b64d6fbefedfa0a8d4d6b67f0fce1677.jpg  \n",
            "  inflating: animals/test/images/owl_533c0c9de15fee1f9e1b6b030733b300_jpg.rf.ad20cc1bbf0afa1c4e05bc902bb95aca.jpg  \n",
            "  inflating: animals/test/images/owl_5476874910_863b795ae3_z_jpg.rf.c8380c96b753a961e864a5ca29a415b4.jpg  \n",
            "  inflating: animals/test/images/owl_5635489370_ea8dfcef09_z_jpg.rf.cbda690f9a3c80f9d8b087cb7529f8b8.jpg  \n",
            "  inflating: animals/test/images/owl_5675315487_e81e837449_z_jpg.rf.b1236a508447b54d70041ecc187d3b31.jpg  \n",
            "  inflating: animals/test/images/owl_5680468015_482b2b0e7b_z_jpg.rf.98192e7aaf31478d191d382c22a30a11.jpg  \n",
            "  inflating: animals/test/images/owl_5705828272_7a5b6e112d_z-1-_jpg.rf.56d6161dc95861d21b05b180a0fe3801.jpg  \n",
            "  inflating: animals/test/images/owl_579573cfbc6c254e2a11f0ee1b0bb9e2_jpg.rf.a5fba06fa3ad86494ba7852d87eaae38.jpg  \n",
            "  inflating: animals/test/images/owl_5822511042_e53a973b31_z_jpg.rf.55b49e98053b18071eef0bd2ff202799.jpg  \n",
            "  inflating: animals/test/images/owl_5822511042_e53a973b31_z_jpg.rf.fe58509154c8adc61d40464b93807439.jpg  \n",
            "  inflating: animals/test/images/owl_585242c908be96b1167b7e8724761949_jpg.rf.b048a63c108fe4d7e4b4c71797b6b996.jpg  \n",
            "  inflating: animals/test/images/owl_6-000-Free-Burrowing-Owls-Owl-Images_jpg.rf.52cf89593aa1acb02e28ef3faea71737.jpg  \n",
            "  inflating: animals/test/images/owl_6019751668_d70f9ac863_z_jpg.rf.88d94b3cd3d568cccd7b757aab7c2e05.jpg  \n",
            "  inflating: animals/test/images/owl_64f0c2bdb18bb870ea3d1d8086d5b248_jpg.rf.94994d761b4eb684fb8b731520458d34.jpg  \n",
            "  inflating: animals/test/images/owl_6698771867_d2b78cd519_z_jpg.rf.f12c5b68216c0f68120b99f7f806c33c.jpg  \n",
            "  inflating: animals/test/images/owl_694478185_acf7776ed4_z_jpg.rf.fac9cb9c313bd55be5ec9514a8884e1b.jpg  \n",
            "  inflating: animals/test/images/owl_694481485_4f72527226_z_jpg.rf.b24e46dde9a40f2d9436a1b86e8e4b20.jpg  \n",
            "  inflating: animals/test/images/owl_697e366e3283a96a752845107f8eed71_jpg.rf.f535e8bb88f686d08a563d2df180541b.jpg  \n",
            "  inflating: animals/test/images/owl_7484430416_e90c090411_z_jpg.rf.04362536728b24ae3cc492fa78f7a901.jpg  \n",
            "  inflating: animals/test/images/owl_762531dda8f5f8e7fb5b7731becf405f_jpg.rf.73d71a19b212a693882eebdad4e0fbdc.jpg  \n",
            "  inflating: animals/test/images/owl_791ea355-cce4-4789-a827-1d00afd1d088_jpg.rf.a2fec45b4bf19b5c60c07746997f3459.jpg  \n",
            "  inflating: animals/test/images/owl_8528972610_4d0d24f664_z_jpg.rf.92cb50294c786731b7feab388a93c391.jpg  \n",
            "  inflating: animals/test/images/owl_89a0fcf2ee7594bf3bf096fe267d5164_jpg.rf.939ca7e322f2aa1ce790acf22d270664.jpg  \n",
            "  inflating: animals/test/images/owl_9569956753_ef206e167b_z_jpg.rf.a95b86f42fb01619f3e1a6038a3801ac.jpg  \n",
            "  inflating: animals/test/images/owl_9985955776_43d6f32cf2_z_jpg.rf.b180de16c9349a1794fae2fbcf6b3ae7.jpg  \n",
            "  inflating: animals/test/images/owl_a13e99915ba55a81565ae19fbd5d060c-1-_jpg.rf.a8de36febfc8440f9e74b8d0da260707.jpg  \n",
            "  inflating: animals/test/images/owl_ae59786d94f5a34a3d0ddcfaa6a9cd36_jpg.rf.15a0cc633752f876d87117203e18cac6.jpg  \n",
            "  inflating: animals/test/images/owl_A-Magnificent-Collection-of-Owl-Pictures-for-your-Inspiration-_-Naldz-Graphics_jpg.rf.9b4c422f97d07aa4d049ed8391c0be75.jpg  \n",
            "  inflating: animals/test/images/owl_b162aedc4878416767f67676eb4bbc1a_jpg.rf.06d28baad500cd965102799c8938c0b4.jpg  \n",
            "  inflating: animals/test/images/owl_b651dd2f-d969-4f1e-826d-3ba3d6aedcf5_jpg.rf.b729048e2a35b24149e32af514ba474b.jpg  \n",
            "  inflating: animals/test/images/owl_Barn-owls-are-mostly-known-for-their-heart-shaped-_jpg.rf.20a82ebb7adae79c546f965fec30de45.jpg  \n",
            "  inflating: animals/test/images/owl_Barred-Owl-Stare-by-Alex-Mody-He-looks-sad-_-_jpg.rf.5a5b122b00b5d476d196f1a2c470db15.jpg  \n",
            "  inflating: animals/test/images/owl_Burrowing-Owl_jpg.rf.ed40660618e5ea3c0ed4cfcf784ee5a1.jpg  \n",
            "  inflating: animals/test/images/owl_Burrowing-Owl-Athene-cunicularia-North-America_jpg.rf.55ebc694004283e8f32cce38d3eec6e7.jpg  \n",
            "  inflating: animals/test/images/owl_Burrowing-owl-pair-f22_jpg.rf.78ea78f28b7d2d101e53740ed2a25160.jpg  \n",
            "  inflating: animals/test/images/owl_Chestnut-backed-Owl_jpg.rf.156185e7c6bd0c65c6514012895bea16.jpg  \n",
            "  inflating: animals/test/images/owl_Chestnut-backed-Owl_jpg.rf.bc37f1acb5b1ad3716b390c858fec2be.jpg  \n",
            "  inflating: animals/test/images/owl_ef56409e-38b0-404f-a858-aa62332c7610_jpg.rf.be13e0d506bad119505a01506ff5c0e4.jpg  \n",
            "  inflating: animals/test/images/owl_f1e3a008267c29b2b02cf61326968c2d_jpg.rf.9ad9515921ea81122dd9443b33eccd23.jpg  \n",
            "  inflating: animals/test/images/owl_f5d3b089-79d7-4a65-a551-a183066198ab_jpg.rf.e12ddda24bb56515b12d9bc228f6e6fb.jpg  \n",
            "  inflating: animals/test/images/owl_Family-of-owls-_jpg.rf.e645edf3bd3c227a1c06ad6d75424bee.jpg  \n",
            "  inflating: animals/test/images/owl_free-photo-of-burrowing-owl-perched-in-tarapaca-desert_jpeg.rf.23f691c2aeef4ace2b6fbe23be7bf499.jpg  \n",
            "  inflating: animals/test/images/owl_free-photo-of-close-up-of-an-owl_jpg.rf.d876d3f8b46135b646d6384ecac4dc08.jpg  \n",
            "  inflating: animals/test/images/owl_free-photo-of-close-up-of-brown-fish-owl_jpeg.rf.7e8f260fedcca4409768bfcd0ff0ddb2.jpg  \n",
            "  inflating: animals/test/images/owl_free-photo-of-great-horned-owl-resting-on-branch-in-new-york_jpeg.rf.cadd912ba06524dbf4929d327233c6f5.jpg  \n",
            "  inflating: animals/test/images/owl_free-photo-of-long-eared-owl-perched-on-tree-branch-in-winter_jpeg.rf.a2bab6d926009444ccfaa0c01a9aa53b.jpg  \n",
            "  inflating: animals/test/images/owl_free-photo-of-owl-in-a-forest_jpeg.rf.23a496212ca6043fc9a5739367e52201.jpg  \n",
            "  inflating: animals/test/images/owl_images-2-_jpg.rf.76d71ff1bd22c788630e9a641449b71d.jpg  \n",
            "  inflating: animals/test/images/owl_images-20-_jpg.rf.e72d7715d0678ab14ee6acb3f0fa011b.jpg  \n",
            "  inflating: animals/test/images/owl_images-43-_jpg.rf.48b8eea36cf2870094c7b9fbe24e96e1.jpg  \n",
            "  inflating: animals/test/images/owl_images-51-_jpg.rf.3a178c3cc6aca4280fc07664acdf67b3.jpg  \n",
            "  inflating: animals/test/images/owl_images-53-_jpg.rf.7e16101ee747c5eb5bf093308eef9a3d.jpg  \n",
            "  inflating: animals/test/images/owl_images-64-_jpg.rf.b8a6c84f7666ba3f212263ab477c81f7.jpg  \n",
            "  inflating: animals/test/images/owl_images-64-_jpg.rf.eac3181d29193c8245765e059b1437a3.jpg  \n",
            "  inflating: animals/test/images/owl_images-66-_jpg.rf.6488406380f1eb502e260a50d0ca1702.jpg  \n",
            "  inflating: animals/test/images/owl_images-69-_jpg.rf.190b482e4015ed529bdc1732bc6168bd.jpg  \n",
            "  inflating: animals/test/images/owl_images-7-_jpg.rf.7e6ea3d8719ed257f5a6cbc6a71985a9.jpg  \n",
            "  inflating: animals/test/images/owl_images-70-_jpg.rf.0f2cff12e95d47d28a662319c76f4271.jpg  \n",
            "  inflating: animals/test/images/owl_images-71-_jpg.rf.26bccec8a8fbf014377ee3ba02f64e97.jpg  \n",
            "  inflating: animals/test/images/owl_images-82-_jpg.rf.3810ca025aa08fa627b47f1ebdcd9a23.jpg  \n",
            "  inflating: animals/test/images/owl_images-84-_jpg.rf.f71c52b70badcda37dcd59bc7c36fb89.jpg  \n",
            "  inflating: animals/test/images/owl_images-86-_jpg.rf.fb9013d6dc94b67e6eae63e953f86195.jpg  \n",
            "  inflating: animals/test/images/owl_Owl-1-_jpg.rf.35be5c3aca7a597cb2317c751c8ee363.jpg  \n",
            "  inflating: animals/test/images/owl_Owl-2-_jpg.rf.c1931d846ef109c1d7ee55ee9c954339.jpg  \n",
            "  inflating: animals/test/images/owl_owl-from-raptor-show_jpg.rf.af846438871c08d30f8d020c61f76bf7.jpg  \n",
            "  inflating: animals/test/images/owl_owl-from-raptor-show_jpg.rf.bcea9e4dd2db2d1ce57674e6dc1456ec.jpg  \n",
            "  inflating: animals/test/images/owl_owls__jpg.rf.e386baa2636bdffd83ecf575a762a9f6.jpg  \n",
            "  inflating: animals/test/images/owl_Owls-1-_jpg.rf.968b7f7bdea7dc4576aa9f15ccdcf286.jpg  \n",
            "  inflating: animals/test/images/owl_pexels-photo-12232364_jpeg.rf.23e0276fd768af444fcb1b7cc72e41fc.jpg  \n",
            "  inflating: animals/test/images/owl_pexels-photo-1526402_jpeg.rf.aec6365ff1e59c6086dd4bef784e6e8a.jpg  \n",
            "  inflating: animals/test/images/owl_pexels-photo-1526404_webp.rf.2df3206c173c71e0d84fbe3233ade60f.jpg  \n",
            "  inflating: animals/test/images/owl_pexels-photo-1745352_webp.rf.d46e3b4e938262347ca783ab31172fd6.jpg  \n",
            "  inflating: animals/test/images/owl_pexels-photo-18683300_webp.rf.17b481ae6c2e260754e1c85c0987c6d3.jpg  \n",
            "  inflating: animals/test/images/owl_pexels-photo-18683304_webp.rf.d8caffb73e5b19d15f8fb115700e2da6.jpg  \n",
            "  inflating: animals/test/images/owl_pexels-photo-2022648_jpeg.rf.40aa6718c48b118eb41129db5e78e796.jpg  \n",
            "  inflating: animals/test/images/owl_pexels-photo-2024983_webp.rf.8c689fc8a694c0538bbd15a1feea54c8.jpg  \n",
            "  inflating: animals/test/images/owl_pexels-photo-206676_jpeg.rf.8d602d92bd9443b1afe82088e46441b6.jpg  \n",
            "  inflating: animals/test/images/owl_pexels-photo-2115984_jpeg.rf.2ca54ed75aeed2d60d469cf2bfe54735.jpg  \n",
            "  inflating: animals/test/images/owl_pexels-photo-30048339_webp.rf.7fb7bb4cb9f0eb4277a6a452f09e9ac5.jpg  \n",
            "  inflating: animals/test/images/owl_pexels-photo-3622695_webp.rf.f1471ca8327b3de6d9c2c075c74acb5b.jpg  \n",
            "  inflating: animals/test/images/owl_Right-Side-Up_jpg.rf.523be349573703bb2b8a6f30d973b14b.jpg  \n",
            "  inflating: animals/test/images/owl_Right-Side-Up_jpg.rf.cdb7578f2767e09ecfd6f5a2b0ac2434.jpg  \n",
            "  inflating: animals/test/images/owl_TAWNY-OWL-1-_jpg.rf.422b0f8545f4c43704cf78252b935d43.jpg  \n",
            "  inflating: animals/test/images/raccoon_raccoon-1_jpg.rf.204a4069190472dfd9fc75418f1f3642.jpg  \n",
            "  inflating: animals/test/images/raccoon_raccoon-103_jpg.rf.e085f5dca1d534af74e69b10ec507627.jpg  \n",
            "  inflating: animals/test/images/raccoon_raccoon-104_jpg.rf.3654ef3775c12d69afb4912329b9ae55.jpg  \n",
            "  inflating: animals/test/images/raccoon_raccoon-108_jpg.rf.53c1b78ddf8030e694ab38fed41ea3ba.jpg  \n",
            "  inflating: animals/test/images/raccoon_raccoon-108_jpg.rf.63afe382d1bba63f7ce17b9e1a1839bf.jpg  \n",
            "  inflating: animals/test/images/raccoon_raccoon-109_jpg.rf.175f3f73e4f15cef6db106d4034322e6.jpg  \n",
            "  inflating: animals/test/images/raccoon_raccoon-109_jpg.rf.55590ff8751ad1bf2874d8568c9f5f67.jpg  \n",
            "  inflating: animals/test/images/raccoon_raccoon-11_jpg.rf.17ea225bba2a4335102c0cec6afaca52.jpg  \n",
            "  inflating: animals/test/images/raccoon_raccoon-11_jpg.rf.c0403e32d9ff850a49f3487927405657.jpg  \n",
            "  inflating: animals/test/images/raccoon_raccoon-110_jpg.rf.707d2477cf970953f51bf224ae704fc6.jpg  \n",
            "  inflating: animals/test/images/raccoon_raccoon-110_jpg.rf.d4958e33560917e3e0494605157e37c9.jpg  \n",
            "  inflating: animals/test/images/raccoon_raccoon-111_jpg.rf.a89457d6b06368c89a7de52ba26d6337.jpg  \n",
            "  inflating: animals/test/images/raccoon_raccoon-114_jpg.rf.815a2d86a613c85964b33f9da89bd9b9.jpg  \n",
            "  inflating: animals/test/images/raccoon_raccoon-115_jpg.rf.4a76428a425c76190eb78772c3f94d36.jpg  \n",
            "  inflating: animals/test/images/raccoon_raccoon-117_jpg.rf.c686ff10d32d971fe44004b72e919c05.jpg  \n",
            "  inflating: animals/test/images/raccoon_raccoon-118_jpg.rf.6bee729d3df8beec5fb8db4dd8eabbb8.jpg  \n",
            "  inflating: animals/test/images/raccoon_raccoon-119_jpg.rf.104f16153276fc0bc88060712018a164.jpg  \n",
            "  inflating: animals/test/images/raccoon_raccoon-119_jpg.rf.63225bd5e979646f12b23573abc06350.jpg  \n",
            "  inflating: animals/test/images/raccoon_raccoon-12_jpg.rf.190803300ca93bc7641ab23c797e9343.jpg  \n",
            "  inflating: animals/test/images/raccoon_raccoon-12_jpg.rf.c618bc74163d9b05861a274577b53980.jpg  \n",
            "  inflating: animals/test/images/raccoon_raccoon-125_jpg.rf.1d445d3eb163533cd7794fb19385d652.jpg  \n",
            "  inflating: animals/test/images/raccoon_raccoon-126_jpg.rf.ee1d7b674bbe31c34669b005d91e85b5.jpg  \n",
            "  inflating: animals/test/images/raccoon_raccoon-127_jpg.rf.200c4181c922be3da35e1473c4b87cdc.jpg  \n",
            "  inflating: animals/test/images/raccoon_raccoon-13_jpg.rf.b32d2a439cab88aafad56978fda5ce2e.jpg  \n",
            "  inflating: animals/test/images/raccoon_raccoon-131_jpg.rf.0683e07ffdbf0ba8d793d1a5f52e5409.jpg  \n",
            "  inflating: animals/test/images/raccoon_raccoon-133_jpg.rf.4846c264eed9ee56dbf1e9f333a808d3.jpg  \n",
            "  inflating: animals/test/images/raccoon_raccoon-135_jpg.rf.54ce24223c026f64deb70a976c25a1ce.jpg  \n",
            "  inflating: animals/test/images/raccoon_raccoon-136_jpg.rf.4b93085e70d69dc2c5d11c6f52be27cf.jpg  \n",
            "  inflating: animals/test/images/raccoon_raccoon-138_jpg.rf.b9fe6ccb49cded86f94928d5a4a99285.jpg  \n",
            "  inflating: animals/test/images/raccoon_raccoon-14_jpg.rf.6e13e55b120977e2d88fe5a935a178b6.jpg  \n",
            "  inflating: animals/test/images/raccoon_raccoon-141_jpg.rf.1dcb34905c78c171225dc2ff888808a3.jpg  \n",
            "  inflating: animals/test/images/raccoon_raccoon-141_jpg.rf.8d88fa7e0d6ebc3d676b7cb25a5ea73a.jpg  \n",
            "  inflating: animals/test/images/raccoon_raccoon-142_jpg.rf.e9cdf42030e2502c5c4d0e199460569d.jpg  \n",
            "  inflating: animals/test/images/raccoon_raccoon-144_jpg.rf.1ccf17ef3b300e479206de5f83784a87.jpg  \n",
            "  inflating: animals/test/images/raccoon_raccoon-145_jpg.rf.2cd1d3581af4696ed3cd232ca5e90b34.jpg  \n",
            "  inflating: animals/test/images/raccoon_raccoon-145_jpg.rf.e11d81ab30f726933df042367055c112.jpg  \n",
            "  inflating: animals/test/images/raccoon_raccoon-146_jpg.rf.01f8ee8a7e6217bfc917688e3648905d.jpg  \n",
            "  inflating: animals/test/images/raccoon_raccoon-147_jpg.rf.a82fdb4318a9478e998520e96de139de.jpg  \n",
            "  inflating: animals/test/images/raccoon_raccoon-148_jpg.rf.f086d6e8c8794c5f0d0e9119b901561d.jpg  \n",
            "  inflating: animals/test/images/raccoon_raccoon-15_jpg.rf.195c6a2fb42f42512cad779cafbf787b.jpg  \n",
            "  inflating: animals/test/images/raccoon_raccoon-150_jpg.rf.6331e51cd14bd754bc23fab8f2cec1c6.jpg  \n",
            "  inflating: animals/test/images/raccoon_raccoon-154_jpg.rf.28dcd4fe715cc80b305a869c4d75e360.jpg  \n",
            "  inflating: animals/test/images/raccoon_raccoon-156_jpg.rf.53f67754ca951a0a34abd5c67f0edcaa.jpg  \n",
            "  inflating: animals/test/images/raccoon_raccoon-157_jpg.rf.287be1a85d408571e0c7284536f77a79.jpg  \n",
            "  inflating: animals/test/images/raccoon_raccoon-159_jpg.rf.69cce2774f4d22a817e686e72fc59f71.jpg  \n",
            "  inflating: animals/test/images/raccoon_raccoon-16_jpg.rf.c0dbcdc547b4403b2b11238564f7f7df.jpg  \n",
            "  inflating: animals/test/images/raccoon_raccoon-162_jpg.rf.0dc6b547fe2d45dabf58c3bb4672e53b.jpg  \n",
            "  inflating: animals/test/images/raccoon_raccoon-163_jpg.rf.64ca6fbd6705ce828d950b827b53a6d9.jpg  \n",
            "  inflating: animals/test/images/raccoon_raccoon-163_jpg.rf.e7950bdd2f6f3c93b3a59f5c8465c468.jpg  \n",
            "  inflating: animals/test/images/raccoon_raccoon-169_jpg.rf.4d0644066c309ec3536736bdf3c55436.jpg  \n",
            "  inflating: animals/test/images/raccoon_raccoon-170_jpg.rf.facaf89e635ac27b0b49e088b521a626.jpg  \n",
            "  inflating: animals/test/images/raccoon_raccoon-171_jpg.rf.de95f2486d83c144109044ff36cbdbd0.jpg  \n",
            "  inflating: animals/test/images/raccoon_raccoon-172_jpg.rf.b365bba8477d4652d3727d5a9d3b910f.jpg  \n",
            "  inflating: animals/test/images/raccoon_raccoon-173_jpg.rf.21a29ccdc9bc4f9d747b06e7ed1402b5.jpg  \n",
            "  inflating: animals/test/images/raccoon_raccoon-176_jpg.rf.38912ecb3777f72ac3e1d30302c918d4.jpg  \n",
            "  inflating: animals/test/images/raccoon_raccoon-178_jpg.rf.2d43c1bf2f5bfb51d86e8839e74ada0c.jpg  \n",
            "  inflating: animals/test/images/raccoon_raccoon-179_jpg.rf.1a743804b422024c0ce80dac0f50008b.jpg  \n",
            "  inflating: animals/test/images/raccoon_raccoon-18_jpg.rf.9a43c1b3c451f669e2a775f4b6ede8e9.jpg  \n",
            "  inflating: animals/test/images/raccoon_raccoon-18_jpg.rf.feb9debeabe9db1f5aeb61e0fdbbe1ac.jpg  \n",
            "  inflating: animals/test/images/raccoon_raccoon-185_jpg.rf.5fa2b594fea737fb17393151f6d34d06.jpg  \n",
            "  inflating: animals/test/images/raccoon_raccoon-185_jpg.rf.a65405f4bb2da17762b8afd4dd422fe6.jpg  \n",
            "  inflating: animals/test/images/raccoon_raccoon-192_jpg.rf.c6df37eefe520cbba103dada39f10988.jpg  \n",
            "  inflating: animals/test/images/raccoon_raccoon-193_jpg.rf.ecec16d7c840368adea6339f2fe7334e.jpg  \n",
            "  inflating: animals/test/images/raccoon_raccoon-193_jpg.rf.eebf411a5e8decf459d3367eb4abfe9b.jpg  \n",
            "  inflating: animals/test/images/raccoon_raccoon-196_jpg.rf.05c48653672b7de6245ed900499c8e38.jpg  \n",
            "  inflating: animals/test/images/raccoon_raccoon-196_jpg.rf.ab69f1f89d83e167cf678221f9c5c768.jpg  \n",
            "  inflating: animals/test/images/raccoon_raccoon-198_jpg.rf.03f7d72f0d47c3635be9edc690c180af.jpg  \n",
            "  inflating: animals/test/images/raccoon_raccoon-198_jpg.rf.c06753f596c7660624003a1f8b3164dc.jpg  \n",
            "  inflating: animals/test/images/raccoon_raccoon-199_jpg.rf.7c30d4c90ef71345b8a6d90e41f0427c.jpg  \n",
            "  inflating: animals/test/images/raccoon_raccoon-21_jpg.rf.ea2af7719acc5df88021de2d47b7b804.jpg  \n",
            "  inflating: animals/test/images/raccoon_raccoon-23_jpg.rf.83d2c40148df4f09efd54d847ec51586.jpg  \n",
            "  inflating: animals/test/images/raccoon_raccoon-25_jpg.rf.5c5476b51bab31ce943e4747eeda8b86.jpg  \n",
            "  inflating: animals/test/images/raccoon_raccoon-25_jpg.rf.ceb2403d41fe4d7945c69468b5138b23.jpg  \n",
            "  inflating: animals/test/images/raccoon_raccoon-25_jpg.rf.ee9ef14e15b4eb6427c4853eb07c1970.jpg  \n",
            "  inflating: animals/test/images/raccoon_raccoon-26_jpg.rf.a0f3888e5a5a1c57abf8303f0f86fffe.jpg  \n",
            "  inflating: animals/test/images/raccoon_raccoon-28_jpg.rf.da59ae68c6123284861ebb95acd75ede.jpg  \n",
            "  inflating: animals/test/images/raccoon_raccoon-34_jpg.rf.3c07249105168a4ccf1017dced900d36.jpg  \n",
            "  inflating: animals/test/images/raccoon_raccoon-34_jpg.rf.d1c2b89504ff4b7947e1fcf1be1952a6.jpg  \n",
            "  inflating: animals/test/images/raccoon_raccoon-34_jpg.rf.e66df2a12a0c7328ae20cf69974c770f.jpg  \n",
            "  inflating: animals/test/images/raccoon_raccoon-36_jpg.rf.924ca5983cec3a817e2c5c803eecab96.jpg  \n",
            "  inflating: animals/test/images/raccoon_raccoon-38_jpg.rf.7655fc14fc3961a3f21cced760d322bf.jpg  \n",
            "  inflating: animals/test/images/raccoon_raccoon-39_jpg.rf.f7b7bd325f3f48d641aa1bf282bffe6c.jpg  \n",
            "  inflating: animals/test/images/raccoon_raccoon-49_jpg.rf.ca5dc346811c26810622e1c8bf430f16.jpg  \n",
            "  inflating: animals/test/images/raccoon_raccoon-5_jpg.rf.f67baa0b5f5429a3e22075d4c6e86e5f.jpg  \n",
            "  inflating: animals/test/images/raccoon_raccoon-53_jpg.rf.faf40e07b8a71530c5df4e99d9a28d99.jpg  \n",
            "  inflating: animals/test/images/raccoon_raccoon-54_jpg.rf.1bd0e3401784da105619b267c24f99d1.jpg  \n",
            "  inflating: animals/test/images/raccoon_raccoon-54_jpg.rf.6b0e359ba707215acd57e694aeee0713.jpg  \n",
            "  inflating: animals/test/images/raccoon_raccoon-54_jpg.rf.dd9dc8fa8de3141ae0548554208ecaca.jpg  \n",
            "  inflating: animals/test/images/raccoon_raccoon-56_jpg.rf.671c12bc9f5394e999c9a24ae3ac6ea3.jpg  \n",
            "  inflating: animals/test/images/raccoon_raccoon-56_jpg.rf.f995622c53fcf3e9d6e245b8834efc48.jpg  \n",
            "  inflating: animals/test/images/raccoon_raccoon-58_jpg.rf.151a28c7f39954605662714e6b0e13cf.jpg  \n",
            "  inflating: animals/test/images/raccoon_raccoon-69_jpg.rf.3ba8ad211145ceef04b9caaa485eaeb7.jpg  \n",
            "  inflating: animals/test/images/raccoon_raccoon-69_jpg.rf.5411fd2d0c8bb4cbbfa0a151e589e04c.jpg  \n",
            "  inflating: animals/test/images/raccoon_raccoon-71_jpg.rf.bbff3e3165235239d8d3feb158950de4.jpg  \n",
            "  inflating: animals/test/images/raccoon_raccoon-71_jpg.rf.c462527ccad96415107e501c25b4b486.jpg  \n",
            "  inflating: animals/test/images/raccoon_raccoon-72_jpg.rf.fdbb4a4a12bdb304a0b650070c5fd0bb.jpg  \n",
            "  inflating: animals/test/images/raccoon_raccoon-78_jpg.rf.676ae39f00eb9e551b04837a7d201810.jpg  \n",
            "  inflating: animals/test/images/raccoon_raccoon-80_jpg.rf.fb6cc625199f620a0a812dd5f56fefa0.jpg  \n",
            "  inflating: animals/test/images/raccoon_raccoon-91_jpg.rf.f9d1547d0f1dd89ca0913822190d2c09.jpg  \n",
            "  inflating: animals/test/images/raccoon_raccoon-92_jpg.rf.f583c5184744ae2047d7e41dd7258fe9.jpg  \n",
            "   creating: animals/test/labels/\n",
            "  inflating: animals/test/labels/fox_0016a719395bc945_jpg.rf.faee34936c0abf99e959136fbfb387d7.txt  \n",
            "  inflating: animals/test/labels/fox_00648ee778a0a959_jpg.rf.d6af3c8f6942ab2ddb6994628df64a11.txt  \n",
            "  inflating: animals/test/labels/fox_026748cbec73bd58_jpg.rf.2573ef66bbb8c64951dfc58eb7d0b8a9.txt  \n",
            "  inflating: animals/test/labels/fox_03972182d0eec651_jpg.rf.ca81d8cb2e39684a536de4a2c2a9acad.txt  \n",
            "  inflating: animals/test/labels/fox_04caf00bac3a699c_jpg.rf.aad7a1768aa30ce115af49dac514d85d.txt  \n",
            "  inflating: animals/test/labels/fox_06dcda7babea0933_jpg.rf.fcd36023cc378372ad5cd743ddfe1f25.txt  \n",
            "  inflating: animals/test/labels/fox_070bfd68a9843dfa_jpg.rf.4fb2a48bd7add2968e9dad606dab29a4.txt  \n",
            "  inflating: animals/test/labels/fox_073731979351ff03_jpg.rf.ed31c260857634626dd9e62b695aba5b.txt  \n",
            "  inflating: animals/test/labels/fox_086b753b70ea980d_jpg.rf.2f589dbb3562e77b4d3738d401a2e97e.txt  \n",
            "  inflating: animals/test/labels/fox_090237a06b65a807_jpg.rf.4b26627b4ee96b0afc437f4003a38c3c.txt  \n",
            "  inflating: animals/test/labels/fox_09ce2931e9b28e5a_jpg.rf.097327868e921361cc30796f74609ffb.txt  \n",
            "  inflating: animals/test/labels/fox_0b390c2d8076d17c_jpg.rf.eccf75a0719c6c87111bbf9c85ffc08e.txt  \n",
            "  inflating: animals/test/labels/fox_0b925aee618c4344_jpg.rf.60a1c06c571606fa94b8fdb6e6ee3518.txt  \n",
            "  inflating: animals/test/labels/fox_0f85a83b7b3e9fc2_jpg.rf.adae7c46311970c2d45c7e6d0ca82d5b.txt  \n",
            "  inflating: animals/test/labels/fox_103275c3fcab798b_jpg.rf.cff01c95c00f12496e569f0bddac1559.txt  \n",
            "  inflating: animals/test/labels/fox_119ce05cc5fc3801_jpg.rf.ea6fb49f2d3c213c82543fcfffce85a9.txt  \n",
            "  inflating: animals/test/labels/fox_12fbf8ce7ea1cb96_jpg.rf.eae9653b9cd4d9217cb65e387be0b2cd.txt  \n",
            "  inflating: animals/test/labels/fox_166e3f519156b424_jpg.rf.8381aba45be22ac4912c98571dbf3bbc.txt  \n",
            "  inflating: animals/test/labels/fox_19bffa106ee6436f_jpg.rf.5a13612fa34ce0fbf9ff938ae5efca63.txt  \n",
            "  inflating: animals/test/labels/fox_1a87fe9093fa9fbb_jpg.rf.6f3ec856706e9052816cf776647c9282.txt  \n",
            "  inflating: animals/test/labels/fox_1bb377b98401d9f3_jpg.rf.f395fd7e760e9270122f34d0639007d0.txt  \n",
            "  inflating: animals/test/labels/fox_1d19f43216529d7b_jpg.rf.31ddce8a003797cda60409acb66df926.txt  \n",
            "  inflating: animals/test/labels/fox_206c7bd511627394_jpg.rf.7dac88f53fee85252529d71864120ff5.txt  \n",
            "  inflating: animals/test/labels/fox_23b7b733d05b51cd_jpg.rf.87ec43d22016b809ed67fbd79e6c7dfc.txt  \n",
            "  inflating: animals/test/labels/fox_24ce47dd0a1dccd4_jpg.rf.9e4128894b41d5e3cf9841c0b14d0a83.txt  \n",
            "  inflating: animals/test/labels/fox_27e4f9a67e4fa891_jpg.rf.4ebc45affd7594e2e7fba3f64cbac4e7.txt  \n",
            "  inflating: animals/test/labels/fox_2948e6aa939c362e_jpg.rf.97adf5fbd574a01908d271440f5cc46d.txt  \n",
            "  inflating: animals/test/labels/fox_296f42ae65d4bd64_jpg.rf.d3d4a78e11eda5b2ec09af194337d93c.txt  \n",
            "  inflating: animals/test/labels/fox_2d9500ecb0abb248_jpg.rf.1b1ee20b689d9e9e2978cf9eae28ce13.txt  \n",
            "  inflating: animals/test/labels/fox_2da2cfa999e2bd5d_jpg.rf.5438c1210f4e0f9396d48b107fc2966b.txt  \n",
            "  inflating: animals/test/labels/fox_2f487448f9142493_jpg.rf.9f908f511a11f7faa71bc83d3fbbdcc9.txt  \n",
            "  inflating: animals/test/labels/fox_331235fa6fdd78d1_jpg.rf.139291297bc07fc5085c883677f0a59c.txt  \n",
            "  inflating: animals/test/labels/fox_3336738bd5ab13fb_jpg.rf.0e511b0baa1d2e3a49729e1cce43871d.txt  \n",
            "  inflating: animals/test/labels/fox_34fcd80156feebfd_jpg.rf.6c0436ddcb24b30a3152136baf5a42b8.txt  \n",
            "  inflating: animals/test/labels/fox_34fcd80156feebfd_jpg.rf.6d556d44be434660bd48e5f3574dc61c.txt  \n",
            "  inflating: animals/test/labels/fox_36896eecec061850_jpg.rf.609e02c3a6a37e1ccc86d697df90bd2b.txt  \n",
            "  inflating: animals/test/labels/fox_38361a7e1e93eb18_jpg.rf.8499aa3967b4daa5a2d0bdc7cc2c5390.txt  \n",
            "  inflating: animals/test/labels/fox_386da3393379242e_jpg.rf.23d68fc6225dfed7bfc6017d2432d997.txt  \n",
            "  inflating: animals/test/labels/fox_3976a0fca6a4de39_jpg.rf.fff18e707d6c5cbd23e569665f65630a.txt  \n",
            "  inflating: animals/test/labels/fox_3dbdd49e1cef073e_jpg.rf.7a4cb58f78da44d3392051b1c89aac87.txt  \n",
            "  inflating: animals/test/labels/fox_3fee67408ae70284_jpg.rf.3f85510248ec303e09ab10f3f1463ea6.txt  \n",
            "  inflating: animals/test/labels/fox_40052ba90561859c_jpg.rf.29d1a39e4d0a8d22029514463e652458.txt  \n",
            "  inflating: animals/test/labels/fox_40db31c1b72ed4fa_jpg.rf.f41044da9e8aa7acd340345df557a6d2.txt  \n",
            "  inflating: animals/test/labels/fox_4345eca6d91ab4a9_jpg.rf.b00744a29e8cc3b0cb7468f5e8547530.txt  \n",
            "  inflating: animals/test/labels/fox_4778d6e36b69da30_jpg.rf.106cbaf8fe8572c9f088ca217f713b5d.txt  \n",
            "  inflating: animals/test/labels/fox_4baac56d8ed2e636_jpg.rf.1c3e876ec6cb301ac602e5a220d1a3a9.txt  \n",
            "  inflating: animals/test/labels/fox_510b1fe2e0d4546c_jpg.rf.f0f3c9e7a5caa581554643e04b496aa0.txt  \n",
            "  inflating: animals/test/labels/fox_51bf53620b5d4ff2_jpg.rf.acc03e1e9d967538f14106385fb1069c.txt  \n",
            "  inflating: animals/test/labels/fox_51d298677b3c6cf9_jpg.rf.2b734ca015a1799aff4b4ade72b3488d.txt  \n",
            "  inflating: animals/test/labels/fox_55f64fd939f53d63_jpg.rf.b446682f645f7a68802263f11c7dd06f.txt  \n",
            "  inflating: animals/test/labels/fox_588495909e8e1102_jpg.rf.7206464da71041d4ac01e11512aa2f55.txt  \n",
            "  inflating: animals/test/labels/fox_59e9ba12ec2a3880_jpg.rf.836e05331fde00284fe72b0c00f51429.txt  \n",
            "  inflating: animals/test/labels/fox_5a9e27aaab884347_jpg.rf.7429f7bcd4f82a1997f790aa60191220.txt  \n",
            "  inflating: animals/test/labels/fox_5ac9218afd5760c5_jpg.rf.f73226411e2990cf13b70db3256c5edd.txt  \n",
            "  inflating: animals/test/labels/fox_5afbd0233fa7c08a_jpg.rf.6ef17aeea180382e1976b86ddb9fc0eb.txt  \n",
            "  inflating: animals/test/labels/fox_6b1f86d33bf244fa_jpg.rf.735652a8d980081eec055f7c93e4a238.txt  \n",
            "  inflating: animals/test/labels/fox_6df1c79a88237d15_jpg.rf.280867b66cd671258a478bcdb251847a.txt  \n",
            "  inflating: animals/test/labels/fox_6f916821e49ecdae_jpg.rf.66cbefdc4f5591944fc555d29745bcd0.txt  \n",
            "  inflating: animals/test/labels/fox_73983f68658b9ed6_jpg.rf.da62d0effeb46ee020827952628d61bb.txt  \n",
            "  inflating: animals/test/labels/fox_75eca023930e6336_jpg.rf.4cb500c563d8e861eea75290ef131895.txt  \n",
            "  inflating: animals/test/labels/fox_7711bf0bb1c814f7_jpg.rf.7b3f2b9a2b1acbef6ad1f88c8f1a5a03.txt  \n",
            "  inflating: animals/test/labels/fox_7d4f17503df3b71c_jpg.rf.fd39ff4adcb03691bb592758ba1648ea.txt  \n",
            "  inflating: animals/test/labels/fox_7e2d18f4620700b5_jpg.rf.9c3a5e45d6e25f0deedac8fc2677fc52.txt  \n",
            "  inflating: animals/test/labels/fox_8333c287adcdb146_jpg.rf.9ee8616b1aea2b2cf4dcc1bdd6ed079b.txt  \n",
            "  inflating: animals/test/labels/fox_878b17f125c211c4_jpg.rf.c8a239f50f37bc3eedaf8886b048465b.txt  \n",
            "  inflating: animals/test/labels/fox_8796d6b644d952b2_jpg.rf.ca08f088d94fc972182326e27922c439.txt  \n",
            "  inflating: animals/test/labels/fox_8d20d171daba7888_jpg.rf.16fb4fc26a1c07d1856d8dc6f6549472.txt  \n",
            "  inflating: animals/test/labels/fox_92013993df228010_jpg.rf.a2cce4b1ce83cffbfe200aa8be10a63d.txt  \n",
            "  inflating: animals/test/labels/fox_99e2b9f1a1d4aaa6_jpg.rf.376296b2c5ebbb653deb176805e3ed0e.txt  \n",
            "  inflating: animals/test/labels/fox_9a8dc30042428459_jpg.rf.4c91739d6de3ef986374993eace45c6f.txt  \n",
            "  inflating: animals/test/labels/fox_9c008573a2709c80_jpg.rf.ac9bdfb70bc08101f8a3a799a1f9e6d7.txt  \n",
            "  inflating: animals/test/labels/fox_9c61e50af3f69b55_jpg.rf.55d2b39f3bba07517169e325f89ff6fb.txt  \n",
            "  inflating: animals/test/labels/fox_a06949bbe7a44417_jpg.rf.a2557c685b4c49d75bb1abafc41cdebd.txt  \n",
            "  inflating: animals/test/labels/fox_a1ea23e061c6fb13_jpg.rf.25956e14918e7627a1ae5d4d1c83e9d2.txt  \n",
            "  inflating: animals/test/labels/fox_a5e2eac593f772a9_jpg.rf.18c698ffba5f2c7a679b504cd2b2861d.txt  \n",
            "  inflating: animals/test/labels/fox_ab84879ac0a11bcd_jpg.rf.a292181ce50d86c291527dad7414e284.txt  \n",
            "  inflating: animals/test/labels/fox_abf9ff0ed59f3159_jpg.rf.e82fc01e35167094aca01605e644eca6.txt  \n",
            "  inflating: animals/test/labels/fox_ae8a24bf47733d92_jpg.rf.de5cb9cee9f86eb21ad0ebcfbec23356.txt  \n",
            "  inflating: animals/test/labels/fox_b0cd451010d43b90_jpg.rf.dbcfffb6d2c62ec101a085025d21ec90.txt  \n",
            "  inflating: animals/test/labels/fox_b84c8973b98a26c8_jpg.rf.14443230234e127f1a1990172aa1e2fa.txt  \n",
            "  inflating: animals/test/labels/fox_bca1432f686a3d5b_jpg.rf.942a761c2ac9558aaee62b14efd69ce8.txt  \n",
            "  inflating: animals/test/labels/fox_bca1432f686a3d5b_jpg.rf.b0f1750ac2b0f1b58e70720c2e8916a0.txt  \n",
            "  inflating: animals/test/labels/fox_c025f3b1c622b0e7_jpg.rf.23e3cf4a17388469e9aaae09a9ec0366.txt  \n",
            "  inflating: animals/test/labels/fox_cb919df175ea0599_jpg.rf.6ae1faf6de404f3dea8229becc79db6f.txt  \n",
            "  inflating: animals/test/labels/fox_cd5466fc30b1d9a4_jpg.rf.e5dd8c9b3a211d5ae325517aff2ee743.txt  \n",
            "  inflating: animals/test/labels/fox_d34fd26c1d9f3a26_jpg.rf.fa0b4b15fb8b6ef6b52dd3163846abc1.txt  \n",
            "  inflating: animals/test/labels/fox_d351e60e32cbcfac_jpg.rf.15d891090b9a8d2bad4c620c20f8c794.txt  \n",
            "  inflating: animals/test/labels/fox_d441566778531e20_jpg.rf.9600df8532ab3378a251de47627659a3.txt  \n",
            "  inflating: animals/test/labels/fox_dce634cff55c3a6e_jpg.rf.9f72ba846cec1cdf1afa0c5e16209ed0.txt  \n",
            "  inflating: animals/test/labels/fox_e4a4bc2fe15e4bec_jpg.rf.ab4f203804d12347c76953b548063be8.txt  \n",
            "  inflating: animals/test/labels/fox_e4a4bc2fe15e4bec_jpg.rf.cd6c3fa9e911beda7d66e0d575cca8e1.txt  \n",
            "  inflating: animals/test/labels/fox_e7c762fda96cc725_jpg.rf.7ae65ca5105d4e2226832510ccc29312.txt  \n",
            "  inflating: animals/test/labels/fox_e8fe6dbc7620fd28_jpg.rf.500848c9c09d2c0279ea3976f80ce2d5.txt  \n",
            "  inflating: animals/test/labels/fox_ea7745d3092e03bf_jpg.rf.b1fac2724e277e69f0cc232a81e89747.txt  \n",
            "  inflating: animals/test/labels/fox_f1bd292f0de7284a_jpg.rf.c18b90ca61e512264cc4a74d5f63e2be.txt  \n",
            "  inflating: animals/test/labels/fox_f214eefbef46540b_jpg.rf.c5c9c8458f236f8a12df6935850af285.txt  \n",
            "  inflating: animals/test/labels/fox_f24228a0f4f78a35_jpg.rf.2165d5de3a415575f14911cdf72dd977.txt  \n",
            "  inflating: animals/test/labels/fox_f350fccdd5e05ab6_jpg.rf.711abf8cff1669a58c023dd8a5463cd4.txt  \n",
            "  inflating: animals/test/labels/fox_f6504157f669aeb3_jpg.rf.3ffcc11dee67b84f772bdb5390b14e7d.txt  \n",
            "  inflating: animals/test/labels/fox_ffaa7d8efdd5c1ab_jpg.rf.7adb4a0fd5c56cda7013cb888d5cf30e.txt  \n",
            "  inflating: animals/test/labels/owl_-_jpg.rf.05cebad3ca2776b76bcc3defb6c3fb18.txt  \n",
            "  inflating: animals/test/labels/owl_-_jpg.rf.86ea61f188290027107effb96da460a5.txt  \n",
            "  inflating: animals/test/labels/owl_0879f212895d657472281e3e6a23eac3_jpg.rf.ea84232922e9f62d5c74fd7cf7c3fd2d.txt  \n",
            "  inflating: animals/test/labels/owl_10406064125_b2a34e5fcd_z_jpg.rf.73f06f860bd5fe08bfd5dcbbf06513b7.txt  \n",
            "  inflating: animals/test/labels/owl_14511043871_74decdf9f6_z_jpg.rf.50f722ad7102c74ffcb5af798e3af6be.txt  \n",
            "  inflating: animals/test/labels/owl_14834155247_69731da8b8_z_jpg.rf.2c3f1967940e905b5531752bdb38c280.txt  \n",
            "  inflating: animals/test/labels/owl_14834155247_69731da8b8_z_jpg.rf.557be954485993d57f2ffe9c671e618f.txt  \n",
            "  inflating: animals/test/labels/owl_15244729149_93775a385f_z_jpg.rf.85218ff50267dd85554a5668e0eb6334.txt  \n",
            "  inflating: animals/test/labels/owl_15389530640_c767a054fe_z_jpg.rf.df1dc42241c919b0d6ce1561d2600601.txt  \n",
            "  inflating: animals/test/labels/owl_16239111625_60bd808fd8_z_jpg.rf.fc0b7f2612101f5001604c14d9a1f43f.txt  \n",
            "  inflating: animals/test/labels/owl_193318059_44bbbaa166_z_jpg.rf.07d81c3023d8f70fc569ded34a2c823c.txt  \n",
            "  inflating: animals/test/labels/owl_198327fc396ce2711daf977bb32e64cf-1-_jpg.rf.89a6ad8f7d9870ce6cb4b6291ab54dc9.txt  \n",
            "  inflating: animals/test/labels/owl_2598094838_25aeacb90a_z_jpg.rf.151eeda130a2e5d3c02a418535b264d7.txt  \n",
            "  inflating: animals/test/labels/owl_33f11f16-746b-4ea8-9860-9ccbdc887ef6_jpg.rf.e39a8618aa1ee0492c8802ffde8c3212.txt  \n",
            "  inflating: animals/test/labels/owl_3485459279_72dcb3186e_z_jpg.rf.b7bf12ac46a6a1c25db70b33848799e9.txt  \n",
            "  inflating: animals/test/labels/owl_3485459279_72dcb3186e_z_jpg.rf.f5e2b5b25843a1b246dbf83132ec0000.txt  \n",
            "  inflating: animals/test/labels/owl_4199729697_6d3da4b0ce_z_jpg.rf.e78e7ae60b3caf36e75117614bb20332.txt  \n",
            "  inflating: animals/test/labels/owl_4643954054_2558280401_z_jpg.rf.b64d6fbefedfa0a8d4d6b67f0fce1677.txt  \n",
            "  inflating: animals/test/labels/owl_533c0c9de15fee1f9e1b6b030733b300_jpg.rf.ad20cc1bbf0afa1c4e05bc902bb95aca.txt  \n",
            "  inflating: animals/test/labels/owl_5476874910_863b795ae3_z_jpg.rf.c8380c96b753a961e864a5ca29a415b4.txt  \n",
            "  inflating: animals/test/labels/owl_5635489370_ea8dfcef09_z_jpg.rf.cbda690f9a3c80f9d8b087cb7529f8b8.txt  \n",
            "  inflating: animals/test/labels/owl_5675315487_e81e837449_z_jpg.rf.b1236a508447b54d70041ecc187d3b31.txt  \n",
            "  inflating: animals/test/labels/owl_5680468015_482b2b0e7b_z_jpg.rf.98192e7aaf31478d191d382c22a30a11.txt  \n",
            "  inflating: animals/test/labels/owl_5705828272_7a5b6e112d_z-1-_jpg.rf.56d6161dc95861d21b05b180a0fe3801.txt  \n",
            "  inflating: animals/test/labels/owl_579573cfbc6c254e2a11f0ee1b0bb9e2_jpg.rf.a5fba06fa3ad86494ba7852d87eaae38.txt  \n",
            "  inflating: animals/test/labels/owl_5822511042_e53a973b31_z_jpg.rf.55b49e98053b18071eef0bd2ff202799.txt  \n",
            "  inflating: animals/test/labels/owl_5822511042_e53a973b31_z_jpg.rf.fe58509154c8adc61d40464b93807439.txt  \n",
            "  inflating: animals/test/labels/owl_585242c908be96b1167b7e8724761949_jpg.rf.b048a63c108fe4d7e4b4c71797b6b996.txt  \n",
            "  inflating: animals/test/labels/owl_6-000-Free-Burrowing-Owls-Owl-Images_jpg.rf.52cf89593aa1acb02e28ef3faea71737.txt  \n",
            "  inflating: animals/test/labels/owl_6019751668_d70f9ac863_z_jpg.rf.88d94b3cd3d568cccd7b757aab7c2e05.txt  \n",
            "  inflating: animals/test/labels/owl_64f0c2bdb18bb870ea3d1d8086d5b248_jpg.rf.94994d761b4eb684fb8b731520458d34.txt  \n",
            "  inflating: animals/test/labels/owl_6698771867_d2b78cd519_z_jpg.rf.f12c5b68216c0f68120b99f7f806c33c.txt  \n",
            "  inflating: animals/test/labels/owl_694478185_acf7776ed4_z_jpg.rf.fac9cb9c313bd55be5ec9514a8884e1b.txt  \n",
            "  inflating: animals/test/labels/owl_694481485_4f72527226_z_jpg.rf.b24e46dde9a40f2d9436a1b86e8e4b20.txt  \n",
            "  inflating: animals/test/labels/owl_697e366e3283a96a752845107f8eed71_jpg.rf.f535e8bb88f686d08a563d2df180541b.txt  \n",
            "  inflating: animals/test/labels/owl_7484430416_e90c090411_z_jpg.rf.04362536728b24ae3cc492fa78f7a901.txt  \n",
            "  inflating: animals/test/labels/owl_762531dda8f5f8e7fb5b7731becf405f_jpg.rf.73d71a19b212a693882eebdad4e0fbdc.txt  \n",
            "  inflating: animals/test/labels/owl_791ea355-cce4-4789-a827-1d00afd1d088_jpg.rf.a2fec45b4bf19b5c60c07746997f3459.txt  \n",
            "  inflating: animals/test/labels/owl_8528972610_4d0d24f664_z_jpg.rf.92cb50294c786731b7feab388a93c391.txt  \n",
            "  inflating: animals/test/labels/owl_89a0fcf2ee7594bf3bf096fe267d5164_jpg.rf.939ca7e322f2aa1ce790acf22d270664.txt  \n",
            "  inflating: animals/test/labels/owl_9569956753_ef206e167b_z_jpg.rf.a95b86f42fb01619f3e1a6038a3801ac.txt  \n",
            "  inflating: animals/test/labels/owl_9985955776_43d6f32cf2_z_jpg.rf.b180de16c9349a1794fae2fbcf6b3ae7.txt  \n",
            "  inflating: animals/test/labels/owl_a13e99915ba55a81565ae19fbd5d060c-1-_jpg.rf.a8de36febfc8440f9e74b8d0da260707.txt  \n",
            "  inflating: animals/test/labels/owl_ae59786d94f5a34a3d0ddcfaa6a9cd36_jpg.rf.15a0cc633752f876d87117203e18cac6.txt  \n",
            "  inflating: animals/test/labels/owl_A-Magnificent-Collection-of-Owl-Pictures-for-your-Inspiration-_-Naldz-Graphics_jpg.rf.9b4c422f97d07aa4d049ed8391c0be75.txt  \n",
            "  inflating: animals/test/labels/owl_b162aedc4878416767f67676eb4bbc1a_jpg.rf.06d28baad500cd965102799c8938c0b4.txt  \n",
            "  inflating: animals/test/labels/owl_b651dd2f-d969-4f1e-826d-3ba3d6aedcf5_jpg.rf.b729048e2a35b24149e32af514ba474b.txt  \n",
            "  inflating: animals/test/labels/owl_Barn-owls-are-mostly-known-for-their-heart-shaped-_jpg.rf.20a82ebb7adae79c546f965fec30de45.txt  \n",
            "  inflating: animals/test/labels/owl_Barred-Owl-Stare-by-Alex-Mody-He-looks-sad-_-_jpg.rf.5a5b122b00b5d476d196f1a2c470db15.txt  \n",
            "  inflating: animals/test/labels/owl_Burrowing-Owl_jpg.rf.ed40660618e5ea3c0ed4cfcf784ee5a1.txt  \n",
            "  inflating: animals/test/labels/owl_Burrowing-Owl-Athene-cunicularia-North-America_jpg.rf.55ebc694004283e8f32cce38d3eec6e7.txt  \n",
            "  inflating: animals/test/labels/owl_Burrowing-owl-pair-f22_jpg.rf.78ea78f28b7d2d101e53740ed2a25160.txt  \n",
            "  inflating: animals/test/labels/owl_Chestnut-backed-Owl_jpg.rf.156185e7c6bd0c65c6514012895bea16.txt  \n",
            "  inflating: animals/test/labels/owl_Chestnut-backed-Owl_jpg.rf.bc37f1acb5b1ad3716b390c858fec2be.txt  \n",
            "  inflating: animals/test/labels/owl_ef56409e-38b0-404f-a858-aa62332c7610_jpg.rf.be13e0d506bad119505a01506ff5c0e4.txt  \n",
            "  inflating: animals/test/labels/owl_f1e3a008267c29b2b02cf61326968c2d_jpg.rf.9ad9515921ea81122dd9443b33eccd23.txt  \n",
            "  inflating: animals/test/labels/owl_f5d3b089-79d7-4a65-a551-a183066198ab_jpg.rf.e12ddda24bb56515b12d9bc228f6e6fb.txt  \n",
            "  inflating: animals/test/labels/owl_Family-of-owls-_jpg.rf.e645edf3bd3c227a1c06ad6d75424bee.txt  \n",
            "  inflating: animals/test/labels/owl_free-photo-of-burrowing-owl-perched-in-tarapaca-desert_jpeg.rf.23f691c2aeef4ace2b6fbe23be7bf499.txt  \n",
            "  inflating: animals/test/labels/owl_free-photo-of-close-up-of-an-owl_jpg.rf.d876d3f8b46135b646d6384ecac4dc08.txt  \n",
            "  inflating: animals/test/labels/owl_free-photo-of-close-up-of-brown-fish-owl_jpeg.rf.7e8f260fedcca4409768bfcd0ff0ddb2.txt  \n",
            "  inflating: animals/test/labels/owl_free-photo-of-great-horned-owl-resting-on-branch-in-new-york_jpeg.rf.cadd912ba06524dbf4929d327233c6f5.txt  \n",
            "  inflating: animals/test/labels/owl_free-photo-of-long-eared-owl-perched-on-tree-branch-in-winter_jpeg.rf.a2bab6d926009444ccfaa0c01a9aa53b.txt  \n",
            "  inflating: animals/test/labels/owl_free-photo-of-owl-in-a-forest_jpeg.rf.23a496212ca6043fc9a5739367e52201.txt  \n",
            "  inflating: animals/test/labels/owl_images-2-_jpg.rf.76d71ff1bd22c788630e9a641449b71d.txt  \n",
            "  inflating: animals/test/labels/owl_images-20-_jpg.rf.e72d7715d0678ab14ee6acb3f0fa011b.txt  \n",
            "  inflating: animals/test/labels/owl_images-43-_jpg.rf.48b8eea36cf2870094c7b9fbe24e96e1.txt  \n",
            "  inflating: animals/test/labels/owl_images-51-_jpg.rf.3a178c3cc6aca4280fc07664acdf67b3.txt  \n",
            " extracting: animals/test/labels/owl_images-53-_jpg.rf.7e16101ee747c5eb5bf093308eef9a3d.txt  \n",
            "  inflating: animals/test/labels/owl_images-64-_jpg.rf.b8a6c84f7666ba3f212263ab477c81f7.txt  \n",
            "  inflating: animals/test/labels/owl_images-64-_jpg.rf.eac3181d29193c8245765e059b1437a3.txt  \n",
            "  inflating: animals/test/labels/owl_images-66-_jpg.rf.6488406380f1eb502e260a50d0ca1702.txt  \n",
            "  inflating: animals/test/labels/owl_images-69-_jpg.rf.190b482e4015ed529bdc1732bc6168bd.txt  \n",
            "  inflating: animals/test/labels/owl_images-7-_jpg.rf.7e6ea3d8719ed257f5a6cbc6a71985a9.txt  \n",
            "  inflating: animals/test/labels/owl_images-70-_jpg.rf.0f2cff12e95d47d28a662319c76f4271.txt  \n",
            "  inflating: animals/test/labels/owl_images-71-_jpg.rf.26bccec8a8fbf014377ee3ba02f64e97.txt  \n",
            "  inflating: animals/test/labels/owl_images-82-_jpg.rf.3810ca025aa08fa627b47f1ebdcd9a23.txt  \n",
            "  inflating: animals/test/labels/owl_images-84-_jpg.rf.f71c52b70badcda37dcd59bc7c36fb89.txt  \n",
            "  inflating: animals/test/labels/owl_images-86-_jpg.rf.fb9013d6dc94b67e6eae63e953f86195.txt  \n",
            "  inflating: animals/test/labels/owl_Owl-1-_jpg.rf.35be5c3aca7a597cb2317c751c8ee363.txt  \n",
            "  inflating: animals/test/labels/owl_Owl-2-_jpg.rf.c1931d846ef109c1d7ee55ee9c954339.txt  \n",
            "  inflating: animals/test/labels/owl_owl-from-raptor-show_jpg.rf.af846438871c08d30f8d020c61f76bf7.txt  \n",
            "  inflating: animals/test/labels/owl_owl-from-raptor-show_jpg.rf.bcea9e4dd2db2d1ce57674e6dc1456ec.txt  \n",
            "  inflating: animals/test/labels/owl_owls__jpg.rf.e386baa2636bdffd83ecf575a762a9f6.txt  \n",
            "  inflating: animals/test/labels/owl_Owls-1-_jpg.rf.968b7f7bdea7dc4576aa9f15ccdcf286.txt  \n",
            "  inflating: animals/test/labels/owl_pexels-photo-12232364_jpeg.rf.23e0276fd768af444fcb1b7cc72e41fc.txt  \n",
            "  inflating: animals/test/labels/owl_pexels-photo-1526402_jpeg.rf.aec6365ff1e59c6086dd4bef784e6e8a.txt  \n",
            "  inflating: animals/test/labels/owl_pexels-photo-1526404_webp.rf.2df3206c173c71e0d84fbe3233ade60f.txt  \n",
            "  inflating: animals/test/labels/owl_pexels-photo-1745352_webp.rf.d46e3b4e938262347ca783ab31172fd6.txt  \n",
            "  inflating: animals/test/labels/owl_pexels-photo-18683300_webp.rf.17b481ae6c2e260754e1c85c0987c6d3.txt  \n",
            "  inflating: animals/test/labels/owl_pexels-photo-18683304_webp.rf.d8caffb73e5b19d15f8fb115700e2da6.txt  \n",
            "  inflating: animals/test/labels/owl_pexels-photo-2022648_jpeg.rf.40aa6718c48b118eb41129db5e78e796.txt  \n",
            "  inflating: animals/test/labels/owl_pexels-photo-2024983_webp.rf.8c689fc8a694c0538bbd15a1feea54c8.txt  \n",
            "  inflating: animals/test/labels/owl_pexels-photo-206676_jpeg.rf.8d602d92bd9443b1afe82088e46441b6.txt  \n",
            "  inflating: animals/test/labels/owl_pexels-photo-2115984_jpeg.rf.2ca54ed75aeed2d60d469cf2bfe54735.txt  \n",
            "  inflating: animals/test/labels/owl_pexels-photo-30048339_webp.rf.7fb7bb4cb9f0eb4277a6a452f09e9ac5.txt  \n",
            "  inflating: animals/test/labels/owl_pexels-photo-3622695_webp.rf.f1471ca8327b3de6d9c2c075c74acb5b.txt  \n",
            "  inflating: animals/test/labels/owl_Right-Side-Up_jpg.rf.523be349573703bb2b8a6f30d973b14b.txt  \n",
            "  inflating: animals/test/labels/owl_Right-Side-Up_jpg.rf.cdb7578f2767e09ecfd6f5a2b0ac2434.txt  \n",
            "  inflating: animals/test/labels/owl_TAWNY-OWL-1-_jpg.rf.422b0f8545f4c43704cf78252b935d43.txt  \n",
            "  inflating: animals/test/labels/raccoon_raccoon-1_jpg.rf.204a4069190472dfd9fc75418f1f3642.txt  \n",
            "  inflating: animals/test/labels/raccoon_raccoon-103_jpg.rf.e085f5dca1d534af74e69b10ec507627.txt  \n",
            "  inflating: animals/test/labels/raccoon_raccoon-104_jpg.rf.3654ef3775c12d69afb4912329b9ae55.txt  \n",
            "  inflating: animals/test/labels/raccoon_raccoon-108_jpg.rf.53c1b78ddf8030e694ab38fed41ea3ba.txt  \n",
            "  inflating: animals/test/labels/raccoon_raccoon-108_jpg.rf.63afe382d1bba63f7ce17b9e1a1839bf.txt  \n",
            "  inflating: animals/test/labels/raccoon_raccoon-109_jpg.rf.175f3f73e4f15cef6db106d4034322e6.txt  \n",
            "  inflating: animals/test/labels/raccoon_raccoon-109_jpg.rf.55590ff8751ad1bf2874d8568c9f5f67.txt  \n",
            "  inflating: animals/test/labels/raccoon_raccoon-11_jpg.rf.17ea225bba2a4335102c0cec6afaca52.txt  \n",
            "  inflating: animals/test/labels/raccoon_raccoon-11_jpg.rf.c0403e32d9ff850a49f3487927405657.txt  \n",
            "  inflating: animals/test/labels/raccoon_raccoon-110_jpg.rf.707d2477cf970953f51bf224ae704fc6.txt  \n",
            "  inflating: animals/test/labels/raccoon_raccoon-110_jpg.rf.d4958e33560917e3e0494605157e37c9.txt  \n",
            "  inflating: animals/test/labels/raccoon_raccoon-111_jpg.rf.a89457d6b06368c89a7de52ba26d6337.txt  \n",
            "  inflating: animals/test/labels/raccoon_raccoon-114_jpg.rf.815a2d86a613c85964b33f9da89bd9b9.txt  \n",
            "  inflating: animals/test/labels/raccoon_raccoon-115_jpg.rf.4a76428a425c76190eb78772c3f94d36.txt  \n",
            "  inflating: animals/test/labels/raccoon_raccoon-117_jpg.rf.c686ff10d32d971fe44004b72e919c05.txt  \n",
            "  inflating: animals/test/labels/raccoon_raccoon-118_jpg.rf.6bee729d3df8beec5fb8db4dd8eabbb8.txt  \n",
            "  inflating: animals/test/labels/raccoon_raccoon-119_jpg.rf.104f16153276fc0bc88060712018a164.txt  \n",
            "  inflating: animals/test/labels/raccoon_raccoon-119_jpg.rf.63225bd5e979646f12b23573abc06350.txt  \n",
            "  inflating: animals/test/labels/raccoon_raccoon-12_jpg.rf.190803300ca93bc7641ab23c797e9343.txt  \n",
            "  inflating: animals/test/labels/raccoon_raccoon-12_jpg.rf.c618bc74163d9b05861a274577b53980.txt  \n",
            "  inflating: animals/test/labels/raccoon_raccoon-125_jpg.rf.1d445d3eb163533cd7794fb19385d652.txt  \n",
            "  inflating: animals/test/labels/raccoon_raccoon-126_jpg.rf.ee1d7b674bbe31c34669b005d91e85b5.txt  \n",
            "  inflating: animals/test/labels/raccoon_raccoon-127_jpg.rf.200c4181c922be3da35e1473c4b87cdc.txt  \n",
            "  inflating: animals/test/labels/raccoon_raccoon-13_jpg.rf.b32d2a439cab88aafad56978fda5ce2e.txt  \n",
            "  inflating: animals/test/labels/raccoon_raccoon-131_jpg.rf.0683e07ffdbf0ba8d793d1a5f52e5409.txt  \n",
            "  inflating: animals/test/labels/raccoon_raccoon-133_jpg.rf.4846c264eed9ee56dbf1e9f333a808d3.txt  \n",
            "  inflating: animals/test/labels/raccoon_raccoon-135_jpg.rf.54ce24223c026f64deb70a976c25a1ce.txt  \n",
            "  inflating: animals/test/labels/raccoon_raccoon-136_jpg.rf.4b93085e70d69dc2c5d11c6f52be27cf.txt  \n",
            "  inflating: animals/test/labels/raccoon_raccoon-138_jpg.rf.b9fe6ccb49cded86f94928d5a4a99285.txt  \n",
            "  inflating: animals/test/labels/raccoon_raccoon-14_jpg.rf.6e13e55b120977e2d88fe5a935a178b6.txt  \n",
            "  inflating: animals/test/labels/raccoon_raccoon-141_jpg.rf.1dcb34905c78c171225dc2ff888808a3.txt  \n",
            "  inflating: animals/test/labels/raccoon_raccoon-141_jpg.rf.8d88fa7e0d6ebc3d676b7cb25a5ea73a.txt  \n",
            "  inflating: animals/test/labels/raccoon_raccoon-142_jpg.rf.e9cdf42030e2502c5c4d0e199460569d.txt  \n",
            "  inflating: animals/test/labels/raccoon_raccoon-144_jpg.rf.1ccf17ef3b300e479206de5f83784a87.txt  \n",
            "  inflating: animals/test/labels/raccoon_raccoon-145_jpg.rf.2cd1d3581af4696ed3cd232ca5e90b34.txt  \n",
            "  inflating: animals/test/labels/raccoon_raccoon-145_jpg.rf.e11d81ab30f726933df042367055c112.txt  \n",
            "  inflating: animals/test/labels/raccoon_raccoon-146_jpg.rf.01f8ee8a7e6217bfc917688e3648905d.txt  \n",
            "  inflating: animals/test/labels/raccoon_raccoon-147_jpg.rf.a82fdb4318a9478e998520e96de139de.txt  \n",
            "  inflating: animals/test/labels/raccoon_raccoon-148_jpg.rf.f086d6e8c8794c5f0d0e9119b901561d.txt  \n",
            "  inflating: animals/test/labels/raccoon_raccoon-15_jpg.rf.195c6a2fb42f42512cad779cafbf787b.txt  \n",
            "  inflating: animals/test/labels/raccoon_raccoon-150_jpg.rf.6331e51cd14bd754bc23fab8f2cec1c6.txt  \n",
            "  inflating: animals/test/labels/raccoon_raccoon-154_jpg.rf.28dcd4fe715cc80b305a869c4d75e360.txt  \n",
            "  inflating: animals/test/labels/raccoon_raccoon-156_jpg.rf.53f67754ca951a0a34abd5c67f0edcaa.txt  \n",
            "  inflating: animals/test/labels/raccoon_raccoon-157_jpg.rf.287be1a85d408571e0c7284536f77a79.txt  \n",
            "  inflating: animals/test/labels/raccoon_raccoon-159_jpg.rf.69cce2774f4d22a817e686e72fc59f71.txt  \n",
            "  inflating: animals/test/labels/raccoon_raccoon-16_jpg.rf.c0dbcdc547b4403b2b11238564f7f7df.txt  \n",
            "  inflating: animals/test/labels/raccoon_raccoon-162_jpg.rf.0dc6b547fe2d45dabf58c3bb4672e53b.txt  \n",
            "  inflating: animals/test/labels/raccoon_raccoon-163_jpg.rf.64ca6fbd6705ce828d950b827b53a6d9.txt  \n",
            "  inflating: animals/test/labels/raccoon_raccoon-163_jpg.rf.e7950bdd2f6f3c93b3a59f5c8465c468.txt  \n",
            "  inflating: animals/test/labels/raccoon_raccoon-169_jpg.rf.4d0644066c309ec3536736bdf3c55436.txt  \n",
            "  inflating: animals/test/labels/raccoon_raccoon-170_jpg.rf.facaf89e635ac27b0b49e088b521a626.txt  \n",
            "  inflating: animals/test/labels/raccoon_raccoon-171_jpg.rf.de95f2486d83c144109044ff36cbdbd0.txt  \n",
            "  inflating: animals/test/labels/raccoon_raccoon-172_jpg.rf.b365bba8477d4652d3727d5a9d3b910f.txt  \n",
            "  inflating: animals/test/labels/raccoon_raccoon-173_jpg.rf.21a29ccdc9bc4f9d747b06e7ed1402b5.txt  \n",
            "  inflating: animals/test/labels/raccoon_raccoon-176_jpg.rf.38912ecb3777f72ac3e1d30302c918d4.txt  \n",
            "  inflating: animals/test/labels/raccoon_raccoon-178_jpg.rf.2d43c1bf2f5bfb51d86e8839e74ada0c.txt  \n",
            "  inflating: animals/test/labels/raccoon_raccoon-179_jpg.rf.1a743804b422024c0ce80dac0f50008b.txt  \n",
            "  inflating: animals/test/labels/raccoon_raccoon-18_jpg.rf.9a43c1b3c451f669e2a775f4b6ede8e9.txt  \n",
            "  inflating: animals/test/labels/raccoon_raccoon-18_jpg.rf.feb9debeabe9db1f5aeb61e0fdbbe1ac.txt  \n",
            "  inflating: animals/test/labels/raccoon_raccoon-185_jpg.rf.5fa2b594fea737fb17393151f6d34d06.txt  \n",
            "  inflating: animals/test/labels/raccoon_raccoon-185_jpg.rf.a65405f4bb2da17762b8afd4dd422fe6.txt  \n",
            "  inflating: animals/test/labels/raccoon_raccoon-192_jpg.rf.c6df37eefe520cbba103dada39f10988.txt  \n",
            "  inflating: animals/test/labels/raccoon_raccoon-193_jpg.rf.ecec16d7c840368adea6339f2fe7334e.txt  \n",
            "  inflating: animals/test/labels/raccoon_raccoon-193_jpg.rf.eebf411a5e8decf459d3367eb4abfe9b.txt  \n",
            "  inflating: animals/test/labels/raccoon_raccoon-196_jpg.rf.05c48653672b7de6245ed900499c8e38.txt  \n",
            "  inflating: animals/test/labels/raccoon_raccoon-196_jpg.rf.ab69f1f89d83e167cf678221f9c5c768.txt  \n",
            "  inflating: animals/test/labels/raccoon_raccoon-198_jpg.rf.03f7d72f0d47c3635be9edc690c180af.txt  \n",
            "  inflating: animals/test/labels/raccoon_raccoon-198_jpg.rf.c06753f596c7660624003a1f8b3164dc.txt  \n",
            "  inflating: animals/test/labels/raccoon_raccoon-199_jpg.rf.7c30d4c90ef71345b8a6d90e41f0427c.txt  \n",
            "  inflating: animals/test/labels/raccoon_raccoon-21_jpg.rf.ea2af7719acc5df88021de2d47b7b804.txt  \n",
            "  inflating: animals/test/labels/raccoon_raccoon-23_jpg.rf.83d2c40148df4f09efd54d847ec51586.txt  \n",
            "  inflating: animals/test/labels/raccoon_raccoon-25_jpg.rf.5c5476b51bab31ce943e4747eeda8b86.txt  \n",
            "  inflating: animals/test/labels/raccoon_raccoon-25_jpg.rf.ceb2403d41fe4d7945c69468b5138b23.txt  \n",
            "  inflating: animals/test/labels/raccoon_raccoon-25_jpg.rf.ee9ef14e15b4eb6427c4853eb07c1970.txt  \n",
            "  inflating: animals/test/labels/raccoon_raccoon-26_jpg.rf.a0f3888e5a5a1c57abf8303f0f86fffe.txt  \n",
            "  inflating: animals/test/labels/raccoon_raccoon-28_jpg.rf.da59ae68c6123284861ebb95acd75ede.txt  \n",
            "  inflating: animals/test/labels/raccoon_raccoon-34_jpg.rf.3c07249105168a4ccf1017dced900d36.txt  \n",
            "  inflating: animals/test/labels/raccoon_raccoon-34_jpg.rf.d1c2b89504ff4b7947e1fcf1be1952a6.txt  \n",
            "  inflating: animals/test/labels/raccoon_raccoon-34_jpg.rf.e66df2a12a0c7328ae20cf69974c770f.txt  \n",
            "  inflating: animals/test/labels/raccoon_raccoon-36_jpg.rf.924ca5983cec3a817e2c5c803eecab96.txt  \n",
            "  inflating: animals/test/labels/raccoon_raccoon-38_jpg.rf.7655fc14fc3961a3f21cced760d322bf.txt  \n",
            "  inflating: animals/test/labels/raccoon_raccoon-39_jpg.rf.f7b7bd325f3f48d641aa1bf282bffe6c.txt  \n",
            "  inflating: animals/test/labels/raccoon_raccoon-49_jpg.rf.ca5dc346811c26810622e1c8bf430f16.txt  \n",
            "  inflating: animals/test/labels/raccoon_raccoon-5_jpg.rf.f67baa0b5f5429a3e22075d4c6e86e5f.txt  \n",
            "  inflating: animals/test/labels/raccoon_raccoon-53_jpg.rf.faf40e07b8a71530c5df4e99d9a28d99.txt  \n",
            "  inflating: animals/test/labels/raccoon_raccoon-54_jpg.rf.1bd0e3401784da105619b267c24f99d1.txt  \n",
            "  inflating: animals/test/labels/raccoon_raccoon-54_jpg.rf.6b0e359ba707215acd57e694aeee0713.txt  \n",
            "  inflating: animals/test/labels/raccoon_raccoon-54_jpg.rf.dd9dc8fa8de3141ae0548554208ecaca.txt  \n",
            "  inflating: animals/test/labels/raccoon_raccoon-56_jpg.rf.671c12bc9f5394e999c9a24ae3ac6ea3.txt  \n",
            "  inflating: animals/test/labels/raccoon_raccoon-56_jpg.rf.f995622c53fcf3e9d6e245b8834efc48.txt  \n",
            "  inflating: animals/test/labels/raccoon_raccoon-58_jpg.rf.151a28c7f39954605662714e6b0e13cf.txt  \n",
            "  inflating: animals/test/labels/raccoon_raccoon-69_jpg.rf.3ba8ad211145ceef04b9caaa485eaeb7.txt  \n",
            "  inflating: animals/test/labels/raccoon_raccoon-69_jpg.rf.5411fd2d0c8bb4cbbfa0a151e589e04c.txt  \n",
            "  inflating: animals/test/labels/raccoon_raccoon-71_jpg.rf.bbff3e3165235239d8d3feb158950de4.txt  \n",
            "  inflating: animals/test/labels/raccoon_raccoon-71_jpg.rf.c462527ccad96415107e501c25b4b486.txt  \n",
            "  inflating: animals/test/labels/raccoon_raccoon-72_jpg.rf.fdbb4a4a12bdb304a0b650070c5fd0bb.txt  \n",
            "  inflating: animals/test/labels/raccoon_raccoon-78_jpg.rf.676ae39f00eb9e551b04837a7d201810.txt  \n",
            "  inflating: animals/test/labels/raccoon_raccoon-80_jpg.rf.fb6cc625199f620a0a812dd5f56fefa0.txt  \n",
            "  inflating: animals/test/labels/raccoon_raccoon-91_jpg.rf.f9d1547d0f1dd89ca0913822190d2c09.txt  \n",
            "  inflating: animals/test/labels/raccoon_raccoon-92_jpg.rf.f583c5184744ae2047d7e41dd7258fe9.txt  \n",
            "   creating: animals/train/\n",
            "   creating: animals/train/images/\n",
            "  inflating: animals/train/images/fox_0012bf34ebf62477_jpg.rf.263f4aecaf3627ef5f1af40453481e34.jpg  \n",
            "  inflating: animals/train/images/fox_0115391778aeca25_jpg.rf.8b5226d329678787d67f9737c97a19b6.jpg  \n",
            "  inflating: animals/train/images/fox_02f00ed4b7f30b9e_jpg.rf.d5690a32a8137fdfd5b5855a37728e0b.jpg  \n",
            "  inflating: animals/train/images/fox_04ecdd9f6a53f0a4_jpg.rf.81a85e6bad078c1afc0f3b93519f4824.jpg  \n",
            "  inflating: animals/train/images/fox_06dcda7babea0933_jpg.rf.6a0e2e6df773e525e472f2933529b6a0.jpg  \n",
            "  inflating: animals/train/images/fox_070bfd68a9843dfa_jpg.rf.f40f0d4237c5c1bd5fcb82e5bfc0caae.jpg  \n",
            "  inflating: animals/train/images/fox_07f3d4e408b6e982_jpg.rf.a31519770a5f3dda9929b315cc86f07c.jpg  \n",
            "  inflating: animals/train/images/fox_1217b6d7a1486677_jpg.rf.5f00f1c007c52a19b60e3e7d609f8239.jpg  \n",
            "  inflating: animals/train/images/fox_1267d3c852be7c92_jpg.rf.e76b3433a6652ee87ae6aa3c8ef13f52.jpg  \n",
            "  inflating: animals/train/images/fox_14173f913cb67d86_jpg.rf.82ccdd53808a8d6a4a567f486d606a5c.jpg  \n",
            "  inflating: animals/train/images/fox_16b8ea1481ece5d8_jpg.rf.687a86514844974cf85ff12547ea0107.jpg  \n",
            "  inflating: animals/train/images/fox_184befd4b73ae102_jpg.rf.8cd73031d7fd51b25395cd64963d9f97.jpg  \n",
            "  inflating: animals/train/images/fox_18608880b21f9a3e_jpg.rf.a62de7b512a9e5cc73c16ac044010071.jpg  \n",
            "  inflating: animals/train/images/fox_1a2fc7eb16d91912_jpg.rf.0f94bcca839974d3d8bdfa18ea5f7035.jpg  \n",
            "  inflating: animals/train/images/fox_1a87fe9093fa9fbb_jpg.rf.20a1be9eae7f529416ab2c47b05b8124.jpg  \n",
            "  inflating: animals/train/images/fox_232c2f188334d1c6_jpg.rf.a7cb3640e208292b8cd2b01b523a4a56.jpg  \n",
            "  inflating: animals/train/images/fox_235d865e269490b3_jpg.rf.9080b927725f1ee9410b29d4b7b718f3.jpg  \n",
            "  inflating: animals/train/images/fox_25c22693e8a11e24_jpg.rf.2da7e052c55dd9bf2cc7f2899fe910b7.jpg  \n",
            "  inflating: animals/train/images/fox_28224ae7384fdc49_jpg.rf.6a50778ae37490fa5be3b46f42865710.jpg  \n",
            "  inflating: animals/train/images/fox_2948e6aa939c362e_jpg.rf.de12ea977df99105e5d3280b7662cfcc.jpg  \n",
            "  inflating: animals/train/images/fox_29da2d5c4c972600_jpg.rf.3f102a71bb2a1cc555fa56b31d98c847.jpg  \n",
            "  inflating: animals/train/images/fox_2a48124e72e6f5cd_jpg.rf.51a068a94e8e9df5f327df48c4a9a908.jpg  \n",
            "  inflating: animals/train/images/fox_2a48124e72e6f5cd_jpg.rf.6696f008a837aec56aab17c069007fb3.jpg  \n",
            "  inflating: animals/train/images/fox_2f087ffd80b4aa50_jpg.rf.4e746883f8528400014110a49b58be77.jpg  \n",
            "  inflating: animals/train/images/fox_30e6f58610a32210_jpg.rf.08e1c4acf6d1f84d3b5a1d4f14333523.jpg  \n",
            "  inflating: animals/train/images/fox_317eb95a6964b8a1_jpg.rf.3c53a2dd7958d0c09d7ef4b98db28978.jpg  \n",
            "  inflating: animals/train/images/fox_317eb95a6964b8a1_jpg.rf.abd8ad79e6044c139f08829e98ec89e8.jpg  \n",
            "  inflating: animals/train/images/fox_3207fb3bde6c052e_jpg.rf.b4d6ed124c3f5f2d76a57e34507218b6.jpg  \n",
            "  inflating: animals/train/images/fox_355c229fdc284c69_jpg.rf.91b4bf278107ec97df53d9df41b4dff6.jpg  \n",
            "  inflating: animals/train/images/fox_35d3a768d1d14056_jpg.rf.c1ed62851672bbc051c5027288492ae0.jpg  \n",
            "  inflating: animals/train/images/fox_3803dc414d8a478e_jpg.rf.b01c6bd56c053f363a06c9284dcce098.jpg  \n",
            "  inflating: animals/train/images/fox_393d668002badb17_jpg.rf.d536275379f5f27e9d04daf0776526be.jpg  \n",
            "  inflating: animals/train/images/fox_3af7d8df82136987_jpg.rf.e10ae832e21250898b415ab651530ecc.jpg  \n",
            "  inflating: animals/train/images/fox_3cbd972d19b872ad_jpg.rf.3cae3527a0d9462f0bda78eebfe8811a.jpg  \n",
            "  inflating: animals/train/images/fox_3eae2264618c62f6_jpg.rf.210ef78580affd6a4d4e661224a35644.jpg  \n",
            "  inflating: animals/train/images/fox_3fd267367de755ba_jpg.rf.897717bf12e67206f5362453b671a7ac.jpg  \n",
            "  inflating: animals/train/images/fox_40865c7aeb800acb_jpg.rf.b869fcbeae3afe702d897ffa14057937.jpg  \n",
            "  inflating: animals/train/images/fox_4b30409e41c31af2_jpg.rf.2bd5630eeef6b2a922fa1995e9ed77a4.jpg  \n",
            "  inflating: animals/train/images/fox_4c2edfd1dfd41d93_jpg.rf.e250e9840a2ecd85f6043ed4be9c1835.jpg  \n",
            "  inflating: animals/train/images/fox_4e7dab915dfbfb79_jpg.rf.03480cf56fcb24da8099d425eea54465.jpg  \n",
            "  inflating: animals/train/images/fox_51bf53620b5d4ff2_jpg.rf.a2a1aa7b6c5b816910fd1949cda61e79.jpg  \n",
            "  inflating: animals/train/images/fox_58476265ecb12139_jpg.rf.f5f13d8a44720ad9d47e5a4d2cb63552.jpg  \n",
            "  inflating: animals/train/images/fox_5b6e21abca53a707_jpg.rf.7ecab3afff718fd0364f9bd3df9d5f8c.jpg  \n",
            "  inflating: animals/train/images/fox_5f79c7a8b822d883_jpg.rf.7b7b22db42566420f246b1d895915576.jpg  \n",
            "  inflating: animals/train/images/fox_66865eed993ff937_jpg.rf.633f608279d7514ce44d2626566244b8.jpg  \n",
            "  inflating: animals/train/images/fox_6f6d0d179449d0b0_jpg.rf.4d125336fb1c1db9e6c0824d088879de.jpg  \n",
            "  inflating: animals/train/images/fox_72dbe6d4e88ea4f6_jpg.rf.ca0e410cbb73e515728efa755ec91515.jpg  \n",
            "  inflating: animals/train/images/fox_75eca023930e6336_jpg.rf.548c490420785dbbbff9d036ff7a0538.jpg  \n",
            "  inflating: animals/train/images/fox_7b8ea15cf9f77149_jpg.rf.68989e0a40ea2bbcebcc7d102cdc1484.jpg  \n",
            "  inflating: animals/train/images/fox_7e2d18f4620700b5_jpg.rf.52f5a5219795d506ba11aef1efc87d6c.jpg  \n",
            "  inflating: animals/train/images/fox_7fdaa14e4e93fccc_jpg.rf.09499dd483a0c0c3f00606fea4ece0a9.jpg  \n",
            "  inflating: animals/train/images/fox_81a4d8c2d353ebe8_jpg.rf.0c8703480d89fee2d8e656ea4a2eacc0.jpg  \n",
            "  inflating: animals/train/images/fox_8300d92bbfafe9a2_jpg.rf.3a0331dfa1beb6fb7438f59d2af474de.jpg  \n",
            "  inflating: animals/train/images/fox_8396d86b907c2330_jpg.rf.3acefb053a7aa613b14abeb73dc8b765.jpg  \n",
            "  inflating: animals/train/images/fox_84b4b4e8579f9f96_jpg.rf.c19a5a40d0892dcddd5400953dd0d1ad.jpg  \n",
            "  inflating: animals/train/images/fox_884e02720d562247_jpg.rf.fadaf9f17d96b8b7ea3c2f3b124ad228.jpg  \n",
            "  inflating: animals/train/images/fox_8894cd06821d18f0_jpg.rf.19b96618193deb26a12bdbedadbe18d2.jpg  \n",
            "  inflating: animals/train/images/fox_8b3a044770d9603b_jpg.rf.7c6fd001326fb47148674c45ed1bfb35.jpg  \n",
            "  inflating: animals/train/images/fox_8b659990aec01ec3_jpg.rf.0a3cfbda4b060ff2400f37d634b7f011.jpg  \n",
            "  inflating: animals/train/images/fox_8bc441f926d75177_jpg.rf.cf9d5d8b8d183cfe53d02e62ba8301e0.jpg  \n",
            "  inflating: animals/train/images/fox_8c40569e126945f2_jpg.rf.9547abb37f037fb38bb46809f1eb67ea.jpg  \n",
            "  inflating: animals/train/images/fox_8e5d61fcdefb7295_jpg.rf.22152061d1c36009f2a46227bf600578.jpg  \n",
            "  inflating: animals/train/images/fox_90ada49e947a895c_jpg.rf.68df16d10e71bfe87cea79a5278f3d3f.jpg  \n",
            "  inflating: animals/train/images/fox_93598c20794cfcbf_jpg.rf.e26d9a5f6cbf85076a23deb07b0df3ee.jpg  \n",
            "  inflating: animals/train/images/fox_96ea7863c4b54b65_jpg.rf.a666df838ac511d8e28f40aeefa32b85.jpg  \n",
            "  inflating: animals/train/images/fox_9bd413c9d65be37c_jpg.rf.6c6cf225bf6fbb74fff031b594d5dc65.jpg  \n",
            "  inflating: animals/train/images/fox_a09301ec3ab242a9_jpg.rf.3bd3135f9306f7e178bb18f8680e7277.jpg  \n",
            "  inflating: animals/train/images/fox_a33160cd0a212150_jpg.rf.30b69bd785dcb57e6859c7dd3e9e3652.jpg  \n",
            "  inflating: animals/train/images/fox_a9ffd082c1ad25e2_jpg.rf.685b6617116077db7d4182199fd91f48.jpg  \n",
            "  inflating: animals/train/images/fox_aba549c6232679d7_jpg.rf.d254678cb9d1a36ff339866c5def4328.jpg  \n",
            "  inflating: animals/train/images/fox_b054ab01400d4408_jpg.rf.6d470a2edfe895a3ef21d68360f1c4d7.jpg  \n",
            "  inflating: animals/train/images/fox_b2bbcde1abeb72dd_jpg.rf.6462b4c540679f9f31598b053b6cbda7.jpg  \n",
            "  inflating: animals/train/images/fox_b4513c3429dab939_jpg.rf.8920db7d5fd1096851002a1b51cb1374.jpg  \n",
            "  inflating: animals/train/images/fox_b5d30432592cea10_jpg.rf.fd3f151c1d9ab994df7630252f39cbda.jpg  \n",
            "  inflating: animals/train/images/fox_baec991a1b5a93e4_jpg.rf.18b8f6b807cbc402c2fcb8b9453ce3c9.jpg  \n",
            "  inflating: animals/train/images/fox_baec991a1b5a93e4_jpg.rf.5849adf12a7ffca7d5742b24ae210b83.jpg  \n",
            "  inflating: animals/train/images/fox_c2041fdbc65ae3c7_jpg.rf.6375bc31ba019efa9f90a2384981356a.jpg  \n",
            "  inflating: animals/train/images/fox_c2b072808734745f_jpg.rf.5c9a1086206490cddd1fb7f72745a567.jpg  \n",
            "  inflating: animals/train/images/fox_c2dc45ffe5523b68_jpg.rf.0c85a20c24e48a6c6eddb7e12f711e16.jpg  \n",
            "  inflating: animals/train/images/fox_c89ed4c7e791cb1a_jpg.rf.69993c57633980b11170518e6c4a5b13.jpg  \n",
            "  inflating: animals/train/images/fox_cca59d41f113061b_jpg.rf.a052f159b06be3dcae58e4b6d6474a75.jpg  \n",
            "  inflating: animals/train/images/fox_cf1ba4a98ac6f905_jpg.rf.4facea319f54a9033bf78a88e8f1a7ba.jpg  \n",
            "  inflating: animals/train/images/fox_d109def2ddaacbbd_jpg.rf.dfc463016808895a2306cda180ebd193.jpg  \n",
            "  inflating: animals/train/images/fox_d7ce93f48347eb5e_jpg.rf.e5149dd4e3d301c57115966995293f12.jpg  \n",
            "  inflating: animals/train/images/fox_d7eb19f2ad7e4537_jpg.rf.1d6853682845d32d12cf4910714dfbf5.jpg  \n",
            "  inflating: animals/train/images/fox_d89193991666a6fa_jpg.rf.73867a1716c4b3f3159054630311e501.jpg  \n",
            "  inflating: animals/train/images/fox_dca0f0ea5f8a19b7_jpg.rf.7511a865693c1e5a15a40447e6c97fde.jpg  \n",
            "  inflating: animals/train/images/fox_df754a7ceb7f9ea7_jpg.rf.8c752d58bfe887fe593e3d929ad1d153.jpg  \n",
            "  inflating: animals/train/images/fox_e6688f1c5f8e9550_jpg.rf.6b898751cb2b1e06bd8ed2a6757d5e2b.jpg  \n",
            "  inflating: animals/train/images/fox_eee1756d1d0c9cd6_jpg.rf.7d5e6e6d82369d6d9e716049a935d633.jpg  \n",
            "  inflating: animals/train/images/fox_f13582e761eda901_jpg.rf.14aa0722e69bf5f7752d204fce6daf5e.jpg  \n",
            "  inflating: animals/train/images/fox_f14e66996ed0010e_jpg.rf.5d06ee20830dfd1f16a90697cdbf9898.jpg  \n",
            "  inflating: animals/train/images/fox_f47ccb503dc90627_jpg.rf.7378475d113aa697a6111131a943304c.jpg  \n",
            "  inflating: animals/train/images/fox_f4f34f23810a0e11_jpg.rf.88ee2042b8ab447e5ca2b23f19a4892e.jpg  \n",
            "  inflating: animals/train/images/fox_fa223b57ec3af43a_jpg.rf.0a6565acdde1ae93979abf210dbac8e8.jpg  \n",
            "  inflating: animals/train/images/fox_fa223b57ec3af43a_jpg.rf.81d505b11c5e599f0c04f68080dcfb4f.jpg  \n",
            "  inflating: animals/train/images/fox_fca70ace8c03e500_jpg.rf.cff10d3cf5ef86028417a7fd42ca2c93.jpg  \n",
            "  inflating: animals/train/images/fox_fdd5e08e405e7c6c_jpg.rf.1b0ff78c55848cd97e2a7cf6e0b52a5e.jpg  \n",
            "  inflating: animals/train/images/fox_fe396d920316cdb5_jpg.rf.f4c09dec22e3cc1fca98647add8acc54.jpg  \n",
            "  inflating: animals/train/images/fox_ff0fafb2ff4da834_jpg.rf.16b1884e90c65b80426d005e8e799318.jpg  \n",
            "  inflating: animals/train/images/owl_13ddd1c7-f3bc-4eb4-8124-fe391a1373a6_jpg.rf.14f59c94df800b4836c587ae021fd421.jpg  \n",
            "  inflating: animals/train/images/owl_14511043871_74decdf9f6_z_jpg.rf.4c8e11a5c97caacfdb572d32ffc1f12a.jpg  \n",
            "  inflating: animals/train/images/owl_149354e979b27a32a92b1771c61cf1dd_jpg.rf.0cdc210950ed4ac153ced00919b12137.jpg  \n",
            "  inflating: animals/train/images/owl_149354e979b27a32a92b1771c61cf1dd_jpg.rf.0da6f4bd9931d7bebaa4e1ea5af20450.jpg  \n",
            "  inflating: animals/train/images/owl_15389530640_c767a054fe_z_jpg.rf.a87f81fee8d30d55131878bd91c23785.jpg  \n",
            "  inflating: animals/train/images/owl_16360391391_e899ef608a_z_jpg.rf.b0c8a39f3481da1ee4fdedaedf2252f7.jpg  \n",
            "  inflating: animals/train/images/owl_16811903265_2d08c4b2b3_z_jpg.rf.80f0ebac9a58efa88338cdf26967c4aa.jpg  \n",
            "  inflating: animals/train/images/owl_20158475270_59b2a05eda_z_jpg.rf.ee7cb50a106228d8b498f3a43fdcb502.jpg  \n",
            "  inflating: animals/train/images/owl_21102294731_35619a8e33_z_jpg.rf.bce9527596d2b3d142089d3b2fbe303c.jpg  \n",
            "  inflating: animals/train/images/owl_2687ba283f7966cf1d88e71e96d8d2c7_jpg.rf.4b98cbda9dd061af84c926d8e9e885e1.jpg  \n",
            "  inflating: animals/train/images/owl_2740962999_f639cbab64_z_jpg.rf.af774e639037016164dfcab33eb4d621.jpg  \n",
            "  inflating: animals/train/images/owl_33f11f16-746b-4ea8-9860-9ccbdc887ef6_jpg.rf.da9d9666b5e10caeb9e50b734ec2a56b.jpg  \n",
            "  inflating: animals/train/images/owl_4538293140_53e0a980ee_z_jpg.rf.9349466968810e29affe3c7db3833f77.jpg  \n",
            "  inflating: animals/train/images/owl_4643954054_2558280401_z_jpg.rf.ec632e9fe877ecf4dd5e6bc1044e9ca7.jpg  \n",
            "  inflating: animals/train/images/owl_4939499000_2f6fdc1208_z_jpg.rf.72d9c3e633dd4228d48e951f0acfb2d6.jpg  \n",
            "  inflating: animals/train/images/owl_4939499000_2f6fdc1208_z_jpg.rf.cbcd3ecca61f1391e8183cf3704b9c7a.jpg  \n",
            "  inflating: animals/train/images/owl_5267078282_00e76aaf0c_z-1-_jpg.rf.70cae5bb2de2fa7aa9bffd154aff9241.jpg  \n",
            "  inflating: animals/train/images/owl_5476874910_863b795ae3_z_jpg.rf.b93ab39a8c116508d324ace502eafde9.jpg  \n",
            "  inflating: animals/train/images/owl_5527280392_53b6b97026_z_jpg.rf.107a23b55de633d68dedd102429b1459.jpg  \n",
            "  inflating: animals/train/images/owl_5680468015_482b2b0e7b_z_jpg.rf.8f37aa03bde60e46a34665264e82bb14.jpg  \n",
            "  inflating: animals/train/images/owl_5978295188_4733850f1e_z_jpg.rf.1c1c06971541f3b8d174cc60084b7bc6.jpg  \n",
            "  inflating: animals/train/images/owl_5978295188_4733850f1e_z_jpg.rf.e24a54bb5c4d944d03f1aea84e08453f.jpg  \n",
            "  inflating: animals/train/images/owl_5a637302-ac16-480e-bce8-0c533b6d502d_jpg.rf.148ee29613c39cecaf56edbaadba98ae.jpg  \n",
            "  inflating: animals/train/images/owl_5fd4581909b9412d09ef733e824a8fb7_jpg.rf.3ae89292fd087d1f834e9d71282a0d48.jpg  \n",
            "  inflating: animals/train/images/owl_6942362843_67685ff337_z_jpg.rf.52903ecc4abbdfd64b1da49507130bdc.jpg  \n",
            "  inflating: animals/train/images/owl_6942362843_67685ff337_z_jpg.rf.cd8237edeab59d3e16e141c6ff252325.jpg  \n",
            "  inflating: animals/train/images/owl_6cf8a9633c5443098aec503d8b259a02_jpg.rf.11c50c7a72c0d059a08424f9a8b3c83a.jpg  \n",
            "  inflating: animals/train/images/owl_746441695_ae61caaa58_z_jpg.rf.cc3bf5a8c05e9c4e5f9dbcb578c9f37f.jpg  \n",
            "  inflating: animals/train/images/owl_7484430416_e90c090411_z_jpg.rf.47f83c424e270389c84835ddce147d37.jpg  \n",
            "  inflating: animals/train/images/owl_8451935382_e1255a33d7_z_jpg.rf.210e121a2e10f5dcd09e9e3f68005393.jpg  \n",
            "  inflating: animals/train/images/owl_89f422f7-69af-4954-9583-2ee3c00c8c3b_jpg.rf.c00837f546aa375f4b91ee5f2bd9ffd8.jpg  \n",
            "  inflating: animals/train/images/owl_8b801b4d8fac818d16b31e9c8f192fb0_jpg.rf.2a0d5e5c5f720223525c1e4a2f7804b6.jpg  \n",
            "  inflating: animals/train/images/owl_8c521fefa7c4c55adff4de2d8e69b43e_jpg.rf.a9655471b9ed8154e8bd9cd3ed2916bb.jpg  \n",
            "  inflating: animals/train/images/owl_Artis-Zoo-February-17-2013-konijnuil_jpg.rf.f2f852cd70f537f5665de0eb0178f499.jpg  \n",
            "  inflating: animals/train/images/owl_b651dd2f-d969-4f1e-826d-3ba3d6aedcf5_jpg.rf.1f91fd001749b284c1f499ac7ee7ae66.jpg  \n",
            "  inflating: animals/train/images/owl_Barred-Owl__jpg.rf.414a73a89cdbd8b8509953004ce0f69f.jpg  \n",
            "  inflating: animals/train/images/owl_Beautiful-owls_jpg.rf.9b4745760db0eec1107591f338a587fa.jpg  \n",
            "  inflating: animals/train/images/owl_Beautiful-owls-_jpg.rf.afb64f22e077bd6801e465f188a2ea3c.jpg  \n",
            "  inflating: animals/train/images/owl_Burrowing-owl-pair-f22_jpg.rf.e5b2fcf2870cbda74bbed61bab797fed.jpg  \n",
            "  inflating: animals/train/images/owl_Cute-_jpg.rf.674502cdeca925614cc3afbe02f5ce13.jpg  \n",
            "  inflating: animals/train/images/owl_download-18-_jpg.rf.e056af9bda24004ad8844e072971d2e1.jpg  \n",
            "  inflating: animals/train/images/owl_download-2-_jpg.rf.af28518e630924881eac9eae8b985a59.jpg  \n",
            "  inflating: animals/train/images/owl_download-25-_jpg.rf.6419e42e930d97c1ace7af5aa6b0ed68.jpg  \n",
            "  inflating: animals/train/images/owl_Eagle-owl_jpg.rf.31389481652e965399bac709e20b6912.jpg  \n",
            "  inflating: animals/train/images/owl_f1e3a008267c29b2b02cf61326968c2d_jpg.rf.831205561b79498b7f95e8311c668d8e.jpg  \n",
            "  inflating: animals/train/images/owl_f76c43a0d1411958eb7e91c40d2fdcf5_jpg.rf.c79baa2c16c895b6c9a7758c0c8bc4ce.jpg  \n",
            "  inflating: animals/train/images/owl_free-photo-of-a-bird-sitting-on-a-branch-in-the-woods_jpeg.rf.424b6c4efabc85132781a67c78dbf131.jpg  \n",
            "  inflating: animals/train/images/owl_free-photo-of-an-eagle-owl-sitting-on-a-branch-in-a-cage_jpeg.rf.25b249e7b8021a565dcf4b416de62383.jpg  \n",
            "  inflating: animals/train/images/owl_free-photo-of-burrowing-owl-perched-in-tarapaca-desert_jpeg.rf.d97f8465387c2e2d453f5e397cae702d.jpg  \n",
            "  inflating: animals/train/images/owl_free-photo-of-close-up-of-an-owl_jpeg.rf.f27f5600d52b1a1a5f5afd4b28859f14.jpg  \n",
            "  inflating: animals/train/images/owl_free-photo-of-close-up-of-an-owl-perching-in-a-hollow_jpeg.rf.687da7af39e273357ca7664ba9639456.jpg  \n",
            "  inflating: animals/train/images/owl_free-photo-of-owl_jpeg.rf.2f9555e72b4c20b84f885c1a8f4cca29.jpg  \n",
            "  inflating: animals/train/images/owl_free-photo-of-ural-owl-in-forest-habitat-on-tree_jpeg.rf.9ca1ff2668287995d17c614e7aec8fe1.jpg  \n",
            "  inflating: animals/train/images/owl_images-19-_jpg.rf.8fef210d6e3883557afafb05d71f8af2.jpg  \n",
            "  inflating: animals/train/images/owl_images-22-_jpg.rf.7e3ea29847343ef9e2996e4c23a4a116.jpg  \n",
            "  inflating: animals/train/images/owl_images-26-_jpg.rf.00bde53a792e98cb42b35fb58f15b7f1.jpg  \n",
            "  inflating: animals/train/images/owl_images-32-_jpg.rf.68bd21f1a5e6ab62a25802f3da66db9b.jpg  \n",
            "  inflating: animals/train/images/owl_images-34-_jpg.rf.715646256e72c3167e34cbc930094c5f.jpg  \n",
            "  inflating: animals/train/images/owl_images-34-_jpg.rf.cfa870e8f4b4ba7e9dec1d3d8dfffcbf.jpg  \n",
            "  inflating: animals/train/images/owl_images-35-_jpg.rf.fd278c7667c58f80dcdef62bf696dc81.jpg  \n",
            "  inflating: animals/train/images/owl_images-46-_jpg.rf.0db7e0a64c34e31dc01c0d7e578ce102.jpg  \n",
            "  inflating: animals/train/images/owl_images-46-_jpg.rf.4c217c448bfaa93d665f5372f04c29c3.jpg  \n",
            "  inflating: animals/train/images/owl_images-49-_jpg.rf.b04a30a19e80add70a5dac45d5550232.jpg  \n",
            "  inflating: animals/train/images/owl_images-49-_jpg.rf.b126d4576289329e441b3bfe720dc427.jpg  \n",
            "  inflating: animals/train/images/owl_images-50-_jpg.rf.a55ca84feb434ccdc426bad9ba5c2ee1.jpg  \n",
            "  inflating: animals/train/images/owl_images-53-_jpg.rf.f7d96fd8342808933352ee15168918a6.jpg  \n",
            "  inflating: animals/train/images/owl_images-57-_jpg.rf.b63ea36fa94ae01d9867aa20b98864c9.jpg  \n",
            "  inflating: animals/train/images/owl_images-59-_jpg.rf.532ba2d841459f92d321487682444fcc.jpg  \n",
            "  inflating: animals/train/images/owl_images-59-_jpg.rf.ef46062b6586041b473317a97c7e0629.jpg  \n",
            "  inflating: animals/train/images/owl_images-61-_jpg.rf.7b770d9f2c347be19e0c1e51777d32d2.jpg  \n",
            "  inflating: animals/train/images/owl_images-61-_jpg.rf.b5f4f3e568ce0e7f8f4e3a1d894d2fd8.jpg  \n",
            "  inflating: animals/train/images/owl_images-8-_jpg.rf.30329a37aafa63f0a068d1a4163e278d.jpg  \n",
            "  inflating: animals/train/images/owl_images-8-_jpg.rf.7ec1db495893ef747edce21acc77996d.jpg  \n",
            "  inflating: animals/train/images/owl_images-81-_jpg.rf.e27024f6fd42f37fb5028b34f6ae83d3.jpg  \n",
            "  inflating: animals/train/images/owl_Nice-photo_jpg.rf.48a798bf45a315dc09d4e6e28bc759a5.jpg  \n",
            "  inflating: animals/train/images/owl_owl_JPG.rf.98a870efb1e56f265d10054d78d787b7.jpg  \n",
            "  inflating: animals/train/images/owl_Owl-2-_jpg.rf.32b0f78850cd6a9dfc9ae0c9f6817860.jpg  \n",
            "  inflating: animals/train/images/owl_Owl-3-_jpg.rf.feb8dc9e40f62774ec51e93f778ab701.jpg  \n",
            "  inflating: animals/train/images/owl_Owls-2-_jpg.rf.43354cc86aee57a5515ac9f23d5ee188.jpg  \n",
            "  inflating: animals/train/images/owl_owl-yellow-eyes-white-bird-66885_webp.rf.902bc9b4405bbb806d92fb2dddbdf812.jpg  \n",
            "  inflating: animals/train/images/owl_pexels-photo-105810_webp.rf.39f105aab34ec7c133ea7aad8cbf99aa.jpg  \n",
            "  inflating: animals/train/images/owl_pexels-photo-106685_jpeg.rf.47301c953dcc055a3ee72a8554e69fb9.jpg  \n",
            "  inflating: animals/train/images/owl_pexels-photo-12232364_jpeg.rf.e190ae2547b91bc824958a14e98f1ad1.jpg  \n",
            "  inflating: animals/train/images/owl_pexels-photo-1310787_jpeg.rf.3fb02d4e5a0f52afc2c89e3c961cec0a.jpg  \n",
            "  inflating: animals/train/images/owl_pexels-photo-1564839_jpeg.rf.9ae2e51c5be63d5558e9eace767d220b.jpg  \n",
            "  inflating: animals/train/images/owl_pexels-photo-18683300_webp.rf.923c37cd430467e80d2f77643517df13.jpg  \n",
            "  inflating: animals/train/images/owl_pexels-photo-19046884_webp.rf.b143304eadb5bf337bc6db5a33e1c722.jpg  \n",
            "  inflating: animals/train/images/owl_pexels-photo-2022648_jpeg.rf.1fddf106afd3881c7e7b8ea53c2b3656.jpg  \n",
            "  inflating: animals/train/images/owl_pexels-photo-206676_jpeg.rf.e7b895847833cbb548cf4329a8e02e3a.jpg  \n",
            "  inflating: animals/train/images/owl_pexels-photo-2474014_jpeg.rf.4676a01f72eb0eeb4a4147cb20381969.jpg  \n",
            "  inflating: animals/train/images/owl_pexels-photo-29917336_webp.rf.021451e8b509072faf9df89349f3e32b.jpg  \n",
            "  inflating: animals/train/images/owl_pexels-photo-29917336_webp.rf.a351c0011c13ef4412472289bfae1ade.jpg  \n",
            "  inflating: animals/train/images/owl_pexels-photo-357159_jpeg.rf.bd684cf6da5fdffea2ed6697dfb8ebee.jpg  \n",
            "  inflating: animals/train/images/owl_pexels-photo-3738646_jpeg.rf.16f2e367f648ba5b01ee9dbf6d955bcb.jpg  \n",
            "  inflating: animals/train/images/owl_pexels-photo-3756295_jpeg.rf.e3e8856780ef0a3dc542e05677dacf1d.jpg  \n",
            "  inflating: animals/train/images/owl_pexels-photo-3756295_jpeg.rf.f39506cba41912843d700aacb0c54e70.jpg  \n",
            "  inflating: animals/train/images/owl_pexels-photo-3832404_jpeg.rf.f4b63152f04b07e6ed64f209d3136b5e.jpg  \n",
            "  inflating: animals/train/images/owl_pexels-photo-3839925_jpeg.rf.7e0324406b23476ac82b1a3549d4070a.jpg  \n",
            "  inflating: animals/train/images/owl_pexels-photo-9894860_jpeg.rf.7b1cddad94ce13f09c5450b43f2ebbe8.jpg  \n",
            "  inflating: animals/train/images/owl_Tawny-Owls_jpg.rf.5ad7526d886024952c4dd36c6e5c18f0.jpg  \n",
            "  inflating: animals/train/images/raccoon_raccoon-1_jpg.rf.60b5e6abd1e1528efe0a1ae8350535bb.jpg  \n",
            "  inflating: animals/train/images/raccoon_raccoon-10_jpg.rf.079053f5a53fc360276c72454c1f847c.jpg  \n",
            "  inflating: animals/train/images/raccoon_raccoon-10_jpg.rf.85ec6474daefa3ce4e1daffa59252deb.jpg  \n",
            "  inflating: animals/train/images/raccoon_raccoon-100_jpg.rf.ec57bf5c21a38de78f0a38b1b4fb33ef.jpg  \n",
            "  inflating: animals/train/images/raccoon_raccoon-101_jpg.rf.1d2e0f633468290e90034ce6b4922a34.jpg  \n",
            "  inflating: animals/train/images/raccoon_raccoon-101_jpg.rf.755759871923ca26f944e10374ca8bfd.jpg  \n",
            "  inflating: animals/train/images/raccoon_raccoon-103_jpg.rf.399a4ca46244a83f3c9ada2081146c41.jpg  \n",
            "  inflating: animals/train/images/raccoon_raccoon-107_jpg.rf.01c7bf26af6319cfe9f7fae39b30ba32.jpg  \n",
            "  inflating: animals/train/images/raccoon_raccoon-109_jpg.rf.73c19817dc04be9feb13b03ce0db9eea.jpg  \n",
            "  inflating: animals/train/images/raccoon_raccoon-11_jpg.rf.1c925015008c66a348dab1d2c6d9437a.jpg  \n",
            "  inflating: animals/train/images/raccoon_raccoon-11_jpg.rf.799e3124433f7b05a3eae48d38a4bd9d.jpg  \n",
            "  inflating: animals/train/images/raccoon_raccoon-111_jpg.rf.9785a6639c173ce5f5544135dcd612b9.jpg  \n",
            "  inflating: animals/train/images/raccoon_raccoon-111_jpg.rf.b6c17cfa3c846fc30a8380b400caf511.jpg  \n",
            "  inflating: animals/train/images/raccoon_raccoon-111_jpg.rf.e18d2530b51e15b92d6bb5080279b31f.jpg  \n",
            "  inflating: animals/train/images/raccoon_raccoon-124_jpg.rf.efaecbd1a42bae014c502b50472f628d.jpg  \n",
            "  inflating: animals/train/images/raccoon_raccoon-125_jpg.rf.428c19d2468bb19448de4274047b0330.jpg  \n",
            "  inflating: animals/train/images/raccoon_raccoon-127_jpg.rf.a66ff3ff4cd5db15a3709bf55ade9e63.jpg  \n",
            "  inflating: animals/train/images/raccoon_raccoon-128_jpg.rf.9b902c9e88624032d19f0acf12b67364.jpg  \n",
            "  inflating: animals/train/images/raccoon_raccoon-130_jpg.rf.8fd838d575be3e249fa8bfca72db4182.jpg  \n",
            "  inflating: animals/train/images/raccoon_raccoon-133_jpg.rf.ec13258f2d2216e075bff6f622478b67.jpg  \n",
            "  inflating: animals/train/images/raccoon_raccoon-135_jpg.rf.ed41fc87d521d9bec17b40faf97377f7.jpg  \n",
            "  inflating: animals/train/images/raccoon_raccoon-136_jpg.rf.3445b6772df11528df1668faf85dd88d.jpg  \n",
            "  inflating: animals/train/images/raccoon_raccoon-136_jpg.rf.694f6017efc9880aa293bbaac87a4368.jpg  \n",
            "  inflating: animals/train/images/raccoon_raccoon-136_jpg.rf.9e8d162893845a62596e261652269e3f.jpg  \n",
            "  inflating: animals/train/images/raccoon_raccoon-137_jpg.rf.0917c70d30a4a762f3a11240ad0f07a4.jpg  \n",
            "  inflating: animals/train/images/raccoon_raccoon-137_jpg.rf.5a4eda8d537cd410b6bb5ff4b5909756.jpg  \n",
            "  inflating: animals/train/images/raccoon_raccoon-137_jpg.rf.780565ec3d4857067d116834bb0f5cca.jpg  \n",
            "  inflating: animals/train/images/raccoon_raccoon-139_jpg.rf.ac1126d712d3acba308cdcde0778e6a0.jpg  \n",
            "  inflating: animals/train/images/raccoon_raccoon-141_jpg.rf.4627ddadbe9391b587e6f44ff79e0574.jpg  \n",
            "  inflating: animals/train/images/raccoon_raccoon-142_jpg.rf.66bcf8941c8ebd387cb7afe1a62c5334.jpg  \n",
            "  inflating: animals/train/images/raccoon_raccoon-143_jpg.rf.1f6dc7563223e4260e839b7a967cebe9.jpg  \n",
            "  inflating: animals/train/images/raccoon_raccoon-143_jpg.rf.5823491f2d4b050c88515164ac76cd9f.jpg  \n",
            "  inflating: animals/train/images/raccoon_raccoon-145_jpg.rf.baae15d520b295b9cb4e9a0c3301cd6c.jpg  \n",
            "  inflating: animals/train/images/raccoon_raccoon-147_jpg.rf.0120876b416818e63c1ed3b839a8459a.jpg  \n",
            "  inflating: animals/train/images/raccoon_raccoon-147_jpg.rf.fa7fcbd854d2ae6e53a01a3283fb8f10.jpg  \n",
            "  inflating: animals/train/images/raccoon_raccoon-149_jpg.rf.08daa19cb87eed440a9f678ce55c13bb.jpg  \n",
            "  inflating: animals/train/images/raccoon_raccoon-150_jpg.rf.3df22ec244b03139290b44ee3175a632.jpg  \n",
            "  inflating: animals/train/images/raccoon_raccoon-151_jpg.rf.951efce489eead1806484cd6661648fb.jpg  \n",
            "  inflating: animals/train/images/raccoon_raccoon-154_jpg.rf.16f4e659e264dca213835e9220f644c5.jpg  \n",
            "  inflating: animals/train/images/raccoon_raccoon-154_jpg.rf.510012842cc0e87de4e75d1d88cde5d9.jpg  \n",
            "  inflating: animals/train/images/raccoon_raccoon-156_jpg.rf.689fa27ccf0c22265c76bea6e588bc07.jpg  \n",
            "  inflating: animals/train/images/raccoon_raccoon-157_jpg.rf.99a2032a6dcc8eca74b601b67929795f.jpg  \n",
            "  inflating: animals/train/images/raccoon_raccoon-159_jpg.rf.1bcd3c85a58a4e1d15511d40109b9c5e.jpg  \n",
            "  inflating: animals/train/images/raccoon_raccoon-16_jpg.rf.4699225dec4d5590a10fbabe7172e723.jpg  \n",
            "  inflating: animals/train/images/raccoon_raccoon-161_jpg.rf.397965b45383bcb39b2bcfe2f317cd24.jpg  \n",
            "  inflating: animals/train/images/raccoon_raccoon-164_jpg.rf.76d44a0605636d4f3c2b7e9fbcdc0719.jpg  \n",
            "  inflating: animals/train/images/raccoon_raccoon-165_jpg.rf.82ef605d3c8133086e03e5b2fc99bfb7.jpg  \n",
            "  inflating: animals/train/images/raccoon_raccoon-165_jpg.rf.c2a26354936f614e1a7fb71e937a4fc8.jpg  \n",
            "  inflating: animals/train/images/raccoon_raccoon-167_jpg.rf.2b56e85deb7c5203b02c3af0c2aa4cff.jpg  \n",
            "  inflating: animals/train/images/raccoon_raccoon-17_jpg.rf.517acdf5be9017f1714a7f458df1bd59.jpg  \n",
            "  inflating: animals/train/images/raccoon_raccoon-171_jpg.rf.2e363e9e393925d94241ea1489b49b75.jpg  \n",
            "  inflating: animals/train/images/raccoon_raccoon-173_jpg.rf.586fbe1958e71c046a7f9bb5c8ad51e9.jpg  \n",
            "  inflating: animals/train/images/raccoon_raccoon-174_jpg.rf.6af8399c905140de04e3eb82c1ce299d.jpg  \n",
            "  inflating: animals/train/images/raccoon_raccoon-179_jpg.rf.3bbb8690283acbce4dc702b12f6e37ef.jpg  \n",
            "  inflating: animals/train/images/raccoon_raccoon-180_jpg.rf.7d1daf75389ec1aab9b850ccbfb53ad0.jpg  \n",
            "  inflating: animals/train/images/raccoon_raccoon-182_jpg.rf.6a3678f52b0596cc0745ef5dc1f1fac5.jpg  \n",
            "  inflating: animals/train/images/raccoon_raccoon-182_jpg.rf.f24e92af2994f410afdb06ec9450368c.jpg  \n",
            "  inflating: animals/train/images/raccoon_raccoon-184_jpg.rf.a1f57b2cccedf53611fbe704c6b73f12.jpg  \n",
            "  inflating: animals/train/images/raccoon_raccoon-185_jpg.rf.ac2da55901490334e5ae61bfddf2b314.jpg  \n",
            "  inflating: animals/train/images/raccoon_raccoon-187_jpg.rf.d95d5ced3f1e178a5922890015b5894c.jpg  \n",
            "  inflating: animals/train/images/raccoon_raccoon-188_jpg.rf.af2d3eef0b9d1e8a79ddca4ae13ceacf.jpg  \n",
            "  inflating: animals/train/images/raccoon_raccoon-189_jpg.rf.06386bc1e0f2080a18d562c125162770.jpg  \n",
            "  inflating: animals/train/images/raccoon_raccoon-19_jpg.rf.97763d2d48761f6d1a7b4e442c90854e.jpg  \n",
            "  inflating: animals/train/images/raccoon_raccoon-19_jpg.rf.e3641f183469be96b81db6e893427b05.jpg  \n",
            "  inflating: animals/train/images/raccoon_raccoon-191_jpg.rf.69fae60686ef4a77351dfbe22d284f6c.jpg  \n",
            "  inflating: animals/train/images/raccoon_raccoon-191_jpg.rf.a60bf88f7c99378b0a9dc1a66dfa6304.jpg  \n",
            "  inflating: animals/train/images/raccoon_raccoon-191_jpg.rf.ce8230855f26be611f5c69e572b1f69e.jpg  \n",
            "  inflating: animals/train/images/raccoon_raccoon-194_jpg.rf.070ba172b0d3fa95de56356bc3b93ba0.jpg  \n",
            "  inflating: animals/train/images/raccoon_raccoon-198_jpg.rf.ec7596f9b9fbcb579d51a6834ce87a61.jpg  \n",
            "  inflating: animals/train/images/raccoon_raccoon-199_jpg.rf.e9147cc1f27c27d742e663463b0c80d3.jpg  \n",
            "  inflating: animals/train/images/raccoon_raccoon-2_jpg.rf.5f45a0612424f4adba93aba264a9457e.jpg  \n",
            "  inflating: animals/train/images/raccoon_raccoon-20_jpg.rf.943c013898c7eae86617953470885664.jpg  \n",
            "  inflating: animals/train/images/raccoon_raccoon-200_jpg.rf.2ca4a97feccec4b3fc4229d637b91190.jpg  \n",
            "  inflating: animals/train/images/raccoon_raccoon-200_jpg.rf.9c0e6659c933554cd1d19cfdffb0b156.jpg  \n",
            "  inflating: animals/train/images/raccoon_raccoon-27_jpg.rf.aa1909764bc7a49184d955c9141d09c0.jpg  \n",
            "  inflating: animals/train/images/raccoon_raccoon-28_jpg.rf.2ac276bf63ecff877ad73ecf46151480.jpg  \n",
            "  inflating: animals/train/images/raccoon_raccoon-28_jpg.rf.6fe8a7dfd29797b1f3dbbbf8405a45b7.jpg  \n",
            "  inflating: animals/train/images/raccoon_raccoon-30_jpg.rf.d6bded00127848339a29de33150a7ef5.jpg  \n",
            "  inflating: animals/train/images/raccoon_raccoon-31_jpg.rf.2aa95d6ff794074ff10136d7743b5c72.jpg  \n",
            "  inflating: animals/train/images/raccoon_raccoon-31_jpg.rf.4bc687d5a83682b694dfbe4bec58a11f.jpg  \n",
            "  inflating: animals/train/images/raccoon_raccoon-36_jpg.rf.887d06c66eaa1b246657d1e09d364b85.jpg  \n",
            "  inflating: animals/train/images/raccoon_raccoon-37_jpg.rf.a5887cac8894ab0cb02c3a07a6e6f210.jpg  \n",
            "  inflating: animals/train/images/raccoon_raccoon-37_jpg.rf.f031a7ac2d9eb1cc336918bc9936b2c8.jpg  \n",
            "  inflating: animals/train/images/raccoon_raccoon-39_jpg.rf.e01b9a448e6c08b9f8f127d98d38945c.jpg  \n",
            "  inflating: animals/train/images/raccoon_raccoon-41_jpg.rf.d05f468e68fb3d57d9673e35d3adcfa1.jpg  \n",
            "  inflating: animals/train/images/raccoon_raccoon-43_jpg.rf.32fada4f0b03847e4759d40c44b973c9.jpg  \n",
            "  inflating: animals/train/images/raccoon_raccoon-46_jpg.rf.89fe72c47a9534ed833ae40e9d4f004b.jpg  \n",
            "  inflating: animals/train/images/raccoon_raccoon-47_jpg.rf.c4b70dc00c7fc6b7f03945b93cefc412.jpg  \n",
            "  inflating: animals/train/images/raccoon_raccoon-49_jpg.rf.133cc4a0aff6104b2c31b363f2953a3b.jpg  \n",
            "  inflating: animals/train/images/raccoon_raccoon-49_jpg.rf.530b0110f5f885a31734e504e31e392d.jpg  \n",
            "  inflating: animals/train/images/raccoon_raccoon-53_jpg.rf.f62974c60c3fb257495f4d0d8dd15d7c.jpg  \n",
            "  inflating: animals/train/images/raccoon_raccoon-59_jpg.rf.2b847a97c52acfaf9d638dd40502c34e.jpg  \n",
            "  inflating: animals/train/images/raccoon_raccoon-6_jpg.rf.35d28a7899d495528acc63a5a8a9ea73.jpg  \n",
            "  inflating: animals/train/images/raccoon_raccoon-63_jpg.rf.034e7d674dadebc4740b572ea1951b00.jpg  \n",
            "  inflating: animals/train/images/raccoon_raccoon-63_jpg.rf.7783cb002194a575d4516ec1a5295236.jpg  \n",
            "  inflating: animals/train/images/raccoon_raccoon-64_jpg.rf.74e667aa0003def450a0d5aca66c2b2c.jpg  \n",
            "  inflating: animals/train/images/raccoon_raccoon-66_jpg.rf.cd8e38b4c43e3b0f2f3f46c5a537dd5f.jpg  \n",
            "  inflating: animals/train/images/raccoon_raccoon-76_jpg.rf.6f76ef27ef3f8c1199cac8db5008ed6c.jpg  \n",
            "  inflating: animals/train/images/raccoon_raccoon-84_jpg.rf.4a39500ef189440955432566197e4737.jpg  \n",
            "  inflating: animals/train/images/raccoon_raccoon-84_jpg.rf.d65c7bc8921763ad51dc0c55d75f4dc8.jpg  \n",
            "  inflating: animals/train/labels.cache  \n",
            "   creating: animals/train/labels/\n",
            "  inflating: animals/train/labels/fox_0012bf34ebf62477_jpg.rf.263f4aecaf3627ef5f1af40453481e34.txt  \n",
            "  inflating: animals/train/labels/fox_0115391778aeca25_jpg.rf.8b5226d329678787d67f9737c97a19b6.txt  \n",
            "  inflating: animals/train/labels/fox_02f00ed4b7f30b9e_jpg.rf.d5690a32a8137fdfd5b5855a37728e0b.txt  \n",
            "  inflating: animals/train/labels/fox_04ecdd9f6a53f0a4_jpg.rf.81a85e6bad078c1afc0f3b93519f4824.txt  \n",
            "  inflating: animals/train/labels/fox_06dcda7babea0933_jpg.rf.6a0e2e6df773e525e472f2933529b6a0.txt  \n",
            "  inflating: animals/train/labels/fox_070bfd68a9843dfa_jpg.rf.f40f0d4237c5c1bd5fcb82e5bfc0caae.txt  \n",
            "  inflating: animals/train/labels/fox_07f3d4e408b6e982_jpg.rf.a31519770a5f3dda9929b315cc86f07c.txt  \n",
            "  inflating: animals/train/labels/fox_1217b6d7a1486677_jpg.rf.5f00f1c007c52a19b60e3e7d609f8239.txt  \n",
            "  inflating: animals/train/labels/fox_1267d3c852be7c92_jpg.rf.e76b3433a6652ee87ae6aa3c8ef13f52.txt  \n",
            "  inflating: animals/train/labels/fox_14173f913cb67d86_jpg.rf.82ccdd53808a8d6a4a567f486d606a5c.txt  \n",
            "  inflating: animals/train/labels/fox_16b8ea1481ece5d8_jpg.rf.687a86514844974cf85ff12547ea0107.txt  \n",
            "  inflating: animals/train/labels/fox_184befd4b73ae102_jpg.rf.8cd73031d7fd51b25395cd64963d9f97.txt  \n",
            "  inflating: animals/train/labels/fox_18608880b21f9a3e_jpg.rf.a62de7b512a9e5cc73c16ac044010071.txt  \n",
            "  inflating: animals/train/labels/fox_1a2fc7eb16d91912_jpg.rf.0f94bcca839974d3d8bdfa18ea5f7035.txt  \n",
            "  inflating: animals/train/labels/fox_1a87fe9093fa9fbb_jpg.rf.20a1be9eae7f529416ab2c47b05b8124.txt  \n",
            "  inflating: animals/train/labels/fox_232c2f188334d1c6_jpg.rf.a7cb3640e208292b8cd2b01b523a4a56.txt  \n",
            "  inflating: animals/train/labels/fox_235d865e269490b3_jpg.rf.9080b927725f1ee9410b29d4b7b718f3.txt  \n",
            "  inflating: animals/train/labels/fox_25c22693e8a11e24_jpg.rf.2da7e052c55dd9bf2cc7f2899fe910b7.txt  \n",
            "  inflating: animals/train/labels/fox_28224ae7384fdc49_jpg.rf.6a50778ae37490fa5be3b46f42865710.txt  \n",
            "  inflating: animals/train/labels/fox_2948e6aa939c362e_jpg.rf.de12ea977df99105e5d3280b7662cfcc.txt  \n",
            "  inflating: animals/train/labels/fox_29da2d5c4c972600_jpg.rf.3f102a71bb2a1cc555fa56b31d98c847.txt  \n",
            "  inflating: animals/train/labels/fox_2a48124e72e6f5cd_jpg.rf.51a068a94e8e9df5f327df48c4a9a908.txt  \n",
            "  inflating: animals/train/labels/fox_2a48124e72e6f5cd_jpg.rf.6696f008a837aec56aab17c069007fb3.txt  \n",
            "  inflating: animals/train/labels/fox_2f087ffd80b4aa50_jpg.rf.4e746883f8528400014110a49b58be77.txt  \n",
            "  inflating: animals/train/labels/fox_30e6f58610a32210_jpg.rf.08e1c4acf6d1f84d3b5a1d4f14333523.txt  \n",
            "  inflating: animals/train/labels/fox_317eb95a6964b8a1_jpg.rf.3c53a2dd7958d0c09d7ef4b98db28978.txt  \n",
            "  inflating: animals/train/labels/fox_317eb95a6964b8a1_jpg.rf.abd8ad79e6044c139f08829e98ec89e8.txt  \n",
            "  inflating: animals/train/labels/fox_3207fb3bde6c052e_jpg.rf.b4d6ed124c3f5f2d76a57e34507218b6.txt  \n",
            "  inflating: animals/train/labels/fox_355c229fdc284c69_jpg.rf.91b4bf278107ec97df53d9df41b4dff6.txt  \n",
            "  inflating: animals/train/labels/fox_35d3a768d1d14056_jpg.rf.c1ed62851672bbc051c5027288492ae0.txt  \n",
            "  inflating: animals/train/labels/fox_3803dc414d8a478e_jpg.rf.b01c6bd56c053f363a06c9284dcce098.txt  \n",
            "  inflating: animals/train/labels/fox_393d668002badb17_jpg.rf.d536275379f5f27e9d04daf0776526be.txt  \n",
            "  inflating: animals/train/labels/fox_3af7d8df82136987_jpg.rf.e10ae832e21250898b415ab651530ecc.txt  \n",
            "  inflating: animals/train/labels/fox_3cbd972d19b872ad_jpg.rf.3cae3527a0d9462f0bda78eebfe8811a.txt  \n",
            "  inflating: animals/train/labels/fox_3eae2264618c62f6_jpg.rf.210ef78580affd6a4d4e661224a35644.txt  \n",
            "  inflating: animals/train/labels/fox_3fd267367de755ba_jpg.rf.897717bf12e67206f5362453b671a7ac.txt  \n",
            "  inflating: animals/train/labels/fox_40865c7aeb800acb_jpg.rf.b869fcbeae3afe702d897ffa14057937.txt  \n",
            "  inflating: animals/train/labels/fox_4b30409e41c31af2_jpg.rf.2bd5630eeef6b2a922fa1995e9ed77a4.txt  \n",
            "  inflating: animals/train/labels/fox_4c2edfd1dfd41d93_jpg.rf.e250e9840a2ecd85f6043ed4be9c1835.txt  \n",
            "  inflating: animals/train/labels/fox_4e7dab915dfbfb79_jpg.rf.03480cf56fcb24da8099d425eea54465.txt  \n",
            "  inflating: animals/train/labels/fox_51bf53620b5d4ff2_jpg.rf.a2a1aa7b6c5b816910fd1949cda61e79.txt  \n",
            "  inflating: animals/train/labels/fox_58476265ecb12139_jpg.rf.f5f13d8a44720ad9d47e5a4d2cb63552.txt  \n",
            "  inflating: animals/train/labels/fox_5b6e21abca53a707_jpg.rf.7ecab3afff718fd0364f9bd3df9d5f8c.txt  \n",
            "  inflating: animals/train/labels/fox_5f79c7a8b822d883_jpg.rf.7b7b22db42566420f246b1d895915576.txt  \n",
            "  inflating: animals/train/labels/fox_66865eed993ff937_jpg.rf.633f608279d7514ce44d2626566244b8.txt  \n",
            "  inflating: animals/train/labels/fox_6f6d0d179449d0b0_jpg.rf.4d125336fb1c1db9e6c0824d088879de.txt  \n",
            "  inflating: animals/train/labels/fox_72dbe6d4e88ea4f6_jpg.rf.ca0e410cbb73e515728efa755ec91515.txt  \n",
            "  inflating: animals/train/labels/fox_75eca023930e6336_jpg.rf.548c490420785dbbbff9d036ff7a0538.txt  \n",
            "  inflating: animals/train/labels/fox_7b8ea15cf9f77149_jpg.rf.68989e0a40ea2bbcebcc7d102cdc1484.txt  \n",
            "  inflating: animals/train/labels/fox_7e2d18f4620700b5_jpg.rf.52f5a5219795d506ba11aef1efc87d6c.txt  \n",
            "  inflating: animals/train/labels/fox_7fdaa14e4e93fccc_jpg.rf.09499dd483a0c0c3f00606fea4ece0a9.txt  \n",
            "  inflating: animals/train/labels/fox_81a4d8c2d353ebe8_jpg.rf.0c8703480d89fee2d8e656ea4a2eacc0.txt  \n",
            "  inflating: animals/train/labels/fox_8300d92bbfafe9a2_jpg.rf.3a0331dfa1beb6fb7438f59d2af474de.txt  \n",
            "  inflating: animals/train/labels/fox_8396d86b907c2330_jpg.rf.3acefb053a7aa613b14abeb73dc8b765.txt  \n",
            "  inflating: animals/train/labels/fox_84b4b4e8579f9f96_jpg.rf.c19a5a40d0892dcddd5400953dd0d1ad.txt  \n",
            "  inflating: animals/train/labels/fox_884e02720d562247_jpg.rf.fadaf9f17d96b8b7ea3c2f3b124ad228.txt  \n",
            "  inflating: animals/train/labels/fox_8894cd06821d18f0_jpg.rf.19b96618193deb26a12bdbedadbe18d2.txt  \n",
            "  inflating: animals/train/labels/fox_8b3a044770d9603b_jpg.rf.7c6fd001326fb47148674c45ed1bfb35.txt  \n",
            "  inflating: animals/train/labels/fox_8b659990aec01ec3_jpg.rf.0a3cfbda4b060ff2400f37d634b7f011.txt  \n",
            "  inflating: animals/train/labels/fox_8bc441f926d75177_jpg.rf.cf9d5d8b8d183cfe53d02e62ba8301e0.txt  \n",
            "  inflating: animals/train/labels/fox_8c40569e126945f2_jpg.rf.9547abb37f037fb38bb46809f1eb67ea.txt  \n",
            "  inflating: animals/train/labels/fox_8e5d61fcdefb7295_jpg.rf.22152061d1c36009f2a46227bf600578.txt  \n",
            "  inflating: animals/train/labels/fox_90ada49e947a895c_jpg.rf.68df16d10e71bfe87cea79a5278f3d3f.txt  \n",
            "  inflating: animals/train/labels/fox_93598c20794cfcbf_jpg.rf.e26d9a5f6cbf85076a23deb07b0df3ee.txt  \n",
            "  inflating: animals/train/labels/fox_96ea7863c4b54b65_jpg.rf.a666df838ac511d8e28f40aeefa32b85.txt  \n",
            "  inflating: animals/train/labels/fox_9bd413c9d65be37c_jpg.rf.6c6cf225bf6fbb74fff031b594d5dc65.txt  \n",
            "  inflating: animals/train/labels/fox_a09301ec3ab242a9_jpg.rf.3bd3135f9306f7e178bb18f8680e7277.txt  \n",
            "  inflating: animals/train/labels/fox_a33160cd0a212150_jpg.rf.30b69bd785dcb57e6859c7dd3e9e3652.txt  \n",
            "  inflating: animals/train/labels/fox_a9ffd082c1ad25e2_jpg.rf.685b6617116077db7d4182199fd91f48.txt  \n",
            "  inflating: animals/train/labels/fox_aba549c6232679d7_jpg.rf.d254678cb9d1a36ff339866c5def4328.txt  \n",
            "  inflating: animals/train/labels/fox_b054ab01400d4408_jpg.rf.6d470a2edfe895a3ef21d68360f1c4d7.txt  \n",
            "  inflating: animals/train/labels/fox_b2bbcde1abeb72dd_jpg.rf.6462b4c540679f9f31598b053b6cbda7.txt  \n",
            "  inflating: animals/train/labels/fox_b4513c3429dab939_jpg.rf.8920db7d5fd1096851002a1b51cb1374.txt  \n",
            "  inflating: animals/train/labels/fox_b5d30432592cea10_jpg.rf.fd3f151c1d9ab994df7630252f39cbda.txt  \n",
            "  inflating: animals/train/labels/fox_baec991a1b5a93e4_jpg.rf.18b8f6b807cbc402c2fcb8b9453ce3c9.txt  \n",
            "  inflating: animals/train/labels/fox_baec991a1b5a93e4_jpg.rf.5849adf12a7ffca7d5742b24ae210b83.txt  \n",
            "  inflating: animals/train/labels/fox_c2041fdbc65ae3c7_jpg.rf.6375bc31ba019efa9f90a2384981356a.txt  \n",
            "  inflating: animals/train/labels/fox_c2b072808734745f_jpg.rf.5c9a1086206490cddd1fb7f72745a567.txt  \n",
            "  inflating: animals/train/labels/fox_c2dc45ffe5523b68_jpg.rf.0c85a20c24e48a6c6eddb7e12f711e16.txt  \n",
            "  inflating: animals/train/labels/fox_c89ed4c7e791cb1a_jpg.rf.69993c57633980b11170518e6c4a5b13.txt  \n",
            "  inflating: animals/train/labels/fox_cca59d41f113061b_jpg.rf.a052f159b06be3dcae58e4b6d6474a75.txt  \n",
            "  inflating: animals/train/labels/fox_cf1ba4a98ac6f905_jpg.rf.4facea319f54a9033bf78a88e8f1a7ba.txt  \n",
            "  inflating: animals/train/labels/fox_d109def2ddaacbbd_jpg.rf.dfc463016808895a2306cda180ebd193.txt  \n",
            "  inflating: animals/train/labels/fox_d7ce93f48347eb5e_jpg.rf.e5149dd4e3d301c57115966995293f12.txt  \n",
            "  inflating: animals/train/labels/fox_d7eb19f2ad7e4537_jpg.rf.1d6853682845d32d12cf4910714dfbf5.txt  \n",
            "  inflating: animals/train/labels/fox_d89193991666a6fa_jpg.rf.73867a1716c4b3f3159054630311e501.txt  \n",
            "  inflating: animals/train/labels/fox_dca0f0ea5f8a19b7_jpg.rf.7511a865693c1e5a15a40447e6c97fde.txt  \n",
            "  inflating: animals/train/labels/fox_df754a7ceb7f9ea7_jpg.rf.8c752d58bfe887fe593e3d929ad1d153.txt  \n",
            "  inflating: animals/train/labels/fox_e6688f1c5f8e9550_jpg.rf.6b898751cb2b1e06bd8ed2a6757d5e2b.txt  \n",
            "  inflating: animals/train/labels/fox_eee1756d1d0c9cd6_jpg.rf.7d5e6e6d82369d6d9e716049a935d633.txt  \n",
            "  inflating: animals/train/labels/fox_f13582e761eda901_jpg.rf.14aa0722e69bf5f7752d204fce6daf5e.txt  \n",
            "  inflating: animals/train/labels/fox_f14e66996ed0010e_jpg.rf.5d06ee20830dfd1f16a90697cdbf9898.txt  \n",
            "  inflating: animals/train/labels/fox_f47ccb503dc90627_jpg.rf.7378475d113aa697a6111131a943304c.txt  \n",
            "  inflating: animals/train/labels/fox_f4f34f23810a0e11_jpg.rf.88ee2042b8ab447e5ca2b23f19a4892e.txt  \n",
            "  inflating: animals/train/labels/fox_fa223b57ec3af43a_jpg.rf.0a6565acdde1ae93979abf210dbac8e8.txt  \n",
            "  inflating: animals/train/labels/fox_fa223b57ec3af43a_jpg.rf.81d505b11c5e599f0c04f68080dcfb4f.txt  \n",
            "  inflating: animals/train/labels/fox_fca70ace8c03e500_jpg.rf.cff10d3cf5ef86028417a7fd42ca2c93.txt  \n",
            "  inflating: animals/train/labels/fox_fdd5e08e405e7c6c_jpg.rf.1b0ff78c55848cd97e2a7cf6e0b52a5e.txt  \n",
            "  inflating: animals/train/labels/fox_fe396d920316cdb5_jpg.rf.f4c09dec22e3cc1fca98647add8acc54.txt  \n",
            "  inflating: animals/train/labels/fox_ff0fafb2ff4da834_jpg.rf.16b1884e90c65b80426d005e8e799318.txt  \n",
            "  inflating: animals/train/labels/owl_13ddd1c7-f3bc-4eb4-8124-fe391a1373a6_jpg.rf.14f59c94df800b4836c587ae021fd421.txt  \n",
            "  inflating: animals/train/labels/owl_14511043871_74decdf9f6_z_jpg.rf.4c8e11a5c97caacfdb572d32ffc1f12a.txt  \n",
            "  inflating: animals/train/labels/owl_149354e979b27a32a92b1771c61cf1dd_jpg.rf.0cdc210950ed4ac153ced00919b12137.txt  \n",
            "  inflating: animals/train/labels/owl_149354e979b27a32a92b1771c61cf1dd_jpg.rf.0da6f4bd9931d7bebaa4e1ea5af20450.txt  \n",
            "  inflating: animals/train/labels/owl_15389530640_c767a054fe_z_jpg.rf.a87f81fee8d30d55131878bd91c23785.txt  \n",
            "  inflating: animals/train/labels/owl_16360391391_e899ef608a_z_jpg.rf.b0c8a39f3481da1ee4fdedaedf2252f7.txt  \n",
            "  inflating: animals/train/labels/owl_16811903265_2d08c4b2b3_z_jpg.rf.80f0ebac9a58efa88338cdf26967c4aa.txt  \n",
            "  inflating: animals/train/labels/owl_20158475270_59b2a05eda_z_jpg.rf.ee7cb50a106228d8b498f3a43fdcb502.txt  \n",
            "  inflating: animals/train/labels/owl_21102294731_35619a8e33_z_jpg.rf.bce9527596d2b3d142089d3b2fbe303c.txt  \n",
            "  inflating: animals/train/labels/owl_2687ba283f7966cf1d88e71e96d8d2c7_jpg.rf.4b98cbda9dd061af84c926d8e9e885e1.txt  \n",
            "  inflating: animals/train/labels/owl_2740962999_f639cbab64_z_jpg.rf.af774e639037016164dfcab33eb4d621.txt  \n",
            "  inflating: animals/train/labels/owl_33f11f16-746b-4ea8-9860-9ccbdc887ef6_jpg.rf.da9d9666b5e10caeb9e50b734ec2a56b.txt  \n",
            "  inflating: animals/train/labels/owl_4538293140_53e0a980ee_z_jpg.rf.9349466968810e29affe3c7db3833f77.txt  \n",
            "  inflating: animals/train/labels/owl_4643954054_2558280401_z_jpg.rf.ec632e9fe877ecf4dd5e6bc1044e9ca7.txt  \n",
            "  inflating: animals/train/labels/owl_4939499000_2f6fdc1208_z_jpg.rf.72d9c3e633dd4228d48e951f0acfb2d6.txt  \n",
            "  inflating: animals/train/labels/owl_4939499000_2f6fdc1208_z_jpg.rf.cbcd3ecca61f1391e8183cf3704b9c7a.txt  \n",
            "  inflating: animals/train/labels/owl_5267078282_00e76aaf0c_z-1-_jpg.rf.70cae5bb2de2fa7aa9bffd154aff9241.txt  \n",
            "  inflating: animals/train/labels/owl_5476874910_863b795ae3_z_jpg.rf.b93ab39a8c116508d324ace502eafde9.txt  \n",
            "  inflating: animals/train/labels/owl_5527280392_53b6b97026_z_jpg.rf.107a23b55de633d68dedd102429b1459.txt  \n",
            "  inflating: animals/train/labels/owl_5680468015_482b2b0e7b_z_jpg.rf.8f37aa03bde60e46a34665264e82bb14.txt  \n",
            "  inflating: animals/train/labels/owl_5978295188_4733850f1e_z_jpg.rf.1c1c06971541f3b8d174cc60084b7bc6.txt  \n",
            "  inflating: animals/train/labels/owl_5978295188_4733850f1e_z_jpg.rf.e24a54bb5c4d944d03f1aea84e08453f.txt  \n",
            "  inflating: animals/train/labels/owl_5a637302-ac16-480e-bce8-0c533b6d502d_jpg.rf.148ee29613c39cecaf56edbaadba98ae.txt  \n",
            "  inflating: animals/train/labels/owl_5fd4581909b9412d09ef733e824a8fb7_jpg.rf.3ae89292fd087d1f834e9d71282a0d48.txt  \n",
            "  inflating: animals/train/labels/owl_6942362843_67685ff337_z_jpg.rf.52903ecc4abbdfd64b1da49507130bdc.txt  \n",
            "  inflating: animals/train/labels/owl_6942362843_67685ff337_z_jpg.rf.cd8237edeab59d3e16e141c6ff252325.txt  \n",
            "  inflating: animals/train/labels/owl_6cf8a9633c5443098aec503d8b259a02_jpg.rf.11c50c7a72c0d059a08424f9a8b3c83a.txt  \n",
            "  inflating: animals/train/labels/owl_746441695_ae61caaa58_z_jpg.rf.cc3bf5a8c05e9c4e5f9dbcb578c9f37f.txt  \n",
            "  inflating: animals/train/labels/owl_7484430416_e90c090411_z_jpg.rf.47f83c424e270389c84835ddce147d37.txt  \n",
            "  inflating: animals/train/labels/owl_8451935382_e1255a33d7_z_jpg.rf.210e121a2e10f5dcd09e9e3f68005393.txt  \n",
            "  inflating: animals/train/labels/owl_89f422f7-69af-4954-9583-2ee3c00c8c3b_jpg.rf.c00837f546aa375f4b91ee5f2bd9ffd8.txt  \n",
            "  inflating: animals/train/labels/owl_8b801b4d8fac818d16b31e9c8f192fb0_jpg.rf.2a0d5e5c5f720223525c1e4a2f7804b6.txt  \n",
            "  inflating: animals/train/labels/owl_8c521fefa7c4c55adff4de2d8e69b43e_jpg.rf.a9655471b9ed8154e8bd9cd3ed2916bb.txt  \n",
            "  inflating: animals/train/labels/owl_Artis-Zoo-February-17-2013-konijnuil_jpg.rf.f2f852cd70f537f5665de0eb0178f499.txt  \n",
            "  inflating: animals/train/labels/owl_b651dd2f-d969-4f1e-826d-3ba3d6aedcf5_jpg.rf.1f91fd001749b284c1f499ac7ee7ae66.txt  \n",
            "  inflating: animals/train/labels/owl_Barred-Owl__jpg.rf.414a73a89cdbd8b8509953004ce0f69f.txt  \n",
            "  inflating: animals/train/labels/owl_Beautiful-owls_jpg.rf.9b4745760db0eec1107591f338a587fa.txt  \n",
            "  inflating: animals/train/labels/owl_Beautiful-owls-_jpg.rf.afb64f22e077bd6801e465f188a2ea3c.txt  \n",
            "  inflating: animals/train/labels/owl_Burrowing-owl-pair-f22_jpg.rf.e5b2fcf2870cbda74bbed61bab797fed.txt  \n",
            "  inflating: animals/train/labels/owl_Cute-_jpg.rf.674502cdeca925614cc3afbe02f5ce13.txt  \n",
            "  inflating: animals/train/labels/owl_download-18-_jpg.rf.e056af9bda24004ad8844e072971d2e1.txt  \n",
            "  inflating: animals/train/labels/owl_download-2-_jpg.rf.af28518e630924881eac9eae8b985a59.txt  \n",
            "  inflating: animals/train/labels/owl_download-25-_jpg.rf.6419e42e930d97c1ace7af5aa6b0ed68.txt  \n",
            "  inflating: animals/train/labels/owl_Eagle-owl_jpg.rf.31389481652e965399bac709e20b6912.txt  \n",
            "  inflating: animals/train/labels/owl_f1e3a008267c29b2b02cf61326968c2d_jpg.rf.831205561b79498b7f95e8311c668d8e.txt  \n",
            "  inflating: animals/train/labels/owl_f76c43a0d1411958eb7e91c40d2fdcf5_jpg.rf.c79baa2c16c895b6c9a7758c0c8bc4ce.txt  \n",
            "  inflating: animals/train/labels/owl_free-photo-of-a-bird-sitting-on-a-branch-in-the-woods_jpeg.rf.424b6c4efabc85132781a67c78dbf131.txt  \n",
            "  inflating: animals/train/labels/owl_free-photo-of-an-eagle-owl-sitting-on-a-branch-in-a-cage_jpeg.rf.25b249e7b8021a565dcf4b416de62383.txt  \n",
            "  inflating: animals/train/labels/owl_free-photo-of-burrowing-owl-perched-in-tarapaca-desert_jpeg.rf.d97f8465387c2e2d453f5e397cae702d.txt  \n",
            "  inflating: animals/train/labels/owl_free-photo-of-close-up-of-an-owl_jpeg.rf.f27f5600d52b1a1a5f5afd4b28859f14.txt  \n",
            "  inflating: animals/train/labels/owl_free-photo-of-close-up-of-an-owl-perching-in-a-hollow_jpeg.rf.687da7af39e273357ca7664ba9639456.txt  \n",
            "  inflating: animals/train/labels/owl_free-photo-of-owl_jpeg.rf.2f9555e72b4c20b84f885c1a8f4cca29.txt  \n",
            "  inflating: animals/train/labels/owl_free-photo-of-ural-owl-in-forest-habitat-on-tree_jpeg.rf.9ca1ff2668287995d17c614e7aec8fe1.txt  \n",
            "  inflating: animals/train/labels/owl_images-19-_jpg.rf.8fef210d6e3883557afafb05d71f8af2.txt  \n",
            "  inflating: animals/train/labels/owl_images-22-_jpg.rf.7e3ea29847343ef9e2996e4c23a4a116.txt  \n",
            "  inflating: animals/train/labels/owl_images-26-_jpg.rf.00bde53a792e98cb42b35fb58f15b7f1.txt  \n",
            "  inflating: animals/train/labels/owl_images-32-_jpg.rf.68bd21f1a5e6ab62a25802f3da66db9b.txt  \n",
            "  inflating: animals/train/labels/owl_images-34-_jpg.rf.715646256e72c3167e34cbc930094c5f.txt  \n",
            "  inflating: animals/train/labels/owl_images-34-_jpg.rf.cfa870e8f4b4ba7e9dec1d3d8dfffcbf.txt  \n",
            "  inflating: animals/train/labels/owl_images-35-_jpg.rf.fd278c7667c58f80dcdef62bf696dc81.txt  \n",
            "  inflating: animals/train/labels/owl_images-46-_jpg.rf.0db7e0a64c34e31dc01c0d7e578ce102.txt  \n",
            "  inflating: animals/train/labels/owl_images-46-_jpg.rf.4c217c448bfaa93d665f5372f04c29c3.txt  \n",
            "  inflating: animals/train/labels/owl_images-49-_jpg.rf.b04a30a19e80add70a5dac45d5550232.txt  \n",
            "  inflating: animals/train/labels/owl_images-49-_jpg.rf.b126d4576289329e441b3bfe720dc427.txt  \n",
            "  inflating: animals/train/labels/owl_images-50-_jpg.rf.a55ca84feb434ccdc426bad9ba5c2ee1.txt  \n",
            " extracting: animals/train/labels/owl_images-53-_jpg.rf.f7d96fd8342808933352ee15168918a6.txt  \n",
            "  inflating: animals/train/labels/owl_images-57-_jpg.rf.b63ea36fa94ae01d9867aa20b98864c9.txt  \n",
            "  inflating: animals/train/labels/owl_images-59-_jpg.rf.532ba2d841459f92d321487682444fcc.txt  \n",
            "  inflating: animals/train/labels/owl_images-59-_jpg.rf.ef46062b6586041b473317a97c7e0629.txt  \n",
            "  inflating: animals/train/labels/owl_images-61-_jpg.rf.7b770d9f2c347be19e0c1e51777d32d2.txt  \n",
            "  inflating: animals/train/labels/owl_images-61-_jpg.rf.b5f4f3e568ce0e7f8f4e3a1d894d2fd8.txt  \n",
            "  inflating: animals/train/labels/owl_images-8-_jpg.rf.30329a37aafa63f0a068d1a4163e278d.txt  \n",
            "  inflating: animals/train/labels/owl_images-8-_jpg.rf.7ec1db495893ef747edce21acc77996d.txt  \n",
            "  inflating: animals/train/labels/owl_images-81-_jpg.rf.e27024f6fd42f37fb5028b34f6ae83d3.txt  \n",
            "  inflating: animals/train/labels/owl_Nice-photo_jpg.rf.48a798bf45a315dc09d4e6e28bc759a5.txt  \n",
            "  inflating: animals/train/labels/owl_owl_JPG.rf.98a870efb1e56f265d10054d78d787b7.txt  \n",
            "  inflating: animals/train/labels/owl_Owl-2-_jpg.rf.32b0f78850cd6a9dfc9ae0c9f6817860.txt  \n",
            "  inflating: animals/train/labels/owl_Owl-3-_jpg.rf.feb8dc9e40f62774ec51e93f778ab701.txt  \n",
            "  inflating: animals/train/labels/owl_Owls-2-_jpg.rf.43354cc86aee57a5515ac9f23d5ee188.txt  \n",
            "  inflating: animals/train/labels/owl_owl-yellow-eyes-white-bird-66885_webp.rf.902bc9b4405bbb806d92fb2dddbdf812.txt  \n",
            "  inflating: animals/train/labels/owl_pexels-photo-105810_webp.rf.39f105aab34ec7c133ea7aad8cbf99aa.txt  \n",
            "  inflating: animals/train/labels/owl_pexels-photo-106685_jpeg.rf.47301c953dcc055a3ee72a8554e69fb9.txt  \n",
            "  inflating: animals/train/labels/owl_pexels-photo-12232364_jpeg.rf.e190ae2547b91bc824958a14e98f1ad1.txt  \n",
            "  inflating: animals/train/labels/owl_pexels-photo-1310787_jpeg.rf.3fb02d4e5a0f52afc2c89e3c961cec0a.txt  \n",
            "  inflating: animals/train/labels/owl_pexels-photo-1564839_jpeg.rf.9ae2e51c5be63d5558e9eace767d220b.txt  \n",
            "  inflating: animals/train/labels/owl_pexels-photo-18683300_webp.rf.923c37cd430467e80d2f77643517df13.txt  \n",
            "  inflating: animals/train/labels/owl_pexels-photo-19046884_webp.rf.b143304eadb5bf337bc6db5a33e1c722.txt  \n",
            "  inflating: animals/train/labels/owl_pexels-photo-2022648_jpeg.rf.1fddf106afd3881c7e7b8ea53c2b3656.txt  \n",
            "  inflating: animals/train/labels/owl_pexels-photo-206676_jpeg.rf.e7b895847833cbb548cf4329a8e02e3a.txt  \n",
            "  inflating: animals/train/labels/owl_pexels-photo-2474014_jpeg.rf.4676a01f72eb0eeb4a4147cb20381969.txt  \n",
            "  inflating: animals/train/labels/owl_pexels-photo-29917336_webp.rf.021451e8b509072faf9df89349f3e32b.txt  \n",
            "  inflating: animals/train/labels/owl_pexels-photo-29917336_webp.rf.a351c0011c13ef4412472289bfae1ade.txt  \n",
            "  inflating: animals/train/labels/owl_pexels-photo-357159_jpeg.rf.bd684cf6da5fdffea2ed6697dfb8ebee.txt  \n",
            "  inflating: animals/train/labels/owl_pexels-photo-3738646_jpeg.rf.16f2e367f648ba5b01ee9dbf6d955bcb.txt  \n",
            "  inflating: animals/train/labels/owl_pexels-photo-3756295_jpeg.rf.e3e8856780ef0a3dc542e05677dacf1d.txt  \n",
            "  inflating: animals/train/labels/owl_pexels-photo-3756295_jpeg.rf.f39506cba41912843d700aacb0c54e70.txt  \n",
            "  inflating: animals/train/labels/owl_pexels-photo-3832404_jpeg.rf.f4b63152f04b07e6ed64f209d3136b5e.txt  \n",
            "  inflating: animals/train/labels/owl_pexels-photo-3839925_jpeg.rf.7e0324406b23476ac82b1a3549d4070a.txt  \n",
            "  inflating: animals/train/labels/owl_pexels-photo-9894860_jpeg.rf.7b1cddad94ce13f09c5450b43f2ebbe8.txt  \n",
            "  inflating: animals/train/labels/owl_Tawny-Owls_jpg.rf.5ad7526d886024952c4dd36c6e5c18f0.txt  \n",
            "  inflating: animals/train/labels/raccoon_raccoon-1_jpg.rf.60b5e6abd1e1528efe0a1ae8350535bb.txt  \n",
            "  inflating: animals/train/labels/raccoon_raccoon-10_jpg.rf.079053f5a53fc360276c72454c1f847c.txt  \n",
            "  inflating: animals/train/labels/raccoon_raccoon-10_jpg.rf.85ec6474daefa3ce4e1daffa59252deb.txt  \n",
            "  inflating: animals/train/labels/raccoon_raccoon-100_jpg.rf.ec57bf5c21a38de78f0a38b1b4fb33ef.txt  \n",
            "  inflating: animals/train/labels/raccoon_raccoon-101_jpg.rf.1d2e0f633468290e90034ce6b4922a34.txt  \n",
            "  inflating: animals/train/labels/raccoon_raccoon-101_jpg.rf.755759871923ca26f944e10374ca8bfd.txt  \n",
            "  inflating: animals/train/labels/raccoon_raccoon-103_jpg.rf.399a4ca46244a83f3c9ada2081146c41.txt  \n",
            "  inflating: animals/train/labels/raccoon_raccoon-107_jpg.rf.01c7bf26af6319cfe9f7fae39b30ba32.txt  \n",
            "  inflating: animals/train/labels/raccoon_raccoon-109_jpg.rf.73c19817dc04be9feb13b03ce0db9eea.txt  \n",
            "  inflating: animals/train/labels/raccoon_raccoon-11_jpg.rf.1c925015008c66a348dab1d2c6d9437a.txt  \n",
            "  inflating: animals/train/labels/raccoon_raccoon-11_jpg.rf.799e3124433f7b05a3eae48d38a4bd9d.txt  \n",
            "  inflating: animals/train/labels/raccoon_raccoon-111_jpg.rf.9785a6639c173ce5f5544135dcd612b9.txt  \n",
            "  inflating: animals/train/labels/raccoon_raccoon-111_jpg.rf.b6c17cfa3c846fc30a8380b400caf511.txt  \n",
            "  inflating: animals/train/labels/raccoon_raccoon-111_jpg.rf.e18d2530b51e15b92d6bb5080279b31f.txt  \n",
            "  inflating: animals/train/labels/raccoon_raccoon-124_jpg.rf.efaecbd1a42bae014c502b50472f628d.txt  \n",
            "  inflating: animals/train/labels/raccoon_raccoon-125_jpg.rf.428c19d2468bb19448de4274047b0330.txt  \n",
            "  inflating: animals/train/labels/raccoon_raccoon-127_jpg.rf.a66ff3ff4cd5db15a3709bf55ade9e63.txt  \n",
            "  inflating: animals/train/labels/raccoon_raccoon-128_jpg.rf.9b902c9e88624032d19f0acf12b67364.txt  \n",
            "  inflating: animals/train/labels/raccoon_raccoon-130_jpg.rf.8fd838d575be3e249fa8bfca72db4182.txt  \n",
            "  inflating: animals/train/labels/raccoon_raccoon-133_jpg.rf.ec13258f2d2216e075bff6f622478b67.txt  \n",
            "  inflating: animals/train/labels/raccoon_raccoon-135_jpg.rf.ed41fc87d521d9bec17b40faf97377f7.txt  \n",
            "  inflating: animals/train/labels/raccoon_raccoon-136_jpg.rf.3445b6772df11528df1668faf85dd88d.txt  \n",
            "  inflating: animals/train/labels/raccoon_raccoon-136_jpg.rf.694f6017efc9880aa293bbaac87a4368.txt  \n",
            "  inflating: animals/train/labels/raccoon_raccoon-136_jpg.rf.9e8d162893845a62596e261652269e3f.txt  \n",
            "  inflating: animals/train/labels/raccoon_raccoon-137_jpg.rf.0917c70d30a4a762f3a11240ad0f07a4.txt  \n",
            "  inflating: animals/train/labels/raccoon_raccoon-137_jpg.rf.5a4eda8d537cd410b6bb5ff4b5909756.txt  \n",
            "  inflating: animals/train/labels/raccoon_raccoon-137_jpg.rf.780565ec3d4857067d116834bb0f5cca.txt  \n",
            "  inflating: animals/train/labels/raccoon_raccoon-139_jpg.rf.ac1126d712d3acba308cdcde0778e6a0.txt  \n",
            "  inflating: animals/train/labels/raccoon_raccoon-141_jpg.rf.4627ddadbe9391b587e6f44ff79e0574.txt  \n",
            "  inflating: animals/train/labels/raccoon_raccoon-142_jpg.rf.66bcf8941c8ebd387cb7afe1a62c5334.txt  \n",
            "  inflating: animals/train/labels/raccoon_raccoon-143_jpg.rf.1f6dc7563223e4260e839b7a967cebe9.txt  \n",
            "  inflating: animals/train/labels/raccoon_raccoon-143_jpg.rf.5823491f2d4b050c88515164ac76cd9f.txt  \n",
            "  inflating: animals/train/labels/raccoon_raccoon-145_jpg.rf.baae15d520b295b9cb4e9a0c3301cd6c.txt  \n",
            "  inflating: animals/train/labels/raccoon_raccoon-147_jpg.rf.0120876b416818e63c1ed3b839a8459a.txt  \n",
            "  inflating: animals/train/labels/raccoon_raccoon-147_jpg.rf.fa7fcbd854d2ae6e53a01a3283fb8f10.txt  \n",
            "  inflating: animals/train/labels/raccoon_raccoon-149_jpg.rf.08daa19cb87eed440a9f678ce55c13bb.txt  \n",
            "  inflating: animals/train/labels/raccoon_raccoon-150_jpg.rf.3df22ec244b03139290b44ee3175a632.txt  \n",
            "  inflating: animals/train/labels/raccoon_raccoon-151_jpg.rf.951efce489eead1806484cd6661648fb.txt  \n",
            "  inflating: animals/train/labels/raccoon_raccoon-154_jpg.rf.16f4e659e264dca213835e9220f644c5.txt  \n",
            "  inflating: animals/train/labels/raccoon_raccoon-154_jpg.rf.510012842cc0e87de4e75d1d88cde5d9.txt  \n",
            "  inflating: animals/train/labels/raccoon_raccoon-156_jpg.rf.689fa27ccf0c22265c76bea6e588bc07.txt  \n",
            "  inflating: animals/train/labels/raccoon_raccoon-157_jpg.rf.99a2032a6dcc8eca74b601b67929795f.txt  \n",
            "  inflating: animals/train/labels/raccoon_raccoon-159_jpg.rf.1bcd3c85a58a4e1d15511d40109b9c5e.txt  \n",
            "  inflating: animals/train/labels/raccoon_raccoon-16_jpg.rf.4699225dec4d5590a10fbabe7172e723.txt  \n",
            "  inflating: animals/train/labels/raccoon_raccoon-161_jpg.rf.397965b45383bcb39b2bcfe2f317cd24.txt  \n",
            "  inflating: animals/train/labels/raccoon_raccoon-164_jpg.rf.76d44a0605636d4f3c2b7e9fbcdc0719.txt  \n",
            "  inflating: animals/train/labels/raccoon_raccoon-165_jpg.rf.82ef605d3c8133086e03e5b2fc99bfb7.txt  \n",
            "  inflating: animals/train/labels/raccoon_raccoon-165_jpg.rf.c2a26354936f614e1a7fb71e937a4fc8.txt  \n",
            "  inflating: animals/train/labels/raccoon_raccoon-167_jpg.rf.2b56e85deb7c5203b02c3af0c2aa4cff.txt  \n",
            "  inflating: animals/train/labels/raccoon_raccoon-17_jpg.rf.517acdf5be9017f1714a7f458df1bd59.txt  \n",
            "  inflating: animals/train/labels/raccoon_raccoon-171_jpg.rf.2e363e9e393925d94241ea1489b49b75.txt  \n",
            "  inflating: animals/train/labels/raccoon_raccoon-173_jpg.rf.586fbe1958e71c046a7f9bb5c8ad51e9.txt  \n",
            "  inflating: animals/train/labels/raccoon_raccoon-174_jpg.rf.6af8399c905140de04e3eb82c1ce299d.txt  \n",
            "  inflating: animals/train/labels/raccoon_raccoon-179_jpg.rf.3bbb8690283acbce4dc702b12f6e37ef.txt  \n",
            "  inflating: animals/train/labels/raccoon_raccoon-180_jpg.rf.7d1daf75389ec1aab9b850ccbfb53ad0.txt  \n",
            "  inflating: animals/train/labels/raccoon_raccoon-182_jpg.rf.6a3678f52b0596cc0745ef5dc1f1fac5.txt  \n",
            "  inflating: animals/train/labels/raccoon_raccoon-182_jpg.rf.f24e92af2994f410afdb06ec9450368c.txt  \n",
            "  inflating: animals/train/labels/raccoon_raccoon-184_jpg.rf.a1f57b2cccedf53611fbe704c6b73f12.txt  \n",
            "  inflating: animals/train/labels/raccoon_raccoon-185_jpg.rf.ac2da55901490334e5ae61bfddf2b314.txt  \n",
            "  inflating: animals/train/labels/raccoon_raccoon-187_jpg.rf.d95d5ced3f1e178a5922890015b5894c.txt  \n",
            "  inflating: animals/train/labels/raccoon_raccoon-188_jpg.rf.af2d3eef0b9d1e8a79ddca4ae13ceacf.txt  \n",
            "  inflating: animals/train/labels/raccoon_raccoon-189_jpg.rf.06386bc1e0f2080a18d562c125162770.txt  \n",
            "  inflating: animals/train/labels/raccoon_raccoon-19_jpg.rf.97763d2d48761f6d1a7b4e442c90854e.txt  \n",
            "  inflating: animals/train/labels/raccoon_raccoon-19_jpg.rf.e3641f183469be96b81db6e893427b05.txt  \n",
            "  inflating: animals/train/labels/raccoon_raccoon-191_jpg.rf.69fae60686ef4a77351dfbe22d284f6c.txt  \n",
            "  inflating: animals/train/labels/raccoon_raccoon-191_jpg.rf.a60bf88f7c99378b0a9dc1a66dfa6304.txt  \n",
            "  inflating: animals/train/labels/raccoon_raccoon-191_jpg.rf.ce8230855f26be611f5c69e572b1f69e.txt  \n",
            "  inflating: animals/train/labels/raccoon_raccoon-194_jpg.rf.070ba172b0d3fa95de56356bc3b93ba0.txt  \n",
            "  inflating: animals/train/labels/raccoon_raccoon-198_jpg.rf.ec7596f9b9fbcb579d51a6834ce87a61.txt  \n",
            "  inflating: animals/train/labels/raccoon_raccoon-199_jpg.rf.e9147cc1f27c27d742e663463b0c80d3.txt  \n",
            "  inflating: animals/train/labels/raccoon_raccoon-2_jpg.rf.5f45a0612424f4adba93aba264a9457e.txt  \n",
            "  inflating: animals/train/labels/raccoon_raccoon-20_jpg.rf.943c013898c7eae86617953470885664.txt  \n",
            "  inflating: animals/train/labels/raccoon_raccoon-200_jpg.rf.2ca4a97feccec4b3fc4229d637b91190.txt  \n",
            "  inflating: animals/train/labels/raccoon_raccoon-200_jpg.rf.9c0e6659c933554cd1d19cfdffb0b156.txt  \n",
            "  inflating: animals/train/labels/raccoon_raccoon-27_jpg.rf.aa1909764bc7a49184d955c9141d09c0.txt  \n",
            "  inflating: animals/train/labels/raccoon_raccoon-28_jpg.rf.2ac276bf63ecff877ad73ecf46151480.txt  \n",
            "  inflating: animals/train/labels/raccoon_raccoon-28_jpg.rf.6fe8a7dfd29797b1f3dbbbf8405a45b7.txt  \n",
            "  inflating: animals/train/labels/raccoon_raccoon-30_jpg.rf.d6bded00127848339a29de33150a7ef5.txt  \n",
            "  inflating: animals/train/labels/raccoon_raccoon-31_jpg.rf.2aa95d6ff794074ff10136d7743b5c72.txt  \n",
            "  inflating: animals/train/labels/raccoon_raccoon-31_jpg.rf.4bc687d5a83682b694dfbe4bec58a11f.txt  \n",
            "  inflating: animals/train/labels/raccoon_raccoon-36_jpg.rf.887d06c66eaa1b246657d1e09d364b85.txt  \n",
            "  inflating: animals/train/labels/raccoon_raccoon-37_jpg.rf.a5887cac8894ab0cb02c3a07a6e6f210.txt  \n",
            "  inflating: animals/train/labels/raccoon_raccoon-37_jpg.rf.f031a7ac2d9eb1cc336918bc9936b2c8.txt  \n",
            "  inflating: animals/train/labels/raccoon_raccoon-39_jpg.rf.e01b9a448e6c08b9f8f127d98d38945c.txt  \n",
            "  inflating: animals/train/labels/raccoon_raccoon-41_jpg.rf.d05f468e68fb3d57d9673e35d3adcfa1.txt  \n",
            "  inflating: animals/train/labels/raccoon_raccoon-43_jpg.rf.32fada4f0b03847e4759d40c44b973c9.txt  \n",
            "  inflating: animals/train/labels/raccoon_raccoon-46_jpg.rf.89fe72c47a9534ed833ae40e9d4f004b.txt  \n",
            "  inflating: animals/train/labels/raccoon_raccoon-47_jpg.rf.c4b70dc00c7fc6b7f03945b93cefc412.txt  \n",
            "  inflating: animals/train/labels/raccoon_raccoon-49_jpg.rf.133cc4a0aff6104b2c31b363f2953a3b.txt  \n",
            "  inflating: animals/train/labels/raccoon_raccoon-49_jpg.rf.530b0110f5f885a31734e504e31e392d.txt  \n",
            "  inflating: animals/train/labels/raccoon_raccoon-53_jpg.rf.f62974c60c3fb257495f4d0d8dd15d7c.txt  \n",
            "  inflating: animals/train/labels/raccoon_raccoon-59_jpg.rf.2b847a97c52acfaf9d638dd40502c34e.txt  \n",
            "  inflating: animals/train/labels/raccoon_raccoon-6_jpg.rf.35d28a7899d495528acc63a5a8a9ea73.txt  \n",
            "  inflating: animals/train/labels/raccoon_raccoon-63_jpg.rf.034e7d674dadebc4740b572ea1951b00.txt  \n",
            "  inflating: animals/train/labels/raccoon_raccoon-63_jpg.rf.7783cb002194a575d4516ec1a5295236.txt  \n",
            "  inflating: animals/train/labels/raccoon_raccoon-64_jpg.rf.74e667aa0003def450a0d5aca66c2b2c.txt  \n",
            "  inflating: animals/train/labels/raccoon_raccoon-66_jpg.rf.cd8e38b4c43e3b0f2f3f46c5a537dd5f.txt  \n",
            "  inflating: animals/train/labels/raccoon_raccoon-76_jpg.rf.6f76ef27ef3f8c1199cac8db5008ed6c.txt  \n",
            "  inflating: animals/train/labels/raccoon_raccoon-84_jpg.rf.4a39500ef189440955432566197e4737.txt  \n",
            "  inflating: animals/train/labels/raccoon_raccoon-84_jpg.rf.d65c7bc8921763ad51dc0c55d75f4dc8.txt  \n",
            "   creating: animals/valid/\n",
            "   creating: animals/valid/images/\n",
            "  inflating: animals/valid/images/fox_00648ee778a0a959_jpg.rf.d6019061dc42a393a901164ad4f3c5a9.jpg  \n",
            "  inflating: animals/valid/images/fox_026748cbec73bd58_jpg.rf.c4e984f25eeaca37db35d2443e8ee7c7.jpg  \n",
            "  inflating: animals/valid/images/fox_04f2e94630149f49_jpg.rf.d0e4b50f85114e907defc1bfaf3dd918.jpg  \n",
            "  inflating: animals/valid/images/fox_04fa3bd43d018446_jpg.rf.7b4a5937088040bbd7cfb94beddbb2bc.jpg  \n",
            "  inflating: animals/valid/images/fox_08040dac13fa3ba0_jpg.rf.2b361373e03956d00b3e69eb902f00a1.jpg  \n",
            "  inflating: animals/valid/images/fox_08040dac13fa3ba0_jpg.rf.b46637193ddc9837ed89222b2d2ca4d8.jpg  \n",
            "  inflating: animals/valid/images/fox_086b753b70ea980d_jpg.rf.0e09f4a0eccd5c9267e64976872cb835.jpg  \n",
            "  inflating: animals/valid/images/fox_0880e7a154f18348_jpg.rf.3049169a04f8ea44ca05e545a9d58112.jpg  \n",
            "  inflating: animals/valid/images/fox_09ce2931e9b28e5a_jpg.rf.3c7c1c3fce91e328993ded67106c40e8.jpg  \n",
            "  inflating: animals/valid/images/fox_0b390c2d8076d17c_jpg.rf.18ded14bf03c8823b5a8b799701dec94.jpg  \n",
            "  inflating: animals/valid/images/fox_0b720d3af8d92d6a_jpg.rf.811ce96f7eb4f42f21c8914d14f6a409.jpg  \n",
            "  inflating: animals/valid/images/fox_0d762b2043b71477_jpg.rf.d37715a9fd28234a0b61154c1848a914.jpg  \n",
            "  inflating: animals/valid/images/fox_10e0b0d034603ec8_jpg.rf.d121f0f67dc6764933e6143abe44b0da.jpg  \n",
            "  inflating: animals/valid/images/fox_113553de38ba6d5b_jpg.rf.c621a792b39f21a2e32fd40f927906ec.jpg  \n",
            "  inflating: animals/valid/images/fox_1454a7fc3badd3fd_jpg.rf.83de7af4df5fa3579fad4e6e7cc2982f.jpg  \n",
            "  inflating: animals/valid/images/fox_1454a7fc3badd3fd_jpg.rf.e5e5c37710af525c940282b3a42a0893.jpg  \n",
            "  inflating: animals/valid/images/fox_14a4a1ecf60eda1b_jpg.rf.f4dde7eb49bf24173e4b65ec6b30e083.jpg  \n",
            "  inflating: animals/valid/images/fox_14fc8f1a4236cb68_jpg.rf.b46ba07118c33f0d9f6a305914b08e3c.jpg  \n",
            "  inflating: animals/valid/images/fox_163f1c0a581912de_jpg.rf.4ab9ab9499fc528108bbaa693b5298e5.jpg  \n",
            "  inflating: animals/valid/images/fox_17408843c5b824a6_jpg.rf.f8d4d388470148b0fe7abb3e5acac2a7.jpg  \n",
            "  inflating: animals/valid/images/fox_177652bc870299bb_jpg.rf.afea483f1744be5c16d6eb22d53e0f59.jpg  \n",
            "  inflating: animals/valid/images/fox_19e07627b2fdba91_jpg.rf.b7338165858fef46b9d64b7590639f95.jpg  \n",
            "  inflating: animals/valid/images/fox_1b5c5738a2fb347a_jpg.rf.9eea66bb06fb4502321c8a299b306111.jpg  \n",
            "  inflating: animals/valid/images/fox_1b7f1eaef99b4b02_jpg.rf.8c3c8bc26e1d02664163e2f9a5878a61.jpg  \n",
            "  inflating: animals/valid/images/fox_211b6e578ede94a8_jpg.rf.29ba8fa7c81000bced5912eee7c18b25.jpg  \n",
            "  inflating: animals/valid/images/fox_23acd8c211502b38_jpg.rf.0c1289fd96b0ee6ada6f4944c23c10af.jpg  \n",
            "  inflating: animals/valid/images/fox_24ddd29ea95084da_jpg.rf.58c244b01f5187abe6b49cd18baac5a1.jpg  \n",
            "  inflating: animals/valid/images/fox_2508f841a0a2ecdb_jpg.rf.cde172c3407d2e39a84d2da89798cb1d.jpg  \n",
            "  inflating: animals/valid/images/fox_2811feb135328ba1_jpg.rf.713794e6e6d75521d856101aaaf5aa4b.jpg  \n",
            "  inflating: animals/valid/images/fox_2c718da44c519994_jpg.rf.17e790069ea3321e5c62bbbd428d2b2d.jpg  \n",
            "  inflating: animals/valid/images/fox_2caefabba9f6c41b_jpg.rf.f5fc58be68be3be358b7ad3c91a17071.jpg  \n",
            "  inflating: animals/valid/images/fox_2cda0403618f04d2_jpg.rf.55bbb8d317d4d4b5a488bd2be135d17a.jpg  \n",
            "  inflating: animals/valid/images/fox_3129bf59d6643fbf_jpg.rf.d008a14acd6ba2844d9b446392f2ac4b.jpg  \n",
            "  inflating: animals/valid/images/fox_350caadb9ac1d1f9_jpg.rf.4c2733ac0f1b9111fc47d24df700c2c5.jpg  \n",
            "  inflating: animals/valid/images/fox_36129f654de6062c_jpg.rf.19f1d34a299ec2af79add8490bd6489f.jpg  \n",
            "  inflating: animals/valid/images/fox_37a4b40f48e26e15_jpg.rf.553383e2a260e53006a53fa9c51d3a09.jpg  \n",
            "  inflating: animals/valid/images/fox_38c39cdf9e0ee73b_jpg.rf.4d7a00c6b4395c93b109f3efd8764d94.jpg  \n",
            "  inflating: animals/valid/images/fox_3eae2264618c62f6_jpg.rf.37e6ad938e4dbda8c5f6685fe0e12254.jpg  \n",
            "  inflating: animals/valid/images/fox_3ef0478f0eb7a6b0_jpg.rf.d5e9c73b7f44d158a338738ed099af5f.jpg  \n",
            "  inflating: animals/valid/images/fox_40e358d0754018f6_jpg.rf.b816440be4000a9406168f808cac3faf.jpg  \n",
            "  inflating: animals/valid/images/fox_45cbe53b23da4d86_jpg.rf.63048e1ae91278fd8f3e8ba564ac8b20.jpg  \n",
            "  inflating: animals/valid/images/fox_541335b9143e98f4_jpg.rf.71b46c82dec44d11d77856fa16986cfe.jpg  \n",
            "  inflating: animals/valid/images/fox_5435606cde026ff9_jpg.rf.8ca6e19bcfcb95356bac8c826cae3425.jpg  \n",
            "  inflating: animals/valid/images/fox_54c119dee30bbc20_jpg.rf.a633d1115c60dbec17403634a471a774.jpg  \n",
            "  inflating: animals/valid/images/fox_57722abc66efd5a8_jpg.rf.006110d84797e7bf7a2a976b8921a289.jpg  \n",
            "  inflating: animals/valid/images/fox_58476265ecb12139_jpg.rf.9b18b4a00ea9b3897a2a788df5415c2a.jpg  \n",
            "  inflating: animals/valid/images/fox_615666509d0d30d8_jpg.rf.22c061849ce780bec9639387e3c6f6c1.jpg  \n",
            "  inflating: animals/valid/images/fox_66a405e352af9087_jpg.rf.7f4082e8de189d71595c98bb62cfe4de.jpg  \n",
            "  inflating: animals/valid/images/fox_6bf1944cedc67ce6_jpg.rf.a51b4f094c62a7796c2908994d0a23be.jpg  \n",
            "  inflating: animals/valid/images/fox_6d120677214a4ec1_jpg.rf.b4f733c9b0b7ce4765d3904148b70a89.jpg  \n",
            "  inflating: animals/valid/images/fox_6d9766bd5aea3794_jpg.rf.9abce293bc5c702805b371e5f62901a6.jpg  \n",
            "  inflating: animals/valid/images/fox_70e936281731f60a_jpg.rf.22d5c740f71460efea9f3af5b95da055.jpg  \n",
            "  inflating: animals/valid/images/fox_73874bb13a8619d0_jpg.rf.2b9316ea0b13bc8ef88e0ecb81db0183.jpg  \n",
            "  inflating: animals/valid/images/fox_73d73eda20bafca6_jpg.rf.575c8c7e5009119a0cbf4ff772ddcef0.jpg  \n",
            "  inflating: animals/valid/images/fox_79c0f1446a52595f_jpg.rf.968d8fe4e91da60d1ee106e571644a83.jpg  \n",
            "  inflating: animals/valid/images/fox_7a4c106169797b1b_jpg.rf.6bde73ab61e679445ee79ed8224c0a65.jpg  \n",
            "  inflating: animals/valid/images/fox_7d42e37d956e122c_jpg.rf.8fed0fa03105127294c250a128de5dc4.jpg  \n",
            "  inflating: animals/valid/images/fox_82465e937da4a870_jpg.rf.1ed436935922082cc381131004fcf436.jpg  \n",
            "  inflating: animals/valid/images/fox_84b4b4e8579f9f96_jpg.rf.75a54270994211c7220376c1862d6b19.jpg  \n",
            "  inflating: animals/valid/images/fox_84cdd35e28d706da_jpg.rf.0b2bab016ef0d0725e89c00549a910b3.jpg  \n",
            "  inflating: animals/valid/images/fox_8796d6b644d952b2_jpg.rf.68c0548ef56233f84c9995677c6ce0b0.jpg  \n",
            "  inflating: animals/valid/images/fox_87a9a6bb8d1f4fbd_jpg.rf.0b04ef04f901201a48967ec4a2b4d5a1.jpg  \n",
            "  inflating: animals/valid/images/fox_87f4a0e8c6b397c5_jpg.rf.da1c39ed8820e95b694e962ec2fba461.jpg  \n",
            "  inflating: animals/valid/images/fox_884e02720d562247_jpg.rf.5eb5dcd75958a735610318419f4f26d4.jpg  \n",
            "  inflating: animals/valid/images/fox_89fad3ed34ca13a1_jpg.rf.a921ec9815ebde98a702ab58c0571899.jpg  \n",
            "  inflating: animals/valid/images/fox_8aa57816064a7a05_jpg.rf.afec09eb126f783f73b09e7bd3e9ad30.jpg  \n",
            "  inflating: animals/valid/images/fox_8d61d45c76ac52d3_jpg.rf.6e3fa7060a55f4706b44fd5e7b35e2f3.jpg  \n",
            "  inflating: animals/valid/images/fox_8e21ab2e5d059a0c_jpg.rf.1ee946ff1add01ae5025cf611303e92e.jpg  \n",
            "  inflating: animals/valid/images/fox_92f02f779568e31b_jpg.rf.e751d31833e43e7aea0a9e80a74ba0b0.jpg  \n",
            "  inflating: animals/valid/images/fox_9676eb7d05abb2d9_jpg.rf.ecbefd7ae645f58740c903257006257a.jpg  \n",
            "  inflating: animals/valid/images/fox_9676eb7d05abb2d9_jpg.rf.fb67b08486fab59cc98f572261327e19.jpg  \n",
            "  inflating: animals/valid/images/fox_a01745580639855b_jpg.rf.6824263c47a352ccd8d8cbe7f1f1972b.jpg  \n",
            "  inflating: animals/valid/images/fox_a390c90f2f590971_jpg.rf.1dbd7e45ed85312c88d8e226188b574d.jpg  \n",
            "  inflating: animals/valid/images/fox_a5e2eac593f772a9_jpg.rf.c9f7352ad3fc2673fd5308c23c0f5cf4.jpg  \n",
            "  inflating: animals/valid/images/fox_a654793d692c85e4_jpg.rf.f9b28fc79795bbe8ab50e1fc9f242793.jpg  \n",
            "  inflating: animals/valid/images/fox_b05386ec02538f76_jpg.rf.8f666104c13aac6ec5ffe926aa3401f2.jpg  \n",
            "  inflating: animals/valid/images/fox_b100a4d4270029e0_jpg.rf.5c85809553065b995011446fcf42a02b.jpg  \n",
            "  inflating: animals/valid/images/fox_b2fa4fa1202ec9de_jpg.rf.77296eeb9067aaf014464c409cd01728.jpg  \n",
            "  inflating: animals/valid/images/fox_b5f8042382b8c0f9_jpg.rf.2cc682a80db4720885b95bf96b805429.jpg  \n",
            "  inflating: animals/valid/images/fox_b7b65340e83e42ab_jpg.rf.dfc8d484570cb1bef644c29785eafe28.jpg  \n",
            "  inflating: animals/valid/images/fox_b83dc0553a890e71_jpg.rf.181e5d7ec717c629db100743be97b050.jpg  \n",
            "  inflating: animals/valid/images/fox_b8958f0a225e96eb_jpg.rf.18258f1c7cbf2153c2eefc4d695c5a02.jpg  \n",
            "  inflating: animals/valid/images/fox_b959ceb4a023ef64_jpg.rf.b0473c818122ceb14d2d598fcdfe7dbc.jpg  \n",
            "  inflating: animals/valid/images/fox_cf55985927616665_jpg.rf.3dad9499d9ecf006b189da62450ce4e6.jpg  \n",
            "  inflating: animals/valid/images/fox_d1115e74b7be05ba_jpg.rf.d27a1da844a87dab0f6f66a29f025a67.jpg  \n",
            "  inflating: animals/valid/images/fox_d277c09a2cd6ecd0_jpg.rf.b5a84218c9c37517b94bab671e8af4bf.jpg  \n",
            "  inflating: animals/valid/images/fox_d441566778531e20_jpg.rf.6ff09c84d3cc0478567681a0535edb37.jpg  \n",
            "  inflating: animals/valid/images/fox_dbb46c2eb234516c_jpg.rf.8abb330d273aaa64a455c53376baaf96.jpg  \n",
            "  inflating: animals/valid/images/fox_dc7070ad0246590c_jpg.rf.29e12b6f573db5a408d746236eb48677.jpg  \n",
            "  inflating: animals/valid/images/fox_e50c8fa90028c686_jpg.rf.7f3825122ec805143a8a9126ad8aa1f1.jpg  \n",
            "  inflating: animals/valid/images/fox_ea3322eed72c9ff8_jpg.rf.b5a7c9aa0e2e4d3356de382500526137.jpg  \n",
            "  inflating: animals/valid/images/fox_eb1a09e4fba530ee_jpg.rf.ecc4c1f930069f113f90e64e6dea1884.jpg  \n",
            "  inflating: animals/valid/images/fox_edb9cab58e61b285_jpg.rf.4c8f464e1501710deacf2d0dc7d3a174.jpg  \n",
            "  inflating: animals/valid/images/fox_f1ddfa6c4dcf8547_jpg.rf.4783057ca1cdc3998617b121bc9eca77.jpg  \n",
            "  inflating: animals/valid/images/fox_f47ccb503dc90627_jpg.rf.54a090351d5cbd3bcf6ea13e891c9843.jpg  \n",
            "  inflating: animals/valid/images/fox_f4f34f23810a0e11_jpg.rf.a1520c6aa9523d167dd96339c41031b0.jpg  \n",
            "  inflating: animals/valid/images/fox_f6332951d1bdb0d5_jpg.rf.821649f15e0982dec5b9b49e8af1f0e7.jpg  \n",
            "  inflating: animals/valid/images/fox_f6a167533f7c7938_jpg.rf.8a90e9f525d3f92f8e4b5a8156d8ac32.jpg  \n",
            "  inflating: animals/valid/images/fox_f8bad88d9b3f6522_jpg.rf.a0f2c84ee070e45b7417439cc6f2abf2.jpg  \n",
            "  inflating: animals/valid/images/fox_feaef2037a779cec_jpg.rf.eefcb615908db0617b7387ff5a346f4b.jpg  \n",
            "  inflating: animals/valid/images/owl_01f3adbd-5fe7-4d23-b961-38a6ede8f3fb_jpg.rf.d068f2fb1e8e0810dfb3c29b360156b5.jpg  \n",
            "  inflating: animals/valid/images/owl_10406064125_b2a34e5fcd_z_jpg.rf.b528869a1f0d5d7bfa9f26b57db425ec.jpg  \n",
            "  inflating: animals/valid/images/owl_14033603734_4eb42e08a6_z_jpg.rf.4f2cd1b9b31c065f9871aadedee989b1.jpg  \n",
            "  inflating: animals/valid/images/owl_14834155247_69731da8b8_z_jpg.rf.8778a0d2c8da5f2fbbbe9059acee00e8.jpg  \n",
            "  inflating: animals/valid/images/owl_15418381819_222fc2c0d1_z_jpg.rf.7de1ca5cfe4a4f78805993a4108122ce.jpg  \n",
            "  inflating: animals/valid/images/owl_15418381819_222fc2c0d1_z_jpg.rf.9f883bef4b8dd166e490f5abe909bcaa.jpg  \n",
            "  inflating: animals/valid/images/owl_157487402_0f07944efc_z_jpg.rf.b7b3f3df8fa50b028c7f6adaeeb59ba1.jpg  \n",
            "  inflating: animals/valid/images/owl_157487402_0f07944efc_z_jpg.rf.fd4bc4473304960f0432bd3e90a32c50.jpg  \n",
            "  inflating: animals/valid/images/owl_15a1b521210795af5a2ade8723aecbbf_jpg.rf.56751371fe6dcb6d7e8d042e0189af55.jpg  \n",
            "  inflating: animals/valid/images/owl_16126117847_f583263cfc_z_jpg.rf.a1359c7ae74433010da1363864da1ace.jpg  \n",
            "  inflating: animals/valid/images/owl_16239111625_60bd808fd8_z_jpg.rf.dff57a990e5db126ef4e61c7f70b0023.jpg  \n",
            "  inflating: animals/valid/images/owl_1ad3dfb3-bd62-40f5-8618-e1d538435e40_jpg.rf.75914a5e25925bbdcea74ba845f3cbe2.jpg  \n",
            "  inflating: animals/valid/images/owl_1c7e3c33817954582595307932de27d6_jpg.rf.9206c89f661dae667c981406bcc9b616.jpg  \n",
            "  inflating: animals/valid/images/owl_22401482941_6c05737c5d_z_jpg.rf.65054a567af2de6e1fc0b138e85b9b2b.jpg  \n",
            "  inflating: animals/valid/images/owl_22401662271_83e100545e_z_jpg.rf.de20d6221eaeaccbd1ccc7956d014baa.jpg  \n",
            "  inflating: animals/valid/images/owl_2476353736_816094abc6_z_jpg.rf.2e7a45cd94fbd03a10d56437e8c2bd95.jpg  \n",
            "  inflating: animals/valid/images/owl_2552612063_9aef7d1711_z_jpg.rf.663805c1c9357d8f3841e090bd81f0ab.jpg  \n",
            "  inflating: animals/valid/images/owl_28d29a3fa49696c4cbb42a237b318347_jpg.rf.89ccd6eb11833b04cd88ed31d0a33823.jpg  \n",
            "  inflating: animals/valid/images/owl_28d29a3fa49696c4cbb42a237b318347_jpg.rf.e1ff4e25f6990241c7b735136442222f.jpg  \n",
            "  inflating: animals/valid/images/owl_2929600618_ed31c91c6f_z_jpg.rf.4e11836dd569b67847e4b3e763a24bbd.jpg  \n",
            "  inflating: animals/valid/images/owl_2f015d48d65f56966f61569775190f7b_jpg.rf.0037583ee68a4a4b2388a8ca95e05cbb.jpg  \n",
            "  inflating: animals/valid/images/owl_3246496325_731b6453b8_z_jpg.rf.99163f0db9629784cfefddb8708bd664.jpg  \n",
            "  inflating: animals/valid/images/owl_354985250_583337ca4b_z_jpg.rf.d581e34b4eb35a49f10def095c1fe23e.jpg  \n",
            "  inflating: animals/valid/images/owl_3561942579_b91b7458f5_z_jpg.rf.c13a48296f83db31776b5e9b1e634ae8.jpg  \n",
            "  inflating: animals/valid/images/owl_368ed33dd224baacc9edc683a42769f3_jpg.rf.9d144d7591982d0b760464280c1705d2.jpg  \n",
            "  inflating: animals/valid/images/owl_3ce928b5d9532c08ae7f39f4363d5833_jpg.rf.19e794d488c88e7f587d447149a5c1a0.jpg  \n",
            "  inflating: animals/valid/images/owl_3e06446269323ea920dd73e54d83e6dd_jpg.rf.9d7b6ea22b028e6542152993cfa7f90b.jpg  \n",
            "  inflating: animals/valid/images/owl_523425f5-bdf0-4360-b2cf-16078adcd295_jpg.rf.0d6d627a93c7993c75b86d15c2f9a452.jpg  \n",
            "  inflating: animals/valid/images/owl_5675369603_4594fd5686_z_jpg.rf.c23b3126b81908bb684a5534eb2586c2.jpg  \n",
            "  inflating: animals/valid/images/owl_5775308863_dd63ceec15_z_jpg.rf.d7ec36e75193f351e69375fe26627f93.jpg  \n",
            "  inflating: animals/valid/images/owl_5a637302-ac16-480e-bce8-0c533b6d502d_jpg.rf.56058a3e43845fe490ce1d3630e11d1d.jpg  \n",
            "  inflating: animals/valid/images/owl_60047fbd-dfa5-4469-bff8-4ec85242f5fd_jpg.rf.5f4f212ea9c775aec6448ac28e8914e2.jpg  \n",
            "  inflating: animals/valid/images/owl_6017940535_8379df9e75_z_jpg.rf.20c46e3c143ceace7a6ebc816eed10e4.jpg  \n",
            "  inflating: animals/valid/images/owl_60b840b3f226a07956339034e0cdd404_jpg.rf.55767d461fbfe298ef07cd90cae89d31.jpg  \n",
            "  inflating: animals/valid/images/owl_6648057531_8230aeb55e_z_jpg.rf.2cbca4927b66de2f042b872f0439e210.jpg  \n",
            "  inflating: animals/valid/images/owl_6b32dddbe2c92a42a885016f21fd7281_jpg.rf.3356722afd34a405b282d396c9c03718.jpg  \n",
            "  inflating: animals/valid/images/owl_6bea2df540b236e0843502d2350a297f-1-_jpg.rf.7d50b7cde0a5621cd5d23d19d1fa4ab6.jpg  \n",
            "  inflating: animals/valid/images/owl_6cf8a9633c5443098aec503d8b259a02_jpg.rf.5da7d78594413f9b9798ecc348dc6f10.jpg  \n",
            "  inflating: animals/valid/images/owl_6f9e9c8dcdd334cbc4d04c482fced516_jpg.rf.bf0fcc4ca45f24bb7b782e8cc0450581.jpg  \n",
            "  inflating: animals/valid/images/owl_746441695_ae61caaa58_z_jpg.rf.496230e6689000fa8da8bcf8b15da20a.jpg  \n",
            "  inflating: animals/valid/images/owl_7484430416_e90c090411_z_jpg.rf.6e47502357662c69e2686fa984c54b66.jpg  \n",
            "  inflating: animals/valid/images/owl_7497729764_5c534dce6a_z_jpg.rf.933658d4fe201ca23bdba0dab2fdcd2a.jpg  \n",
            "  inflating: animals/valid/images/owl_870a7b7b-fa29-414d-9d27-c28735ccac8c_jpg.rf.e7716d57c07249a97149dd3246e9b8e0.jpg  \n",
            "  inflating: animals/valid/images/owl_92c70933abcf3357ff9abfd32ff231dd_jpg.rf.ee0b63777e0ef999b501f13255d521a7.jpg  \n",
            "  inflating: animals/valid/images/owl_9569956753_ef206e167b_z_jpg.rf.1739acea37a6b5e4d4522057e645cc7d.jpg  \n",
            "  inflating: animals/valid/images/owl_9652234894_f656e182d5_z_jpg.rf.6bf5169bc609484e1159d292ae781b4a.jpg  \n",
            "  inflating: animals/valid/images/owl_9aca1037502b12c3080d89b50cd8809f_jpg.rf.846573e90ea3dee188c7c35014b91390.jpg  \n",
            "  inflating: animals/valid/images/owl_9af295fc05f61f17aebfc32407c3f003_jpg.rf.d72e146cdad7ea1111de5770863c161a.jpg  \n",
            "  inflating: animals/valid/images/owl_9d98fc8540da38afecd772644d6ac0e5_jpg.rf.7b16066a0f77e8b3709a8498bbeddd19.jpg  \n",
            "  inflating: animals/valid/images/owl_b0c110897fc22bd826ac169a82d23dd0_jpg.rf.e2be999eb45acb4f5b1606164ce8f446.jpg  \n",
            "  inflating: animals/valid/images/owl_Barred-Owl-Identification-All-About-Birds-Cornell-Lab-of-Ornithology_jpg.rf.faae9f8fb439571748f6c41866e3aba8.jpg  \n",
            "  inflating: animals/valid/images/owl_Barred-Owl-Picture-Owl-Photography-Owl-Photo-Hunting-Owl-Barred-Owl-Print-Owl-Note-Card-Barred-Owl-Art-Barn-Owl-Bird-of-Prey-Etsy_jpg.rf.61280a5b51f25b0a375d7f1365c8f1dd.jpg  \n",
            "  inflating: animals/valid/images/owl_Beautiful-lil-owl_jpg.rf.fa7cbe5e73a0b1c74d66cdf672163fc4.jpg  \n",
            "  inflating: animals/valid/images/owl_bede35b1ab6c48615433bdce13dd91c0_jpg.rf.ae9d4c82f060fca377699538c96f8737.jpg  \n",
            "  inflating: animals/valid/images/owl_download-20-_jpg.rf.6ad996abfc4ec73b6877062731d1225d.jpg  \n",
            "  inflating: animals/valid/images/owl_download-25-_jpg.rf.149ea08f211d42f03f369da2896265d9.jpg  \n",
            "  inflating: animals/valid/images/owl_eagle-owl-raptor-falconry-owl-53977_jpeg.rf.d55df1bf0cf6979867c3a284a5d923a1.jpg  \n",
            "  inflating: animals/valid/images/owl_fe0d3861e733ce91606fe49c560d64ec_jpg.rf.70d21d5c0d6783a20248d48d36222837.jpg  \n",
            "  inflating: animals/valid/images/owl_fe0d3861e733ce91606fe49c560d64ec_jpg.rf.b11cdb3ac82689792a15e90da34f073f.jpg  \n",
            "  inflating: animals/valid/images/owl_free-photo-of-a-small-owl-perched-on-a-branch-of-a-tree_jpeg.rf.a30d827179e15312a686fd96a486e876.jpg  \n",
            "  inflating: animals/valid/images/owl_free-photo-of-a-small-owl-perched-on-a-branch-of-a-tree_jpeg.rf.bc13e5467d822a2563a7122f5f9bbbf3.jpg  \n",
            "  inflating: animals/valid/images/owl_free-photo-of-close-up-of-an-owl_jpg.rf.8ced16c730eb2bd6d211017584bd29c0.jpg  \n",
            "  inflating: animals/valid/images/owl_free-photo-of-long-eared-owl-perched-on-tree-branch-in-winter_jpeg.rf.9fd573a295381cfa39b61b918d2349bc.jpg  \n",
            "  inflating: animals/valid/images/owl_free-photo-of-long-eared-owl-perched-on-tree-branch-in-winter_jpeg.rf.d1a7fd93af7873f2097d6e98bb72502c.jpg  \n",
            "  inflating: animals/valid/images/owl_free-photo-of-owl-in-a-forest_jpeg.rf.4769811e3ba90cc81613b252a4aa4815.jpg  \n",
            "  inflating: animals/valid/images/owl_free-photo-of-perched-burrowing-owl-in-natural-habitat_jpeg.rf.de684934a4311e8e105dd49ad78959e7.jpg  \n",
            "  inflating: animals/valid/images/owl_images-1-_jpg.rf.24ad82b18bd7961c3928823320b6184a.jpg  \n",
            "  inflating: animals/valid/images/owl_images-1-_jpg.rf.8308064e055384433c59b1be0d88bb03.jpg  \n",
            "  inflating: animals/valid/images/owl_images-10-_jpg.rf.0a0c137376ef964408a8ef3261900e86.jpg  \n",
            "  inflating: animals/valid/images/owl_images-19-_jpg.rf.f01318fbb8714f638400ab5ba3d3ad44.jpg  \n",
            "  inflating: animals/valid/images/owl_images-27-_jpg.rf.ebd01682841276d3a1dc9def4753ae78.jpg  \n",
            "  inflating: animals/valid/images/owl_images-38-_jpg.rf.db20745b239348296641e6363982f0bd.jpg  \n",
            "  inflating: animals/valid/images/owl_images-40-_jpg.rf.24e475dbd3615a8b3a43e1699e5c9e79.jpg  \n",
            "  inflating: animals/valid/images/owl_images-41-_jpg.rf.7f87877742895f97670a048dcf59c859.jpg  \n",
            "  inflating: animals/valid/images/owl_images-5-_jpg.rf.573e9ca7f0b1c52b032c2147e862ed2c.jpg  \n",
            "  inflating: animals/valid/images/owl_images-51-_jpg.rf.3e4f2e2e9b8df08ddbb32b277fdc2410.jpg  \n",
            "  inflating: animals/valid/images/owl_images-55-_jpg.rf.5c8a47abc7ad00045586da238a01a804.jpg  \n",
            "  inflating: animals/valid/images/owl_images-63-_jpg.rf.27ebb4243a32ad45e64d4c8a1e8b644c.jpg  \n",
            "  inflating: animals/valid/images/owl_images-66-_jpg.rf.b36018327b8e3b17cf10f4c8ec5a1a71.jpg  \n",
            "  inflating: animals/valid/images/owl_images-85-_jpg.rf.11c4467c325236d4600b05a1b325b806.jpg  \n",
            "  inflating: animals/valid/images/owl_O_o_jpg.rf.12d78acf8f7d7526abc979f295a690da.jpg  \n",
            "  inflating: animals/valid/images/owl_Owl-5-_jpg.rf.81d9daaaaf0ccb97e4472111ae9ded71.jpg  \n",
            "  inflating: animals/valid/images/owl_Owl-Couple_jpg.rf.05bd7e6a9db6bf55319bdd94ec45d70d.jpg  \n",
            "  inflating: animals/valid/images/owl_Owl-Couple_jpg.rf.c30aa1624332c97c413fd44ed9b3ecc0.jpg  \n",
            "  inflating: animals/valid/images/owl_Owls-2-_jpg.rf.3d2c8b82b9c27b0de06f24543348e064.jpg  \n",
            "  inflating: animals/valid/images/owl_pexels-photo-1149816_webp.rf.8a196572240b3f9cf00a4279ec5d4ad5.jpg  \n",
            "  inflating: animals/valid/images/owl_pexels-photo-12365156_jpeg.rf.1f99738912906a3a73b5e629e20f95aa.jpg  \n",
            "  inflating: animals/valid/images/owl_pexels-photo-1313051_webp.rf.a0a322c127a97b802cbe1323edef767d.jpg  \n",
            "  inflating: animals/valid/images/owl_pexels-photo-1313051_webp.rf.dad42f208e648be2837b9e1280d49fb2.jpg  \n",
            "  inflating: animals/valid/images/owl_pexels-photo-18683300_webp.rf.d34acdbade06d1a50a20f4b69ee0e76c.jpg  \n",
            "  inflating: animals/valid/images/owl_pexels-photo-19046884_webp.rf.032311420e2b9ae7eb12d6e191be97c4.jpg  \n",
            "  inflating: animals/valid/images/owl_pexels-photo-19898701_webp.rf.c77959ee90413840f5263c180120a372.jpg  \n",
            "  inflating: animals/valid/images/owl_pexels-photo-2115984_jpeg.rf.1da99651ff890c9f3319e9890bf6e9cd.jpg  \n",
            "  inflating: animals/valid/images/owl_pexels-photo-2570194_jpeg.rf.3a2326ab5b9878b4d6a85c4cf48efe57.jpg  \n",
            "  inflating: animals/valid/images/owl_pexels-photo-3722721_jpeg.rf.d47b1dfa8db34b1ba16655ffffc1e1eb.jpg  \n",
            "  inflating: animals/valid/images/owl_pexels-photo-3738646_jpeg.rf.830ba2f5ccb6f8f55ecd12f11deea5d3.jpg  \n",
            "  inflating: animals/valid/images/owl_pexels-photo-3738686_webp.rf.9f57a220ba06cf77d64903907f3419e3.jpg  \n",
            "  inflating: animals/valid/images/owl_pexels-photo-416202_jpeg.rf.4ea567fe8514783ed754ab363701d221.jpg  \n",
            "  inflating: animals/valid/images/owl_pexels-photo-5587951_webp.rf.04aa705a18107cee62eeef020986e596.jpg  \n",
            "  inflating: animals/valid/images/owl_pexels-photo-6492194_jpeg.rf.860738d47ef06754079c95fe7c9bb8a2.jpg  \n",
            "  inflating: animals/valid/images/raccoon_raccoon-10_jpg.rf.8443e28d2985dcbcf1601e976f79c74d.jpg  \n",
            "  inflating: animals/valid/images/raccoon_raccoon-102_jpg.rf.64f4681a18ab545d883bc6d17641a53a.jpg  \n",
            "  inflating: animals/valid/images/raccoon_raccoon-104_jpg.rf.859d475eeeda4cff7e56ab9f45605e43.jpg  \n",
            "  inflating: animals/valid/images/raccoon_raccoon-104_jpg.rf.ee0a75df87af95bbee0a5d3db54f7d85.jpg  \n",
            "  inflating: animals/valid/images/raccoon_raccoon-105_jpg.rf.06d4ec80c21418683c8c4fded6abaa6f.jpg  \n",
            "  inflating: animals/valid/images/raccoon_raccoon-106_jpg.rf.1e7f1703aece0f0d9d00aec835ad9d1a.jpg  \n",
            "  inflating: animals/valid/images/raccoon_raccoon-107_jpg.rf.a6b4a37a7d0e5a6bcd1859499f6240bc.jpg  \n",
            "  inflating: animals/valid/images/raccoon_raccoon-107_jpg.rf.ce4d5eea88fec5b12b460d80afc14624.jpg  \n",
            "  inflating: animals/valid/images/raccoon_raccoon-107_jpg.rf.f81510b0376ce22b6779a99be40fa2e2.jpg  \n",
            "  inflating: animals/valid/images/raccoon_raccoon-108_jpg.rf.11aebcb93c1fe7ed669b346e48ccb838.jpg  \n",
            "  inflating: animals/valid/images/raccoon_raccoon-109_jpg.rf.478fd8ab4a142fd093ccdf07e8170578.jpg  \n",
            "  inflating: animals/valid/images/raccoon_raccoon-11_jpg.rf.0d49b47738e0c07cd59648a5d116a15f.jpg  \n",
            "  inflating: animals/valid/images/raccoon_raccoon-111_jpg.rf.38fd179b4604b52c923a5357e1f8fba2.jpg  \n",
            "  inflating: animals/valid/images/raccoon_raccoon-111_jpg.rf.fc71f0ccc86bfa9bdf640e4327171d95.jpg  \n",
            "  inflating: animals/valid/images/raccoon_raccoon-113_jpg.rf.3b0de10247859bbd73815b8db0ec23e7.jpg  \n",
            "  inflating: animals/valid/images/raccoon_raccoon-115_jpg.rf.98f3cd918704e878bbd69d843c2d4bb1.jpg  \n",
            "  inflating: animals/valid/images/raccoon_raccoon-12_jpg.rf.d679bb1a5486936209530d4abc0c197d.jpg  \n",
            "  inflating: animals/valid/images/raccoon_raccoon-123_jpg.rf.dbc6f44ad10ea3c7acb9d7c6f720fea4.jpg  \n",
            "  inflating: animals/valid/images/raccoon_raccoon-124_jpg.rf.27232b61346df983a6cdef542bf58b40.jpg  \n",
            "  inflating: animals/valid/images/raccoon_raccoon-125_jpg.rf.46bc9f0f5991e0d0cb686023a859dd52.jpg  \n",
            "  inflating: animals/valid/images/raccoon_raccoon-125_jpg.rf.c4413725e6dd9f12f5e7f2c3ac507195.jpg  \n",
            "  inflating: animals/valid/images/raccoon_raccoon-125_jpg.rf.ed8401b0ef96c60d5883de7b1b05e607.jpg  \n",
            "  inflating: animals/valid/images/raccoon_raccoon-126_jpg.rf.9bbc41f95da2db8e37010f3969c79df7.jpg  \n",
            "  inflating: animals/valid/images/raccoon_raccoon-127_jpg.rf.bcc634cf11da0dca1463c3582044f088.jpg  \n",
            "  inflating: animals/valid/images/raccoon_raccoon-129_jpg.rf.cc3e81c1cc12d4561c64e7b24a58e7aa.jpg  \n",
            "  inflating: animals/valid/images/raccoon_raccoon-13_jpg.rf.75936a43fabb0610feab9f5106016d3c.jpg  \n",
            "  inflating: animals/valid/images/raccoon_raccoon-131_jpg.rf.e1fab82970a262f85f7f29d5bba53ee4.jpg  \n",
            "  inflating: animals/valid/images/raccoon_raccoon-137_jpg.rf.47d2a283f17d5f447b672b5c86849268.jpg  \n",
            "  inflating: animals/valid/images/raccoon_raccoon-139_jpg.rf.0d7c03b8c9762a9887023dc72a2abd15.jpg  \n",
            "  inflating: animals/valid/images/raccoon_raccoon-140_jpg.rf.65f0dd259678a2fa6ababe45bbae0e09.jpg  \n",
            "  inflating: animals/valid/images/raccoon_raccoon-142_jpg.rf.a960869bd034edec149d58b4ae431eae.jpg  \n",
            "  inflating: animals/valid/images/raccoon_raccoon-148_jpg.rf.e8e1fa66d3721e3073c4fc7df57b8d01.jpg  \n",
            "  inflating: animals/valid/images/raccoon_raccoon-152_jpg.rf.bd9116f85c73bd77b9357ed0f7d6ed77.jpg  \n",
            "  inflating: animals/valid/images/raccoon_raccoon-152_jpg.rf.be3ca908b8b34a2376405b527455007a.jpg  \n",
            "  inflating: animals/valid/images/raccoon_raccoon-153_jpg.rf.6ecccb25f79fe29797dedfab21682148.jpg  \n",
            "  inflating: animals/valid/images/raccoon_raccoon-155_jpg.rf.61c6c6cdafe462447104ac6eea8821b4.jpg  \n",
            "  inflating: animals/valid/images/raccoon_raccoon-157_jpg.rf.aae2b3a2ce3b6aa252bb3935a91b30fb.jpg  \n",
            "  inflating: animals/valid/images/raccoon_raccoon-160_jpg.rf.16f37cc382176dc7d5b292efa410e290.jpg  \n",
            "  inflating: animals/valid/images/raccoon_raccoon-162_jpg.rf.4c825cd76dc50b0e2dac72155e244f1a.jpg  \n",
            "  inflating: animals/valid/images/raccoon_raccoon-164_jpg.rf.6fdaf7f3e8a7190fdd472c7c55209668.jpg  \n",
            "  inflating: animals/valid/images/raccoon_raccoon-165_jpg.rf.23849a8d3469dd752b35089866c3d2aa.jpg  \n",
            "  inflating: animals/valid/images/raccoon_raccoon-166_jpg.rf.9e5efa20f35e42a8e300a0bf4ef1a981.jpg  \n",
            "  inflating: animals/valid/images/raccoon_raccoon-166_jpg.rf.c6b1da561ecd9ea337f93efa9279f76c.jpg  \n",
            "  inflating: animals/valid/images/raccoon_raccoon-167_jpg.rf.99f87d27767bb65257512221718c31fc.jpg  \n",
            "  inflating: animals/valid/images/raccoon_raccoon-167_jpg.rf.b56ad7c0bc8233f79fcb62dae314c865.jpg  \n",
            "  inflating: animals/valid/images/raccoon_raccoon-168_jpg.rf.3b4d8315641f44c1b510d97e4d1bdcc2.jpg  \n",
            "  inflating: animals/valid/images/raccoon_raccoon-168_jpg.rf.987ca5141c5e273ffaf50041a5009fa8.jpg  \n",
            "  inflating: animals/valid/images/raccoon_raccoon-17_jpg.rf.86837e18db2c67e9a0410e4110b211f9.jpg  \n",
            "  inflating: animals/valid/images/raccoon_raccoon-172_jpg.rf.2439b89c6930dde16588b7a17bb0625a.jpg  \n",
            "  inflating: animals/valid/images/raccoon_raccoon-173_jpg.rf.16a978fcc4fe59a20b65f25d1735c8c6.jpg  \n",
            "  inflating: animals/valid/images/raccoon_raccoon-176_jpg.rf.702a6a58eadcf40a988769e71da06d91.jpg  \n",
            "  inflating: animals/valid/images/raccoon_raccoon-177_jpg.rf.62ef98f2287b4ce3fb6dcb2c98b8ba2f.jpg  \n",
            "  inflating: animals/valid/images/raccoon_raccoon-177_jpg.rf.7ef5646038490864a23fdc548d7e3721.jpg  \n",
            "  inflating: animals/valid/images/raccoon_raccoon-177_jpg.rf.b7f7d58c178ad2bc27f9a6f9f7c9dbaa.jpg  \n",
            "  inflating: animals/valid/images/raccoon_raccoon-178_jpg.rf.48808bdd5812a55c5df667b03fd5d1e7.jpg  \n",
            "  inflating: animals/valid/images/raccoon_raccoon-179_jpg.rf.1ad781601b39697ed885660e8af6746e.jpg  \n",
            "  inflating: animals/valid/images/raccoon_raccoon-18_jpg.rf.bcd8f818cac15db688effbac1bee18f8.jpg  \n",
            "  inflating: animals/valid/images/raccoon_raccoon-180_jpg.rf.6a4bc465bc8ca27417dacd41a881e76e.jpg  \n",
            "  inflating: animals/valid/images/raccoon_raccoon-181_jpg.rf.3ebb109c196e4caa2448212b23e7cff6.jpg  \n",
            "  inflating: animals/valid/images/raccoon_raccoon-183_jpg.rf.13773b32628f309a18eee183c81392c9.jpg  \n",
            "  inflating: animals/valid/images/raccoon_raccoon-185_jpg.rf.bc5122b021fb19294b176f1d07d31e6e.jpg  \n",
            "  inflating: animals/valid/images/raccoon_raccoon-186_jpg.rf.331df167ba207b643dbb600855e7cd42.jpg  \n",
            "  inflating: animals/valid/images/raccoon_raccoon-189_jpg.rf.444fccacc8707b1af601f9cc158a1818.jpg  \n",
            "  inflating: animals/valid/images/raccoon_raccoon-190_jpg.rf.ca2f33fcf3ddb1505934f2a153641cfc.jpg  \n",
            "  inflating: animals/valid/images/raccoon_raccoon-191_jpg.rf.20890d9b745a7b01340868cd394adf13.jpg  \n",
            "  inflating: animals/valid/images/raccoon_raccoon-191_jpg.rf.b183cd3cead5790a1b182e8b281181bc.jpg  \n",
            "  inflating: animals/valid/images/raccoon_raccoon-194_jpg.rf.54297085058ca4b423e5c047ba437bb0.jpg  \n",
            "  inflating: animals/valid/images/raccoon_raccoon-197_jpg.rf.b8cfcbf1abaca0062d88d8a98607da6c.jpg  \n",
            "  inflating: animals/valid/images/raccoon_raccoon-21_jpg.rf.b0aa6cd0f07bb028254b3de21ca66c49.jpg  \n",
            "  inflating: animals/valid/images/raccoon_raccoon-23_jpg.rf.8ebdb1b6ec7ac8d08bc341edd9dae5cd.jpg  \n",
            "  inflating: animals/valid/images/raccoon_raccoon-24_jpg.rf.24dbeae65b9e703a5c9734486d50a553.jpg  \n",
            "  inflating: animals/valid/images/raccoon_raccoon-26_jpg.rf.f0901954242ee815c908637534ea5875.jpg  \n",
            "  inflating: animals/valid/images/raccoon_raccoon-27_jpg.rf.505a6b0f8a4a9359f28ed01f72684eb5.jpg  \n",
            "  inflating: animals/valid/images/raccoon_raccoon-27_jpg.rf.9a7ce110ac7aaa96c275ade1f4c6061f.jpg  \n",
            "  inflating: animals/valid/images/raccoon_raccoon-27_jpg.rf.b013a17ea0e967280f9ffafcb0bdcd1d.jpg  \n",
            "  inflating: animals/valid/images/raccoon_raccoon-28_jpg.rf.fb95b7a5e15dd68193e1d0610b8b73ea.jpg  \n",
            "  inflating: animals/valid/images/raccoon_raccoon-3_jpg.rf.af4ba6b86187651088223809b44533c8.jpg  \n",
            "  inflating: animals/valid/images/raccoon_raccoon-32_jpg.rf.553d82cfeab5da63baca1e022391be38.jpg  \n",
            "  inflating: animals/valid/images/raccoon_raccoon-36_jpg.rf.de8d572d88797cb341d32e3a627afedd.jpg  \n",
            "  inflating: animals/valid/images/raccoon_raccoon-38_jpg.rf.d8e7527417b80fe15464fe5248149028.jpg  \n",
            "  inflating: animals/valid/images/raccoon_raccoon-4_jpg.rf.4a0080d5c3c4cd91dfeec03637893aa4.jpg  \n",
            "  inflating: animals/valid/images/raccoon_raccoon-42_jpg.rf.5313a5e9b434fe431834b232c8b53af2.jpg  \n",
            "  inflating: animals/valid/images/raccoon_raccoon-44_jpg.rf.0b68dc72a429a944277e766468bef229.jpg  \n",
            "  inflating: animals/valid/images/raccoon_raccoon-45_jpg.rf.ccfe58e1cdb23cfc4c1289be65104d53.jpg  \n",
            "  inflating: animals/valid/images/raccoon_raccoon-46_jpg.rf.036aa7f9efcd203f28c06c6b3e4ab439.jpg  \n",
            "  inflating: animals/valid/images/raccoon_raccoon-48_jpg.rf.870bc839e86ee134db1a4ccf1b8ba809.jpg  \n",
            "  inflating: animals/valid/images/raccoon_raccoon-50_jpg.rf.9b364f3f764ff81cc9187c60586362f6.jpg  \n",
            "  inflating: animals/valid/images/raccoon_raccoon-53_jpg.rf.4d59c47a5a8b554573c6a5a973c908ab.jpg  \n",
            "  inflating: animals/valid/images/raccoon_raccoon-60_jpg.rf.66e36fc5fc5b8697fb44a398fbd9ec8b.jpg  \n",
            "  inflating: animals/valid/images/raccoon_raccoon-61_jpg.rf.fcc7d67abd8b16aacf0a00e302aeb45b.jpg  \n",
            "  inflating: animals/valid/images/raccoon_raccoon-68_jpg.rf.7248b9b126514e68a131794724aa9893.jpg  \n",
            "  inflating: animals/valid/images/raccoon_raccoon-75_jpg.rf.65a1cbe3e5fb8b32d1d40a7912bb1c61.jpg  \n",
            "  inflating: animals/valid/images/raccoon_raccoon-77_jpg.rf.9aa1071324226f0eb3af0c1bd93ee8bd.jpg  \n",
            "  inflating: animals/valid/images/raccoon_raccoon-79_jpg.rf.bd46eceae08f953f860355fe178a811c.jpg  \n",
            "  inflating: animals/valid/images/raccoon_raccoon-86_jpg.rf.70269c0aa9f64f83de50d96e94f4e8b2.jpg  \n",
            "  inflating: animals/valid/images/raccoon_raccoon-86_jpg.rf.e640e0c5e197558eb7cd053fae9e7ab8.jpg  \n",
            "  inflating: animals/valid/images/raccoon_raccoon-92_jpg.rf.6bbc9487f9f97ca364cbf4a56d2f10fc.jpg  \n",
            "  inflating: animals/valid/images/raccoon_raccoon-93_jpg.rf.4ca584ee40979f29245633ac89936cd4.jpg  \n",
            "  inflating: animals/valid/images/raccoon_raccoon-93_jpg.rf.dc36a9a98c30f66d1ff8bcc8f238ace3.jpg  \n",
            "  inflating: animals/valid/images/raccoon_raccoon-94_jpg.rf.2d43e955b9b17afade13800b1d389684.jpg  \n",
            "  inflating: animals/valid/labels.cache  \n",
            "   creating: animals/valid/labels/\n",
            "  inflating: animals/valid/labels/fox_00648ee778a0a959_jpg.rf.d6019061dc42a393a901164ad4f3c5a9.txt  \n",
            "  inflating: animals/valid/labels/fox_026748cbec73bd58_jpg.rf.c4e984f25eeaca37db35d2443e8ee7c7.txt  \n",
            "  inflating: animals/valid/labels/fox_04f2e94630149f49_jpg.rf.d0e4b50f85114e907defc1bfaf3dd918.txt  \n",
            "  inflating: animals/valid/labels/fox_04fa3bd43d018446_jpg.rf.7b4a5937088040bbd7cfb94beddbb2bc.txt  \n",
            "  inflating: animals/valid/labels/fox_08040dac13fa3ba0_jpg.rf.2b361373e03956d00b3e69eb902f00a1.txt  \n",
            "  inflating: animals/valid/labels/fox_08040dac13fa3ba0_jpg.rf.b46637193ddc9837ed89222b2d2ca4d8.txt  \n",
            "  inflating: animals/valid/labels/fox_086b753b70ea980d_jpg.rf.0e09f4a0eccd5c9267e64976872cb835.txt  \n",
            "  inflating: animals/valid/labels/fox_0880e7a154f18348_jpg.rf.3049169a04f8ea44ca05e545a9d58112.txt  \n",
            "  inflating: animals/valid/labels/fox_09ce2931e9b28e5a_jpg.rf.3c7c1c3fce91e328993ded67106c40e8.txt  \n",
            "  inflating: animals/valid/labels/fox_0b390c2d8076d17c_jpg.rf.18ded14bf03c8823b5a8b799701dec94.txt  \n",
            "  inflating: animals/valid/labels/fox_0b720d3af8d92d6a_jpg.rf.811ce96f7eb4f42f21c8914d14f6a409.txt  \n",
            "  inflating: animals/valid/labels/fox_0d762b2043b71477_jpg.rf.d37715a9fd28234a0b61154c1848a914.txt  \n",
            "  inflating: animals/valid/labels/fox_10e0b0d034603ec8_jpg.rf.d121f0f67dc6764933e6143abe44b0da.txt  \n",
            "  inflating: animals/valid/labels/fox_113553de38ba6d5b_jpg.rf.c621a792b39f21a2e32fd40f927906ec.txt  \n",
            "  inflating: animals/valid/labels/fox_1454a7fc3badd3fd_jpg.rf.83de7af4df5fa3579fad4e6e7cc2982f.txt  \n",
            "  inflating: animals/valid/labels/fox_1454a7fc3badd3fd_jpg.rf.e5e5c37710af525c940282b3a42a0893.txt  \n",
            "  inflating: animals/valid/labels/fox_14a4a1ecf60eda1b_jpg.rf.f4dde7eb49bf24173e4b65ec6b30e083.txt  \n",
            "  inflating: animals/valid/labels/fox_14fc8f1a4236cb68_jpg.rf.b46ba07118c33f0d9f6a305914b08e3c.txt  \n",
            "  inflating: animals/valid/labels/fox_163f1c0a581912de_jpg.rf.4ab9ab9499fc528108bbaa693b5298e5.txt  \n",
            "  inflating: animals/valid/labels/fox_17408843c5b824a6_jpg.rf.f8d4d388470148b0fe7abb3e5acac2a7.txt  \n",
            "  inflating: animals/valid/labels/fox_177652bc870299bb_jpg.rf.afea483f1744be5c16d6eb22d53e0f59.txt  \n",
            "  inflating: animals/valid/labels/fox_19e07627b2fdba91_jpg.rf.b7338165858fef46b9d64b7590639f95.txt  \n",
            "  inflating: animals/valid/labels/fox_1b5c5738a2fb347a_jpg.rf.9eea66bb06fb4502321c8a299b306111.txt  \n",
            "  inflating: animals/valid/labels/fox_1b7f1eaef99b4b02_jpg.rf.8c3c8bc26e1d02664163e2f9a5878a61.txt  \n",
            "  inflating: animals/valid/labels/fox_211b6e578ede94a8_jpg.rf.29ba8fa7c81000bced5912eee7c18b25.txt  \n",
            "  inflating: animals/valid/labels/fox_23acd8c211502b38_jpg.rf.0c1289fd96b0ee6ada6f4944c23c10af.txt  \n",
            "  inflating: animals/valid/labels/fox_24ddd29ea95084da_jpg.rf.58c244b01f5187abe6b49cd18baac5a1.txt  \n",
            "  inflating: animals/valid/labels/fox_2508f841a0a2ecdb_jpg.rf.cde172c3407d2e39a84d2da89798cb1d.txt  \n",
            "  inflating: animals/valid/labels/fox_2811feb135328ba1_jpg.rf.713794e6e6d75521d856101aaaf5aa4b.txt  \n",
            "  inflating: animals/valid/labels/fox_2c718da44c519994_jpg.rf.17e790069ea3321e5c62bbbd428d2b2d.txt  \n",
            "  inflating: animals/valid/labels/fox_2caefabba9f6c41b_jpg.rf.f5fc58be68be3be358b7ad3c91a17071.txt  \n",
            "  inflating: animals/valid/labels/fox_2cda0403618f04d2_jpg.rf.55bbb8d317d4d4b5a488bd2be135d17a.txt  \n",
            "  inflating: animals/valid/labels/fox_3129bf59d6643fbf_jpg.rf.d008a14acd6ba2844d9b446392f2ac4b.txt  \n",
            "  inflating: animals/valid/labels/fox_350caadb9ac1d1f9_jpg.rf.4c2733ac0f1b9111fc47d24df700c2c5.txt  \n",
            "  inflating: animals/valid/labels/fox_36129f654de6062c_jpg.rf.19f1d34a299ec2af79add8490bd6489f.txt  \n",
            "  inflating: animals/valid/labels/fox_37a4b40f48e26e15_jpg.rf.553383e2a260e53006a53fa9c51d3a09.txt  \n",
            "  inflating: animals/valid/labels/fox_38c39cdf9e0ee73b_jpg.rf.4d7a00c6b4395c93b109f3efd8764d94.txt  \n",
            "  inflating: animals/valid/labels/fox_3eae2264618c62f6_jpg.rf.37e6ad938e4dbda8c5f6685fe0e12254.txt  \n",
            "  inflating: animals/valid/labels/fox_3ef0478f0eb7a6b0_jpg.rf.d5e9c73b7f44d158a338738ed099af5f.txt  \n",
            "  inflating: animals/valid/labels/fox_40e358d0754018f6_jpg.rf.b816440be4000a9406168f808cac3faf.txt  \n",
            "  inflating: animals/valid/labels/fox_45cbe53b23da4d86_jpg.rf.63048e1ae91278fd8f3e8ba564ac8b20.txt  \n",
            "  inflating: animals/valid/labels/fox_541335b9143e98f4_jpg.rf.71b46c82dec44d11d77856fa16986cfe.txt  \n",
            "  inflating: animals/valid/labels/fox_5435606cde026ff9_jpg.rf.8ca6e19bcfcb95356bac8c826cae3425.txt  \n",
            "  inflating: animals/valid/labels/fox_54c119dee30bbc20_jpg.rf.a633d1115c60dbec17403634a471a774.txt  \n",
            "  inflating: animals/valid/labels/fox_57722abc66efd5a8_jpg.rf.006110d84797e7bf7a2a976b8921a289.txt  \n",
            "  inflating: animals/valid/labels/fox_58476265ecb12139_jpg.rf.9b18b4a00ea9b3897a2a788df5415c2a.txt  \n",
            "  inflating: animals/valid/labels/fox_615666509d0d30d8_jpg.rf.22c061849ce780bec9639387e3c6f6c1.txt  \n",
            "  inflating: animals/valid/labels/fox_66a405e352af9087_jpg.rf.7f4082e8de189d71595c98bb62cfe4de.txt  \n",
            "  inflating: animals/valid/labels/fox_6bf1944cedc67ce6_jpg.rf.a51b4f094c62a7796c2908994d0a23be.txt  \n",
            "  inflating: animals/valid/labels/fox_6d120677214a4ec1_jpg.rf.b4f733c9b0b7ce4765d3904148b70a89.txt  \n",
            "  inflating: animals/valid/labels/fox_6d9766bd5aea3794_jpg.rf.9abce293bc5c702805b371e5f62901a6.txt  \n",
            "  inflating: animals/valid/labels/fox_70e936281731f60a_jpg.rf.22d5c740f71460efea9f3af5b95da055.txt  \n",
            "  inflating: animals/valid/labels/fox_73874bb13a8619d0_jpg.rf.2b9316ea0b13bc8ef88e0ecb81db0183.txt  \n",
            "  inflating: animals/valid/labels/fox_73d73eda20bafca6_jpg.rf.575c8c7e5009119a0cbf4ff772ddcef0.txt  \n",
            "  inflating: animals/valid/labels/fox_79c0f1446a52595f_jpg.rf.968d8fe4e91da60d1ee106e571644a83.txt  \n",
            "  inflating: animals/valid/labels/fox_7a4c106169797b1b_jpg.rf.6bde73ab61e679445ee79ed8224c0a65.txt  \n",
            "  inflating: animals/valid/labels/fox_7d42e37d956e122c_jpg.rf.8fed0fa03105127294c250a128de5dc4.txt  \n",
            "  inflating: animals/valid/labels/fox_82465e937da4a870_jpg.rf.1ed436935922082cc381131004fcf436.txt  \n",
            "  inflating: animals/valid/labels/fox_84b4b4e8579f9f96_jpg.rf.75a54270994211c7220376c1862d6b19.txt  \n",
            "  inflating: animals/valid/labels/fox_84cdd35e28d706da_jpg.rf.0b2bab016ef0d0725e89c00549a910b3.txt  \n",
            "  inflating: animals/valid/labels/fox_8796d6b644d952b2_jpg.rf.68c0548ef56233f84c9995677c6ce0b0.txt  \n",
            "  inflating: animals/valid/labels/fox_87a9a6bb8d1f4fbd_jpg.rf.0b04ef04f901201a48967ec4a2b4d5a1.txt  \n",
            "  inflating: animals/valid/labels/fox_87f4a0e8c6b397c5_jpg.rf.da1c39ed8820e95b694e962ec2fba461.txt  \n",
            "  inflating: animals/valid/labels/fox_884e02720d562247_jpg.rf.5eb5dcd75958a735610318419f4f26d4.txt  \n",
            "  inflating: animals/valid/labels/fox_89fad3ed34ca13a1_jpg.rf.a921ec9815ebde98a702ab58c0571899.txt  \n",
            "  inflating: animals/valid/labels/fox_8aa57816064a7a05_jpg.rf.afec09eb126f783f73b09e7bd3e9ad30.txt  \n",
            "  inflating: animals/valid/labels/fox_8d61d45c76ac52d3_jpg.rf.6e3fa7060a55f4706b44fd5e7b35e2f3.txt  \n",
            "  inflating: animals/valid/labels/fox_8e21ab2e5d059a0c_jpg.rf.1ee946ff1add01ae5025cf611303e92e.txt  \n",
            "  inflating: animals/valid/labels/fox_92f02f779568e31b_jpg.rf.e751d31833e43e7aea0a9e80a74ba0b0.txt  \n",
            "  inflating: animals/valid/labels/fox_9676eb7d05abb2d9_jpg.rf.ecbefd7ae645f58740c903257006257a.txt  \n",
            "  inflating: animals/valid/labels/fox_9676eb7d05abb2d9_jpg.rf.fb67b08486fab59cc98f572261327e19.txt  \n",
            "  inflating: animals/valid/labels/fox_a01745580639855b_jpg.rf.6824263c47a352ccd8d8cbe7f1f1972b.txt  \n",
            "  inflating: animals/valid/labels/fox_a390c90f2f590971_jpg.rf.1dbd7e45ed85312c88d8e226188b574d.txt  \n",
            "  inflating: animals/valid/labels/fox_a5e2eac593f772a9_jpg.rf.c9f7352ad3fc2673fd5308c23c0f5cf4.txt  \n",
            "  inflating: animals/valid/labels/fox_a654793d692c85e4_jpg.rf.f9b28fc79795bbe8ab50e1fc9f242793.txt  \n",
            "  inflating: animals/valid/labels/fox_b05386ec02538f76_jpg.rf.8f666104c13aac6ec5ffe926aa3401f2.txt  \n",
            "  inflating: animals/valid/labels/fox_b100a4d4270029e0_jpg.rf.5c85809553065b995011446fcf42a02b.txt  \n",
            "  inflating: animals/valid/labels/fox_b2fa4fa1202ec9de_jpg.rf.77296eeb9067aaf014464c409cd01728.txt  \n",
            "  inflating: animals/valid/labels/fox_b5f8042382b8c0f9_jpg.rf.2cc682a80db4720885b95bf96b805429.txt  \n",
            "  inflating: animals/valid/labels/fox_b7b65340e83e42ab_jpg.rf.dfc8d484570cb1bef644c29785eafe28.txt  \n",
            "  inflating: animals/valid/labels/fox_b83dc0553a890e71_jpg.rf.181e5d7ec717c629db100743be97b050.txt  \n",
            "  inflating: animals/valid/labels/fox_b8958f0a225e96eb_jpg.rf.18258f1c7cbf2153c2eefc4d695c5a02.txt  \n",
            "  inflating: animals/valid/labels/fox_b959ceb4a023ef64_jpg.rf.b0473c818122ceb14d2d598fcdfe7dbc.txt  \n",
            "  inflating: animals/valid/labels/fox_cf55985927616665_jpg.rf.3dad9499d9ecf006b189da62450ce4e6.txt  \n",
            "  inflating: animals/valid/labels/fox_d1115e74b7be05ba_jpg.rf.d27a1da844a87dab0f6f66a29f025a67.txt  \n",
            "  inflating: animals/valid/labels/fox_d277c09a2cd6ecd0_jpg.rf.b5a84218c9c37517b94bab671e8af4bf.txt  \n",
            "  inflating: animals/valid/labels/fox_d441566778531e20_jpg.rf.6ff09c84d3cc0478567681a0535edb37.txt  \n",
            "  inflating: animals/valid/labels/fox_dbb46c2eb234516c_jpg.rf.8abb330d273aaa64a455c53376baaf96.txt  \n",
            "  inflating: animals/valid/labels/fox_dc7070ad0246590c_jpg.rf.29e12b6f573db5a408d746236eb48677.txt  \n",
            "  inflating: animals/valid/labels/fox_e50c8fa90028c686_jpg.rf.7f3825122ec805143a8a9126ad8aa1f1.txt  \n",
            "  inflating: animals/valid/labels/fox_ea3322eed72c9ff8_jpg.rf.b5a7c9aa0e2e4d3356de382500526137.txt  \n",
            "  inflating: animals/valid/labels/fox_eb1a09e4fba530ee_jpg.rf.ecc4c1f930069f113f90e64e6dea1884.txt  \n",
            "  inflating: animals/valid/labels/fox_edb9cab58e61b285_jpg.rf.4c8f464e1501710deacf2d0dc7d3a174.txt  \n",
            "  inflating: animals/valid/labels/fox_f1ddfa6c4dcf8547_jpg.rf.4783057ca1cdc3998617b121bc9eca77.txt  \n",
            "  inflating: animals/valid/labels/fox_f47ccb503dc90627_jpg.rf.54a090351d5cbd3bcf6ea13e891c9843.txt  \n",
            "  inflating: animals/valid/labels/fox_f4f34f23810a0e11_jpg.rf.a1520c6aa9523d167dd96339c41031b0.txt  \n",
            "  inflating: animals/valid/labels/fox_f6332951d1bdb0d5_jpg.rf.821649f15e0982dec5b9b49e8af1f0e7.txt  \n",
            "  inflating: animals/valid/labels/fox_f6a167533f7c7938_jpg.rf.8a90e9f525d3f92f8e4b5a8156d8ac32.txt  \n",
            "  inflating: animals/valid/labels/fox_f8bad88d9b3f6522_jpg.rf.a0f2c84ee070e45b7417439cc6f2abf2.txt  \n",
            "  inflating: animals/valid/labels/fox_feaef2037a779cec_jpg.rf.eefcb615908db0617b7387ff5a346f4b.txt  \n",
            "  inflating: animals/valid/labels/owl_01f3adbd-5fe7-4d23-b961-38a6ede8f3fb_jpg.rf.d068f2fb1e8e0810dfb3c29b360156b5.txt  \n",
            "  inflating: animals/valid/labels/owl_10406064125_b2a34e5fcd_z_jpg.rf.b528869a1f0d5d7bfa9f26b57db425ec.txt  \n",
            "  inflating: animals/valid/labels/owl_14033603734_4eb42e08a6_z_jpg.rf.4f2cd1b9b31c065f9871aadedee989b1.txt  \n",
            "  inflating: animals/valid/labels/owl_14834155247_69731da8b8_z_jpg.rf.8778a0d2c8da5f2fbbbe9059acee00e8.txt  \n",
            "  inflating: animals/valid/labels/owl_15418381819_222fc2c0d1_z_jpg.rf.7de1ca5cfe4a4f78805993a4108122ce.txt  \n",
            "  inflating: animals/valid/labels/owl_15418381819_222fc2c0d1_z_jpg.rf.9f883bef4b8dd166e490f5abe909bcaa.txt  \n",
            "  inflating: animals/valid/labels/owl_157487402_0f07944efc_z_jpg.rf.b7b3f3df8fa50b028c7f6adaeeb59ba1.txt  \n",
            "  inflating: animals/valid/labels/owl_157487402_0f07944efc_z_jpg.rf.fd4bc4473304960f0432bd3e90a32c50.txt  \n",
            "  inflating: animals/valid/labels/owl_15a1b521210795af5a2ade8723aecbbf_jpg.rf.56751371fe6dcb6d7e8d042e0189af55.txt  \n",
            " extracting: animals/valid/labels/owl_16126117847_f583263cfc_z_jpg.rf.a1359c7ae74433010da1363864da1ace.txt  \n",
            "  inflating: animals/valid/labels/owl_16239111625_60bd808fd8_z_jpg.rf.dff57a990e5db126ef4e61c7f70b0023.txt  \n",
            "  inflating: animals/valid/labels/owl_1ad3dfb3-bd62-40f5-8618-e1d538435e40_jpg.rf.75914a5e25925bbdcea74ba845f3cbe2.txt  \n",
            "  inflating: animals/valid/labels/owl_1c7e3c33817954582595307932de27d6_jpg.rf.9206c89f661dae667c981406bcc9b616.txt  \n",
            "  inflating: animals/valid/labels/owl_22401482941_6c05737c5d_z_jpg.rf.65054a567af2de6e1fc0b138e85b9b2b.txt  \n",
            "  inflating: animals/valid/labels/owl_22401662271_83e100545e_z_jpg.rf.de20d6221eaeaccbd1ccc7956d014baa.txt  \n",
            "  inflating: animals/valid/labels/owl_2476353736_816094abc6_z_jpg.rf.2e7a45cd94fbd03a10d56437e8c2bd95.txt  \n",
            "  inflating: animals/valid/labels/owl_2552612063_9aef7d1711_z_jpg.rf.663805c1c9357d8f3841e090bd81f0ab.txt  \n",
            "  inflating: animals/valid/labels/owl_28d29a3fa49696c4cbb42a237b318347_jpg.rf.89ccd6eb11833b04cd88ed31d0a33823.txt  \n",
            "  inflating: animals/valid/labels/owl_28d29a3fa49696c4cbb42a237b318347_jpg.rf.e1ff4e25f6990241c7b735136442222f.txt  \n",
            "  inflating: animals/valid/labels/owl_2929600618_ed31c91c6f_z_jpg.rf.4e11836dd569b67847e4b3e763a24bbd.txt  \n",
            "  inflating: animals/valid/labels/owl_2f015d48d65f56966f61569775190f7b_jpg.rf.0037583ee68a4a4b2388a8ca95e05cbb.txt  \n",
            "  inflating: animals/valid/labels/owl_3246496325_731b6453b8_z_jpg.rf.99163f0db9629784cfefddb8708bd664.txt  \n",
            "  inflating: animals/valid/labels/owl_354985250_583337ca4b_z_jpg.rf.d581e34b4eb35a49f10def095c1fe23e.txt  \n",
            "  inflating: animals/valid/labels/owl_3561942579_b91b7458f5_z_jpg.rf.c13a48296f83db31776b5e9b1e634ae8.txt  \n",
            "  inflating: animals/valid/labels/owl_368ed33dd224baacc9edc683a42769f3_jpg.rf.9d144d7591982d0b760464280c1705d2.txt  \n",
            "  inflating: animals/valid/labels/owl_3ce928b5d9532c08ae7f39f4363d5833_jpg.rf.19e794d488c88e7f587d447149a5c1a0.txt  \n",
            "  inflating: animals/valid/labels/owl_3e06446269323ea920dd73e54d83e6dd_jpg.rf.9d7b6ea22b028e6542152993cfa7f90b.txt  \n",
            "  inflating: animals/valid/labels/owl_523425f5-bdf0-4360-b2cf-16078adcd295_jpg.rf.0d6d627a93c7993c75b86d15c2f9a452.txt  \n",
            "  inflating: animals/valid/labels/owl_5675369603_4594fd5686_z_jpg.rf.c23b3126b81908bb684a5534eb2586c2.txt  \n",
            "  inflating: animals/valid/labels/owl_5775308863_dd63ceec15_z_jpg.rf.d7ec36e75193f351e69375fe26627f93.txt  \n",
            "  inflating: animals/valid/labels/owl_5a637302-ac16-480e-bce8-0c533b6d502d_jpg.rf.56058a3e43845fe490ce1d3630e11d1d.txt  \n",
            "  inflating: animals/valid/labels/owl_60047fbd-dfa5-4469-bff8-4ec85242f5fd_jpg.rf.5f4f212ea9c775aec6448ac28e8914e2.txt  \n",
            "  inflating: animals/valid/labels/owl_6017940535_8379df9e75_z_jpg.rf.20c46e3c143ceace7a6ebc816eed10e4.txt  \n",
            "  inflating: animals/valid/labels/owl_60b840b3f226a07956339034e0cdd404_jpg.rf.55767d461fbfe298ef07cd90cae89d31.txt  \n",
            "  inflating: animals/valid/labels/owl_6648057531_8230aeb55e_z_jpg.rf.2cbca4927b66de2f042b872f0439e210.txt  \n",
            "  inflating: animals/valid/labels/owl_6b32dddbe2c92a42a885016f21fd7281_jpg.rf.3356722afd34a405b282d396c9c03718.txt  \n",
            "  inflating: animals/valid/labels/owl_6bea2df540b236e0843502d2350a297f-1-_jpg.rf.7d50b7cde0a5621cd5d23d19d1fa4ab6.txt  \n",
            "  inflating: animals/valid/labels/owl_6cf8a9633c5443098aec503d8b259a02_jpg.rf.5da7d78594413f9b9798ecc348dc6f10.txt  \n",
            "  inflating: animals/valid/labels/owl_6f9e9c8dcdd334cbc4d04c482fced516_jpg.rf.bf0fcc4ca45f24bb7b782e8cc0450581.txt  \n",
            "  inflating: animals/valid/labels/owl_746441695_ae61caaa58_z_jpg.rf.496230e6689000fa8da8bcf8b15da20a.txt  \n",
            "  inflating: animals/valid/labels/owl_7484430416_e90c090411_z_jpg.rf.6e47502357662c69e2686fa984c54b66.txt  \n",
            "  inflating: animals/valid/labels/owl_7497729764_5c534dce6a_z_jpg.rf.933658d4fe201ca23bdba0dab2fdcd2a.txt  \n",
            " extracting: animals/valid/labels/owl_870a7b7b-fa29-414d-9d27-c28735ccac8c_jpg.rf.e7716d57c07249a97149dd3246e9b8e0.txt  \n",
            "  inflating: animals/valid/labels/owl_92c70933abcf3357ff9abfd32ff231dd_jpg.rf.ee0b63777e0ef999b501f13255d521a7.txt  \n",
            "  inflating: animals/valid/labels/owl_9569956753_ef206e167b_z_jpg.rf.1739acea37a6b5e4d4522057e645cc7d.txt  \n",
            "  inflating: animals/valid/labels/owl_9652234894_f656e182d5_z_jpg.rf.6bf5169bc609484e1159d292ae781b4a.txt  \n",
            "  inflating: animals/valid/labels/owl_9aca1037502b12c3080d89b50cd8809f_jpg.rf.846573e90ea3dee188c7c35014b91390.txt  \n",
            "  inflating: animals/valid/labels/owl_9af295fc05f61f17aebfc32407c3f003_jpg.rf.d72e146cdad7ea1111de5770863c161a.txt  \n",
            "  inflating: animals/valid/labels/owl_9d98fc8540da38afecd772644d6ac0e5_jpg.rf.7b16066a0f77e8b3709a8498bbeddd19.txt  \n",
            "  inflating: animals/valid/labels/owl_b0c110897fc22bd826ac169a82d23dd0_jpg.rf.e2be999eb45acb4f5b1606164ce8f446.txt  \n",
            "  inflating: animals/valid/labels/owl_Barred-Owl-Identification-All-About-Birds-Cornell-Lab-of-Ornithology_jpg.rf.faae9f8fb439571748f6c41866e3aba8.txt  \n",
            "  inflating: animals/valid/labels/owl_Barred-Owl-Picture-Owl-Photography-Owl-Photo-Hunting-Owl-Barred-Owl-Print-Owl-Note-Card-Barred-Owl-Art-Barn-Owl-Bird-of-Prey-Etsy_jpg.rf.61280a5b51f25b0a375d7f1365c8f1dd.txt  \n",
            "  inflating: animals/valid/labels/owl_Beautiful-lil-owl_jpg.rf.fa7cbe5e73a0b1c74d66cdf672163fc4.txt  \n",
            "  inflating: animals/valid/labels/owl_bede35b1ab6c48615433bdce13dd91c0_jpg.rf.ae9d4c82f060fca377699538c96f8737.txt  \n",
            "  inflating: animals/valid/labels/owl_download-20-_jpg.rf.6ad996abfc4ec73b6877062731d1225d.txt  \n",
            "  inflating: animals/valid/labels/owl_download-25-_jpg.rf.149ea08f211d42f03f369da2896265d9.txt  \n",
            "  inflating: animals/valid/labels/owl_eagle-owl-raptor-falconry-owl-53977_jpeg.rf.d55df1bf0cf6979867c3a284a5d923a1.txt  \n",
            "  inflating: animals/valid/labels/owl_fe0d3861e733ce91606fe49c560d64ec_jpg.rf.70d21d5c0d6783a20248d48d36222837.txt  \n",
            "  inflating: animals/valid/labels/owl_fe0d3861e733ce91606fe49c560d64ec_jpg.rf.b11cdb3ac82689792a15e90da34f073f.txt  \n",
            " extracting: animals/valid/labels/owl_free-photo-of-a-small-owl-perched-on-a-branch-of-a-tree_jpeg.rf.a30d827179e15312a686fd96a486e876.txt  \n",
            " extracting: animals/valid/labels/owl_free-photo-of-a-small-owl-perched-on-a-branch-of-a-tree_jpeg.rf.bc13e5467d822a2563a7122f5f9bbbf3.txt  \n",
            "  inflating: animals/valid/labels/owl_free-photo-of-close-up-of-an-owl_jpg.rf.8ced16c730eb2bd6d211017584bd29c0.txt  \n",
            "  inflating: animals/valid/labels/owl_free-photo-of-long-eared-owl-perched-on-tree-branch-in-winter_jpeg.rf.9fd573a295381cfa39b61b918d2349bc.txt  \n",
            "  inflating: animals/valid/labels/owl_free-photo-of-long-eared-owl-perched-on-tree-branch-in-winter_jpeg.rf.d1a7fd93af7873f2097d6e98bb72502c.txt  \n",
            "  inflating: animals/valid/labels/owl_free-photo-of-owl-in-a-forest_jpeg.rf.4769811e3ba90cc81613b252a4aa4815.txt  \n",
            "  inflating: animals/valid/labels/owl_free-photo-of-perched-burrowing-owl-in-natural-habitat_jpeg.rf.de684934a4311e8e105dd49ad78959e7.txt  \n",
            "  inflating: animals/valid/labels/owl_images-1-_jpg.rf.24ad82b18bd7961c3928823320b6184a.txt  \n",
            "  inflating: animals/valid/labels/owl_images-1-_jpg.rf.8308064e055384433c59b1be0d88bb03.txt  \n",
            "  inflating: animals/valid/labels/owl_images-10-_jpg.rf.0a0c137376ef964408a8ef3261900e86.txt  \n",
            "  inflating: animals/valid/labels/owl_images-19-_jpg.rf.f01318fbb8714f638400ab5ba3d3ad44.txt  \n",
            "  inflating: animals/valid/labels/owl_images-27-_jpg.rf.ebd01682841276d3a1dc9def4753ae78.txt  \n",
            "  inflating: animals/valid/labels/owl_images-38-_jpg.rf.db20745b239348296641e6363982f0bd.txt  \n",
            "  inflating: animals/valid/labels/owl_images-40-_jpg.rf.24e475dbd3615a8b3a43e1699e5c9e79.txt  \n",
            "  inflating: animals/valid/labels/owl_images-41-_jpg.rf.7f87877742895f97670a048dcf59c859.txt  \n",
            "  inflating: animals/valid/labels/owl_images-5-_jpg.rf.573e9ca7f0b1c52b032c2147e862ed2c.txt  \n",
            "  inflating: animals/valid/labels/owl_images-51-_jpg.rf.3e4f2e2e9b8df08ddbb32b277fdc2410.txt  \n",
            "  inflating: animals/valid/labels/owl_images-55-_jpg.rf.5c8a47abc7ad00045586da238a01a804.txt  \n",
            "  inflating: animals/valid/labels/owl_images-63-_jpg.rf.27ebb4243a32ad45e64d4c8a1e8b644c.txt  \n",
            "  inflating: animals/valid/labels/owl_images-66-_jpg.rf.b36018327b8e3b17cf10f4c8ec5a1a71.txt  \n",
            "  inflating: animals/valid/labels/owl_images-85-_jpg.rf.11c4467c325236d4600b05a1b325b806.txt  \n",
            "  inflating: animals/valid/labels/owl_O_o_jpg.rf.12d78acf8f7d7526abc979f295a690da.txt  \n",
            "  inflating: animals/valid/labels/owl_Owl-5-_jpg.rf.81d9daaaaf0ccb97e4472111ae9ded71.txt  \n",
            "  inflating: animals/valid/labels/owl_Owl-Couple_jpg.rf.05bd7e6a9db6bf55319bdd94ec45d70d.txt  \n",
            "  inflating: animals/valid/labels/owl_Owl-Couple_jpg.rf.c30aa1624332c97c413fd44ed9b3ecc0.txt  \n",
            "  inflating: animals/valid/labels/owl_Owls-2-_jpg.rf.3d2c8b82b9c27b0de06f24543348e064.txt  \n",
            "  inflating: animals/valid/labels/owl_pexels-photo-1149816_webp.rf.8a196572240b3f9cf00a4279ec5d4ad5.txt  \n",
            "  inflating: animals/valid/labels/owl_pexels-photo-12365156_jpeg.rf.1f99738912906a3a73b5e629e20f95aa.txt  \n",
            "  inflating: animals/valid/labels/owl_pexels-photo-1313051_webp.rf.a0a322c127a97b802cbe1323edef767d.txt  \n",
            "  inflating: animals/valid/labels/owl_pexels-photo-1313051_webp.rf.dad42f208e648be2837b9e1280d49fb2.txt  \n",
            "  inflating: animals/valid/labels/owl_pexels-photo-18683300_webp.rf.d34acdbade06d1a50a20f4b69ee0e76c.txt  \n",
            "  inflating: animals/valid/labels/owl_pexels-photo-19046884_webp.rf.032311420e2b9ae7eb12d6e191be97c4.txt  \n",
            "  inflating: animals/valid/labels/owl_pexels-photo-19898701_webp.rf.c77959ee90413840f5263c180120a372.txt  \n",
            "  inflating: animals/valid/labels/owl_pexels-photo-2115984_jpeg.rf.1da99651ff890c9f3319e9890bf6e9cd.txt  \n",
            "  inflating: animals/valid/labels/owl_pexels-photo-2570194_jpeg.rf.3a2326ab5b9878b4d6a85c4cf48efe57.txt  \n",
            "  inflating: animals/valid/labels/owl_pexels-photo-3722721_jpeg.rf.d47b1dfa8db34b1ba16655ffffc1e1eb.txt  \n",
            "  inflating: animals/valid/labels/owl_pexels-photo-3738646_jpeg.rf.830ba2f5ccb6f8f55ecd12f11deea5d3.txt  \n",
            "  inflating: animals/valid/labels/owl_pexels-photo-3738686_webp.rf.9f57a220ba06cf77d64903907f3419e3.txt  \n",
            "  inflating: animals/valid/labels/owl_pexels-photo-416202_jpeg.rf.4ea567fe8514783ed754ab363701d221.txt  \n",
            "  inflating: animals/valid/labels/owl_pexels-photo-5587951_webp.rf.04aa705a18107cee62eeef020986e596.txt  \n",
            "  inflating: animals/valid/labels/owl_pexels-photo-6492194_jpeg.rf.860738d47ef06754079c95fe7c9bb8a2.txt  \n",
            "  inflating: animals/valid/labels/raccoon_raccoon-10_jpg.rf.8443e28d2985dcbcf1601e976f79c74d.txt  \n",
            "  inflating: animals/valid/labels/raccoon_raccoon-102_jpg.rf.64f4681a18ab545d883bc6d17641a53a.txt  \n",
            "  inflating: animals/valid/labels/raccoon_raccoon-104_jpg.rf.859d475eeeda4cff7e56ab9f45605e43.txt  \n",
            "  inflating: animals/valid/labels/raccoon_raccoon-104_jpg.rf.ee0a75df87af95bbee0a5d3db54f7d85.txt  \n",
            "  inflating: animals/valid/labels/raccoon_raccoon-105_jpg.rf.06d4ec80c21418683c8c4fded6abaa6f.txt  \n",
            "  inflating: animals/valid/labels/raccoon_raccoon-106_jpg.rf.1e7f1703aece0f0d9d00aec835ad9d1a.txt  \n",
            "  inflating: animals/valid/labels/raccoon_raccoon-107_jpg.rf.a6b4a37a7d0e5a6bcd1859499f6240bc.txt  \n",
            "  inflating: animals/valid/labels/raccoon_raccoon-107_jpg.rf.ce4d5eea88fec5b12b460d80afc14624.txt  \n",
            "  inflating: animals/valid/labels/raccoon_raccoon-107_jpg.rf.f81510b0376ce22b6779a99be40fa2e2.txt  \n",
            "  inflating: animals/valid/labels/raccoon_raccoon-108_jpg.rf.11aebcb93c1fe7ed669b346e48ccb838.txt  \n",
            "  inflating: animals/valid/labels/raccoon_raccoon-109_jpg.rf.478fd8ab4a142fd093ccdf07e8170578.txt  \n",
            "  inflating: animals/valid/labels/raccoon_raccoon-11_jpg.rf.0d49b47738e0c07cd59648a5d116a15f.txt  \n",
            "  inflating: animals/valid/labels/raccoon_raccoon-111_jpg.rf.38fd179b4604b52c923a5357e1f8fba2.txt  \n",
            "  inflating: animals/valid/labels/raccoon_raccoon-111_jpg.rf.fc71f0ccc86bfa9bdf640e4327171d95.txt  \n",
            "  inflating: animals/valid/labels/raccoon_raccoon-113_jpg.rf.3b0de10247859bbd73815b8db0ec23e7.txt  \n",
            "  inflating: animals/valid/labels/raccoon_raccoon-115_jpg.rf.98f3cd918704e878bbd69d843c2d4bb1.txt  \n",
            "  inflating: animals/valid/labels/raccoon_raccoon-12_jpg.rf.d679bb1a5486936209530d4abc0c197d.txt  \n",
            "  inflating: animals/valid/labels/raccoon_raccoon-123_jpg.rf.dbc6f44ad10ea3c7acb9d7c6f720fea4.txt  \n",
            "  inflating: animals/valid/labels/raccoon_raccoon-124_jpg.rf.27232b61346df983a6cdef542bf58b40.txt  \n",
            "  inflating: animals/valid/labels/raccoon_raccoon-125_jpg.rf.46bc9f0f5991e0d0cb686023a859dd52.txt  \n",
            "  inflating: animals/valid/labels/raccoon_raccoon-125_jpg.rf.c4413725e6dd9f12f5e7f2c3ac507195.txt  \n",
            "  inflating: animals/valid/labels/raccoon_raccoon-125_jpg.rf.ed8401b0ef96c60d5883de7b1b05e607.txt  \n",
            "  inflating: animals/valid/labels/raccoon_raccoon-126_jpg.rf.9bbc41f95da2db8e37010f3969c79df7.txt  \n",
            "  inflating: animals/valid/labels/raccoon_raccoon-127_jpg.rf.bcc634cf11da0dca1463c3582044f088.txt  \n",
            "  inflating: animals/valid/labels/raccoon_raccoon-129_jpg.rf.cc3e81c1cc12d4561c64e7b24a58e7aa.txt  \n",
            "  inflating: animals/valid/labels/raccoon_raccoon-13_jpg.rf.75936a43fabb0610feab9f5106016d3c.txt  \n",
            "  inflating: animals/valid/labels/raccoon_raccoon-131_jpg.rf.e1fab82970a262f85f7f29d5bba53ee4.txt  \n",
            "  inflating: animals/valid/labels/raccoon_raccoon-137_jpg.rf.47d2a283f17d5f447b672b5c86849268.txt  \n",
            "  inflating: animals/valid/labels/raccoon_raccoon-139_jpg.rf.0d7c03b8c9762a9887023dc72a2abd15.txt  \n",
            "  inflating: animals/valid/labels/raccoon_raccoon-140_jpg.rf.65f0dd259678a2fa6ababe45bbae0e09.txt  \n",
            "  inflating: animals/valid/labels/raccoon_raccoon-142_jpg.rf.a960869bd034edec149d58b4ae431eae.txt  \n",
            "  inflating: animals/valid/labels/raccoon_raccoon-148_jpg.rf.e8e1fa66d3721e3073c4fc7df57b8d01.txt  \n",
            "  inflating: animals/valid/labels/raccoon_raccoon-152_jpg.rf.bd9116f85c73bd77b9357ed0f7d6ed77.txt  \n",
            "  inflating: animals/valid/labels/raccoon_raccoon-152_jpg.rf.be3ca908b8b34a2376405b527455007a.txt  \n",
            "  inflating: animals/valid/labels/raccoon_raccoon-153_jpg.rf.6ecccb25f79fe29797dedfab21682148.txt  \n",
            "  inflating: animals/valid/labels/raccoon_raccoon-155_jpg.rf.61c6c6cdafe462447104ac6eea8821b4.txt  \n",
            "  inflating: animals/valid/labels/raccoon_raccoon-157_jpg.rf.aae2b3a2ce3b6aa252bb3935a91b30fb.txt  \n",
            "  inflating: animals/valid/labels/raccoon_raccoon-160_jpg.rf.16f37cc382176dc7d5b292efa410e290.txt  \n",
            "  inflating: animals/valid/labels/raccoon_raccoon-162_jpg.rf.4c825cd76dc50b0e2dac72155e244f1a.txt  \n",
            "  inflating: animals/valid/labels/raccoon_raccoon-164_jpg.rf.6fdaf7f3e8a7190fdd472c7c55209668.txt  \n",
            "  inflating: animals/valid/labels/raccoon_raccoon-165_jpg.rf.23849a8d3469dd752b35089866c3d2aa.txt  \n",
            "  inflating: animals/valid/labels/raccoon_raccoon-166_jpg.rf.9e5efa20f35e42a8e300a0bf4ef1a981.txt  \n",
            "  inflating: animals/valid/labels/raccoon_raccoon-166_jpg.rf.c6b1da561ecd9ea337f93efa9279f76c.txt  \n",
            "  inflating: animals/valid/labels/raccoon_raccoon-167_jpg.rf.99f87d27767bb65257512221718c31fc.txt  \n",
            "  inflating: animals/valid/labels/raccoon_raccoon-167_jpg.rf.b56ad7c0bc8233f79fcb62dae314c865.txt  \n",
            "  inflating: animals/valid/labels/raccoon_raccoon-168_jpg.rf.3b4d8315641f44c1b510d97e4d1bdcc2.txt  \n",
            "  inflating: animals/valid/labels/raccoon_raccoon-168_jpg.rf.987ca5141c5e273ffaf50041a5009fa8.txt  \n",
            "  inflating: animals/valid/labels/raccoon_raccoon-17_jpg.rf.86837e18db2c67e9a0410e4110b211f9.txt  \n",
            "  inflating: animals/valid/labels/raccoon_raccoon-172_jpg.rf.2439b89c6930dde16588b7a17bb0625a.txt  \n",
            "  inflating: animals/valid/labels/raccoon_raccoon-173_jpg.rf.16a978fcc4fe59a20b65f25d1735c8c6.txt  \n",
            "  inflating: animals/valid/labels/raccoon_raccoon-176_jpg.rf.702a6a58eadcf40a988769e71da06d91.txt  \n",
            "  inflating: animals/valid/labels/raccoon_raccoon-177_jpg.rf.62ef98f2287b4ce3fb6dcb2c98b8ba2f.txt  \n",
            "  inflating: animals/valid/labels/raccoon_raccoon-177_jpg.rf.7ef5646038490864a23fdc548d7e3721.txt  \n",
            "  inflating: animals/valid/labels/raccoon_raccoon-177_jpg.rf.b7f7d58c178ad2bc27f9a6f9f7c9dbaa.txt  \n",
            "  inflating: animals/valid/labels/raccoon_raccoon-178_jpg.rf.48808bdd5812a55c5df667b03fd5d1e7.txt  \n",
            "  inflating: animals/valid/labels/raccoon_raccoon-179_jpg.rf.1ad781601b39697ed885660e8af6746e.txt  \n",
            "  inflating: animals/valid/labels/raccoon_raccoon-18_jpg.rf.bcd8f818cac15db688effbac1bee18f8.txt  \n",
            "  inflating: animals/valid/labels/raccoon_raccoon-180_jpg.rf.6a4bc465bc8ca27417dacd41a881e76e.txt  \n",
            "  inflating: animals/valid/labels/raccoon_raccoon-181_jpg.rf.3ebb109c196e4caa2448212b23e7cff6.txt  \n",
            "  inflating: animals/valid/labels/raccoon_raccoon-183_jpg.rf.13773b32628f309a18eee183c81392c9.txt  \n",
            "  inflating: animals/valid/labels/raccoon_raccoon-185_jpg.rf.bc5122b021fb19294b176f1d07d31e6e.txt  \n",
            "  inflating: animals/valid/labels/raccoon_raccoon-186_jpg.rf.331df167ba207b643dbb600855e7cd42.txt  \n",
            "  inflating: animals/valid/labels/raccoon_raccoon-189_jpg.rf.444fccacc8707b1af601f9cc158a1818.txt  \n",
            "  inflating: animals/valid/labels/raccoon_raccoon-190_jpg.rf.ca2f33fcf3ddb1505934f2a153641cfc.txt  \n",
            "  inflating: animals/valid/labels/raccoon_raccoon-191_jpg.rf.20890d9b745a7b01340868cd394adf13.txt  \n",
            "  inflating: animals/valid/labels/raccoon_raccoon-191_jpg.rf.b183cd3cead5790a1b182e8b281181bc.txt  \n",
            "  inflating: animals/valid/labels/raccoon_raccoon-194_jpg.rf.54297085058ca4b423e5c047ba437bb0.txt  \n",
            "  inflating: animals/valid/labels/raccoon_raccoon-197_jpg.rf.b8cfcbf1abaca0062d88d8a98607da6c.txt  \n",
            "  inflating: animals/valid/labels/raccoon_raccoon-21_jpg.rf.b0aa6cd0f07bb028254b3de21ca66c49.txt  \n",
            "  inflating: animals/valid/labels/raccoon_raccoon-23_jpg.rf.8ebdb1b6ec7ac8d08bc341edd9dae5cd.txt  \n",
            "  inflating: animals/valid/labels/raccoon_raccoon-24_jpg.rf.24dbeae65b9e703a5c9734486d50a553.txt  \n",
            "  inflating: animals/valid/labels/raccoon_raccoon-26_jpg.rf.f0901954242ee815c908637534ea5875.txt  \n",
            "  inflating: animals/valid/labels/raccoon_raccoon-27_jpg.rf.505a6b0f8a4a9359f28ed01f72684eb5.txt  \n",
            "  inflating: animals/valid/labels/raccoon_raccoon-27_jpg.rf.9a7ce110ac7aaa96c275ade1f4c6061f.txt  \n",
            "  inflating: animals/valid/labels/raccoon_raccoon-27_jpg.rf.b013a17ea0e967280f9ffafcb0bdcd1d.txt  \n",
            "  inflating: animals/valid/labels/raccoon_raccoon-28_jpg.rf.fb95b7a5e15dd68193e1d0610b8b73ea.txt  \n",
            "  inflating: animals/valid/labels/raccoon_raccoon-3_jpg.rf.af4ba6b86187651088223809b44533c8.txt  \n",
            "  inflating: animals/valid/labels/raccoon_raccoon-32_jpg.rf.553d82cfeab5da63baca1e022391be38.txt  \n",
            "  inflating: animals/valid/labels/raccoon_raccoon-36_jpg.rf.de8d572d88797cb341d32e3a627afedd.txt  \n",
            "  inflating: animals/valid/labels/raccoon_raccoon-38_jpg.rf.d8e7527417b80fe15464fe5248149028.txt  \n",
            "  inflating: animals/valid/labels/raccoon_raccoon-4_jpg.rf.4a0080d5c3c4cd91dfeec03637893aa4.txt  \n",
            "  inflating: animals/valid/labels/raccoon_raccoon-42_jpg.rf.5313a5e9b434fe431834b232c8b53af2.txt  \n",
            "  inflating: animals/valid/labels/raccoon_raccoon-44_jpg.rf.0b68dc72a429a944277e766468bef229.txt  \n",
            "  inflating: animals/valid/labels/raccoon_raccoon-45_jpg.rf.ccfe58e1cdb23cfc4c1289be65104d53.txt  \n",
            "  inflating: animals/valid/labels/raccoon_raccoon-46_jpg.rf.036aa7f9efcd203f28c06c6b3e4ab439.txt  \n",
            "  inflating: animals/valid/labels/raccoon_raccoon-48_jpg.rf.870bc839e86ee134db1a4ccf1b8ba809.txt  \n",
            "  inflating: animals/valid/labels/raccoon_raccoon-50_jpg.rf.9b364f3f764ff81cc9187c60586362f6.txt  \n",
            "  inflating: animals/valid/labels/raccoon_raccoon-53_jpg.rf.4d59c47a5a8b554573c6a5a973c908ab.txt  \n",
            "  inflating: animals/valid/labels/raccoon_raccoon-60_jpg.rf.66e36fc5fc5b8697fb44a398fbd9ec8b.txt  \n",
            "  inflating: animals/valid/labels/raccoon_raccoon-61_jpg.rf.fcc7d67abd8b16aacf0a00e302aeb45b.txt  \n",
            "  inflating: animals/valid/labels/raccoon_raccoon-68_jpg.rf.7248b9b126514e68a131794724aa9893.txt  \n",
            "  inflating: animals/valid/labels/raccoon_raccoon-75_jpg.rf.65a1cbe3e5fb8b32d1d40a7912bb1c61.txt  \n",
            "  inflating: animals/valid/labels/raccoon_raccoon-77_jpg.rf.9aa1071324226f0eb3af0c1bd93ee8bd.txt  \n",
            "  inflating: animals/valid/labels/raccoon_raccoon-79_jpg.rf.bd46eceae08f953f860355fe178a811c.txt  \n",
            "  inflating: animals/valid/labels/raccoon_raccoon-86_jpg.rf.70269c0aa9f64f83de50d96e94f4e8b2.txt  \n",
            "  inflating: animals/valid/labels/raccoon_raccoon-86_jpg.rf.e640e0c5e197558eb7cd053fae9e7ab8.txt  \n",
            "  inflating: animals/valid/labels/raccoon_raccoon-92_jpg.rf.6bbc9487f9f97ca364cbf4a56d2f10fc.txt  \n",
            "  inflating: animals/valid/labels/raccoon_raccoon-93_jpg.rf.4ca584ee40979f29245633ac89936cd4.txt  \n",
            "  inflating: animals/valid/labels/raccoon_raccoon-93_jpg.rf.dc36a9a98c30f66d1ff8bcc8f238ace3.txt  \n",
            "  inflating: animals/valid/labels/raccoon_raccoon-94_jpg.rf.2d43e955b9b17afade13800b1d389684.txt  \n"
          ]
        }
      ],
      "source": [
        "! pip install ultralytics fiftyone\n",
        "! pip install tensorflow opencv-python numpy matplotlib\n",
        "! unzip animals.zip"
      ]
    },
    {
      "cell_type": "markdown",
      "metadata": {
        "id": "QPu5bStgbl6b"
      },
      "source": [
        "**Задание**\n",
        "\n",
        "Классификация изображений -енот, филин и лиса- 100 элементов в 2х датасетах, две нейронных сети, одна из них  YOLO, вторая от Google. Оценить ошибки 1 и 2 рода. Погрешность по каждому.\n",
        "\n"
      ]
    },
    {
      "cell_type": "markdown",
      "metadata": {
        "id": "hSzkEPS5bx1z"
      },
      "source": [
        "**YOLO12**"
      ]
    },
    {
      "cell_type": "markdown",
      "metadata": {
        "id": "LSkTYhbDb0-C"
      },
      "source": [
        "Обучение на датасете"
      ]
    },
    {
      "cell_type": "code",
      "execution_count": null,
      "metadata": {
        "colab": {
          "base_uri": "https://localhost:8080/"
        },
        "id": "G_oN5UBKbtUm",
        "outputId": "6f5a80bb-60e1-400c-db90-5aebb9364603"
      },
      "outputs": [
        {
          "name": "stdout",
          "output_type": "stream",
          "text": [
            "Creating new Ultralytics Settings v0.0.6 file ✅ \n",
            "View Ultralytics Settings with 'yolo settings' or at '/root/.config/Ultralytics/settings.json'\n",
            "Update Settings with 'yolo settings key=value', i.e. 'yolo settings runs_dir=path/to/dir'. For help see https://docs.ultralytics.com/quickstart/#ultralytics-settings.\n",
            "Downloading https://github.com/ultralytics/assets/releases/download/v8.3.0/yolo12x.pt to 'yolo12x.pt'...\n"
          ]
        },
        {
          "name": "stderr",
          "output_type": "stream",
          "text": [
            "100%|██████████| 114M/114M [00:00<00:00, 125MB/s]\n"
          ]
        },
        {
          "name": "stdout",
          "output_type": "stream",
          "text": [
            "Ultralytics 8.3.159 🚀 Python-3.11.13 torch-2.6.0+cu124 CUDA:0 (Tesla T4, 15095MiB)\n",
            "\u001b[34m\u001b[1mengine/trainer: \u001b[0magnostic_nms=False, amp=True, augment=False, auto_augment=randaugment, batch=8, bgr=0.0, box=7.5, cache=False, cfg=None, classes=None, close_mosaic=10, cls=0.5, conf=None, copy_paste=0.0, copy_paste_mode=flip, cos_lr=False, cutmix=0.0, data=animals/data.yaml, degrees=0.0, deterministic=True, device=None, dfl=1.5, dnn=False, dropout=0.0, dynamic=False, embed=None, epochs=200, erasing=0.4, exist_ok=False, fliplr=0.5, flipud=0.0, format=torchscript, fraction=1.0, freeze=None, half=False, hsv_h=0.015, hsv_s=0.7, hsv_v=0.4, imgsz=640, int8=False, iou=0.7, keras=False, kobj=1.0, line_width=None, lr0=0.01, lrf=0.01, mask_ratio=4, max_det=300, mixup=0.0, mode=train, model=yolo12x.pt, momentum=0.937, mosaic=1.0, multi_scale=False, name=animals_yolo_model, nbs=64, nms=False, opset=None, optimize=False, optimizer=auto, overlap_mask=True, patience=100, perspective=0.0, plots=True, pose=12.0, pretrained=True, profile=False, project=runs/train, rect=False, resume=False, retina_masks=False, save=True, save_conf=False, save_crop=False, save_dir=runs/train/animals_yolo_model, save_frames=False, save_json=False, save_period=-1, save_txt=False, scale=0.5, seed=0, shear=0.0, show=False, show_boxes=True, show_conf=True, show_labels=True, simplify=True, single_cls=False, source=None, split=val, stream_buffer=False, task=detect, time=None, tracker=botsort.yaml, translate=0.1, val=True, verbose=True, vid_stride=1, visualize=False, warmup_bias_lr=0.1, warmup_epochs=3.0, warmup_momentum=0.8, weight_decay=0.0005, workers=8, workspace=None\n",
            "Downloading https://ultralytics.com/assets/Arial.ttf to '/root/.config/Ultralytics/Arial.ttf'...\n"
          ]
        },
        {
          "name": "stderr",
          "output_type": "stream",
          "text": [
            "100%|██████████| 755k/755k [00:00<00:00, 20.1MB/s]"
          ]
        },
        {
          "name": "stdout",
          "output_type": "stream",
          "text": [
            "Overriding model.yaml nc=80 with nc=3\n",
            "\n",
            "                   from  n    params  module                                       arguments                     \n",
            "  0                  -1  1      2784  ultralytics.nn.modules.conv.Conv             [3, 96, 3, 2]                 \n",
            "  1                  -1  1    166272  ultralytics.nn.modules.conv.Conv             [96, 192, 3, 2]               \n",
            "  2                  -1  2    389760  ultralytics.nn.modules.block.C3k2            [192, 384, 2, True, 0.25]     \n",
            "  3                  -1  1   1327872  ultralytics.nn.modules.conv.Conv             [384, 384, 3, 2]              \n",
            "  4                  -1  2   1553664  ultralytics.nn.modules.block.C3k2            [384, 768, 2, True, 0.25]     \n"
          ]
        },
        {
          "name": "stderr",
          "output_type": "stream",
          "text": [
            "\n"
          ]
        },
        {
          "name": "stdout",
          "output_type": "stream",
          "text": [
            "  5                  -1  1   5309952  ultralytics.nn.modules.conv.Conv             [768, 768, 3, 2]              \n",
            "  6                  -1  4   9512128  ultralytics.nn.modules.block.A2C2f           [768, 768, 4, True, 4, True, 1.2]\n",
            "  7                  -1  1   5309952  ultralytics.nn.modules.conv.Conv             [768, 768, 3, 2]              \n",
            "  8                  -1  4   9512128  ultralytics.nn.modules.block.A2C2f           [768, 768, 4, True, 1, True, 1.2]\n",
            "  9                  -1  1         0  torch.nn.modules.upsampling.Upsample         [None, 2, 'nearest']          \n",
            " 10             [-1, 6]  1         0  ultralytics.nn.modules.conv.Concat           [1]                           \n",
            " 11                  -1  2   4727040  ultralytics.nn.modules.block.A2C2f           [1536, 768, 2, False, -1, True, 1.2]\n",
            " 12                  -1  1         0  torch.nn.modules.upsampling.Upsample         [None, 2, 'nearest']          \n",
            " 13             [-1, 4]  1         0  ultralytics.nn.modules.conv.Concat           [1]                           \n",
            " 14                  -1  2   1331328  ultralytics.nn.modules.block.A2C2f           [1536, 384, 2, False, -1, True, 1.2]\n",
            " 15                  -1  1   1327872  ultralytics.nn.modules.conv.Conv             [384, 384, 3, 2]              \n",
            " 16            [-1, 11]  1         0  ultralytics.nn.modules.conv.Concat           [1]                           \n",
            " 17                  -1  2   4579584  ultralytics.nn.modules.block.A2C2f           [1152, 768, 2, False, -1, True, 1.2]\n",
            " 18                  -1  1   5309952  ultralytics.nn.modules.conv.Conv             [768, 768, 3, 2]              \n",
            " 19             [-1, 8]  1         0  ultralytics.nn.modules.conv.Concat           [1]                           \n",
            " 20                  -1  2   5612544  ultralytics.nn.modules.block.C3k2            [1536, 768, 2, True]          \n",
            " 21        [14, 17, 20]  1   3149017  ultralytics.nn.modules.head.Detect           [3, [384, 768, 768]]          \n",
            "YOLOv12x summary: 488 layers, 59,121,849 parameters, 59,121,833 gradients, 199.8 GFLOPs\n",
            "\n",
            "Transferred 1239/1245 items from pretrained weights\n",
            "Freezing layer 'model.21.dfl.conv.weight'\n",
            "\u001b[34m\u001b[1mAMP: \u001b[0mrunning Automatic Mixed Precision (AMP) checks...\n",
            "Downloading https://github.com/ultralytics/assets/releases/download/v8.3.0/yolo11n.pt to 'yolo11n.pt'...\n"
          ]
        },
        {
          "name": "stderr",
          "output_type": "stream",
          "text": [
            "100%|██████████| 5.35M/5.35M [00:00<00:00, 83.3MB/s]\n"
          ]
        },
        {
          "name": "stdout",
          "output_type": "stream",
          "text": [
            "\u001b[34m\u001b[1mAMP: \u001b[0mchecks passed ✅\n",
            "\u001b[34m\u001b[1mtrain: \u001b[0mFast image access ✅ (ping: 0.0±0.0 ms, read: 1127.8±589.7 MB/s, size: 58.3 KB)\n"
          ]
        },
        {
          "name": "stderr",
          "output_type": "stream",
          "text": [
            "\u001b[34m\u001b[1mtrain: \u001b[0mScanning /content/animals/train/labels... 300 images, 1 backgrounds, 0 corrupt: 100%|██████████| 300/300 [00:00<00:00, 2505.44it/s]"
          ]
        },
        {
          "name": "stdout",
          "output_type": "stream",
          "text": [
            "\u001b[34m\u001b[1mtrain: \u001b[0mNew cache created: /content/animals/train/labels.cache\n"
          ]
        },
        {
          "name": "stderr",
          "output_type": "stream",
          "text": [
            "\n"
          ]
        },
        {
          "name": "stdout",
          "output_type": "stream",
          "text": [
            "\u001b[34m\u001b[1malbumentations: \u001b[0mBlur(p=0.01, blur_limit=(3, 7)), MedianBlur(p=0.01, blur_limit=(3, 7)), ToGray(p=0.01, method='weighted_average', num_output_channels=3), CLAHE(p=0.01, clip_limit=(1.0, 4.0), tile_grid_size=(8, 8))\n",
            "\u001b[34m\u001b[1mval: \u001b[0mFast image access ✅ (ping: 0.0±0.0 ms, read: 591.2±265.6 MB/s, size: 37.5 KB)\n"
          ]
        },
        {
          "name": "stderr",
          "output_type": "stream",
          "text": [
            "\u001b[34m\u001b[1mval: \u001b[0mScanning /content/animals/valid/labels... 300 images, 4 backgrounds, 0 corrupt: 100%|██████████| 300/300 [00:00<00:00, 1402.05it/s]"
          ]
        },
        {
          "name": "stdout",
          "output_type": "stream",
          "text": [
            "\u001b[34m\u001b[1mval: \u001b[0mNew cache created: /content/animals/valid/labels.cache\n"
          ]
        },
        {
          "name": "stderr",
          "output_type": "stream",
          "text": [
            "\n"
          ]
        },
        {
          "name": "stdout",
          "output_type": "stream",
          "text": [
            "Plotting labels to runs/train/animals_yolo_model/labels.jpg... \n",
            "\u001b[34m\u001b[1moptimizer:\u001b[0m 'optimizer=auto' found, ignoring 'lr0=0.01' and 'momentum=0.937' and determining best 'optimizer', 'lr0' and 'momentum' automatically... \n",
            "\u001b[34m\u001b[1moptimizer:\u001b[0m AdamW(lr=0.001429, momentum=0.9) with parameter groups 205 weight(decay=0.0), 214 weight(decay=0.0005), 211 bias(decay=0.0)\n",
            "Image sizes 640 train, 640 val\n",
            "Using 2 dataloader workers\n",
            "Logging results to \u001b[1mruns/train/animals_yolo_model\u001b[0m\n",
            "Starting training for 200 epochs...\n",
            "\n",
            "      Epoch    GPU_mem   box_loss   cls_loss   dfl_loss  Instances       Size\n"
          ]
        },
        {
          "name": "stderr",
          "output_type": "stream",
          "text": [
            "      1/200      12.6G      1.719      3.245      2.209          9        640: 100%|██████████| 38/38 [00:37<00:00,  1.00it/s]\n",
            "                 Class     Images  Instances      Box(P          R      mAP50  mAP50-95): 100%|██████████| 19/19 [00:13<00:00,  1.45it/s]"
          ]
        },
        {
          "name": "stdout",
          "output_type": "stream",
          "text": [
            "                   all        300        338          0          0          0          0\n"
          ]
        },
        {
          "name": "stderr",
          "output_type": "stream",
          "text": [
            "\n"
          ]
        },
        {
          "name": "stdout",
          "output_type": "stream",
          "text": [
            "\n",
            "      Epoch    GPU_mem   box_loss   cls_loss   dfl_loss  Instances       Size\n"
          ]
        },
        {
          "name": "stderr",
          "output_type": "stream",
          "text": [
            "      2/200      13.3G      2.255      3.214      2.573         13        640: 100%|██████████| 38/38 [00:38<00:00,  1.03s/it]\n",
            "                 Class     Images  Instances      Box(P          R      mAP50  mAP50-95): 100%|██████████| 19/19 [00:13<00:00,  1.40it/s]"
          ]
        },
        {
          "name": "stdout",
          "output_type": "stream",
          "text": [
            "                   all        300        338          0          0          0          0\n"
          ]
        },
        {
          "name": "stderr",
          "output_type": "stream",
          "text": [
            "\n"
          ]
        },
        {
          "name": "stdout",
          "output_type": "stream",
          "text": [
            "\n",
            "      Epoch    GPU_mem   box_loss   cls_loss   dfl_loss  Instances       Size\n"
          ]
        },
        {
          "name": "stderr",
          "output_type": "stream",
          "text": [
            "      3/200      12.9G      2.075      3.075      2.458         12        640: 100%|██████████| 38/38 [00:38<00:00,  1.00s/it]\n",
            "                 Class     Images  Instances      Box(P          R      mAP50  mAP50-95): 100%|██████████| 19/19 [00:13<00:00,  1.43it/s]"
          ]
        },
        {
          "name": "stdout",
          "output_type": "stream",
          "text": [
            "                   all        300        338          0          0          0          0\n"
          ]
        },
        {
          "name": "stderr",
          "output_type": "stream",
          "text": [
            "\n"
          ]
        },
        {
          "name": "stdout",
          "output_type": "stream",
          "text": [
            "\n",
            "      Epoch    GPU_mem   box_loss   cls_loss   dfl_loss  Instances       Size\n"
          ]
        },
        {
          "name": "stderr",
          "output_type": "stream",
          "text": [
            "      4/200      13.2G       1.93      2.928      2.355          7        640: 100%|██████████| 38/38 [00:38<00:00,  1.01s/it]\n",
            "                 Class     Images  Instances      Box(P          R      mAP50  mAP50-95): 100%|██████████| 19/19 [00:13<00:00,  1.41it/s]"
          ]
        },
        {
          "name": "stdout",
          "output_type": "stream",
          "text": [
            "                   all        300        338          0          0          0          0\n"
          ]
        },
        {
          "name": "stderr",
          "output_type": "stream",
          "text": [
            "\n"
          ]
        },
        {
          "name": "stdout",
          "output_type": "stream",
          "text": [
            "\n",
            "      Epoch    GPU_mem   box_loss   cls_loss   dfl_loss  Instances       Size\n"
          ]
        },
        {
          "name": "stderr",
          "output_type": "stream",
          "text": [
            "      5/200      13.3G       1.94      2.914      2.307          8        640: 100%|██████████| 38/38 [00:38<00:00,  1.00s/it]\n",
            "                 Class     Images  Instances      Box(P          R      mAP50  mAP50-95): 100%|██████████| 19/19 [00:15<00:00,  1.25it/s]"
          ]
        },
        {
          "name": "stdout",
          "output_type": "stream",
          "text": [
            "                   all        300        338       0.03      0.155     0.0112    0.00257\n"
          ]
        },
        {
          "name": "stderr",
          "output_type": "stream",
          "text": [
            "\n"
          ]
        },
        {
          "name": "stdout",
          "output_type": "stream",
          "text": [
            "\n",
            "      Epoch    GPU_mem   box_loss   cls_loss   dfl_loss  Instances       Size\n"
          ]
        },
        {
          "name": "stderr",
          "output_type": "stream",
          "text": [
            "      6/200        13G      1.864      2.856      2.237         12        640: 100%|██████████| 38/38 [00:38<00:00,  1.00s/it]\n",
            "                 Class     Images  Instances      Box(P          R      mAP50  mAP50-95): 100%|██████████| 19/19 [00:14<00:00,  1.35it/s]"
          ]
        },
        {
          "name": "stdout",
          "output_type": "stream",
          "text": [
            "                   all        300        338     0.0459     0.0499     0.0112    0.00208\n"
          ]
        },
        {
          "name": "stderr",
          "output_type": "stream",
          "text": [
            "\n"
          ]
        },
        {
          "name": "stdout",
          "output_type": "stream",
          "text": [
            "\n",
            "      Epoch    GPU_mem   box_loss   cls_loss   dfl_loss  Instances       Size\n"
          ]
        },
        {
          "name": "stderr",
          "output_type": "stream",
          "text": [
            "      7/200      13.2G      1.841      2.762      2.213         10        640: 100%|██████████| 38/38 [00:38<00:00,  1.00s/it]\n",
            "                 Class     Images  Instances      Box(P          R      mAP50  mAP50-95): 100%|██████████| 19/19 [00:14<00:00,  1.31it/s]"
          ]
        },
        {
          "name": "stdout",
          "output_type": "stream",
          "text": [
            "                   all        300        338      0.452      0.265      0.106     0.0361\n"
          ]
        },
        {
          "name": "stderr",
          "output_type": "stream",
          "text": [
            "\n"
          ]
        },
        {
          "name": "stdout",
          "output_type": "stream",
          "text": [
            "\n",
            "      Epoch    GPU_mem   box_loss   cls_loss   dfl_loss  Instances       Size\n"
          ]
        },
        {
          "name": "stderr",
          "output_type": "stream",
          "text": [
            "      8/200      13.2G      1.847      2.785      2.228         10        640: 100%|██████████| 38/38 [00:38<00:00,  1.00s/it]\n",
            "                 Class     Images  Instances      Box(P          R      mAP50  mAP50-95): 100%|██████████| 19/19 [00:14<00:00,  1.31it/s]"
          ]
        },
        {
          "name": "stdout",
          "output_type": "stream",
          "text": [
            "                   all        300        338     0.0189       0.04    0.00725    0.00165\n"
          ]
        },
        {
          "name": "stderr",
          "output_type": "stream",
          "text": [
            "\n"
          ]
        },
        {
          "name": "stdout",
          "output_type": "stream",
          "text": [
            "\n",
            "      Epoch    GPU_mem   box_loss   cls_loss   dfl_loss  Instances       Size\n"
          ]
        },
        {
          "name": "stderr",
          "output_type": "stream",
          "text": [
            "      9/200      13.2G      1.808      2.821      2.197         11        640: 100%|██████████| 38/38 [00:37<00:00,  1.00it/s]\n",
            "                 Class     Images  Instances      Box(P          R      mAP50  mAP50-95): 100%|██████████| 19/19 [00:14<00:00,  1.31it/s]"
          ]
        },
        {
          "name": "stdout",
          "output_type": "stream",
          "text": [
            "                   all        300        338     0.0335      0.118     0.0282    0.00702\n"
          ]
        },
        {
          "name": "stderr",
          "output_type": "stream",
          "text": [
            "\n"
          ]
        },
        {
          "name": "stdout",
          "output_type": "stream",
          "text": [
            "\n",
            "      Epoch    GPU_mem   box_loss   cls_loss   dfl_loss  Instances       Size\n"
          ]
        },
        {
          "name": "stderr",
          "output_type": "stream",
          "text": [
            "     10/200      13.2G      1.687      2.676      2.115         12        640: 100%|██████████| 38/38 [00:38<00:00,  1.01s/it]\n",
            "                 Class     Images  Instances      Box(P          R      mAP50  mAP50-95): 100%|██████████| 19/19 [00:14<00:00,  1.32it/s]"
          ]
        },
        {
          "name": "stdout",
          "output_type": "stream",
          "text": [
            "                   all        300        338     0.0804       0.27     0.0797     0.0234\n"
          ]
        },
        {
          "name": "stderr",
          "output_type": "stream",
          "text": [
            "\n"
          ]
        },
        {
          "name": "stdout",
          "output_type": "stream",
          "text": [
            "\n",
            "      Epoch    GPU_mem   box_loss   cls_loss   dfl_loss  Instances       Size\n"
          ]
        },
        {
          "name": "stderr",
          "output_type": "stream",
          "text": [
            "     11/200      13.2G      1.715      2.649      2.138          8        640: 100%|██████████| 38/38 [00:38<00:00,  1.00s/it]\n",
            "                 Class     Images  Instances      Box(P          R      mAP50  mAP50-95): 100%|██████████| 19/19 [00:14<00:00,  1.32it/s]"
          ]
        },
        {
          "name": "stdout",
          "output_type": "stream",
          "text": [
            "                   all        300        338      0.126      0.266     0.0989     0.0281\n"
          ]
        },
        {
          "name": "stderr",
          "output_type": "stream",
          "text": [
            "\n"
          ]
        },
        {
          "name": "stdout",
          "output_type": "stream",
          "text": [
            "\n",
            "      Epoch    GPU_mem   box_loss   cls_loss   dfl_loss  Instances       Size\n"
          ]
        },
        {
          "name": "stderr",
          "output_type": "stream",
          "text": [
            "     12/200      13.2G      1.749      2.587      2.112          7        640: 100%|██████████| 38/38 [00:38<00:00,  1.00s/it]\n",
            "                 Class     Images  Instances      Box(P          R      mAP50  mAP50-95): 100%|██████████| 19/19 [00:14<00:00,  1.33it/s]"
          ]
        },
        {
          "name": "stdout",
          "output_type": "stream",
          "text": [
            "                   all        300        338     0.0915      0.396     0.0848     0.0293\n"
          ]
        },
        {
          "name": "stderr",
          "output_type": "stream",
          "text": [
            "\n"
          ]
        },
        {
          "name": "stdout",
          "output_type": "stream",
          "text": [
            "\n",
            "      Epoch    GPU_mem   box_loss   cls_loss   dfl_loss  Instances       Size\n"
          ]
        },
        {
          "name": "stderr",
          "output_type": "stream",
          "text": [
            "     13/200      13.3G      1.711      2.578      2.081         13        640: 100%|██████████| 38/38 [00:38<00:00,  1.00s/it]\n",
            "                 Class     Images  Instances      Box(P          R      mAP50  mAP50-95): 100%|██████████| 19/19 [00:14<00:00,  1.33it/s]"
          ]
        },
        {
          "name": "stdout",
          "output_type": "stream",
          "text": [
            "                   all        300        338      0.479      0.397      0.166     0.0612\n"
          ]
        },
        {
          "name": "stderr",
          "output_type": "stream",
          "text": [
            "\n"
          ]
        },
        {
          "name": "stdout",
          "output_type": "stream",
          "text": [
            "\n",
            "      Epoch    GPU_mem   box_loss   cls_loss   dfl_loss  Instances       Size\n"
          ]
        },
        {
          "name": "stderr",
          "output_type": "stream",
          "text": [
            "     14/200        13G      1.651       2.58      2.081          9        640: 100%|██████████| 38/38 [00:38<00:00,  1.01s/it]\n",
            "                 Class     Images  Instances      Box(P          R      mAP50  mAP50-95): 100%|██████████| 19/19 [00:14<00:00,  1.32it/s]"
          ]
        },
        {
          "name": "stdout",
          "output_type": "stream",
          "text": [
            "                   all        300        338      0.103      0.333      0.123     0.0366\n"
          ]
        },
        {
          "name": "stderr",
          "output_type": "stream",
          "text": [
            "\n"
          ]
        },
        {
          "name": "stdout",
          "output_type": "stream",
          "text": [
            "\n",
            "      Epoch    GPU_mem   box_loss   cls_loss   dfl_loss  Instances       Size\n"
          ]
        },
        {
          "name": "stderr",
          "output_type": "stream",
          "text": [
            "     15/200      13.2G      1.687      2.576      2.061         12        640: 100%|██████████| 38/38 [00:37<00:00,  1.00it/s]\n",
            "                 Class     Images  Instances      Box(P          R      mAP50  mAP50-95): 100%|██████████| 19/19 [00:14<00:00,  1.32it/s]"
          ]
        },
        {
          "name": "stdout",
          "output_type": "stream",
          "text": [
            "                   all        300        338     0.0962      0.443      0.165     0.0572\n"
          ]
        },
        {
          "name": "stderr",
          "output_type": "stream",
          "text": [
            "\n"
          ]
        },
        {
          "name": "stdout",
          "output_type": "stream",
          "text": [
            "\n",
            "      Epoch    GPU_mem   box_loss   cls_loss   dfl_loss  Instances       Size\n"
          ]
        },
        {
          "name": "stderr",
          "output_type": "stream",
          "text": [
            "     16/200      13.2G      1.643      2.524      2.041          8        640: 100%|██████████| 38/38 [00:38<00:00,  1.01s/it]\n",
            "                 Class     Images  Instances      Box(P          R      mAP50  mAP50-95): 100%|██████████| 19/19 [00:14<00:00,  1.33it/s]"
          ]
        },
        {
          "name": "stdout",
          "output_type": "stream",
          "text": [
            "                   all        300        338      0.132      0.368      0.159     0.0574\n"
          ]
        },
        {
          "name": "stderr",
          "output_type": "stream",
          "text": [
            "\n"
          ]
        },
        {
          "name": "stdout",
          "output_type": "stream",
          "text": [
            "\n",
            "      Epoch    GPU_mem   box_loss   cls_loss   dfl_loss  Instances       Size\n"
          ]
        },
        {
          "name": "stderr",
          "output_type": "stream",
          "text": [
            "     17/200      13.3G      1.687      2.595      2.082          6        640: 100%|██████████| 38/38 [00:38<00:00,  1.00s/it]\n",
            "                 Class     Images  Instances      Box(P          R      mAP50  mAP50-95): 100%|██████████| 19/19 [00:14<00:00,  1.34it/s]"
          ]
        },
        {
          "name": "stdout",
          "output_type": "stream",
          "text": [
            "                   all        300        338      0.478      0.408      0.166     0.0698\n"
          ]
        },
        {
          "name": "stderr",
          "output_type": "stream",
          "text": [
            "\n"
          ]
        },
        {
          "name": "stdout",
          "output_type": "stream",
          "text": [
            "\n",
            "      Epoch    GPU_mem   box_loss   cls_loss   dfl_loss  Instances       Size\n"
          ]
        },
        {
          "name": "stderr",
          "output_type": "stream",
          "text": [
            "     18/200        13G      1.698      2.563      2.055          9        640: 100%|██████████| 38/38 [00:37<00:00,  1.00it/s]\n",
            "                 Class     Images  Instances      Box(P          R      mAP50  mAP50-95): 100%|██████████| 19/19 [00:14<00:00,  1.33it/s]"
          ]
        },
        {
          "name": "stdout",
          "output_type": "stream",
          "text": [
            "                   all        300        338      0.431      0.317      0.161     0.0595\n"
          ]
        },
        {
          "name": "stderr",
          "output_type": "stream",
          "text": [
            "\n"
          ]
        },
        {
          "name": "stdout",
          "output_type": "stream",
          "text": [
            "\n",
            "      Epoch    GPU_mem   box_loss   cls_loss   dfl_loss  Instances       Size\n"
          ]
        },
        {
          "name": "stderr",
          "output_type": "stream",
          "text": [
            "     19/200      13.2G      1.637      2.541      2.009         10        640: 100%|██████████| 38/38 [00:38<00:00,  1.01s/it]\n",
            "                 Class     Images  Instances      Box(P          R      mAP50  mAP50-95): 100%|██████████| 19/19 [00:14<00:00,  1.33it/s]"
          ]
        },
        {
          "name": "stdout",
          "output_type": "stream",
          "text": [
            "                   all        300        338      0.118      0.354      0.162     0.0547\n"
          ]
        },
        {
          "name": "stderr",
          "output_type": "stream",
          "text": [
            "\n"
          ]
        },
        {
          "name": "stdout",
          "output_type": "stream",
          "text": [
            "\n",
            "      Epoch    GPU_mem   box_loss   cls_loss   dfl_loss  Instances       Size\n"
          ]
        },
        {
          "name": "stderr",
          "output_type": "stream",
          "text": [
            "     20/200      13.2G      1.634      2.554      2.017          9        640: 100%|██████████| 38/38 [00:38<00:00,  1.01s/it]\n",
            "                 Class     Images  Instances      Box(P          R      mAP50  mAP50-95): 100%|██████████| 19/19 [00:14<00:00,  1.31it/s]"
          ]
        },
        {
          "name": "stdout",
          "output_type": "stream",
          "text": [
            "                   all        300        338      0.476      0.383      0.185      0.077\n"
          ]
        },
        {
          "name": "stderr",
          "output_type": "stream",
          "text": [
            "\n"
          ]
        },
        {
          "name": "stdout",
          "output_type": "stream",
          "text": [
            "\n",
            "      Epoch    GPU_mem   box_loss   cls_loss   dfl_loss  Instances       Size\n"
          ]
        },
        {
          "name": "stderr",
          "output_type": "stream",
          "text": [
            "     21/200      13.3G      1.661      2.472      2.052         12        640: 100%|██████████| 38/38 [00:38<00:00,  1.00s/it]\n",
            "                 Class     Images  Instances      Box(P          R      mAP50  mAP50-95): 100%|██████████| 19/19 [00:14<00:00,  1.32it/s]"
          ]
        },
        {
          "name": "stdout",
          "output_type": "stream",
          "text": [
            "                   all        300        338      0.137      0.449       0.17     0.0581\n"
          ]
        },
        {
          "name": "stderr",
          "output_type": "stream",
          "text": [
            "\n"
          ]
        },
        {
          "name": "stdout",
          "output_type": "stream",
          "text": [
            "\n",
            "      Epoch    GPU_mem   box_loss   cls_loss   dfl_loss  Instances       Size\n"
          ]
        },
        {
          "name": "stderr",
          "output_type": "stream",
          "text": [
            "     22/200      13.2G      1.629      2.483      2.014         13        640: 100%|██████████| 38/38 [00:38<00:00,  1.00s/it]\n",
            "                 Class     Images  Instances      Box(P          R      mAP50  mAP50-95): 100%|██████████| 19/19 [00:14<00:00,  1.32it/s]"
          ]
        },
        {
          "name": "stdout",
          "output_type": "stream",
          "text": [
            "                   all        300        338      0.443      0.359      0.123     0.0445\n"
          ]
        },
        {
          "name": "stderr",
          "output_type": "stream",
          "text": [
            "\n"
          ]
        },
        {
          "name": "stdout",
          "output_type": "stream",
          "text": [
            "\n",
            "      Epoch    GPU_mem   box_loss   cls_loss   dfl_loss  Instances       Size\n"
          ]
        },
        {
          "name": "stderr",
          "output_type": "stream",
          "text": [
            "     23/200      13.2G      1.583      2.456      1.968          7        640: 100%|██████████| 38/38 [00:38<00:00,  1.00s/it]\n",
            "                 Class     Images  Instances      Box(P          R      mAP50  mAP50-95): 100%|██████████| 19/19 [00:14<00:00,  1.33it/s]"
          ]
        },
        {
          "name": "stdout",
          "output_type": "stream",
          "text": [
            "                   all        300        338      0.595      0.357      0.284      0.112\n"
          ]
        },
        {
          "name": "stderr",
          "output_type": "stream",
          "text": [
            "\n"
          ]
        },
        {
          "name": "stdout",
          "output_type": "stream",
          "text": [
            "\n",
            "      Epoch    GPU_mem   box_loss   cls_loss   dfl_loss  Instances       Size\n"
          ]
        },
        {
          "name": "stderr",
          "output_type": "stream",
          "text": [
            "     24/200      13.2G      1.589      2.394      1.998          8        640: 100%|██████████| 38/38 [00:38<00:00,  1.01s/it]\n",
            "                 Class     Images  Instances      Box(P          R      mAP50  mAP50-95): 100%|██████████| 19/19 [00:14<00:00,  1.31it/s]"
          ]
        },
        {
          "name": "stdout",
          "output_type": "stream",
          "text": [
            "                   all        300        338      0.526      0.394      0.214     0.0946\n"
          ]
        },
        {
          "name": "stderr",
          "output_type": "stream",
          "text": [
            "\n"
          ]
        },
        {
          "name": "stdout",
          "output_type": "stream",
          "text": [
            "\n",
            "      Epoch    GPU_mem   box_loss   cls_loss   dfl_loss  Instances       Size\n"
          ]
        },
        {
          "name": "stderr",
          "output_type": "stream",
          "text": [
            "     25/200      13.3G      1.593      2.386       1.95         10        640: 100%|██████████| 38/38 [00:37<00:00,  1.00it/s]\n",
            "                 Class     Images  Instances      Box(P          R      mAP50  mAP50-95): 100%|██████████| 19/19 [00:14<00:00,  1.33it/s]"
          ]
        },
        {
          "name": "stdout",
          "output_type": "stream",
          "text": [
            "                   all        300        338      0.467      0.355      0.145     0.0573\n"
          ]
        },
        {
          "name": "stderr",
          "output_type": "stream",
          "text": [
            "\n"
          ]
        },
        {
          "name": "stdout",
          "output_type": "stream",
          "text": [
            "\n",
            "      Epoch    GPU_mem   box_loss   cls_loss   dfl_loss  Instances       Size\n"
          ]
        },
        {
          "name": "stderr",
          "output_type": "stream",
          "text": [
            "     26/200      13.2G      1.577      2.413      1.994         10        640: 100%|██████████| 38/38 [00:38<00:00,  1.00s/it]\n",
            "                 Class     Images  Instances      Box(P          R      mAP50  mAP50-95): 100%|██████████| 19/19 [00:14<00:00,  1.34it/s]"
          ]
        },
        {
          "name": "stdout",
          "output_type": "stream",
          "text": [
            "                   all        300        338      0.239      0.468      0.236      0.103\n"
          ]
        },
        {
          "name": "stderr",
          "output_type": "stream",
          "text": [
            "\n"
          ]
        },
        {
          "name": "stdout",
          "output_type": "stream",
          "text": [
            "\n",
            "      Epoch    GPU_mem   box_loss   cls_loss   dfl_loss  Instances       Size\n"
          ]
        },
        {
          "name": "stderr",
          "output_type": "stream",
          "text": [
            "     27/200      13.2G      1.599      2.368      1.985         15        640: 100%|██████████| 38/38 [00:38<00:00,  1.00s/it]\n",
            "                 Class     Images  Instances      Box(P          R      mAP50  mAP50-95): 100%|██████████| 19/19 [00:14<00:00,  1.34it/s]"
          ]
        },
        {
          "name": "stdout",
          "output_type": "stream",
          "text": [
            "                   all        300        338      0.286      0.487      0.217     0.0922\n"
          ]
        },
        {
          "name": "stderr",
          "output_type": "stream",
          "text": [
            "\n"
          ]
        },
        {
          "name": "stdout",
          "output_type": "stream",
          "text": [
            "\n",
            "      Epoch    GPU_mem   box_loss   cls_loss   dfl_loss  Instances       Size\n"
          ]
        },
        {
          "name": "stderr",
          "output_type": "stream",
          "text": [
            "     28/200      13.2G      1.659       2.49      2.042         14        640: 100%|██████████| 38/38 [00:38<00:00,  1.01s/it]\n",
            "                 Class     Images  Instances      Box(P          R      mAP50  mAP50-95): 100%|██████████| 19/19 [00:14<00:00,  1.33it/s]"
          ]
        },
        {
          "name": "stdout",
          "output_type": "stream",
          "text": [
            "                   all        300        338      0.228      0.495      0.239     0.0999\n"
          ]
        },
        {
          "name": "stderr",
          "output_type": "stream",
          "text": [
            "\n"
          ]
        },
        {
          "name": "stdout",
          "output_type": "stream",
          "text": [
            "\n",
            "      Epoch    GPU_mem   box_loss   cls_loss   dfl_loss  Instances       Size\n"
          ]
        },
        {
          "name": "stderr",
          "output_type": "stream",
          "text": [
            "     29/200      13.3G      1.549      2.404      1.961         10        640: 100%|██████████| 38/38 [00:37<00:00,  1.00it/s]\n",
            "                 Class     Images  Instances      Box(P          R      mAP50  mAP50-95): 100%|██████████| 19/19 [00:14<00:00,  1.34it/s]"
          ]
        },
        {
          "name": "stdout",
          "output_type": "stream",
          "text": [
            "                   all        300        338      0.272      0.481      0.285      0.133\n"
          ]
        },
        {
          "name": "stderr",
          "output_type": "stream",
          "text": [
            "\n"
          ]
        },
        {
          "name": "stdout",
          "output_type": "stream",
          "text": [
            "\n",
            "      Epoch    GPU_mem   box_loss   cls_loss   dfl_loss  Instances       Size\n"
          ]
        },
        {
          "name": "stderr",
          "output_type": "stream",
          "text": [
            "     30/200      13.2G      1.499      2.335      1.891         10        640: 100%|██████████| 38/38 [00:38<00:00,  1.00s/it]\n",
            "                 Class     Images  Instances      Box(P          R      mAP50  mAP50-95): 100%|██████████| 19/19 [00:14<00:00,  1.34it/s]"
          ]
        },
        {
          "name": "stdout",
          "output_type": "stream",
          "text": [
            "                   all        300        338      0.245      0.562      0.297      0.135\n"
          ]
        },
        {
          "name": "stderr",
          "output_type": "stream",
          "text": [
            "\n"
          ]
        },
        {
          "name": "stdout",
          "output_type": "stream",
          "text": [
            "\n",
            "      Epoch    GPU_mem   box_loss   cls_loss   dfl_loss  Instances       Size\n"
          ]
        },
        {
          "name": "stderr",
          "output_type": "stream",
          "text": [
            "     31/200        13G      1.463      2.291      1.882         10        640: 100%|██████████| 38/38 [00:38<00:00,  1.01s/it]\n",
            "                 Class     Images  Instances      Box(P          R      mAP50  mAP50-95): 100%|██████████| 19/19 [00:14<00:00,  1.32it/s]"
          ]
        },
        {
          "name": "stdout",
          "output_type": "stream",
          "text": [
            "                   all        300        338       0.24       0.51      0.266      0.113\n"
          ]
        },
        {
          "name": "stderr",
          "output_type": "stream",
          "text": [
            "\n"
          ]
        },
        {
          "name": "stdout",
          "output_type": "stream",
          "text": [
            "\n",
            "      Epoch    GPU_mem   box_loss   cls_loss   dfl_loss  Instances       Size\n"
          ]
        },
        {
          "name": "stderr",
          "output_type": "stream",
          "text": [
            "     32/200      13.2G      1.508      2.296        1.9         10        640: 100%|██████████| 38/38 [00:38<00:00,  1.00s/it]\n",
            "                 Class     Images  Instances      Box(P          R      mAP50  mAP50-95): 100%|██████████| 19/19 [00:14<00:00,  1.33it/s]"
          ]
        },
        {
          "name": "stdout",
          "output_type": "stream",
          "text": [
            "                   all        300        338      0.289      0.464      0.318      0.136\n"
          ]
        },
        {
          "name": "stderr",
          "output_type": "stream",
          "text": [
            "\n"
          ]
        },
        {
          "name": "stdout",
          "output_type": "stream",
          "text": [
            "\n",
            "      Epoch    GPU_mem   box_loss   cls_loss   dfl_loss  Instances       Size\n"
          ]
        },
        {
          "name": "stderr",
          "output_type": "stream",
          "text": [
            "     33/200      13.3G      1.575      2.395      1.961          9        640: 100%|██████████| 38/38 [00:38<00:00,  1.01s/it]\n",
            "                 Class     Images  Instances      Box(P          R      mAP50  mAP50-95): 100%|██████████| 19/19 [00:14<00:00,  1.33it/s]"
          ]
        },
        {
          "name": "stdout",
          "output_type": "stream",
          "text": [
            "                   all        300        338      0.283      0.481       0.24      0.107\n"
          ]
        },
        {
          "name": "stderr",
          "output_type": "stream",
          "text": [
            "\n"
          ]
        },
        {
          "name": "stdout",
          "output_type": "stream",
          "text": [
            "\n",
            "      Epoch    GPU_mem   box_loss   cls_loss   dfl_loss  Instances       Size\n"
          ]
        },
        {
          "name": "stderr",
          "output_type": "stream",
          "text": [
            "     34/200      13.2G       1.49      2.349      1.923         13        640: 100%|██████████| 38/38 [00:38<00:00,  1.00s/it]\n",
            "                 Class     Images  Instances      Box(P          R      mAP50  mAP50-95): 100%|██████████| 19/19 [00:14<00:00,  1.33it/s]"
          ]
        },
        {
          "name": "stdout",
          "output_type": "stream",
          "text": [
            "                   all        300        338      0.212      0.337      0.196     0.0812\n"
          ]
        },
        {
          "name": "stderr",
          "output_type": "stream",
          "text": [
            "\n"
          ]
        },
        {
          "name": "stdout",
          "output_type": "stream",
          "text": [
            "\n",
            "      Epoch    GPU_mem   box_loss   cls_loss   dfl_loss  Instances       Size\n"
          ]
        },
        {
          "name": "stderr",
          "output_type": "stream",
          "text": [
            "     35/200      13.2G      1.497      2.285        1.9         13        640: 100%|██████████| 38/38 [00:38<00:00,  1.00s/it]\n",
            "                 Class     Images  Instances      Box(P          R      mAP50  mAP50-95): 100%|██████████| 19/19 [00:14<00:00,  1.34it/s]"
          ]
        },
        {
          "name": "stdout",
          "output_type": "stream",
          "text": [
            "                   all        300        338      0.267       0.53      0.243     0.0995\n"
          ]
        },
        {
          "name": "stderr",
          "output_type": "stream",
          "text": [
            "\n"
          ]
        },
        {
          "name": "stdout",
          "output_type": "stream",
          "text": [
            "\n",
            "      Epoch    GPU_mem   box_loss   cls_loss   dfl_loss  Instances       Size\n"
          ]
        },
        {
          "name": "stderr",
          "output_type": "stream",
          "text": [
            "     36/200      13.3G      1.488      2.372       1.91         14        640: 100%|██████████| 38/38 [00:38<00:00,  1.00s/it]\n",
            "                 Class     Images  Instances      Box(P          R      mAP50  mAP50-95): 100%|██████████| 19/19 [00:14<00:00,  1.33it/s]"
          ]
        },
        {
          "name": "stdout",
          "output_type": "stream",
          "text": [
            "                   all        300        338      0.289      0.448      0.234     0.0997\n"
          ]
        },
        {
          "name": "stderr",
          "output_type": "stream",
          "text": [
            "\n"
          ]
        },
        {
          "name": "stdout",
          "output_type": "stream",
          "text": [
            "\n",
            "      Epoch    GPU_mem   box_loss   cls_loss   dfl_loss  Instances       Size\n"
          ]
        },
        {
          "name": "stderr",
          "output_type": "stream",
          "text": [
            "     37/200      13.3G      1.517      2.272      1.915         11        640: 100%|██████████| 38/38 [00:37<00:00,  1.00it/s]\n",
            "                 Class     Images  Instances      Box(P          R      mAP50  mAP50-95): 100%|██████████| 19/19 [00:14<00:00,  1.34it/s]"
          ]
        },
        {
          "name": "stdout",
          "output_type": "stream",
          "text": [
            "                   all        300        338       0.26      0.453      0.249      0.114\n"
          ]
        },
        {
          "name": "stderr",
          "output_type": "stream",
          "text": [
            "\n"
          ]
        },
        {
          "name": "stdout",
          "output_type": "stream",
          "text": [
            "\n",
            "      Epoch    GPU_mem   box_loss   cls_loss   dfl_loss  Instances       Size\n"
          ]
        },
        {
          "name": "stderr",
          "output_type": "stream",
          "text": [
            "     38/200        13G      1.513      2.256      1.858         12        640: 100%|██████████| 38/38 [00:38<00:00,  1.00s/it]\n",
            "                 Class     Images  Instances      Box(P          R      mAP50  mAP50-95): 100%|██████████| 19/19 [00:14<00:00,  1.34it/s]"
          ]
        },
        {
          "name": "stdout",
          "output_type": "stream",
          "text": [
            "                   all        300        338       0.34      0.439      0.291       0.14\n"
          ]
        },
        {
          "name": "stderr",
          "output_type": "stream",
          "text": [
            "\n"
          ]
        },
        {
          "name": "stdout",
          "output_type": "stream",
          "text": [
            "\n",
            "      Epoch    GPU_mem   box_loss   cls_loss   dfl_loss  Instances       Size\n"
          ]
        },
        {
          "name": "stderr",
          "output_type": "stream",
          "text": [
            "     39/200      12.9G      1.555      2.236      1.913         11        640: 100%|██████████| 38/38 [00:38<00:00,  1.01s/it]\n",
            "                 Class     Images  Instances      Box(P          R      mAP50  mAP50-95): 100%|██████████| 19/19 [00:14<00:00,  1.32it/s]"
          ]
        },
        {
          "name": "stdout",
          "output_type": "stream",
          "text": [
            "                   all        300        338      0.279      0.333      0.247      0.106\n"
          ]
        },
        {
          "name": "stderr",
          "output_type": "stream",
          "text": [
            "\n"
          ]
        },
        {
          "name": "stdout",
          "output_type": "stream",
          "text": [
            "\n",
            "      Epoch    GPU_mem   box_loss   cls_loss   dfl_loss  Instances       Size\n"
          ]
        },
        {
          "name": "stderr",
          "output_type": "stream",
          "text": [
            "     40/200      12.9G      1.456      2.243      1.877          8        640: 100%|██████████| 38/38 [00:37<00:00,  1.00it/s]\n",
            "                 Class     Images  Instances      Box(P          R      mAP50  mAP50-95): 100%|██████████| 19/19 [00:14<00:00,  1.33it/s]"
          ]
        },
        {
          "name": "stdout",
          "output_type": "stream",
          "text": [
            "                   all        300        338      0.298      0.479      0.286      0.124\n"
          ]
        },
        {
          "name": "stderr",
          "output_type": "stream",
          "text": [
            "\n"
          ]
        },
        {
          "name": "stdout",
          "output_type": "stream",
          "text": [
            "\n",
            "      Epoch    GPU_mem   box_loss   cls_loss   dfl_loss  Instances       Size\n"
          ]
        },
        {
          "name": "stderr",
          "output_type": "stream",
          "text": [
            "     41/200      13.3G      1.473      2.219      1.862         11        640: 100%|██████████| 38/38 [00:38<00:00,  1.00s/it]\n",
            "                 Class     Images  Instances      Box(P          R      mAP50  mAP50-95): 100%|██████████| 19/19 [00:14<00:00,  1.33it/s]"
          ]
        },
        {
          "name": "stdout",
          "output_type": "stream",
          "text": [
            "                   all        300        338      0.456      0.515      0.393      0.186\n"
          ]
        },
        {
          "name": "stderr",
          "output_type": "stream",
          "text": [
            "\n"
          ]
        },
        {
          "name": "stdout",
          "output_type": "stream",
          "text": [
            "\n",
            "      Epoch    GPU_mem   box_loss   cls_loss   dfl_loss  Instances       Size\n"
          ]
        },
        {
          "name": "stderr",
          "output_type": "stream",
          "text": [
            "     42/200      13.2G      1.482      2.196      1.876         15        640: 100%|██████████| 38/38 [00:38<00:00,  1.01s/it]\n",
            "                 Class     Images  Instances      Box(P          R      mAP50  mAP50-95): 100%|██████████| 19/19 [00:14<00:00,  1.32it/s]"
          ]
        },
        {
          "name": "stdout",
          "output_type": "stream",
          "text": [
            "                   all        300        338      0.319      0.494      0.344      0.156\n"
          ]
        },
        {
          "name": "stderr",
          "output_type": "stream",
          "text": [
            "\n"
          ]
        },
        {
          "name": "stdout",
          "output_type": "stream",
          "text": [
            "\n",
            "      Epoch    GPU_mem   box_loss   cls_loss   dfl_loss  Instances       Size\n"
          ]
        },
        {
          "name": "stderr",
          "output_type": "stream",
          "text": [
            "     43/200      13.2G      1.458      2.256      1.891         11        640: 100%|██████████| 38/38 [00:37<00:00,  1.00it/s]\n",
            "                 Class     Images  Instances      Box(P          R      mAP50  mAP50-95): 100%|██████████| 19/19 [00:14<00:00,  1.33it/s]"
          ]
        },
        {
          "name": "stdout",
          "output_type": "stream",
          "text": [
            "                   all        300        338      0.404      0.501      0.389      0.183\n"
          ]
        },
        {
          "name": "stderr",
          "output_type": "stream",
          "text": [
            "\n"
          ]
        },
        {
          "name": "stdout",
          "output_type": "stream",
          "text": [
            "\n",
            "      Epoch    GPU_mem   box_loss   cls_loss   dfl_loss  Instances       Size\n"
          ]
        },
        {
          "name": "stderr",
          "output_type": "stream",
          "text": [
            "     44/200      13.2G      1.457      2.197       1.82         15        640: 100%|██████████| 38/38 [00:38<00:00,  1.00s/it]\n",
            "                 Class     Images  Instances      Box(P          R      mAP50  mAP50-95): 100%|██████████| 19/19 [00:14<00:00,  1.34it/s]"
          ]
        },
        {
          "name": "stdout",
          "output_type": "stream",
          "text": [
            "                   all        300        338      0.385      0.533      0.397      0.207\n"
          ]
        },
        {
          "name": "stderr",
          "output_type": "stream",
          "text": [
            "\n"
          ]
        },
        {
          "name": "stdout",
          "output_type": "stream",
          "text": [
            "\n",
            "      Epoch    GPU_mem   box_loss   cls_loss   dfl_loss  Instances       Size\n"
          ]
        },
        {
          "name": "stderr",
          "output_type": "stream",
          "text": [
            "     45/200      13.3G       1.39      2.106      1.806         10        640: 100%|██████████| 38/38 [00:38<00:00,  1.01s/it]\n",
            "                 Class     Images  Instances      Box(P          R      mAP50  mAP50-95): 100%|██████████| 19/19 [00:14<00:00,  1.33it/s]"
          ]
        },
        {
          "name": "stdout",
          "output_type": "stream",
          "text": [
            "                   all        300        338      0.369      0.555      0.423      0.202\n"
          ]
        },
        {
          "name": "stderr",
          "output_type": "stream",
          "text": [
            "\n"
          ]
        },
        {
          "name": "stdout",
          "output_type": "stream",
          "text": [
            "\n",
            "      Epoch    GPU_mem   box_loss   cls_loss   dfl_loss  Instances       Size\n"
          ]
        },
        {
          "name": "stderr",
          "output_type": "stream",
          "text": [
            "     46/200      13.2G      1.448      2.148      1.843         13        640: 100%|██████████| 38/38 [00:38<00:00,  1.00s/it]\n",
            "                 Class     Images  Instances      Box(P          R      mAP50  mAP50-95): 100%|██████████| 19/19 [00:14<00:00,  1.33it/s]"
          ]
        },
        {
          "name": "stdout",
          "output_type": "stream",
          "text": [
            "                   all        300        338      0.405      0.412      0.364      0.159\n"
          ]
        },
        {
          "name": "stderr",
          "output_type": "stream",
          "text": [
            "\n"
          ]
        },
        {
          "name": "stdout",
          "output_type": "stream",
          "text": [
            "\n",
            "      Epoch    GPU_mem   box_loss   cls_loss   dfl_loss  Instances       Size\n"
          ]
        },
        {
          "name": "stderr",
          "output_type": "stream",
          "text": [
            "     47/200      13.3G      1.386      2.096      1.824         11        640: 100%|██████████| 38/38 [00:38<00:00,  1.00s/it]\n",
            "                 Class     Images  Instances      Box(P          R      mAP50  mAP50-95): 100%|██████████| 19/19 [00:14<00:00,  1.34it/s]"
          ]
        },
        {
          "name": "stdout",
          "output_type": "stream",
          "text": [
            "                   all        300        338      0.434      0.464      0.424      0.204\n"
          ]
        },
        {
          "name": "stderr",
          "output_type": "stream",
          "text": [
            "\n"
          ]
        },
        {
          "name": "stdout",
          "output_type": "stream",
          "text": [
            "\n",
            "      Epoch    GPU_mem   box_loss   cls_loss   dfl_loss  Instances       Size\n"
          ]
        },
        {
          "name": "stderr",
          "output_type": "stream",
          "text": [
            "     48/200      13.2G      1.387      2.123      1.812         13        640: 100%|██████████| 38/38 [00:38<00:00,  1.00s/it]\n",
            "                 Class     Images  Instances      Box(P          R      mAP50  mAP50-95): 100%|██████████| 19/19 [00:14<00:00,  1.34it/s]"
          ]
        },
        {
          "name": "stdout",
          "output_type": "stream",
          "text": [
            "                   all        300        338      0.513      0.451      0.397      0.194\n"
          ]
        },
        {
          "name": "stderr",
          "output_type": "stream",
          "text": [
            "\n"
          ]
        },
        {
          "name": "stdout",
          "output_type": "stream",
          "text": [
            "\n",
            "      Epoch    GPU_mem   box_loss   cls_loss   dfl_loss  Instances       Size\n"
          ]
        },
        {
          "name": "stderr",
          "output_type": "stream",
          "text": [
            "     49/200      13.3G      1.449      2.158      1.858         10        640: 100%|██████████| 38/38 [00:38<00:00,  1.01s/it]\n",
            "                 Class     Images  Instances      Box(P          R      mAP50  mAP50-95): 100%|██████████| 19/19 [00:14<00:00,  1.34it/s]"
          ]
        },
        {
          "name": "stdout",
          "output_type": "stream",
          "text": [
            "                   all        300        338      0.515      0.494       0.46      0.224\n"
          ]
        },
        {
          "name": "stderr",
          "output_type": "stream",
          "text": [
            "\n"
          ]
        },
        {
          "name": "stdout",
          "output_type": "stream",
          "text": [
            "\n",
            "      Epoch    GPU_mem   box_loss   cls_loss   dfl_loss  Instances       Size\n"
          ]
        },
        {
          "name": "stderr",
          "output_type": "stream",
          "text": [
            "     50/200      13.2G      1.416      2.056      1.812         11        640: 100%|██████████| 38/38 [00:38<00:00,  1.00s/it]\n",
            "                 Class     Images  Instances      Box(P          R      mAP50  mAP50-95): 100%|██████████| 19/19 [00:14<00:00,  1.33it/s]"
          ]
        },
        {
          "name": "stdout",
          "output_type": "stream",
          "text": [
            "                   all        300        338      0.486      0.485      0.461      0.219\n"
          ]
        },
        {
          "name": "stderr",
          "output_type": "stream",
          "text": [
            "\n"
          ]
        },
        {
          "name": "stdout",
          "output_type": "stream",
          "text": [
            "\n",
            "      Epoch    GPU_mem   box_loss   cls_loss   dfl_loss  Instances       Size\n"
          ]
        },
        {
          "name": "stderr",
          "output_type": "stream",
          "text": [
            "     51/200      13.2G      1.447      2.071      1.854         11        640: 100%|██████████| 38/38 [00:38<00:00,  1.00s/it]\n",
            "                 Class     Images  Instances      Box(P          R      mAP50  mAP50-95): 100%|██████████| 19/19 [00:14<00:00,  1.31it/s]"
          ]
        },
        {
          "name": "stdout",
          "output_type": "stream",
          "text": [
            "                   all        300        338      0.421      0.542       0.41      0.199\n"
          ]
        },
        {
          "name": "stderr",
          "output_type": "stream",
          "text": [
            "\n"
          ]
        },
        {
          "name": "stdout",
          "output_type": "stream",
          "text": [
            "\n",
            "      Epoch    GPU_mem   box_loss   cls_loss   dfl_loss  Instances       Size\n"
          ]
        },
        {
          "name": "stderr",
          "output_type": "stream",
          "text": [
            "     52/200      13.2G      1.393      2.086      1.799         17        640: 100%|██████████| 38/38 [00:38<00:00,  1.00s/it]\n",
            "                 Class     Images  Instances      Box(P          R      mAP50  mAP50-95): 100%|██████████| 19/19 [00:14<00:00,  1.34it/s]"
          ]
        },
        {
          "name": "stdout",
          "output_type": "stream",
          "text": [
            "                   all        300        338      0.441      0.495      0.378      0.175\n"
          ]
        },
        {
          "name": "stderr",
          "output_type": "stream",
          "text": [
            "\n"
          ]
        },
        {
          "name": "stdout",
          "output_type": "stream",
          "text": [
            "\n",
            "      Epoch    GPU_mem   box_loss   cls_loss   dfl_loss  Instances       Size\n"
          ]
        },
        {
          "name": "stderr",
          "output_type": "stream",
          "text": [
            "     53/200      13.3G       1.35      2.015      1.784         16        640: 100%|██████████| 38/38 [00:38<00:00,  1.00s/it]\n",
            "                 Class     Images  Instances      Box(P          R      mAP50  mAP50-95): 100%|██████████| 19/19 [00:14<00:00,  1.34it/s]"
          ]
        },
        {
          "name": "stdout",
          "output_type": "stream",
          "text": [
            "                   all        300        338      0.324      0.444      0.297      0.128\n"
          ]
        },
        {
          "name": "stderr",
          "output_type": "stream",
          "text": [
            "\n"
          ]
        },
        {
          "name": "stdout",
          "output_type": "stream",
          "text": [
            "\n",
            "      Epoch    GPU_mem   box_loss   cls_loss   dfl_loss  Instances       Size\n"
          ]
        },
        {
          "name": "stderr",
          "output_type": "stream",
          "text": [
            "     54/200        13G      1.417      2.072       1.81          9        640: 100%|██████████| 38/38 [00:38<00:00,  1.01s/it]\n",
            "                 Class     Images  Instances      Box(P          R      mAP50  mAP50-95): 100%|██████████| 19/19 [00:14<00:00,  1.33it/s]"
          ]
        },
        {
          "name": "stdout",
          "output_type": "stream",
          "text": [
            "                   all        300        338      0.379      0.456      0.389      0.192\n"
          ]
        },
        {
          "name": "stderr",
          "output_type": "stream",
          "text": [
            "\n"
          ]
        },
        {
          "name": "stdout",
          "output_type": "stream",
          "text": [
            "\n",
            "      Epoch    GPU_mem   box_loss   cls_loss   dfl_loss  Instances       Size\n"
          ]
        },
        {
          "name": "stderr",
          "output_type": "stream",
          "text": [
            "     55/200      13.2G       1.33      2.047      1.775         10        640: 100%|██████████| 38/38 [00:38<00:00,  1.00s/it]\n",
            "                 Class     Images  Instances      Box(P          R      mAP50  mAP50-95): 100%|██████████| 19/19 [00:14<00:00,  1.34it/s]"
          ]
        },
        {
          "name": "stdout",
          "output_type": "stream",
          "text": [
            "                   all        300        338      0.501      0.483      0.453      0.208\n"
          ]
        },
        {
          "name": "stderr",
          "output_type": "stream",
          "text": [
            "\n"
          ]
        },
        {
          "name": "stdout",
          "output_type": "stream",
          "text": [
            "\n",
            "      Epoch    GPU_mem   box_loss   cls_loss   dfl_loss  Instances       Size\n"
          ]
        },
        {
          "name": "stderr",
          "output_type": "stream",
          "text": [
            "     56/200      13.2G      1.445      2.142      1.835         10        640: 100%|██████████| 38/38 [00:38<00:00,  1.00s/it]\n",
            "                 Class     Images  Instances      Box(P          R      mAP50  mAP50-95): 100%|██████████| 19/19 [00:14<00:00,  1.34it/s]"
          ]
        },
        {
          "name": "stdout",
          "output_type": "stream",
          "text": [
            "                   all        300        338      0.448      0.513      0.444      0.221\n"
          ]
        },
        {
          "name": "stderr",
          "output_type": "stream",
          "text": [
            "\n"
          ]
        },
        {
          "name": "stdout",
          "output_type": "stream",
          "text": [
            "\n",
            "      Epoch    GPU_mem   box_loss   cls_loss   dfl_loss  Instances       Size\n"
          ]
        },
        {
          "name": "stderr",
          "output_type": "stream",
          "text": [
            "     57/200      13.3G      1.368      2.053      1.807         10        640: 100%|██████████| 38/38 [00:38<00:00,  1.00s/it]\n",
            "                 Class     Images  Instances      Box(P          R      mAP50  mAP50-95): 100%|██████████| 19/19 [00:14<00:00,  1.33it/s]"
          ]
        },
        {
          "name": "stdout",
          "output_type": "stream",
          "text": [
            "                   all        300        338      0.584      0.444      0.493       0.24\n"
          ]
        },
        {
          "name": "stderr",
          "output_type": "stream",
          "text": [
            "\n"
          ]
        },
        {
          "name": "stdout",
          "output_type": "stream",
          "text": [
            "\n",
            "      Epoch    GPU_mem   box_loss   cls_loss   dfl_loss  Instances       Size\n"
          ]
        },
        {
          "name": "stderr",
          "output_type": "stream",
          "text": [
            "     58/200      13.3G      1.348      2.023      1.761         15        640: 100%|██████████| 38/38 [00:38<00:00,  1.01s/it]\n",
            "                 Class     Images  Instances      Box(P          R      mAP50  mAP50-95): 100%|██████████| 19/19 [00:14<00:00,  1.33it/s]"
          ]
        },
        {
          "name": "stdout",
          "output_type": "stream",
          "text": [
            "                   all        300        338      0.674      0.493      0.525      0.244\n"
          ]
        },
        {
          "name": "stderr",
          "output_type": "stream",
          "text": [
            "\n"
          ]
        },
        {
          "name": "stdout",
          "output_type": "stream",
          "text": [
            "\n",
            "      Epoch    GPU_mem   box_loss   cls_loss   dfl_loss  Instances       Size\n"
          ]
        },
        {
          "name": "stderr",
          "output_type": "stream",
          "text": [
            "     59/200        13G      1.301      1.907      1.749          7        640: 100%|██████████| 38/38 [00:38<00:00,  1.00s/it]\n",
            "                 Class     Images  Instances      Box(P          R      mAP50  mAP50-95): 100%|██████████| 19/19 [00:14<00:00,  1.34it/s]"
          ]
        },
        {
          "name": "stdout",
          "output_type": "stream",
          "text": [
            "                   all        300        338      0.395      0.513       0.47      0.244\n"
          ]
        },
        {
          "name": "stderr",
          "output_type": "stream",
          "text": [
            "\n"
          ]
        },
        {
          "name": "stdout",
          "output_type": "stream",
          "text": [
            "\n",
            "      Epoch    GPU_mem   box_loss   cls_loss   dfl_loss  Instances       Size\n"
          ]
        },
        {
          "name": "stderr",
          "output_type": "stream",
          "text": [
            "     60/200      13.2G      1.345      2.011      1.766         11        640: 100%|██████████| 38/38 [00:38<00:00,  1.01s/it]\n",
            "                 Class     Images  Instances      Box(P          R      mAP50  mAP50-95): 100%|██████████| 19/19 [00:14<00:00,  1.33it/s]"
          ]
        },
        {
          "name": "stdout",
          "output_type": "stream",
          "text": [
            "                   all        300        338      0.479      0.499      0.466      0.231\n"
          ]
        },
        {
          "name": "stderr",
          "output_type": "stream",
          "text": [
            "\n"
          ]
        },
        {
          "name": "stdout",
          "output_type": "stream",
          "text": [
            "\n",
            "      Epoch    GPU_mem   box_loss   cls_loss   dfl_loss  Instances       Size\n"
          ]
        },
        {
          "name": "stderr",
          "output_type": "stream",
          "text": [
            "     61/200      13.3G      1.384      1.999      1.763         11        640: 100%|██████████| 38/38 [00:38<00:00,  1.00s/it]\n",
            "                 Class     Images  Instances      Box(P          R      mAP50  mAP50-95): 100%|██████████| 19/19 [00:14<00:00,  1.33it/s]"
          ]
        },
        {
          "name": "stdout",
          "output_type": "stream",
          "text": [
            "                   all        300        338      0.473      0.533      0.485      0.239\n"
          ]
        },
        {
          "name": "stderr",
          "output_type": "stream",
          "text": [
            "\n"
          ]
        },
        {
          "name": "stdout",
          "output_type": "stream",
          "text": [
            "\n",
            "      Epoch    GPU_mem   box_loss   cls_loss   dfl_loss  Instances       Size\n"
          ]
        },
        {
          "name": "stderr",
          "output_type": "stream",
          "text": [
            "     62/200      13.2G      1.375      1.935      1.777          9        640: 100%|██████████| 38/38 [00:38<00:00,  1.00s/it]\n",
            "                 Class     Images  Instances      Box(P          R      mAP50  mAP50-95): 100%|██████████| 19/19 [00:14<00:00,  1.33it/s]"
          ]
        },
        {
          "name": "stdout",
          "output_type": "stream",
          "text": [
            "                   all        300        338      0.346      0.415      0.349      0.159\n"
          ]
        },
        {
          "name": "stderr",
          "output_type": "stream",
          "text": [
            "\n"
          ]
        },
        {
          "name": "stdout",
          "output_type": "stream",
          "text": [
            "\n",
            "      Epoch    GPU_mem   box_loss   cls_loss   dfl_loss  Instances       Size\n"
          ]
        },
        {
          "name": "stderr",
          "output_type": "stream",
          "text": [
            "     63/200      12.9G      1.318      1.938      1.766         13        640: 100%|██████████| 38/38 [00:38<00:00,  1.00s/it]\n",
            "                 Class     Images  Instances      Box(P          R      mAP50  mAP50-95): 100%|██████████| 19/19 [00:14<00:00,  1.33it/s]"
          ]
        },
        {
          "name": "stdout",
          "output_type": "stream",
          "text": [
            "                   all        300        338      0.382      0.478      0.328      0.155\n"
          ]
        },
        {
          "name": "stderr",
          "output_type": "stream",
          "text": [
            "\n"
          ]
        },
        {
          "name": "stdout",
          "output_type": "stream",
          "text": [
            "\n",
            "      Epoch    GPU_mem   box_loss   cls_loss   dfl_loss  Instances       Size\n"
          ]
        },
        {
          "name": "stderr",
          "output_type": "stream",
          "text": [
            "     64/200      13.2G       1.43      1.989      1.836         11        640: 100%|██████████| 38/38 [00:38<00:00,  1.00s/it]\n",
            "                 Class     Images  Instances      Box(P          R      mAP50  mAP50-95): 100%|██████████| 19/19 [00:14<00:00,  1.33it/s]"
          ]
        },
        {
          "name": "stdout",
          "output_type": "stream",
          "text": [
            "                   all        300        338      0.555      0.519      0.523      0.248\n"
          ]
        },
        {
          "name": "stderr",
          "output_type": "stream",
          "text": [
            "\n"
          ]
        },
        {
          "name": "stdout",
          "output_type": "stream",
          "text": [
            "\n",
            "      Epoch    GPU_mem   box_loss   cls_loss   dfl_loss  Instances       Size\n"
          ]
        },
        {
          "name": "stderr",
          "output_type": "stream",
          "text": [
            "     65/200      13.3G      1.272      1.863      1.706         10        640: 100%|██████████| 38/38 [00:38<00:00,  1.01s/it]\n",
            "                 Class     Images  Instances      Box(P          R      mAP50  mAP50-95): 100%|██████████| 19/19 [00:14<00:00,  1.34it/s]"
          ]
        },
        {
          "name": "stdout",
          "output_type": "stream",
          "text": [
            "                   all        300        338      0.421      0.496      0.414      0.189\n"
          ]
        },
        {
          "name": "stderr",
          "output_type": "stream",
          "text": [
            "\n"
          ]
        },
        {
          "name": "stdout",
          "output_type": "stream",
          "text": [
            "\n",
            "      Epoch    GPU_mem   box_loss   cls_loss   dfl_loss  Instances       Size\n"
          ]
        },
        {
          "name": "stderr",
          "output_type": "stream",
          "text": [
            "     66/200      13.2G      1.342      1.951      1.749         11        640: 100%|██████████| 38/38 [00:38<00:00,  1.00s/it]\n",
            "                 Class     Images  Instances      Box(P          R      mAP50  mAP50-95): 100%|██████████| 19/19 [00:14<00:00,  1.33it/s]"
          ]
        },
        {
          "name": "stdout",
          "output_type": "stream",
          "text": [
            "                   all        300        338      0.532      0.577      0.549      0.267\n"
          ]
        },
        {
          "name": "stderr",
          "output_type": "stream",
          "text": [
            "\n"
          ]
        },
        {
          "name": "stdout",
          "output_type": "stream",
          "text": [
            "\n",
            "      Epoch    GPU_mem   box_loss   cls_loss   dfl_loss  Instances       Size\n"
          ]
        },
        {
          "name": "stderr",
          "output_type": "stream",
          "text": [
            "     67/200      13.2G      1.345      1.924      1.776          5        640: 100%|██████████| 38/38 [00:38<00:00,  1.01s/it]\n",
            "                 Class     Images  Instances      Box(P          R      mAP50  mAP50-95): 100%|██████████| 19/19 [00:14<00:00,  1.34it/s]"
          ]
        },
        {
          "name": "stdout",
          "output_type": "stream",
          "text": [
            "                   all        300        338      0.532      0.572      0.549      0.278\n"
          ]
        },
        {
          "name": "stderr",
          "output_type": "stream",
          "text": [
            "\n"
          ]
        },
        {
          "name": "stdout",
          "output_type": "stream",
          "text": [
            "\n",
            "      Epoch    GPU_mem   box_loss   cls_loss   dfl_loss  Instances       Size\n"
          ]
        },
        {
          "name": "stderr",
          "output_type": "stream",
          "text": [
            "     68/200      13.2G      1.396      1.873      1.796         12        640: 100%|██████████| 38/38 [00:38<00:00,  1.01s/it]\n",
            "                 Class     Images  Instances      Box(P          R      mAP50  mAP50-95): 100%|██████████| 19/19 [00:14<00:00,  1.33it/s]"
          ]
        },
        {
          "name": "stdout",
          "output_type": "stream",
          "text": [
            "                   all        300        338      0.419      0.488      0.398      0.187\n"
          ]
        },
        {
          "name": "stderr",
          "output_type": "stream",
          "text": [
            "\n"
          ]
        },
        {
          "name": "stdout",
          "output_type": "stream",
          "text": [
            "\n",
            "      Epoch    GPU_mem   box_loss   cls_loss   dfl_loss  Instances       Size\n"
          ]
        },
        {
          "name": "stderr",
          "output_type": "stream",
          "text": [
            "     69/200      13.3G      1.364      1.858      1.767          9        640: 100%|██████████| 38/38 [00:38<00:00,  1.00s/it]\n",
            "                 Class     Images  Instances      Box(P          R      mAP50  mAP50-95): 100%|██████████| 19/19 [00:14<00:00,  1.34it/s]"
          ]
        },
        {
          "name": "stdout",
          "output_type": "stream",
          "text": [
            "                   all        300        338       0.51      0.524      0.509      0.242\n"
          ]
        },
        {
          "name": "stderr",
          "output_type": "stream",
          "text": [
            "\n"
          ]
        },
        {
          "name": "stdout",
          "output_type": "stream",
          "text": [
            "\n",
            "      Epoch    GPU_mem   box_loss   cls_loss   dfl_loss  Instances       Size\n"
          ]
        },
        {
          "name": "stderr",
          "output_type": "stream",
          "text": [
            "     70/200      13.3G      1.371      1.918      1.767         14        640: 100%|██████████| 38/38 [00:38<00:00,  1.01s/it]\n",
            "                 Class     Images  Instances      Box(P          R      mAP50  mAP50-95): 100%|██████████| 19/19 [00:14<00:00,  1.34it/s]"
          ]
        },
        {
          "name": "stdout",
          "output_type": "stream",
          "text": [
            "                   all        300        338      0.527      0.585      0.549      0.266\n"
          ]
        },
        {
          "name": "stderr",
          "output_type": "stream",
          "text": [
            "\n"
          ]
        },
        {
          "name": "stdout",
          "output_type": "stream",
          "text": [
            "\n",
            "      Epoch    GPU_mem   box_loss   cls_loss   dfl_loss  Instances       Size\n"
          ]
        },
        {
          "name": "stderr",
          "output_type": "stream",
          "text": [
            "     71/200      13.2G      1.381       1.96      1.757          7        640: 100%|██████████| 38/38 [00:38<00:00,  1.00s/it]\n",
            "                 Class     Images  Instances      Box(P          R      mAP50  mAP50-95): 100%|██████████| 19/19 [00:14<00:00,  1.34it/s]"
          ]
        },
        {
          "name": "stdout",
          "output_type": "stream",
          "text": [
            "                   all        300        338      0.474      0.541      0.474      0.248\n"
          ]
        },
        {
          "name": "stderr",
          "output_type": "stream",
          "text": [
            "\n"
          ]
        },
        {
          "name": "stdout",
          "output_type": "stream",
          "text": [
            "\n",
            "      Epoch    GPU_mem   box_loss   cls_loss   dfl_loss  Instances       Size\n"
          ]
        },
        {
          "name": "stderr",
          "output_type": "stream",
          "text": [
            "     72/200      13.3G      1.299      1.834      1.724         13        640: 100%|██████████| 38/38 [00:38<00:00,  1.01s/it]\n",
            "                 Class     Images  Instances      Box(P          R      mAP50  mAP50-95): 100%|██████████| 19/19 [00:14<00:00,  1.34it/s]"
          ]
        },
        {
          "name": "stdout",
          "output_type": "stream",
          "text": [
            "                   all        300        338      0.525      0.518       0.53      0.265\n"
          ]
        },
        {
          "name": "stderr",
          "output_type": "stream",
          "text": [
            "\n"
          ]
        },
        {
          "name": "stdout",
          "output_type": "stream",
          "text": [
            "\n",
            "      Epoch    GPU_mem   box_loss   cls_loss   dfl_loss  Instances       Size\n"
          ]
        },
        {
          "name": "stderr",
          "output_type": "stream",
          "text": [
            "     73/200      13.3G       1.33      1.787       1.72          9        640: 100%|██████████| 38/38 [00:37<00:00,  1.00it/s]\n",
            "                 Class     Images  Instances      Box(P          R      mAP50  mAP50-95): 100%|██████████| 19/19 [00:14<00:00,  1.34it/s]"
          ]
        },
        {
          "name": "stdout",
          "output_type": "stream",
          "text": [
            "                   all        300        338      0.529      0.546      0.546      0.273\n"
          ]
        },
        {
          "name": "stderr",
          "output_type": "stream",
          "text": [
            "\n"
          ]
        },
        {
          "name": "stdout",
          "output_type": "stream",
          "text": [
            "\n",
            "      Epoch    GPU_mem   box_loss   cls_loss   dfl_loss  Instances       Size\n"
          ]
        },
        {
          "name": "stderr",
          "output_type": "stream",
          "text": [
            "     74/200      13.2G      1.346      1.855      1.739          9        640: 100%|██████████| 38/38 [00:38<00:00,  1.01s/it]\n",
            "                 Class     Images  Instances      Box(P          R      mAP50  mAP50-95): 100%|██████████| 19/19 [00:14<00:00,  1.34it/s]"
          ]
        },
        {
          "name": "stdout",
          "output_type": "stream",
          "text": [
            "                   all        300        338      0.465       0.59      0.518      0.261\n"
          ]
        },
        {
          "name": "stderr",
          "output_type": "stream",
          "text": [
            "\n"
          ]
        },
        {
          "name": "stdout",
          "output_type": "stream",
          "text": [
            "\n",
            "      Epoch    GPU_mem   box_loss   cls_loss   dfl_loss  Instances       Size\n"
          ]
        },
        {
          "name": "stderr",
          "output_type": "stream",
          "text": [
            "     75/200      13.2G      1.312      1.811       1.74         12        640: 100%|██████████| 38/38 [00:38<00:00,  1.00s/it]\n",
            "                 Class     Images  Instances      Box(P          R      mAP50  mAP50-95): 100%|██████████| 19/19 [00:14<00:00,  1.34it/s]"
          ]
        },
        {
          "name": "stdout",
          "output_type": "stream",
          "text": [
            "                   all        300        338      0.549      0.531      0.508      0.245\n"
          ]
        },
        {
          "name": "stderr",
          "output_type": "stream",
          "text": [
            "\n"
          ]
        },
        {
          "name": "stdout",
          "output_type": "stream",
          "text": [
            "\n",
            "      Epoch    GPU_mem   box_loss   cls_loss   dfl_loss  Instances       Size\n"
          ]
        },
        {
          "name": "stderr",
          "output_type": "stream",
          "text": [
            "     76/200      13.2G      1.299      1.825      1.723          9        640: 100%|██████████| 38/38 [00:38<00:00,  1.01s/it]\n",
            "                 Class     Images  Instances      Box(P          R      mAP50  mAP50-95): 100%|██████████| 19/19 [00:14<00:00,  1.33it/s]"
          ]
        },
        {
          "name": "stdout",
          "output_type": "stream",
          "text": [
            "                   all        300        338      0.575      0.626      0.597      0.312\n"
          ]
        },
        {
          "name": "stderr",
          "output_type": "stream",
          "text": [
            "\n"
          ]
        },
        {
          "name": "stdout",
          "output_type": "stream",
          "text": [
            "\n",
            "      Epoch    GPU_mem   box_loss   cls_loss   dfl_loss  Instances       Size\n"
          ]
        },
        {
          "name": "stderr",
          "output_type": "stream",
          "text": [
            "     77/200      13.3G      1.306      1.858      1.722         10        640: 100%|██████████| 38/38 [00:38<00:00,  1.00s/it]\n",
            "                 Class     Images  Instances      Box(P          R      mAP50  mAP50-95): 100%|██████████| 19/19 [00:14<00:00,  1.34it/s]"
          ]
        },
        {
          "name": "stdout",
          "output_type": "stream",
          "text": [
            "                   all        300        338      0.505      0.548      0.513      0.265\n"
          ]
        },
        {
          "name": "stderr",
          "output_type": "stream",
          "text": [
            "\n"
          ]
        },
        {
          "name": "stdout",
          "output_type": "stream",
          "text": [
            "\n",
            "      Epoch    GPU_mem   box_loss   cls_loss   dfl_loss  Instances       Size\n"
          ]
        },
        {
          "name": "stderr",
          "output_type": "stream",
          "text": [
            "     78/200      13.2G      1.371      1.862      1.751         10        640: 100%|██████████| 38/38 [00:38<00:00,  1.00s/it]\n",
            "                 Class     Images  Instances      Box(P          R      mAP50  mAP50-95): 100%|██████████| 19/19 [00:14<00:00,  1.33it/s]"
          ]
        },
        {
          "name": "stdout",
          "output_type": "stream",
          "text": [
            "                   all        300        338      0.506      0.526      0.483      0.247\n"
          ]
        },
        {
          "name": "stderr",
          "output_type": "stream",
          "text": [
            "\n"
          ]
        },
        {
          "name": "stdout",
          "output_type": "stream",
          "text": [
            "\n",
            "      Epoch    GPU_mem   box_loss   cls_loss   dfl_loss  Instances       Size\n"
          ]
        },
        {
          "name": "stderr",
          "output_type": "stream",
          "text": [
            "     79/200      13.2G      1.356      1.807      1.736         13        640: 100%|██████████| 38/38 [00:38<00:00,  1.01s/it]\n",
            "                 Class     Images  Instances      Box(P          R      mAP50  mAP50-95): 100%|██████████| 19/19 [00:14<00:00,  1.33it/s]"
          ]
        },
        {
          "name": "stdout",
          "output_type": "stream",
          "text": [
            "                   all        300        338      0.566      0.545      0.535      0.272\n"
          ]
        },
        {
          "name": "stderr",
          "output_type": "stream",
          "text": [
            "\n"
          ]
        },
        {
          "name": "stdout",
          "output_type": "stream",
          "text": [
            "\n",
            "      Epoch    GPU_mem   box_loss   cls_loss   dfl_loss  Instances       Size\n"
          ]
        },
        {
          "name": "stderr",
          "output_type": "stream",
          "text": [
            "     80/200      13.2G      1.311      1.756       1.71         10        640: 100%|██████████| 38/38 [00:38<00:00,  1.01s/it]\n",
            "                 Class     Images  Instances      Box(P          R      mAP50  mAP50-95): 100%|██████████| 19/19 [00:14<00:00,  1.33it/s]"
          ]
        },
        {
          "name": "stdout",
          "output_type": "stream",
          "text": [
            "                   all        300        338      0.556      0.616      0.601      0.289\n"
          ]
        },
        {
          "name": "stderr",
          "output_type": "stream",
          "text": [
            "\n"
          ]
        },
        {
          "name": "stdout",
          "output_type": "stream",
          "text": [
            "\n",
            "      Epoch    GPU_mem   box_loss   cls_loss   dfl_loss  Instances       Size\n"
          ]
        },
        {
          "name": "stderr",
          "output_type": "stream",
          "text": [
            "     81/200      13.3G      1.332       1.78      1.744          9        640: 100%|██████████| 38/38 [00:38<00:00,  1.00s/it]\n",
            "                 Class     Images  Instances      Box(P          R      mAP50  mAP50-95): 100%|██████████| 19/19 [00:14<00:00,  1.32it/s]"
          ]
        },
        {
          "name": "stdout",
          "output_type": "stream",
          "text": [
            "                   all        300        338      0.576      0.541      0.561      0.286\n"
          ]
        },
        {
          "name": "stderr",
          "output_type": "stream",
          "text": [
            "\n"
          ]
        },
        {
          "name": "stdout",
          "output_type": "stream",
          "text": [
            "\n",
            "      Epoch    GPU_mem   box_loss   cls_loss   dfl_loss  Instances       Size\n"
          ]
        },
        {
          "name": "stderr",
          "output_type": "stream",
          "text": [
            "     82/200        13G      1.312      1.835      1.733         12        640: 100%|██████████| 38/38 [00:38<00:00,  1.00s/it]\n",
            "                 Class     Images  Instances      Box(P          R      mAP50  mAP50-95): 100%|██████████| 19/19 [00:14<00:00,  1.33it/s]"
          ]
        },
        {
          "name": "stdout",
          "output_type": "stream",
          "text": [
            "                   all        300        338      0.615      0.547      0.587      0.301\n"
          ]
        },
        {
          "name": "stderr",
          "output_type": "stream",
          "text": [
            "\n"
          ]
        },
        {
          "name": "stdout",
          "output_type": "stream",
          "text": [
            "\n",
            "      Epoch    GPU_mem   box_loss   cls_loss   dfl_loss  Instances       Size\n"
          ]
        },
        {
          "name": "stderr",
          "output_type": "stream",
          "text": [
            "     83/200      12.9G      1.283      1.822      1.724         12        640: 100%|██████████| 38/38 [00:38<00:00,  1.00s/it]\n",
            "                 Class     Images  Instances      Box(P          R      mAP50  mAP50-95): 100%|██████████| 19/19 [00:14<00:00,  1.33it/s]"
          ]
        },
        {
          "name": "stdout",
          "output_type": "stream",
          "text": [
            "                   all        300        338      0.537      0.553      0.566      0.272\n"
          ]
        },
        {
          "name": "stderr",
          "output_type": "stream",
          "text": [
            "\n"
          ]
        },
        {
          "name": "stdout",
          "output_type": "stream",
          "text": [
            "\n",
            "      Epoch    GPU_mem   box_loss   cls_loss   dfl_loss  Instances       Size\n"
          ]
        },
        {
          "name": "stderr",
          "output_type": "stream",
          "text": [
            "     84/200      13.2G      1.218      1.702      1.648          6        640: 100%|██████████| 38/38 [00:38<00:00,  1.00s/it]\n",
            "                 Class     Images  Instances      Box(P          R      mAP50  mAP50-95): 100%|██████████| 19/19 [00:14<00:00,  1.34it/s]"
          ]
        },
        {
          "name": "stdout",
          "output_type": "stream",
          "text": [
            "                   all        300        338      0.561      0.597      0.574      0.287\n"
          ]
        },
        {
          "name": "stderr",
          "output_type": "stream",
          "text": [
            "\n"
          ]
        },
        {
          "name": "stdout",
          "output_type": "stream",
          "text": [
            "\n",
            "      Epoch    GPU_mem   box_loss   cls_loss   dfl_loss  Instances       Size\n"
          ]
        },
        {
          "name": "stderr",
          "output_type": "stream",
          "text": [
            "     85/200      13.3G      1.252      1.742       1.67         11        640: 100%|██████████| 38/38 [00:38<00:00,  1.01s/it]\n",
            "                 Class     Images  Instances      Box(P          R      mAP50  mAP50-95): 100%|██████████| 19/19 [00:14<00:00,  1.34it/s]"
          ]
        },
        {
          "name": "stdout",
          "output_type": "stream",
          "text": [
            "                   all        300        338      0.513       0.54      0.535      0.268\n"
          ]
        },
        {
          "name": "stderr",
          "output_type": "stream",
          "text": [
            "\n"
          ]
        },
        {
          "name": "stdout",
          "output_type": "stream",
          "text": [
            "\n",
            "      Epoch    GPU_mem   box_loss   cls_loss   dfl_loss  Instances       Size\n"
          ]
        },
        {
          "name": "stderr",
          "output_type": "stream",
          "text": [
            "     86/200      12.9G      1.205      1.666      1.649         13        640: 100%|██████████| 38/38 [00:37<00:00,  1.00it/s]\n",
            "                 Class     Images  Instances      Box(P          R      mAP50  mAP50-95): 100%|██████████| 19/19 [00:14<00:00,  1.34it/s]"
          ]
        },
        {
          "name": "stdout",
          "output_type": "stream",
          "text": [
            "                   all        300        338      0.589      0.632      0.601      0.293\n"
          ]
        },
        {
          "name": "stderr",
          "output_type": "stream",
          "text": [
            "\n"
          ]
        },
        {
          "name": "stdout",
          "output_type": "stream",
          "text": [
            "\n",
            "      Epoch    GPU_mem   box_loss   cls_loss   dfl_loss  Instances       Size\n"
          ]
        },
        {
          "name": "stderr",
          "output_type": "stream",
          "text": [
            "     87/200      13.2G      1.214      1.631      1.649          9        640: 100%|██████████| 38/38 [00:38<00:00,  1.01s/it]\n",
            "                 Class     Images  Instances      Box(P          R      mAP50  mAP50-95): 100%|██████████| 19/19 [00:14<00:00,  1.34it/s]"
          ]
        },
        {
          "name": "stdout",
          "output_type": "stream",
          "text": [
            "                   all        300        338      0.652      0.563       0.61      0.319\n"
          ]
        },
        {
          "name": "stderr",
          "output_type": "stream",
          "text": [
            "\n"
          ]
        },
        {
          "name": "stdout",
          "output_type": "stream",
          "text": [
            "\n",
            "      Epoch    GPU_mem   box_loss   cls_loss   dfl_loss  Instances       Size\n"
          ]
        },
        {
          "name": "stderr",
          "output_type": "stream",
          "text": [
            "     88/200      13.2G      1.261      1.693      1.675          9        640: 100%|██████████| 38/38 [00:38<00:00,  1.01s/it]\n",
            "                 Class     Images  Instances      Box(P          R      mAP50  mAP50-95): 100%|██████████| 19/19 [00:14<00:00,  1.32it/s]"
          ]
        },
        {
          "name": "stdout",
          "output_type": "stream",
          "text": [
            "                   all        300        338      0.643      0.537      0.614      0.323\n"
          ]
        },
        {
          "name": "stderr",
          "output_type": "stream",
          "text": [
            "\n"
          ]
        },
        {
          "name": "stdout",
          "output_type": "stream",
          "text": [
            "\n",
            "      Epoch    GPU_mem   box_loss   cls_loss   dfl_loss  Instances       Size\n"
          ]
        },
        {
          "name": "stderr",
          "output_type": "stream",
          "text": [
            "     89/200      13.3G      1.218      1.627      1.652          6        640: 100%|██████████| 38/38 [00:38<00:00,  1.01s/it]\n",
            "                 Class     Images  Instances      Box(P          R      mAP50  mAP50-95): 100%|██████████| 19/19 [00:14<00:00,  1.33it/s]"
          ]
        },
        {
          "name": "stdout",
          "output_type": "stream",
          "text": [
            "                   all        300        338      0.656      0.569      0.638      0.343\n"
          ]
        },
        {
          "name": "stderr",
          "output_type": "stream",
          "text": [
            "\n"
          ]
        },
        {
          "name": "stdout",
          "output_type": "stream",
          "text": [
            "\n",
            "      Epoch    GPU_mem   box_loss   cls_loss   dfl_loss  Instances       Size\n"
          ]
        },
        {
          "name": "stderr",
          "output_type": "stream",
          "text": [
            "     90/200      13.2G      1.249      1.643      1.668          9        640: 100%|██████████| 38/38 [00:38<00:00,  1.00s/it]\n",
            "                 Class     Images  Instances      Box(P          R      mAP50  mAP50-95): 100%|██████████| 19/19 [00:14<00:00,  1.33it/s]"
          ]
        },
        {
          "name": "stdout",
          "output_type": "stream",
          "text": [
            "                   all        300        338      0.618      0.552      0.589      0.322\n"
          ]
        },
        {
          "name": "stderr",
          "output_type": "stream",
          "text": [
            "\n"
          ]
        },
        {
          "name": "stdout",
          "output_type": "stream",
          "text": [
            "\n",
            "      Epoch    GPU_mem   box_loss   cls_loss   dfl_loss  Instances       Size\n"
          ]
        },
        {
          "name": "stderr",
          "output_type": "stream",
          "text": [
            "     91/200        13G      1.228      1.701      1.682          5        640: 100%|██████████| 38/38 [00:38<00:00,  1.01s/it]\n",
            "                 Class     Images  Instances      Box(P          R      mAP50  mAP50-95): 100%|██████████| 19/19 [00:14<00:00,  1.34it/s]"
          ]
        },
        {
          "name": "stdout",
          "output_type": "stream",
          "text": [
            "                   all        300        338      0.634      0.581       0.59      0.309\n"
          ]
        },
        {
          "name": "stderr",
          "output_type": "stream",
          "text": [
            "\n"
          ]
        },
        {
          "name": "stdout",
          "output_type": "stream",
          "text": [
            "\n",
            "      Epoch    GPU_mem   box_loss   cls_loss   dfl_loss  Instances       Size\n"
          ]
        },
        {
          "name": "stderr",
          "output_type": "stream",
          "text": [
            "     92/200      13.2G      1.184       1.62      1.613         14        640: 100%|██████████| 38/38 [00:38<00:00,  1.00s/it]\n",
            "                 Class     Images  Instances      Box(P          R      mAP50  mAP50-95): 100%|██████████| 19/19 [00:14<00:00,  1.33it/s]"
          ]
        },
        {
          "name": "stdout",
          "output_type": "stream",
          "text": [
            "                   all        300        338      0.617      0.621      0.632      0.343\n"
          ]
        },
        {
          "name": "stderr",
          "output_type": "stream",
          "text": [
            "\n"
          ]
        },
        {
          "name": "stdout",
          "output_type": "stream",
          "text": [
            "\n",
            "      Epoch    GPU_mem   box_loss   cls_loss   dfl_loss  Instances       Size\n"
          ]
        },
        {
          "name": "stderr",
          "output_type": "stream",
          "text": [
            "     93/200      13.3G      1.194      1.594      1.634         13        640: 100%|██████████| 38/38 [00:38<00:00,  1.00s/it]\n",
            "                 Class     Images  Instances      Box(P          R      mAP50  mAP50-95): 100%|██████████| 19/19 [00:14<00:00,  1.34it/s]"
          ]
        },
        {
          "name": "stdout",
          "output_type": "stream",
          "text": [
            "                   all        300        338        0.7      0.601      0.645      0.354\n"
          ]
        },
        {
          "name": "stderr",
          "output_type": "stream",
          "text": [
            "\n"
          ]
        },
        {
          "name": "stdout",
          "output_type": "stream",
          "text": [
            "\n",
            "      Epoch    GPU_mem   box_loss   cls_loss   dfl_loss  Instances       Size\n"
          ]
        },
        {
          "name": "stderr",
          "output_type": "stream",
          "text": [
            "     94/200      13.2G       1.27      1.645      1.661          8        640: 100%|██████████| 38/38 [00:38<00:00,  1.01s/it]\n",
            "                 Class     Images  Instances      Box(P          R      mAP50  mAP50-95): 100%|██████████| 19/19 [00:14<00:00,  1.33it/s]"
          ]
        },
        {
          "name": "stdout",
          "output_type": "stream",
          "text": [
            "                   all        300        338      0.674       0.63      0.653      0.359\n"
          ]
        },
        {
          "name": "stderr",
          "output_type": "stream",
          "text": [
            "\n"
          ]
        },
        {
          "name": "stdout",
          "output_type": "stream",
          "text": [
            "\n",
            "      Epoch    GPU_mem   box_loss   cls_loss   dfl_loss  Instances       Size\n"
          ]
        },
        {
          "name": "stderr",
          "output_type": "stream",
          "text": [
            "     95/200      13.2G      1.245      1.663      1.676         11        640: 100%|██████████| 38/38 [00:38<00:00,  1.00s/it]\n",
            "                 Class     Images  Instances      Box(P          R      mAP50  mAP50-95): 100%|██████████| 19/19 [00:14<00:00,  1.33it/s]"
          ]
        },
        {
          "name": "stdout",
          "output_type": "stream",
          "text": [
            "                   all        300        338      0.621      0.589      0.602       0.32\n"
          ]
        },
        {
          "name": "stderr",
          "output_type": "stream",
          "text": [
            "\n"
          ]
        },
        {
          "name": "stdout",
          "output_type": "stream",
          "text": [
            "\n",
            "      Epoch    GPU_mem   box_loss   cls_loss   dfl_loss  Instances       Size\n"
          ]
        },
        {
          "name": "stderr",
          "output_type": "stream",
          "text": [
            "     96/200      13.2G      1.255      1.736      1.671          8        640: 100%|██████████| 38/38 [00:38<00:00,  1.00s/it]\n",
            "                 Class     Images  Instances      Box(P          R      mAP50  mAP50-95): 100%|██████████| 19/19 [00:14<00:00,  1.34it/s]"
          ]
        },
        {
          "name": "stdout",
          "output_type": "stream",
          "text": [
            "                   all        300        338      0.607      0.607      0.618      0.327\n"
          ]
        },
        {
          "name": "stderr",
          "output_type": "stream",
          "text": [
            "\n"
          ]
        },
        {
          "name": "stdout",
          "output_type": "stream",
          "text": [
            "\n",
            "      Epoch    GPU_mem   box_loss   cls_loss   dfl_loss  Instances       Size\n"
          ]
        },
        {
          "name": "stderr",
          "output_type": "stream",
          "text": [
            "     97/200      13.3G      1.221      1.638      1.644          9        640: 100%|██████████| 38/38 [00:38<00:00,  1.00s/it]\n",
            "                 Class     Images  Instances      Box(P          R      mAP50  mAP50-95): 100%|██████████| 19/19 [00:14<00:00,  1.33it/s]"
          ]
        },
        {
          "name": "stdout",
          "output_type": "stream",
          "text": [
            "                   all        300        338      0.656      0.592      0.639      0.347\n"
          ]
        },
        {
          "name": "stderr",
          "output_type": "stream",
          "text": [
            "\n"
          ]
        },
        {
          "name": "stdout",
          "output_type": "stream",
          "text": [
            "\n",
            "      Epoch    GPU_mem   box_loss   cls_loss   dfl_loss  Instances       Size\n"
          ]
        },
        {
          "name": "stderr",
          "output_type": "stream",
          "text": [
            "     98/200      13.2G      1.195      1.655      1.637         14        640: 100%|██████████| 38/38 [00:38<00:00,  1.00s/it]\n",
            "                 Class     Images  Instances      Box(P          R      mAP50  mAP50-95): 100%|██████████| 19/19 [00:14<00:00,  1.34it/s]"
          ]
        },
        {
          "name": "stdout",
          "output_type": "stream",
          "text": [
            "                   all        300        338      0.699      0.583      0.627      0.339\n"
          ]
        },
        {
          "name": "stderr",
          "output_type": "stream",
          "text": [
            "\n"
          ]
        },
        {
          "name": "stdout",
          "output_type": "stream",
          "text": [
            "\n",
            "      Epoch    GPU_mem   box_loss   cls_loss   dfl_loss  Instances       Size\n"
          ]
        },
        {
          "name": "stderr",
          "output_type": "stream",
          "text": [
            "     99/200        13G      1.221      1.599      1.649         11        640: 100%|██████████| 38/38 [00:38<00:00,  1.01s/it]\n",
            "                 Class     Images  Instances      Box(P          R      mAP50  mAP50-95): 100%|██████████| 19/19 [00:14<00:00,  1.34it/s]"
          ]
        },
        {
          "name": "stdout",
          "output_type": "stream",
          "text": [
            "                   all        300        338      0.696      0.582      0.608      0.332\n"
          ]
        },
        {
          "name": "stderr",
          "output_type": "stream",
          "text": [
            "\n"
          ]
        },
        {
          "name": "stdout",
          "output_type": "stream",
          "text": [
            "\n",
            "      Epoch    GPU_mem   box_loss   cls_loss   dfl_loss  Instances       Size\n"
          ]
        },
        {
          "name": "stderr",
          "output_type": "stream",
          "text": [
            "    100/200      12.9G      1.175       1.59      1.621          9        640: 100%|██████████| 38/38 [00:38<00:00,  1.00s/it]\n",
            "                 Class     Images  Instances      Box(P          R      mAP50  mAP50-95): 100%|██████████| 19/19 [00:14<00:00,  1.34it/s]"
          ]
        },
        {
          "name": "stdout",
          "output_type": "stream",
          "text": [
            "                   all        300        338      0.689      0.574      0.642      0.343\n"
          ]
        },
        {
          "name": "stderr",
          "output_type": "stream",
          "text": [
            "\n"
          ]
        },
        {
          "name": "stdout",
          "output_type": "stream",
          "text": [
            "\n",
            "      Epoch    GPU_mem   box_loss   cls_loss   dfl_loss  Instances       Size\n"
          ]
        },
        {
          "name": "stderr",
          "output_type": "stream",
          "text": [
            "    101/200      13.3G      1.223       1.62      1.652         12        640: 100%|██████████| 38/38 [00:38<00:00,  1.00s/it]\n",
            "                 Class     Images  Instances      Box(P          R      mAP50  mAP50-95): 100%|██████████| 19/19 [00:14<00:00,  1.34it/s]"
          ]
        },
        {
          "name": "stdout",
          "output_type": "stream",
          "text": [
            "                   all        300        338      0.649      0.667      0.656       0.36\n"
          ]
        },
        {
          "name": "stderr",
          "output_type": "stream",
          "text": [
            "\n"
          ]
        },
        {
          "name": "stdout",
          "output_type": "stream",
          "text": [
            "\n",
            "      Epoch    GPU_mem   box_loss   cls_loss   dfl_loss  Instances       Size\n"
          ]
        },
        {
          "name": "stderr",
          "output_type": "stream",
          "text": [
            "    102/200      13.2G        1.2      1.528      1.644         10        640: 100%|██████████| 38/38 [00:38<00:00,  1.01s/it]\n",
            "                 Class     Images  Instances      Box(P          R      mAP50  mAP50-95): 100%|██████████| 19/19 [00:14<00:00,  1.33it/s]"
          ]
        },
        {
          "name": "stdout",
          "output_type": "stream",
          "text": [
            "                   all        300        338      0.643      0.671      0.668      0.372\n"
          ]
        },
        {
          "name": "stderr",
          "output_type": "stream",
          "text": [
            "\n"
          ]
        },
        {
          "name": "stdout",
          "output_type": "stream",
          "text": [
            "\n",
            "      Epoch    GPU_mem   box_loss   cls_loss   dfl_loss  Instances       Size\n"
          ]
        },
        {
          "name": "stderr",
          "output_type": "stream",
          "text": [
            "    103/200      13.2G      1.197      1.526      1.619         13        640: 100%|██████████| 38/38 [00:38<00:00,  1.00s/it]\n",
            "                 Class     Images  Instances      Box(P          R      mAP50  mAP50-95): 100%|██████████| 19/19 [00:14<00:00,  1.33it/s]"
          ]
        },
        {
          "name": "stdout",
          "output_type": "stream",
          "text": [
            "                   all        300        338       0.75      0.593      0.669      0.374\n"
          ]
        },
        {
          "name": "stderr",
          "output_type": "stream",
          "text": [
            "\n"
          ]
        },
        {
          "name": "stdout",
          "output_type": "stream",
          "text": [
            "\n",
            "      Epoch    GPU_mem   box_loss   cls_loss   dfl_loss  Instances       Size\n"
          ]
        },
        {
          "name": "stderr",
          "output_type": "stream",
          "text": [
            "    104/200      13.2G      1.193      1.507       1.61         11        640: 100%|██████████| 38/38 [00:38<00:00,  1.01s/it]\n",
            "                 Class     Images  Instances      Box(P          R      mAP50  mAP50-95): 100%|██████████| 19/19 [00:14<00:00,  1.33it/s]"
          ]
        },
        {
          "name": "stdout",
          "output_type": "stream",
          "text": [
            "                   all        300        338      0.671      0.627      0.661      0.351\n"
          ]
        },
        {
          "name": "stderr",
          "output_type": "stream",
          "text": [
            "\n"
          ]
        },
        {
          "name": "stdout",
          "output_type": "stream",
          "text": [
            "\n",
            "      Epoch    GPU_mem   box_loss   cls_loss   dfl_loss  Instances       Size\n"
          ]
        },
        {
          "name": "stderr",
          "output_type": "stream",
          "text": [
            "    105/200      13.3G      1.151      1.517      1.596         12        640: 100%|██████████| 38/38 [00:37<00:00,  1.00it/s]\n",
            "                 Class     Images  Instances      Box(P          R      mAP50  mAP50-95): 100%|██████████| 19/19 [00:14<00:00,  1.35it/s]"
          ]
        },
        {
          "name": "stdout",
          "output_type": "stream",
          "text": [
            "                   all        300        338       0.75      0.589      0.676      0.371\n"
          ]
        },
        {
          "name": "stderr",
          "output_type": "stream",
          "text": [
            "\n"
          ]
        },
        {
          "name": "stdout",
          "output_type": "stream",
          "text": [
            "\n",
            "      Epoch    GPU_mem   box_loss   cls_loss   dfl_loss  Instances       Size\n"
          ]
        },
        {
          "name": "stderr",
          "output_type": "stream",
          "text": [
            "    106/200        13G      1.156      1.516      1.605         12        640: 100%|██████████| 38/38 [00:38<00:00,  1.01s/it]\n",
            "                 Class     Images  Instances      Box(P          R      mAP50  mAP50-95): 100%|██████████| 19/19 [00:14<00:00,  1.33it/s]"
          ]
        },
        {
          "name": "stdout",
          "output_type": "stream",
          "text": [
            "                   all        300        338      0.656      0.596      0.643      0.357\n"
          ]
        },
        {
          "name": "stderr",
          "output_type": "stream",
          "text": [
            "\n"
          ]
        },
        {
          "name": "stdout",
          "output_type": "stream",
          "text": [
            "\n",
            "      Epoch    GPU_mem   box_loss   cls_loss   dfl_loss  Instances       Size\n"
          ]
        },
        {
          "name": "stderr",
          "output_type": "stream",
          "text": [
            "    107/200      13.2G      1.184      1.532       1.63          8        640: 100%|██████████| 38/38 [00:37<00:00,  1.00it/s]\n",
            "                 Class     Images  Instances      Box(P          R      mAP50  mAP50-95): 100%|██████████| 19/19 [00:14<00:00,  1.34it/s]"
          ]
        },
        {
          "name": "stdout",
          "output_type": "stream",
          "text": [
            "                   all        300        338      0.717       0.63      0.704      0.399\n"
          ]
        },
        {
          "name": "stderr",
          "output_type": "stream",
          "text": [
            "\n"
          ]
        },
        {
          "name": "stdout",
          "output_type": "stream",
          "text": [
            "\n",
            "      Epoch    GPU_mem   box_loss   cls_loss   dfl_loss  Instances       Size\n"
          ]
        },
        {
          "name": "stderr",
          "output_type": "stream",
          "text": [
            "    108/200      12.9G        1.2       1.57      1.615         13        640: 100%|██████████| 38/38 [00:38<00:00,  1.01s/it]\n",
            "                 Class     Images  Instances      Box(P          R      mAP50  mAP50-95): 100%|██████████| 19/19 [00:14<00:00,  1.32it/s]"
          ]
        },
        {
          "name": "stdout",
          "output_type": "stream",
          "text": [
            "                   all        300        338      0.666      0.614      0.647      0.353\n"
          ]
        },
        {
          "name": "stderr",
          "output_type": "stream",
          "text": [
            "\n"
          ]
        },
        {
          "name": "stdout",
          "output_type": "stream",
          "text": [
            "\n",
            "      Epoch    GPU_mem   box_loss   cls_loss   dfl_loss  Instances       Size\n"
          ]
        },
        {
          "name": "stderr",
          "output_type": "stream",
          "text": [
            "    109/200      13.3G      1.159      1.536      1.604          5        640: 100%|██████████| 38/38 [00:38<00:00,  1.00s/it]\n",
            "                 Class     Images  Instances      Box(P          R      mAP50  mAP50-95): 100%|██████████| 19/19 [00:14<00:00,  1.33it/s]"
          ]
        },
        {
          "name": "stdout",
          "output_type": "stream",
          "text": [
            "                   all        300        338      0.698      0.597      0.661      0.363\n"
          ]
        },
        {
          "name": "stderr",
          "output_type": "stream",
          "text": [
            "\n"
          ]
        },
        {
          "name": "stdout",
          "output_type": "stream",
          "text": [
            "\n",
            "      Epoch    GPU_mem   box_loss   cls_loss   dfl_loss  Instances       Size\n"
          ]
        },
        {
          "name": "stderr",
          "output_type": "stream",
          "text": [
            "    110/200      13.2G      1.116      1.487      1.562         11        640: 100%|██████████| 38/38 [00:38<00:00,  1.00s/it]\n",
            "                 Class     Images  Instances      Box(P          R      mAP50  mAP50-95): 100%|██████████| 19/19 [00:14<00:00,  1.33it/s]"
          ]
        },
        {
          "name": "stdout",
          "output_type": "stream",
          "text": [
            "                   all        300        338      0.735      0.618      0.662      0.371\n"
          ]
        },
        {
          "name": "stderr",
          "output_type": "stream",
          "text": [
            "\n"
          ]
        },
        {
          "name": "stdout",
          "output_type": "stream",
          "text": [
            "\n",
            "      Epoch    GPU_mem   box_loss   cls_loss   dfl_loss  Instances       Size\n"
          ]
        },
        {
          "name": "stderr",
          "output_type": "stream",
          "text": [
            "    111/200      13.2G      1.182      1.523      1.634         10        640: 100%|██████████| 38/38 [00:38<00:00,  1.01s/it]\n",
            "                 Class     Images  Instances      Box(P          R      mAP50  mAP50-95): 100%|██████████| 19/19 [00:14<00:00,  1.33it/s]"
          ]
        },
        {
          "name": "stdout",
          "output_type": "stream",
          "text": [
            "                   all        300        338       0.68      0.635      0.665      0.365\n"
          ]
        },
        {
          "name": "stderr",
          "output_type": "stream",
          "text": [
            "\n"
          ]
        },
        {
          "name": "stdout",
          "output_type": "stream",
          "text": [
            "\n",
            "      Epoch    GPU_mem   box_loss   cls_loss   dfl_loss  Instances       Size\n"
          ]
        },
        {
          "name": "stderr",
          "output_type": "stream",
          "text": [
            "    112/200      13.2G      1.145      1.511      1.589         10        640: 100%|██████████| 38/38 [00:38<00:00,  1.01s/it]\n",
            "                 Class     Images  Instances      Box(P          R      mAP50  mAP50-95): 100%|██████████| 19/19 [00:14<00:00,  1.32it/s]"
          ]
        },
        {
          "name": "stdout",
          "output_type": "stream",
          "text": [
            "                   all        300        338      0.746      0.656      0.708      0.388\n"
          ]
        },
        {
          "name": "stderr",
          "output_type": "stream",
          "text": [
            "\n"
          ]
        },
        {
          "name": "stdout",
          "output_type": "stream",
          "text": [
            "\n",
            "      Epoch    GPU_mem   box_loss   cls_loss   dfl_loss  Instances       Size\n"
          ]
        },
        {
          "name": "stderr",
          "output_type": "stream",
          "text": [
            "    113/200      13.3G      1.165      1.485      1.604          7        640: 100%|██████████| 38/38 [00:38<00:00,  1.00s/it]\n",
            "                 Class     Images  Instances      Box(P          R      mAP50  mAP50-95): 100%|██████████| 19/19 [00:14<00:00,  1.33it/s]"
          ]
        },
        {
          "name": "stdout",
          "output_type": "stream",
          "text": [
            "                   all        300        338      0.693      0.591      0.635      0.342\n"
          ]
        },
        {
          "name": "stderr",
          "output_type": "stream",
          "text": [
            "\n"
          ]
        },
        {
          "name": "stdout",
          "output_type": "stream",
          "text": [
            "\n",
            "      Epoch    GPU_mem   box_loss   cls_loss   dfl_loss  Instances       Size\n"
          ]
        },
        {
          "name": "stderr",
          "output_type": "stream",
          "text": [
            "    114/200      12.9G      1.185      1.449      1.621         10        640: 100%|██████████| 38/38 [00:38<00:00,  1.01s/it]\n",
            "                 Class     Images  Instances      Box(P          R      mAP50  mAP50-95): 100%|██████████| 19/19 [00:14<00:00,  1.33it/s]"
          ]
        },
        {
          "name": "stdout",
          "output_type": "stream",
          "text": [
            "                   all        300        338       0.69      0.621      0.665      0.369\n"
          ]
        },
        {
          "name": "stderr",
          "output_type": "stream",
          "text": [
            "\n"
          ]
        },
        {
          "name": "stdout",
          "output_type": "stream",
          "text": [
            "\n",
            "      Epoch    GPU_mem   box_loss   cls_loss   dfl_loss  Instances       Size\n"
          ]
        },
        {
          "name": "stderr",
          "output_type": "stream",
          "text": [
            "    115/200      13.2G      1.153      1.468      1.598         11        640: 100%|██████████| 38/38 [00:38<00:00,  1.01s/it]\n",
            "                 Class     Images  Instances      Box(P          R      mAP50  mAP50-95): 100%|██████████| 19/19 [00:14<00:00,  1.34it/s]"
          ]
        },
        {
          "name": "stdout",
          "output_type": "stream",
          "text": [
            "                   all        300        338      0.699      0.636       0.68       0.38\n"
          ]
        },
        {
          "name": "stderr",
          "output_type": "stream",
          "text": [
            "\n"
          ]
        },
        {
          "name": "stdout",
          "output_type": "stream",
          "text": [
            "\n",
            "      Epoch    GPU_mem   box_loss   cls_loss   dfl_loss  Instances       Size\n"
          ]
        },
        {
          "name": "stderr",
          "output_type": "stream",
          "text": [
            "    116/200      13.2G      1.182        1.5        1.6          9        640: 100%|██████████| 38/38 [00:38<00:00,  1.01s/it]\n",
            "                 Class     Images  Instances      Box(P          R      mAP50  mAP50-95): 100%|██████████| 19/19 [00:14<00:00,  1.33it/s]"
          ]
        },
        {
          "name": "stdout",
          "output_type": "stream",
          "text": [
            "                   all        300        338      0.656      0.551      0.578      0.315\n"
          ]
        },
        {
          "name": "stderr",
          "output_type": "stream",
          "text": [
            "\n"
          ]
        },
        {
          "name": "stdout",
          "output_type": "stream",
          "text": [
            "\n",
            "      Epoch    GPU_mem   box_loss   cls_loss   dfl_loss  Instances       Size\n"
          ]
        },
        {
          "name": "stderr",
          "output_type": "stream",
          "text": [
            "    117/200      13.3G      1.133      1.465       1.59         11        640: 100%|██████████| 38/38 [00:38<00:00,  1.01s/it]\n",
            "                 Class     Images  Instances      Box(P          R      mAP50  mAP50-95): 100%|██████████| 19/19 [00:14<00:00,  1.32it/s]"
          ]
        },
        {
          "name": "stdout",
          "output_type": "stream",
          "text": [
            "                   all        300        338      0.616      0.579      0.594      0.339\n"
          ]
        },
        {
          "name": "stderr",
          "output_type": "stream",
          "text": [
            "\n"
          ]
        },
        {
          "name": "stdout",
          "output_type": "stream",
          "text": [
            "\n",
            "      Epoch    GPU_mem   box_loss   cls_loss   dfl_loss  Instances       Size\n"
          ]
        },
        {
          "name": "stderr",
          "output_type": "stream",
          "text": [
            "    118/200      12.9G      1.144      1.461      1.584          8        640: 100%|██████████| 38/38 [00:38<00:00,  1.01s/it]\n",
            "                 Class     Images  Instances      Box(P          R      mAP50  mAP50-95): 100%|██████████| 19/19 [00:14<00:00,  1.33it/s]"
          ]
        },
        {
          "name": "stdout",
          "output_type": "stream",
          "text": [
            "                   all        300        338      0.784       0.57       0.67      0.367\n"
          ]
        },
        {
          "name": "stderr",
          "output_type": "stream",
          "text": [
            "\n"
          ]
        },
        {
          "name": "stdout",
          "output_type": "stream",
          "text": [
            "\n",
            "      Epoch    GPU_mem   box_loss   cls_loss   dfl_loss  Instances       Size\n"
          ]
        },
        {
          "name": "stderr",
          "output_type": "stream",
          "text": [
            "    119/200      12.9G      1.122      1.397      1.571         14        640: 100%|██████████| 38/38 [00:38<00:00,  1.01s/it]\n",
            "                 Class     Images  Instances      Box(P          R      mAP50  mAP50-95): 100%|██████████| 19/19 [00:14<00:00,  1.33it/s]"
          ]
        },
        {
          "name": "stdout",
          "output_type": "stream",
          "text": [
            "                   all        300        338      0.629      0.681      0.687      0.388\n"
          ]
        },
        {
          "name": "stderr",
          "output_type": "stream",
          "text": [
            "\n"
          ]
        },
        {
          "name": "stdout",
          "output_type": "stream",
          "text": [
            "\n",
            "      Epoch    GPU_mem   box_loss   cls_loss   dfl_loss  Instances       Size\n"
          ]
        },
        {
          "name": "stderr",
          "output_type": "stream",
          "text": [
            "    120/200      12.9G      1.142      1.426      1.562          7        640: 100%|██████████| 38/38 [00:38<00:00,  1.00s/it]\n",
            "                 Class     Images  Instances      Box(P          R      mAP50  mAP50-95): 100%|██████████| 19/19 [00:14<00:00,  1.32it/s]"
          ]
        },
        {
          "name": "stdout",
          "output_type": "stream",
          "text": [
            "                   all        300        338      0.717      0.721      0.737      0.418\n"
          ]
        },
        {
          "name": "stderr",
          "output_type": "stream",
          "text": [
            "\n"
          ]
        },
        {
          "name": "stdout",
          "output_type": "stream",
          "text": [
            "\n",
            "      Epoch    GPU_mem   box_loss   cls_loss   dfl_loss  Instances       Size\n"
          ]
        },
        {
          "name": "stderr",
          "output_type": "stream",
          "text": [
            "    121/200      13.3G      1.132      1.464      1.578         10        640: 100%|██████████| 38/38 [00:38<00:00,  1.00s/it]\n",
            "                 Class     Images  Instances      Box(P          R      mAP50  mAP50-95): 100%|██████████| 19/19 [00:14<00:00,  1.34it/s]"
          ]
        },
        {
          "name": "stdout",
          "output_type": "stream",
          "text": [
            "                   all        300        338      0.781       0.61      0.711      0.409\n"
          ]
        },
        {
          "name": "stderr",
          "output_type": "stream",
          "text": [
            "\n"
          ]
        },
        {
          "name": "stdout",
          "output_type": "stream",
          "text": [
            "\n",
            "      Epoch    GPU_mem   box_loss   cls_loss   dfl_loss  Instances       Size\n"
          ]
        },
        {
          "name": "stderr",
          "output_type": "stream",
          "text": [
            "    122/200      13.2G      1.111      1.331      1.572         10        640: 100%|██████████| 38/38 [00:38<00:00,  1.01s/it]\n",
            "                 Class     Images  Instances      Box(P          R      mAP50  mAP50-95): 100%|██████████| 19/19 [00:14<00:00,  1.33it/s]"
          ]
        },
        {
          "name": "stdout",
          "output_type": "stream",
          "text": [
            "                   all        300        338      0.729       0.69      0.717      0.421\n"
          ]
        },
        {
          "name": "stderr",
          "output_type": "stream",
          "text": [
            "\n"
          ]
        },
        {
          "name": "stdout",
          "output_type": "stream",
          "text": [
            "\n",
            "      Epoch    GPU_mem   box_loss   cls_loss   dfl_loss  Instances       Size\n"
          ]
        },
        {
          "name": "stderr",
          "output_type": "stream",
          "text": [
            "    123/200      13.2G      1.127      1.409      1.603          8        640: 100%|██████████| 38/38 [00:38<00:00,  1.01s/it]\n",
            "                 Class     Images  Instances      Box(P          R      mAP50  mAP50-95): 100%|██████████| 19/19 [00:14<00:00,  1.32it/s]"
          ]
        },
        {
          "name": "stdout",
          "output_type": "stream",
          "text": [
            "                   all        300        338      0.717      0.639      0.703      0.404\n"
          ]
        },
        {
          "name": "stderr",
          "output_type": "stream",
          "text": [
            "\n"
          ]
        },
        {
          "name": "stdout",
          "output_type": "stream",
          "text": [
            "\n",
            "      Epoch    GPU_mem   box_loss   cls_loss   dfl_loss  Instances       Size\n"
          ]
        },
        {
          "name": "stderr",
          "output_type": "stream",
          "text": [
            "    124/200      13.2G      1.139      1.428      1.592         13        640: 100%|██████████| 38/38 [00:37<00:00,  1.00it/s]\n",
            "                 Class     Images  Instances      Box(P          R      mAP50  mAP50-95): 100%|██████████| 19/19 [00:14<00:00,  1.33it/s]"
          ]
        },
        {
          "name": "stdout",
          "output_type": "stream",
          "text": [
            "                   all        300        338       0.73      0.675       0.73      0.413\n"
          ]
        },
        {
          "name": "stderr",
          "output_type": "stream",
          "text": [
            "\n"
          ]
        },
        {
          "name": "stdout",
          "output_type": "stream",
          "text": [
            "\n",
            "      Epoch    GPU_mem   box_loss   cls_loss   dfl_loss  Instances       Size\n"
          ]
        },
        {
          "name": "stderr",
          "output_type": "stream",
          "text": [
            "    125/200      13.3G      1.175      1.407      1.599          9        640: 100%|██████████| 38/38 [00:38<00:00,  1.00s/it]\n",
            "                 Class     Images  Instances      Box(P          R      mAP50  mAP50-95): 100%|██████████| 19/19 [00:14<00:00,  1.33it/s]"
          ]
        },
        {
          "name": "stdout",
          "output_type": "stream",
          "text": [
            "                   all        300        338      0.675      0.684       0.68      0.355\n"
          ]
        },
        {
          "name": "stderr",
          "output_type": "stream",
          "text": [
            "\n"
          ]
        },
        {
          "name": "stdout",
          "output_type": "stream",
          "text": [
            "\n",
            "      Epoch    GPU_mem   box_loss   cls_loss   dfl_loss  Instances       Size\n"
          ]
        },
        {
          "name": "stderr",
          "output_type": "stream",
          "text": [
            "    126/200        13G      1.133      1.457       1.58          9        640: 100%|██████████| 38/38 [00:38<00:00,  1.00s/it]\n",
            "                 Class     Images  Instances      Box(P          R      mAP50  mAP50-95): 100%|██████████| 19/19 [00:14<00:00,  1.34it/s]"
          ]
        },
        {
          "name": "stdout",
          "output_type": "stream",
          "text": [
            "                   all        300        338      0.792      0.642      0.731      0.409\n"
          ]
        },
        {
          "name": "stderr",
          "output_type": "stream",
          "text": [
            "\n"
          ]
        },
        {
          "name": "stdout",
          "output_type": "stream",
          "text": [
            "\n",
            "      Epoch    GPU_mem   box_loss   cls_loss   dfl_loss  Instances       Size\n"
          ]
        },
        {
          "name": "stderr",
          "output_type": "stream",
          "text": [
            "    127/200      13.2G      1.124      1.413      1.555          9        640: 100%|██████████| 38/38 [00:38<00:00,  1.01s/it]\n",
            "                 Class     Images  Instances      Box(P          R      mAP50  mAP50-95): 100%|██████████| 19/19 [00:14<00:00,  1.33it/s]"
          ]
        },
        {
          "name": "stdout",
          "output_type": "stream",
          "text": [
            "                   all        300        338      0.739      0.663      0.731      0.407\n"
          ]
        },
        {
          "name": "stderr",
          "output_type": "stream",
          "text": [
            "\n"
          ]
        },
        {
          "name": "stdout",
          "output_type": "stream",
          "text": [
            "\n",
            "      Epoch    GPU_mem   box_loss   cls_loss   dfl_loss  Instances       Size\n"
          ]
        },
        {
          "name": "stderr",
          "output_type": "stream",
          "text": [
            "    128/200      12.9G      1.109       1.37      1.563          9        640: 100%|██████████| 38/38 [00:38<00:00,  1.01s/it]\n",
            "                 Class     Images  Instances      Box(P          R      mAP50  mAP50-95): 100%|██████████| 19/19 [00:14<00:00,  1.33it/s]"
          ]
        },
        {
          "name": "stdout",
          "output_type": "stream",
          "text": [
            "                   all        300        338      0.671      0.628      0.679      0.378\n"
          ]
        },
        {
          "name": "stderr",
          "output_type": "stream",
          "text": [
            "\n"
          ]
        },
        {
          "name": "stdout",
          "output_type": "stream",
          "text": [
            "\n",
            "      Epoch    GPU_mem   box_loss   cls_loss   dfl_loss  Instances       Size\n"
          ]
        },
        {
          "name": "stderr",
          "output_type": "stream",
          "text": [
            "    129/200      13.3G       1.12      1.366      1.573         11        640: 100%|██████████| 38/38 [00:38<00:00,  1.00s/it]\n",
            "                 Class     Images  Instances      Box(P          R      mAP50  mAP50-95): 100%|██████████| 19/19 [00:14<00:00,  1.33it/s]"
          ]
        },
        {
          "name": "stdout",
          "output_type": "stream",
          "text": [
            "                   all        300        338      0.756      0.655      0.686        0.4\n"
          ]
        },
        {
          "name": "stderr",
          "output_type": "stream",
          "text": [
            "\n"
          ]
        },
        {
          "name": "stdout",
          "output_type": "stream",
          "text": [
            "\n",
            "      Epoch    GPU_mem   box_loss   cls_loss   dfl_loss  Instances       Size\n"
          ]
        },
        {
          "name": "stderr",
          "output_type": "stream",
          "text": [
            "    130/200      13.2G      1.151      1.399      1.571         15        640: 100%|██████████| 38/38 [00:38<00:00,  1.01s/it]\n",
            "                 Class     Images  Instances      Box(P          R      mAP50  mAP50-95): 100%|██████████| 19/19 [00:14<00:00,  1.33it/s]"
          ]
        },
        {
          "name": "stdout",
          "output_type": "stream",
          "text": [
            "                   all        300        338      0.757      0.622      0.707      0.404\n"
          ]
        },
        {
          "name": "stderr",
          "output_type": "stream",
          "text": [
            "\n"
          ]
        },
        {
          "name": "stdout",
          "output_type": "stream",
          "text": [
            "\n",
            "      Epoch    GPU_mem   box_loss   cls_loss   dfl_loss  Instances       Size\n"
          ]
        },
        {
          "name": "stderr",
          "output_type": "stream",
          "text": [
            "    131/200      13.2G      1.085       1.34       1.53          7        640: 100%|██████████| 38/38 [00:38<00:00,  1.01s/it]\n",
            "                 Class     Images  Instances      Box(P          R      mAP50  mAP50-95): 100%|██████████| 19/19 [00:14<00:00,  1.33it/s]"
          ]
        },
        {
          "name": "stdout",
          "output_type": "stream",
          "text": [
            "                   all        300        338      0.693      0.647      0.672      0.389\n"
          ]
        },
        {
          "name": "stderr",
          "output_type": "stream",
          "text": [
            "\n"
          ]
        },
        {
          "name": "stdout",
          "output_type": "stream",
          "text": [
            "\n",
            "      Epoch    GPU_mem   box_loss   cls_loss   dfl_loss  Instances       Size\n"
          ]
        },
        {
          "name": "stderr",
          "output_type": "stream",
          "text": [
            "    132/200        13G      1.061      1.336      1.524          9        640: 100%|██████████| 38/38 [00:38<00:00,  1.00s/it]\n",
            "                 Class     Images  Instances      Box(P          R      mAP50  mAP50-95): 100%|██████████| 19/19 [00:14<00:00,  1.33it/s]"
          ]
        },
        {
          "name": "stdout",
          "output_type": "stream",
          "text": [
            "                   all        300        338       0.66      0.589      0.623      0.353\n"
          ]
        },
        {
          "name": "stderr",
          "output_type": "stream",
          "text": [
            "\n"
          ]
        },
        {
          "name": "stdout",
          "output_type": "stream",
          "text": [
            "\n",
            "      Epoch    GPU_mem   box_loss   cls_loss   dfl_loss  Instances       Size\n"
          ]
        },
        {
          "name": "stderr",
          "output_type": "stream",
          "text": [
            "    133/200      13.3G      1.073      1.366      1.541          9        640: 100%|██████████| 38/38 [00:38<00:00,  1.01s/it]\n",
            "                 Class     Images  Instances      Box(P          R      mAP50  mAP50-95): 100%|██████████| 19/19 [00:14<00:00,  1.33it/s]"
          ]
        },
        {
          "name": "stdout",
          "output_type": "stream",
          "text": [
            "                   all        300        338      0.687      0.656      0.705      0.397\n"
          ]
        },
        {
          "name": "stderr",
          "output_type": "stream",
          "text": [
            "\n"
          ]
        },
        {
          "name": "stdout",
          "output_type": "stream",
          "text": [
            "\n",
            "      Epoch    GPU_mem   box_loss   cls_loss   dfl_loss  Instances       Size\n"
          ]
        },
        {
          "name": "stderr",
          "output_type": "stream",
          "text": [
            "    134/200      13.2G      1.072      1.343      1.523          6        640: 100%|██████████| 38/38 [00:38<00:00,  1.01s/it]\n",
            "                 Class     Images  Instances      Box(P          R      mAP50  mAP50-95): 100%|██████████| 19/19 [00:14<00:00,  1.33it/s]"
          ]
        },
        {
          "name": "stdout",
          "output_type": "stream",
          "text": [
            "                   all        300        338      0.839      0.649      0.728      0.419\n"
          ]
        },
        {
          "name": "stderr",
          "output_type": "stream",
          "text": [
            "\n"
          ]
        },
        {
          "name": "stdout",
          "output_type": "stream",
          "text": [
            "\n",
            "      Epoch    GPU_mem   box_loss   cls_loss   dfl_loss  Instances       Size\n"
          ]
        },
        {
          "name": "stderr",
          "output_type": "stream",
          "text": [
            "    135/200      13.2G      1.071      1.331      1.483          7        640: 100%|██████████| 38/38 [00:38<00:00,  1.01s/it]\n",
            "                 Class     Images  Instances      Box(P          R      mAP50  mAP50-95): 100%|██████████| 19/19 [00:14<00:00,  1.33it/s]"
          ]
        },
        {
          "name": "stdout",
          "output_type": "stream",
          "text": [
            "                   all        300        338       0.77      0.679      0.731      0.395\n"
          ]
        },
        {
          "name": "stderr",
          "output_type": "stream",
          "text": [
            "\n"
          ]
        },
        {
          "name": "stdout",
          "output_type": "stream",
          "text": [
            "\n",
            "      Epoch    GPU_mem   box_loss   cls_loss   dfl_loss  Instances       Size\n"
          ]
        },
        {
          "name": "stderr",
          "output_type": "stream",
          "text": [
            "    136/200      13.2G      1.118      1.359      1.551         11        640: 100%|██████████| 38/38 [00:38<00:00,  1.00s/it]\n",
            "                 Class     Images  Instances      Box(P          R      mAP50  mAP50-95): 100%|██████████| 19/19 [00:14<00:00,  1.33it/s]"
          ]
        },
        {
          "name": "stdout",
          "output_type": "stream",
          "text": [
            "                   all        300        338      0.772      0.699       0.75      0.434\n"
          ]
        },
        {
          "name": "stderr",
          "output_type": "stream",
          "text": [
            "\n"
          ]
        },
        {
          "name": "stdout",
          "output_type": "stream",
          "text": [
            "\n",
            "      Epoch    GPU_mem   box_loss   cls_loss   dfl_loss  Instances       Size\n"
          ]
        },
        {
          "name": "stderr",
          "output_type": "stream",
          "text": [
            "    137/200      13.3G      1.087      1.296      1.531         12        640: 100%|██████████| 38/38 [00:38<00:00,  1.01s/it]\n",
            "                 Class     Images  Instances      Box(P          R      mAP50  mAP50-95): 100%|██████████| 19/19 [00:14<00:00,  1.33it/s]"
          ]
        },
        {
          "name": "stdout",
          "output_type": "stream",
          "text": [
            "                   all        300        338      0.777      0.687      0.728       0.43\n"
          ]
        },
        {
          "name": "stderr",
          "output_type": "stream",
          "text": [
            "\n"
          ]
        },
        {
          "name": "stdout",
          "output_type": "stream",
          "text": [
            "\n",
            "      Epoch    GPU_mem   box_loss   cls_loss   dfl_loss  Instances       Size\n"
          ]
        },
        {
          "name": "stderr",
          "output_type": "stream",
          "text": [
            "    138/200      13.3G       1.07      1.326      1.541         15        640: 100%|██████████| 38/38 [00:38<00:00,  1.00s/it]\n",
            "                 Class     Images  Instances      Box(P          R      mAP50  mAP50-95): 100%|██████████| 19/19 [00:14<00:00,  1.33it/s]"
          ]
        },
        {
          "name": "stdout",
          "output_type": "stream",
          "text": [
            "                   all        300        338      0.663      0.619      0.639      0.357\n"
          ]
        },
        {
          "name": "stderr",
          "output_type": "stream",
          "text": [
            "\n"
          ]
        },
        {
          "name": "stdout",
          "output_type": "stream",
          "text": [
            "\n",
            "      Epoch    GPU_mem   box_loss   cls_loss   dfl_loss  Instances       Size\n"
          ]
        },
        {
          "name": "stderr",
          "output_type": "stream",
          "text": [
            "    139/200      13.2G      1.071      1.289       1.53         11        640: 100%|██████████| 38/38 [00:38<00:00,  1.01s/it]\n",
            "                 Class     Images  Instances      Box(P          R      mAP50  mAP50-95): 100%|██████████| 19/19 [00:14<00:00,  1.33it/s]"
          ]
        },
        {
          "name": "stdout",
          "output_type": "stream",
          "text": [
            "                   all        300        338      0.753      0.698      0.734      0.421\n"
          ]
        },
        {
          "name": "stderr",
          "output_type": "stream",
          "text": [
            "\n"
          ]
        },
        {
          "name": "stdout",
          "output_type": "stream",
          "text": [
            "\n",
            "      Epoch    GPU_mem   box_loss   cls_loss   dfl_loss  Instances       Size\n"
          ]
        },
        {
          "name": "stderr",
          "output_type": "stream",
          "text": [
            "    140/200      13.2G      1.077      1.342      1.532         16        640: 100%|██████████| 38/38 [00:38<00:00,  1.01s/it]\n",
            "                 Class     Images  Instances      Box(P          R      mAP50  mAP50-95): 100%|██████████| 19/19 [00:14<00:00,  1.32it/s]"
          ]
        },
        {
          "name": "stdout",
          "output_type": "stream",
          "text": [
            "                   all        300        338      0.757      0.679      0.724      0.407\n"
          ]
        },
        {
          "name": "stderr",
          "output_type": "stream",
          "text": [
            "\n"
          ]
        },
        {
          "name": "stdout",
          "output_type": "stream",
          "text": [
            "\n",
            "      Epoch    GPU_mem   box_loss   cls_loss   dfl_loss  Instances       Size\n"
          ]
        },
        {
          "name": "stderr",
          "output_type": "stream",
          "text": [
            "    141/200      13.3G      1.059       1.35      1.544          9        640: 100%|██████████| 38/38 [00:38<00:00,  1.01s/it]\n",
            "                 Class     Images  Instances      Box(P          R      mAP50  mAP50-95): 100%|██████████| 19/19 [00:14<00:00,  1.32it/s]"
          ]
        },
        {
          "name": "stdout",
          "output_type": "stream",
          "text": [
            "                   all        300        338       0.77      0.738      0.764      0.431\n"
          ]
        },
        {
          "name": "stderr",
          "output_type": "stream",
          "text": [
            "\n"
          ]
        },
        {
          "name": "stdout",
          "output_type": "stream",
          "text": [
            "\n",
            "      Epoch    GPU_mem   box_loss   cls_loss   dfl_loss  Instances       Size\n"
          ]
        },
        {
          "name": "stderr",
          "output_type": "stream",
          "text": [
            "    142/200        13G      1.049      1.267      1.501         11        640: 100%|██████████| 38/38 [00:38<00:00,  1.01s/it]\n",
            "                 Class     Images  Instances      Box(P          R      mAP50  mAP50-95): 100%|██████████| 19/19 [00:14<00:00,  1.33it/s]"
          ]
        },
        {
          "name": "stdout",
          "output_type": "stream",
          "text": [
            "                   all        300        338      0.833      0.699      0.768      0.447\n"
          ]
        },
        {
          "name": "stderr",
          "output_type": "stream",
          "text": [
            "\n"
          ]
        },
        {
          "name": "stdout",
          "output_type": "stream",
          "text": [
            "\n",
            "      Epoch    GPU_mem   box_loss   cls_loss   dfl_loss  Instances       Size\n"
          ]
        },
        {
          "name": "stderr",
          "output_type": "stream",
          "text": [
            "    143/200      13.3G      1.028      1.242      1.493         11        640: 100%|██████████| 38/38 [00:38<00:00,  1.01s/it]\n",
            "                 Class     Images  Instances      Box(P          R      mAP50  mAP50-95): 100%|██████████| 19/19 [00:14<00:00,  1.33it/s]"
          ]
        },
        {
          "name": "stdout",
          "output_type": "stream",
          "text": [
            "                   all        300        338      0.759      0.706      0.753      0.432\n"
          ]
        },
        {
          "name": "stderr",
          "output_type": "stream",
          "text": [
            "\n"
          ]
        },
        {
          "name": "stdout",
          "output_type": "stream",
          "text": [
            "\n",
            "      Epoch    GPU_mem   box_loss   cls_loss   dfl_loss  Instances       Size\n"
          ]
        },
        {
          "name": "stderr",
          "output_type": "stream",
          "text": [
            "    144/200      13.2G     0.9926      1.208      1.475         13        640: 100%|██████████| 38/38 [00:38<00:00,  1.00s/it]\n",
            "                 Class     Images  Instances      Box(P          R      mAP50  mAP50-95): 100%|██████████| 19/19 [00:14<00:00,  1.33it/s]"
          ]
        },
        {
          "name": "stdout",
          "output_type": "stream",
          "text": [
            "                   all        300        338      0.796      0.687      0.758      0.429\n"
          ]
        },
        {
          "name": "stderr",
          "output_type": "stream",
          "text": [
            "\n"
          ]
        },
        {
          "name": "stdout",
          "output_type": "stream",
          "text": [
            "\n",
            "      Epoch    GPU_mem   box_loss   cls_loss   dfl_loss  Instances       Size\n"
          ]
        },
        {
          "name": "stderr",
          "output_type": "stream",
          "text": [
            "    145/200      13.3G      1.044      1.235      1.497          9        640: 100%|██████████| 38/38 [00:38<00:00,  1.00s/it]\n",
            "                 Class     Images  Instances      Box(P          R      mAP50  mAP50-95): 100%|██████████| 19/19 [00:14<00:00,  1.34it/s]"
          ]
        },
        {
          "name": "stdout",
          "output_type": "stream",
          "text": [
            "                   all        300        338      0.767      0.714      0.761      0.434\n"
          ]
        },
        {
          "name": "stderr",
          "output_type": "stream",
          "text": [
            "\n"
          ]
        },
        {
          "name": "stdout",
          "output_type": "stream",
          "text": [
            "\n",
            "      Epoch    GPU_mem   box_loss   cls_loss   dfl_loss  Instances       Size\n"
          ]
        },
        {
          "name": "stderr",
          "output_type": "stream",
          "text": [
            "    146/200      12.9G      1.036      1.302      1.499         13        640: 100%|██████████| 38/38 [00:38<00:00,  1.01s/it]\n",
            "                 Class     Images  Instances      Box(P          R      mAP50  mAP50-95): 100%|██████████| 19/19 [00:14<00:00,  1.33it/s]"
          ]
        },
        {
          "name": "stdout",
          "output_type": "stream",
          "text": [
            "                   all        300        338      0.748      0.709      0.761       0.44\n"
          ]
        },
        {
          "name": "stderr",
          "output_type": "stream",
          "text": [
            "\n"
          ]
        },
        {
          "name": "stdout",
          "output_type": "stream",
          "text": [
            "\n",
            "      Epoch    GPU_mem   box_loss   cls_loss   dfl_loss  Instances       Size\n"
          ]
        },
        {
          "name": "stderr",
          "output_type": "stream",
          "text": [
            "    147/200      12.9G      1.058      1.275      1.499         15        640: 100%|██████████| 38/38 [00:38<00:00,  1.00s/it]\n",
            "                 Class     Images  Instances      Box(P          R      mAP50  mAP50-95): 100%|██████████| 19/19 [00:14<00:00,  1.33it/s]"
          ]
        },
        {
          "name": "stdout",
          "output_type": "stream",
          "text": [
            "                   all        300        338       0.72      0.658      0.716      0.426\n"
          ]
        },
        {
          "name": "stderr",
          "output_type": "stream",
          "text": [
            "\n"
          ]
        },
        {
          "name": "stdout",
          "output_type": "stream",
          "text": [
            "\n",
            "      Epoch    GPU_mem   box_loss   cls_loss   dfl_loss  Instances       Size\n"
          ]
        },
        {
          "name": "stderr",
          "output_type": "stream",
          "text": [
            "    148/200      12.9G     0.9557      1.161      1.446          8        640: 100%|██████████| 38/38 [00:38<00:00,  1.01s/it]\n",
            "                 Class     Images  Instances      Box(P          R      mAP50  mAP50-95): 100%|██████████| 19/19 [00:14<00:00,  1.33it/s]"
          ]
        },
        {
          "name": "stdout",
          "output_type": "stream",
          "text": [
            "                   all        300        338      0.767      0.716      0.749      0.443\n"
          ]
        },
        {
          "name": "stderr",
          "output_type": "stream",
          "text": [
            "\n"
          ]
        },
        {
          "name": "stdout",
          "output_type": "stream",
          "text": [
            "\n",
            "      Epoch    GPU_mem   box_loss   cls_loss   dfl_loss  Instances       Size\n"
          ]
        },
        {
          "name": "stderr",
          "output_type": "stream",
          "text": [
            "    149/200      13.3G      1.027      1.271      1.523         11        640: 100%|██████████| 38/38 [00:38<00:00,  1.00s/it]\n",
            "                 Class     Images  Instances      Box(P          R      mAP50  mAP50-95): 100%|██████████| 19/19 [00:14<00:00,  1.33it/s]"
          ]
        },
        {
          "name": "stdout",
          "output_type": "stream",
          "text": [
            "                   all        300        338       0.82      0.701      0.765      0.458\n"
          ]
        },
        {
          "name": "stderr",
          "output_type": "stream",
          "text": [
            "\n"
          ]
        },
        {
          "name": "stdout",
          "output_type": "stream",
          "text": [
            "\n",
            "      Epoch    GPU_mem   box_loss   cls_loss   dfl_loss  Instances       Size\n"
          ]
        },
        {
          "name": "stderr",
          "output_type": "stream",
          "text": [
            "    150/200      12.9G      1.042      1.228      1.535          8        640: 100%|██████████| 38/38 [00:38<00:00,  1.01s/it]\n",
            "                 Class     Images  Instances      Box(P          R      mAP50  mAP50-95): 100%|██████████| 19/19 [00:14<00:00,  1.33it/s]"
          ]
        },
        {
          "name": "stdout",
          "output_type": "stream",
          "text": [
            "                   all        300        338      0.747      0.609      0.708       0.42\n"
          ]
        },
        {
          "name": "stderr",
          "output_type": "stream",
          "text": [
            "\n"
          ]
        },
        {
          "name": "stdout",
          "output_type": "stream",
          "text": [
            "\n",
            "      Epoch    GPU_mem   box_loss   cls_loss   dfl_loss  Instances       Size\n"
          ]
        },
        {
          "name": "stderr",
          "output_type": "stream",
          "text": [
            "    151/200      13.2G      1.079      1.318       1.53         14        640: 100%|██████████| 38/38 [00:38<00:00,  1.01s/it]\n",
            "                 Class     Images  Instances      Box(P          R      mAP50  mAP50-95): 100%|██████████| 19/19 [00:14<00:00,  1.33it/s]"
          ]
        },
        {
          "name": "stdout",
          "output_type": "stream",
          "text": [
            "                   all        300        338      0.802      0.601      0.714      0.428\n"
          ]
        },
        {
          "name": "stderr",
          "output_type": "stream",
          "text": [
            "\n"
          ]
        },
        {
          "name": "stdout",
          "output_type": "stream",
          "text": [
            "\n",
            "      Epoch    GPU_mem   box_loss   cls_loss   dfl_loss  Instances       Size\n"
          ]
        },
        {
          "name": "stderr",
          "output_type": "stream",
          "text": [
            "    152/200      13.2G      1.035      1.224      1.491          8        640: 100%|██████████| 38/38 [00:38<00:00,  1.00s/it]\n",
            "                 Class     Images  Instances      Box(P          R      mAP50  mAP50-95): 100%|██████████| 19/19 [00:14<00:00,  1.33it/s]"
          ]
        },
        {
          "name": "stdout",
          "output_type": "stream",
          "text": [
            "                   all        300        338      0.783       0.69      0.749      0.447\n"
          ]
        },
        {
          "name": "stderr",
          "output_type": "stream",
          "text": [
            "\n"
          ]
        },
        {
          "name": "stdout",
          "output_type": "stream",
          "text": [
            "\n",
            "      Epoch    GPU_mem   box_loss   cls_loss   dfl_loss  Instances       Size\n"
          ]
        },
        {
          "name": "stderr",
          "output_type": "stream",
          "text": [
            "    153/200      13.3G      1.073       1.28      1.513          8        640: 100%|██████████| 38/38 [00:38<00:00,  1.00s/it]\n",
            "                 Class     Images  Instances      Box(P          R      mAP50  mAP50-95): 100%|██████████| 19/19 [00:14<00:00,  1.33it/s]"
          ]
        },
        {
          "name": "stdout",
          "output_type": "stream",
          "text": [
            "                   all        300        338      0.772      0.735       0.77      0.456\n"
          ]
        },
        {
          "name": "stderr",
          "output_type": "stream",
          "text": [
            "\n"
          ]
        },
        {
          "name": "stdout",
          "output_type": "stream",
          "text": [
            "\n",
            "      Epoch    GPU_mem   box_loss   cls_loss   dfl_loss  Instances       Size\n"
          ]
        },
        {
          "name": "stderr",
          "output_type": "stream",
          "text": [
            "    154/200      13.3G      1.029      1.175      1.473          8        640: 100%|██████████| 38/38 [00:38<00:00,  1.01s/it]\n",
            "                 Class     Images  Instances      Box(P          R      mAP50  mAP50-95): 100%|██████████| 19/19 [00:14<00:00,  1.33it/s]"
          ]
        },
        {
          "name": "stdout",
          "output_type": "stream",
          "text": [
            "                   all        300        338      0.786       0.72      0.778      0.459\n"
          ]
        },
        {
          "name": "stderr",
          "output_type": "stream",
          "text": [
            "\n"
          ]
        },
        {
          "name": "stdout",
          "output_type": "stream",
          "text": [
            "\n",
            "      Epoch    GPU_mem   box_loss   cls_loss   dfl_loss  Instances       Size\n"
          ]
        },
        {
          "name": "stderr",
          "output_type": "stream",
          "text": [
            "    155/200        13G      1.028      1.241      1.493         12        640: 100%|██████████| 38/38 [00:38<00:00,  1.01s/it]\n",
            "                 Class     Images  Instances      Box(P          R      mAP50  mAP50-95): 100%|██████████| 19/19 [00:14<00:00,  1.33it/s]"
          ]
        },
        {
          "name": "stdout",
          "output_type": "stream",
          "text": [
            "                   all        300        338      0.839      0.739      0.785       0.46\n"
          ]
        },
        {
          "name": "stderr",
          "output_type": "stream",
          "text": [
            "\n"
          ]
        },
        {
          "name": "stdout",
          "output_type": "stream",
          "text": [
            "\n",
            "      Epoch    GPU_mem   box_loss   cls_loss   dfl_loss  Instances       Size\n"
          ]
        },
        {
          "name": "stderr",
          "output_type": "stream",
          "text": [
            "    156/200      13.2G      1.027       1.25      1.497          9        640: 100%|██████████| 38/38 [00:38<00:00,  1.00s/it]\n",
            "                 Class     Images  Instances      Box(P          R      mAP50  mAP50-95): 100%|██████████| 19/19 [00:14<00:00,  1.33it/s]"
          ]
        },
        {
          "name": "stdout",
          "output_type": "stream",
          "text": [
            "                   all        300        338      0.765      0.698      0.745      0.434\n"
          ]
        },
        {
          "name": "stderr",
          "output_type": "stream",
          "text": [
            "\n"
          ]
        },
        {
          "name": "stdout",
          "output_type": "stream",
          "text": [
            "\n",
            "      Epoch    GPU_mem   box_loss   cls_loss   dfl_loss  Instances       Size\n"
          ]
        },
        {
          "name": "stderr",
          "output_type": "stream",
          "text": [
            "    157/200      13.3G      1.005      1.241      1.472          9        640: 100%|██████████| 38/38 [00:38<00:00,  1.00s/it]\n",
            "                 Class     Images  Instances      Box(P          R      mAP50  mAP50-95): 100%|██████████| 19/19 [00:14<00:00,  1.33it/s]"
          ]
        },
        {
          "name": "stdout",
          "output_type": "stream",
          "text": [
            "                   all        300        338      0.854      0.676       0.77      0.467\n"
          ]
        },
        {
          "name": "stderr",
          "output_type": "stream",
          "text": [
            "\n"
          ]
        },
        {
          "name": "stdout",
          "output_type": "stream",
          "text": [
            "\n",
            "      Epoch    GPU_mem   box_loss   cls_loss   dfl_loss  Instances       Size\n"
          ]
        },
        {
          "name": "stderr",
          "output_type": "stream",
          "text": [
            "    158/200      12.9G     0.9783      1.178      1.446         14        640: 100%|██████████| 38/38 [00:38<00:00,  1.01s/it]\n",
            "                 Class     Images  Instances      Box(P          R      mAP50  mAP50-95): 100%|██████████| 19/19 [00:14<00:00,  1.33it/s]"
          ]
        },
        {
          "name": "stdout",
          "output_type": "stream",
          "text": [
            "                   all        300        338      0.823      0.708      0.767      0.446\n"
          ]
        },
        {
          "name": "stderr",
          "output_type": "stream",
          "text": [
            "\n"
          ]
        },
        {
          "name": "stdout",
          "output_type": "stream",
          "text": [
            "\n",
            "      Epoch    GPU_mem   box_loss   cls_loss   dfl_loss  Instances       Size\n"
          ]
        },
        {
          "name": "stderr",
          "output_type": "stream",
          "text": [
            "    159/200      13.2G     0.9497      1.129      1.427         13        640: 100%|██████████| 38/38 [00:38<00:00,  1.00s/it]\n",
            "                 Class     Images  Instances      Box(P          R      mAP50  mAP50-95): 100%|██████████| 19/19 [00:14<00:00,  1.33it/s]"
          ]
        },
        {
          "name": "stdout",
          "output_type": "stream",
          "text": [
            "                   all        300        338      0.822      0.717      0.771      0.456\n"
          ]
        },
        {
          "name": "stderr",
          "output_type": "stream",
          "text": [
            "\n"
          ]
        },
        {
          "name": "stdout",
          "output_type": "stream",
          "text": [
            "\n",
            "      Epoch    GPU_mem   box_loss   cls_loss   dfl_loss  Instances       Size\n"
          ]
        },
        {
          "name": "stderr",
          "output_type": "stream",
          "text": [
            "    160/200      12.9G     0.9605      1.128      1.437          9        640: 100%|██████████| 38/38 [00:38<00:00,  1.00s/it]\n",
            "                 Class     Images  Instances      Box(P          R      mAP50  mAP50-95): 100%|██████████| 19/19 [00:14<00:00,  1.33it/s]"
          ]
        },
        {
          "name": "stdout",
          "output_type": "stream",
          "text": [
            "                   all        300        338      0.724      0.715       0.74      0.442\n"
          ]
        },
        {
          "name": "stderr",
          "output_type": "stream",
          "text": [
            "\n"
          ]
        },
        {
          "name": "stdout",
          "output_type": "stream",
          "text": [
            "\n",
            "      Epoch    GPU_mem   box_loss   cls_loss   dfl_loss  Instances       Size\n"
          ]
        },
        {
          "name": "stderr",
          "output_type": "stream",
          "text": [
            "    161/200      13.3G      1.022      1.172      1.483         11        640: 100%|██████████| 38/38 [00:38<00:00,  1.00s/it]\n",
            "                 Class     Images  Instances      Box(P          R      mAP50  mAP50-95): 100%|██████████| 19/19 [00:14<00:00,  1.33it/s]"
          ]
        },
        {
          "name": "stdout",
          "output_type": "stream",
          "text": [
            "                   all        300        338      0.728      0.705      0.749      0.448\n"
          ]
        },
        {
          "name": "stderr",
          "output_type": "stream",
          "text": [
            "\n"
          ]
        },
        {
          "name": "stdout",
          "output_type": "stream",
          "text": [
            "\n",
            "      Epoch    GPU_mem   box_loss   cls_loss   dfl_loss  Instances       Size\n"
          ]
        },
        {
          "name": "stderr",
          "output_type": "stream",
          "text": [
            "    162/200      13.2G      1.005      1.154      1.464          8        640: 100%|██████████| 38/38 [00:38<00:00,  1.01s/it]\n",
            "                 Class     Images  Instances      Box(P          R      mAP50  mAP50-95): 100%|██████████| 19/19 [00:14<00:00,  1.33it/s]"
          ]
        },
        {
          "name": "stdout",
          "output_type": "stream",
          "text": [
            "                   all        300        338      0.736      0.722      0.759       0.46\n"
          ]
        },
        {
          "name": "stderr",
          "output_type": "stream",
          "text": [
            "\n"
          ]
        },
        {
          "name": "stdout",
          "output_type": "stream",
          "text": [
            "\n",
            "      Epoch    GPU_mem   box_loss   cls_loss   dfl_loss  Instances       Size\n"
          ]
        },
        {
          "name": "stderr",
          "output_type": "stream",
          "text": [
            "    163/200      13.2G     0.9735      1.159      1.454         10        640: 100%|██████████| 38/38 [00:38<00:00,  1.00s/it]\n",
            "                 Class     Images  Instances      Box(P          R      mAP50  mAP50-95): 100%|██████████| 19/19 [00:14<00:00,  1.34it/s]"
          ]
        },
        {
          "name": "stdout",
          "output_type": "stream",
          "text": [
            "                   all        300        338      0.773      0.755      0.786      0.473\n"
          ]
        },
        {
          "name": "stderr",
          "output_type": "stream",
          "text": [
            "\n"
          ]
        },
        {
          "name": "stdout",
          "output_type": "stream",
          "text": [
            "\n",
            "      Epoch    GPU_mem   box_loss   cls_loss   dfl_loss  Instances       Size\n"
          ]
        },
        {
          "name": "stderr",
          "output_type": "stream",
          "text": [
            "    164/200      13.2G     0.9552      1.133       1.43         14        640: 100%|██████████| 38/38 [00:38<00:00,  1.02s/it]\n",
            "                 Class     Images  Instances      Box(P          R      mAP50  mAP50-95): 100%|██████████| 19/19 [00:14<00:00,  1.34it/s]"
          ]
        },
        {
          "name": "stdout",
          "output_type": "stream",
          "text": [
            "                   all        300        338      0.797      0.733      0.784      0.478\n"
          ]
        },
        {
          "name": "stderr",
          "output_type": "stream",
          "text": [
            "\n"
          ]
        },
        {
          "name": "stdout",
          "output_type": "stream",
          "text": [
            "\n",
            "      Epoch    GPU_mem   box_loss   cls_loss   dfl_loss  Instances       Size\n"
          ]
        },
        {
          "name": "stderr",
          "output_type": "stream",
          "text": [
            "    165/200      13.3G      1.023      1.218      1.487         10        640: 100%|██████████| 38/38 [00:38<00:00,  1.01s/it]\n",
            "                 Class     Images  Instances      Box(P          R      mAP50  mAP50-95): 100%|██████████| 19/19 [00:14<00:00,  1.31it/s]"
          ]
        },
        {
          "name": "stdout",
          "output_type": "stream",
          "text": [
            "                   all        300        338      0.821      0.685       0.77      0.471\n"
          ]
        },
        {
          "name": "stderr",
          "output_type": "stream",
          "text": [
            "\n"
          ]
        },
        {
          "name": "stdout",
          "output_type": "stream",
          "text": [
            "\n",
            "      Epoch    GPU_mem   box_loss   cls_loss   dfl_loss  Instances       Size\n"
          ]
        },
        {
          "name": "stderr",
          "output_type": "stream",
          "text": [
            "    166/200        13G     0.9797       1.18       1.46         12        640: 100%|██████████| 38/38 [00:38<00:00,  1.00s/it]\n",
            "                 Class     Images  Instances      Box(P          R      mAP50  mAP50-95): 100%|██████████| 19/19 [00:14<00:00,  1.34it/s]"
          ]
        },
        {
          "name": "stdout",
          "output_type": "stream",
          "text": [
            "                   all        300        338      0.762      0.711      0.753      0.456\n"
          ]
        },
        {
          "name": "stderr",
          "output_type": "stream",
          "text": [
            "\n"
          ]
        },
        {
          "name": "stdout",
          "output_type": "stream",
          "text": [
            "\n",
            "      Epoch    GPU_mem   box_loss   cls_loss   dfl_loss  Instances       Size\n"
          ]
        },
        {
          "name": "stderr",
          "output_type": "stream",
          "text": [
            "    167/200      13.2G     0.9938      1.163       1.48         12        640: 100%|██████████| 38/38 [00:38<00:00,  1.01s/it]\n",
            "                 Class     Images  Instances      Box(P          R      mAP50  mAP50-95): 100%|██████████| 19/19 [00:14<00:00,  1.34it/s]"
          ]
        },
        {
          "name": "stdout",
          "output_type": "stream",
          "text": [
            "                   all        300        338      0.796      0.724      0.763       0.46\n"
          ]
        },
        {
          "name": "stderr",
          "output_type": "stream",
          "text": [
            "\n"
          ]
        },
        {
          "name": "stdout",
          "output_type": "stream",
          "text": [
            "\n",
            "      Epoch    GPU_mem   box_loss   cls_loss   dfl_loss  Instances       Size\n"
          ]
        },
        {
          "name": "stderr",
          "output_type": "stream",
          "text": [
            "    168/200      13.2G     0.9343        1.1      1.428         13        640: 100%|██████████| 38/38 [00:38<00:00,  1.01s/it]\n",
            "                 Class     Images  Instances      Box(P          R      mAP50  mAP50-95): 100%|██████████| 19/19 [00:14<00:00,  1.33it/s]"
          ]
        },
        {
          "name": "stdout",
          "output_type": "stream",
          "text": [
            "                   all        300        338      0.794      0.751      0.788      0.474\n"
          ]
        },
        {
          "name": "stderr",
          "output_type": "stream",
          "text": [
            "\n"
          ]
        },
        {
          "name": "stdout",
          "output_type": "stream",
          "text": [
            "\n",
            "      Epoch    GPU_mem   box_loss   cls_loss   dfl_loss  Instances       Size\n"
          ]
        },
        {
          "name": "stderr",
          "output_type": "stream",
          "text": [
            "    169/200      13.3G     0.9441      1.103      1.428         10        640: 100%|██████████| 38/38 [00:38<00:00,  1.00s/it]\n",
            "                 Class     Images  Instances      Box(P          R      mAP50  mAP50-95): 100%|██████████| 19/19 [00:14<00:00,  1.33it/s]"
          ]
        },
        {
          "name": "stdout",
          "output_type": "stream",
          "text": [
            "                   all        300        338      0.816      0.751      0.798       0.47\n"
          ]
        },
        {
          "name": "stderr",
          "output_type": "stream",
          "text": [
            "\n"
          ]
        },
        {
          "name": "stdout",
          "output_type": "stream",
          "text": [
            "\n",
            "      Epoch    GPU_mem   box_loss   cls_loss   dfl_loss  Instances       Size\n"
          ]
        },
        {
          "name": "stderr",
          "output_type": "stream",
          "text": [
            "    170/200      13.2G     0.9473      1.123      1.425          8        640: 100%|██████████| 38/38 [00:38<00:00,  1.01s/it]\n",
            "                 Class     Images  Instances      Box(P          R      mAP50  mAP50-95): 100%|██████████| 19/19 [00:14<00:00,  1.33it/s]"
          ]
        },
        {
          "name": "stdout",
          "output_type": "stream",
          "text": [
            "                   all        300        338      0.817       0.71      0.791      0.479\n"
          ]
        },
        {
          "name": "stderr",
          "output_type": "stream",
          "text": [
            "\n"
          ]
        },
        {
          "name": "stdout",
          "output_type": "stream",
          "text": [
            "\n",
            "      Epoch    GPU_mem   box_loss   cls_loss   dfl_loss  Instances       Size\n"
          ]
        },
        {
          "name": "stderr",
          "output_type": "stream",
          "text": [
            "    171/200      13.2G     0.9152      1.127      1.415          8        640: 100%|██████████| 38/38 [00:38<00:00,  1.01s/it]\n",
            "                 Class     Images  Instances      Box(P          R      mAP50  mAP50-95): 100%|██████████| 19/19 [00:14<00:00,  1.33it/s]"
          ]
        },
        {
          "name": "stdout",
          "output_type": "stream",
          "text": [
            "                   all        300        338       0.81      0.712      0.782      0.476\n"
          ]
        },
        {
          "name": "stderr",
          "output_type": "stream",
          "text": [
            "\n"
          ]
        },
        {
          "name": "stdout",
          "output_type": "stream",
          "text": [
            "\n",
            "      Epoch    GPU_mem   box_loss   cls_loss   dfl_loss  Instances       Size\n"
          ]
        },
        {
          "name": "stderr",
          "output_type": "stream",
          "text": [
            "    172/200      13.2G     0.9512       1.12      1.428         12        640: 100%|██████████| 38/38 [00:38<00:00,  1.00s/it]\n",
            "                 Class     Images  Instances      Box(P          R      mAP50  mAP50-95): 100%|██████████| 19/19 [00:14<00:00,  1.33it/s]"
          ]
        },
        {
          "name": "stdout",
          "output_type": "stream",
          "text": [
            "                   all        300        338      0.807       0.72       0.79      0.476\n"
          ]
        },
        {
          "name": "stderr",
          "output_type": "stream",
          "text": [
            "\n"
          ]
        },
        {
          "name": "stdout",
          "output_type": "stream",
          "text": [
            "\n",
            "      Epoch    GPU_mem   box_loss   cls_loss   dfl_loss  Instances       Size\n"
          ]
        },
        {
          "name": "stderr",
          "output_type": "stream",
          "text": [
            "    173/200      13.3G     0.9449      1.103      1.407          9        640: 100%|██████████| 38/38 [00:38<00:00,  1.00s/it]\n",
            "                 Class     Images  Instances      Box(P          R      mAP50  mAP50-95): 100%|██████████| 19/19 [00:14<00:00,  1.33it/s]"
          ]
        },
        {
          "name": "stdout",
          "output_type": "stream",
          "text": [
            "                   all        300        338      0.767      0.752      0.791      0.475\n"
          ]
        },
        {
          "name": "stderr",
          "output_type": "stream",
          "text": [
            "\n"
          ]
        },
        {
          "name": "stdout",
          "output_type": "stream",
          "text": [
            "\n",
            "      Epoch    GPU_mem   box_loss   cls_loss   dfl_loss  Instances       Size\n"
          ]
        },
        {
          "name": "stderr",
          "output_type": "stream",
          "text": [
            "    174/200      13.3G      0.967      1.152      1.444         10        640: 100%|██████████| 38/38 [00:38<00:00,  1.01s/it]\n",
            "                 Class     Images  Instances      Box(P          R      mAP50  mAP50-95): 100%|██████████| 19/19 [00:14<00:00,  1.33it/s]"
          ]
        },
        {
          "name": "stdout",
          "output_type": "stream",
          "text": [
            "                   all        300        338       0.86      0.726      0.803      0.482\n"
          ]
        },
        {
          "name": "stderr",
          "output_type": "stream",
          "text": [
            "\n"
          ]
        },
        {
          "name": "stdout",
          "output_type": "stream",
          "text": [
            "\n",
            "      Epoch    GPU_mem   box_loss   cls_loss   dfl_loss  Instances       Size\n"
          ]
        },
        {
          "name": "stderr",
          "output_type": "stream",
          "text": [
            "    175/200      12.9G     0.9503      1.111      1.443          9        640: 100%|██████████| 38/38 [00:38<00:00,  1.01s/it]\n",
            "                 Class     Images  Instances      Box(P          R      mAP50  mAP50-95): 100%|██████████| 19/19 [00:14<00:00,  1.32it/s]"
          ]
        },
        {
          "name": "stdout",
          "output_type": "stream",
          "text": [
            "                   all        300        338      0.826      0.686       0.79      0.481\n"
          ]
        },
        {
          "name": "stderr",
          "output_type": "stream",
          "text": [
            "\n"
          ]
        },
        {
          "name": "stdout",
          "output_type": "stream",
          "text": [
            "\n",
            "      Epoch    GPU_mem   box_loss   cls_loss   dfl_loss  Instances       Size\n"
          ]
        },
        {
          "name": "stderr",
          "output_type": "stream",
          "text": [
            "    176/200      12.9G     0.9222      1.141      1.411          4        640: 100%|██████████| 38/38 [00:38<00:00,  1.01s/it]\n",
            "                 Class     Images  Instances      Box(P          R      mAP50  mAP50-95): 100%|██████████| 19/19 [00:14<00:00,  1.34it/s]"
          ]
        },
        {
          "name": "stdout",
          "output_type": "stream",
          "text": [
            "                   all        300        338      0.843      0.676      0.782       0.48\n"
          ]
        },
        {
          "name": "stderr",
          "output_type": "stream",
          "text": [
            "\n"
          ]
        },
        {
          "name": "stdout",
          "output_type": "stream",
          "text": [
            "\n",
            "      Epoch    GPU_mem   box_loss   cls_loss   dfl_loss  Instances       Size\n"
          ]
        },
        {
          "name": "stderr",
          "output_type": "stream",
          "text": [
            "    177/200      13.3G     0.9332      1.121      1.416          8        640: 100%|██████████| 38/38 [00:38<00:00,  1.01s/it]\n",
            "                 Class     Images  Instances      Box(P          R      mAP50  mAP50-95): 100%|██████████| 19/19 [00:14<00:00,  1.32it/s]"
          ]
        },
        {
          "name": "stdout",
          "output_type": "stream",
          "text": [
            "                   all        300        338      0.833      0.692      0.789      0.485\n"
          ]
        },
        {
          "name": "stderr",
          "output_type": "stream",
          "text": [
            "\n"
          ]
        },
        {
          "name": "stdout",
          "output_type": "stream",
          "text": [
            "\n",
            "      Epoch    GPU_mem   box_loss   cls_loss   dfl_loss  Instances       Size\n"
          ]
        },
        {
          "name": "stderr",
          "output_type": "stream",
          "text": [
            "    178/200      12.9G     0.9222      1.046      1.416         12        640: 100%|██████████| 38/38 [00:38<00:00,  1.01s/it]\n",
            "                 Class     Images  Instances      Box(P          R      mAP50  mAP50-95): 100%|██████████| 19/19 [00:14<00:00,  1.32it/s]"
          ]
        },
        {
          "name": "stdout",
          "output_type": "stream",
          "text": [
            "                   all        300        338      0.841      0.702      0.787      0.486\n"
          ]
        },
        {
          "name": "stderr",
          "output_type": "stream",
          "text": [
            "\n"
          ]
        },
        {
          "name": "stdout",
          "output_type": "stream",
          "text": [
            "\n",
            "      Epoch    GPU_mem   box_loss   cls_loss   dfl_loss  Instances       Size\n"
          ]
        },
        {
          "name": "stderr",
          "output_type": "stream",
          "text": [
            "    179/200      13.2G     0.9267      1.117      1.411          6        640: 100%|██████████| 38/38 [00:38<00:00,  1.01s/it]\n",
            "                 Class     Images  Instances      Box(P          R      mAP50  mAP50-95): 100%|██████████| 19/19 [00:14<00:00,  1.32it/s]"
          ]
        },
        {
          "name": "stdout",
          "output_type": "stream",
          "text": [
            "                   all        300        338      0.802      0.712      0.786      0.482\n"
          ]
        },
        {
          "name": "stderr",
          "output_type": "stream",
          "text": [
            "\n"
          ]
        },
        {
          "name": "stdout",
          "output_type": "stream",
          "text": [
            "\n",
            "      Epoch    GPU_mem   box_loss   cls_loss   dfl_loss  Instances       Size\n"
          ]
        },
        {
          "name": "stderr",
          "output_type": "stream",
          "text": [
            "    180/200      13.2G      0.935      1.042      1.444         10        640: 100%|██████████| 38/38 [00:38<00:00,  1.00s/it]\n",
            "                 Class     Images  Instances      Box(P          R      mAP50  mAP50-95): 100%|██████████| 19/19 [00:14<00:00,  1.33it/s]"
          ]
        },
        {
          "name": "stdout",
          "output_type": "stream",
          "text": [
            "                   all        300        338      0.808      0.724      0.791      0.483\n"
          ]
        },
        {
          "name": "stderr",
          "output_type": "stream",
          "text": [
            "\n"
          ]
        },
        {
          "name": "stdout",
          "output_type": "stream",
          "text": [
            "\n",
            "      Epoch    GPU_mem   box_loss   cls_loss   dfl_loss  Instances       Size\n"
          ]
        },
        {
          "name": "stderr",
          "output_type": "stream",
          "text": [
            "    181/200      13.3G     0.9178       1.02       1.41         12        640: 100%|██████████| 38/38 [00:38<00:00,  1.00s/it]\n",
            "                 Class     Images  Instances      Box(P          R      mAP50  mAP50-95): 100%|██████████| 19/19 [00:14<00:00,  1.32it/s]"
          ]
        },
        {
          "name": "stdout",
          "output_type": "stream",
          "text": [
            "                   all        300        338      0.768      0.749      0.794      0.483\n"
          ]
        },
        {
          "name": "stderr",
          "output_type": "stream",
          "text": [
            "\n"
          ]
        },
        {
          "name": "stdout",
          "output_type": "stream",
          "text": [
            "\n",
            "      Epoch    GPU_mem   box_loss   cls_loss   dfl_loss  Instances       Size\n"
          ]
        },
        {
          "name": "stderr",
          "output_type": "stream",
          "text": [
            "    182/200      13.2G     0.9477      1.107      1.428         15        640: 100%|██████████| 38/38 [00:38<00:00,  1.01s/it]\n",
            "                 Class     Images  Instances      Box(P          R      mAP50  mAP50-95): 100%|██████████| 19/19 [00:14<00:00,  1.33it/s]"
          ]
        },
        {
          "name": "stdout",
          "output_type": "stream",
          "text": [
            "                   all        300        338      0.864      0.696      0.797      0.487\n"
          ]
        },
        {
          "name": "stderr",
          "output_type": "stream",
          "text": [
            "\n"
          ]
        },
        {
          "name": "stdout",
          "output_type": "stream",
          "text": [
            "\n",
            "      Epoch    GPU_mem   box_loss   cls_loss   dfl_loss  Instances       Size\n"
          ]
        },
        {
          "name": "stderr",
          "output_type": "stream",
          "text": [
            "    183/200      13.2G     0.8923       1.02      1.393         11        640: 100%|██████████| 38/38 [00:38<00:00,  1.02s/it]\n",
            "                 Class     Images  Instances      Box(P          R      mAP50  mAP50-95): 100%|██████████| 19/19 [00:14<00:00,  1.32it/s]"
          ]
        },
        {
          "name": "stdout",
          "output_type": "stream",
          "text": [
            "                   all        300        338      0.809      0.716        0.8      0.497\n"
          ]
        },
        {
          "name": "stderr",
          "output_type": "stream",
          "text": [
            "\n"
          ]
        },
        {
          "name": "stdout",
          "output_type": "stream",
          "text": [
            "\n",
            "      Epoch    GPU_mem   box_loss   cls_loss   dfl_loss  Instances       Size\n"
          ]
        },
        {
          "name": "stderr",
          "output_type": "stream",
          "text": [
            "    184/200      13.2G     0.9181      1.081      1.405         10        640: 100%|██████████| 38/38 [00:38<00:00,  1.01s/it]\n",
            "                 Class     Images  Instances      Box(P          R      mAP50  mAP50-95): 100%|██████████| 19/19 [00:14<00:00,  1.33it/s]"
          ]
        },
        {
          "name": "stdout",
          "output_type": "stream",
          "text": [
            "                   all        300        338      0.758      0.757      0.793      0.485\n"
          ]
        },
        {
          "name": "stderr",
          "output_type": "stream",
          "text": [
            "\n"
          ]
        },
        {
          "name": "stdout",
          "output_type": "stream",
          "text": [
            "\n",
            "      Epoch    GPU_mem   box_loss   cls_loss   dfl_loss  Instances       Size\n"
          ]
        },
        {
          "name": "stderr",
          "output_type": "stream",
          "text": [
            "    185/200      13.3G     0.9439      1.096      1.397         14        640: 100%|██████████| 38/38 [00:38<00:00,  1.00s/it]\n",
            "                 Class     Images  Instances      Box(P          R      mAP50  mAP50-95): 100%|██████████| 19/19 [00:14<00:00,  1.34it/s]"
          ]
        },
        {
          "name": "stdout",
          "output_type": "stream",
          "text": [
            "                   all        300        338      0.784      0.739      0.794      0.489\n"
          ]
        },
        {
          "name": "stderr",
          "output_type": "stream",
          "text": [
            "\n"
          ]
        },
        {
          "name": "stdout",
          "output_type": "stream",
          "text": [
            "\n",
            "      Epoch    GPU_mem   box_loss   cls_loss   dfl_loss  Instances       Size\n"
          ]
        },
        {
          "name": "stderr",
          "output_type": "stream",
          "text": [
            "    186/200        13G     0.9133      1.087      1.409         13        640: 100%|██████████| 38/38 [00:38<00:00,  1.01s/it]\n",
            "                 Class     Images  Instances      Box(P          R      mAP50  mAP50-95): 100%|██████████| 19/19 [00:14<00:00,  1.33it/s]"
          ]
        },
        {
          "name": "stdout",
          "output_type": "stream",
          "text": [
            "                   all        300        338      0.801      0.739      0.801      0.492\n"
          ]
        },
        {
          "name": "stderr",
          "output_type": "stream",
          "text": [
            "\n"
          ]
        },
        {
          "name": "stdout",
          "output_type": "stream",
          "text": [
            "\n",
            "      Epoch    GPU_mem   box_loss   cls_loss   dfl_loss  Instances       Size\n"
          ]
        },
        {
          "name": "stderr",
          "output_type": "stream",
          "text": [
            "    187/200      13.3G     0.9267      1.052      1.412          4        640: 100%|██████████| 38/38 [00:38<00:00,  1.01s/it]\n",
            "                 Class     Images  Instances      Box(P          R      mAP50  mAP50-95): 100%|██████████| 19/19 [00:14<00:00,  1.32it/s]"
          ]
        },
        {
          "name": "stdout",
          "output_type": "stream",
          "text": [
            "                   all        300        338      0.821      0.747      0.809      0.502\n"
          ]
        },
        {
          "name": "stderr",
          "output_type": "stream",
          "text": [
            "\n"
          ]
        },
        {
          "name": "stdout",
          "output_type": "stream",
          "text": [
            "\n",
            "      Epoch    GPU_mem   box_loss   cls_loss   dfl_loss  Instances       Size\n"
          ]
        },
        {
          "name": "stderr",
          "output_type": "stream",
          "text": [
            "    188/200      13.3G     0.8901     0.9932      1.377          9        640: 100%|██████████| 38/38 [00:38<00:00,  1.01s/it]\n",
            "                 Class     Images  Instances      Box(P          R      mAP50  mAP50-95): 100%|██████████| 19/19 [00:14<00:00,  1.32it/s]"
          ]
        },
        {
          "name": "stdout",
          "output_type": "stream",
          "text": [
            "                   all        300        338      0.846      0.726      0.812      0.503\n"
          ]
        },
        {
          "name": "stderr",
          "output_type": "stream",
          "text": [
            "\n"
          ]
        },
        {
          "name": "stdout",
          "output_type": "stream",
          "text": [
            "\n",
            "      Epoch    GPU_mem   box_loss   cls_loss   dfl_loss  Instances       Size\n"
          ]
        },
        {
          "name": "stderr",
          "output_type": "stream",
          "text": [
            "    189/200      13.3G     0.9035      1.052      1.403          6        640: 100%|██████████| 38/38 [00:38<00:00,  1.00s/it]\n",
            "                 Class     Images  Instances      Box(P          R      mAP50  mAP50-95): 100%|██████████| 19/19 [00:14<00:00,  1.34it/s]"
          ]
        },
        {
          "name": "stdout",
          "output_type": "stream",
          "text": [
            "                   all        300        338      0.831       0.73      0.815      0.502\n"
          ]
        },
        {
          "name": "stderr",
          "output_type": "stream",
          "text": [
            "\n"
          ]
        },
        {
          "name": "stdout",
          "output_type": "stream",
          "text": [
            "\n",
            "      Epoch    GPU_mem   box_loss   cls_loss   dfl_loss  Instances       Size\n"
          ]
        },
        {
          "name": "stderr",
          "output_type": "stream",
          "text": [
            "    190/200      12.9G     0.8958     0.9903      1.385          9        640: 100%|██████████| 38/38 [00:38<00:00,  1.01s/it]\n",
            "                 Class     Images  Instances      Box(P          R      mAP50  mAP50-95): 100%|██████████| 19/19 [00:14<00:00,  1.33it/s]"
          ]
        },
        {
          "name": "stdout",
          "output_type": "stream",
          "text": [
            "                   all        300        338      0.844      0.735      0.805      0.497\n"
          ]
        },
        {
          "name": "stderr",
          "output_type": "stream",
          "text": [
            "\n"
          ]
        },
        {
          "name": "stdout",
          "output_type": "stream",
          "text": [
            "Closing dataloader mosaic\n",
            "\u001b[34m\u001b[1malbumentations: \u001b[0mBlur(p=0.01, blur_limit=(3, 7)), MedianBlur(p=0.01, blur_limit=(3, 7)), ToGray(p=0.01, method='weighted_average', num_output_channels=3), CLAHE(p=0.01, clip_limit=(1.0, 4.0), tile_grid_size=(8, 8))\n",
            "\n",
            "      Epoch    GPU_mem   box_loss   cls_loss   dfl_loss  Instances       Size\n"
          ]
        },
        {
          "name": "stderr",
          "output_type": "stream",
          "text": [
            "    191/200      12.9G     0.8597     0.9221      1.502          4        640: 100%|██████████| 38/38 [00:38<00:00,  1.02s/it]\n",
            "                 Class     Images  Instances      Box(P          R      mAP50  mAP50-95): 100%|██████████| 19/19 [00:14<00:00,  1.32it/s]"
          ]
        },
        {
          "name": "stdout",
          "output_type": "stream",
          "text": [
            "                   all        300        338      0.809      0.739      0.804        0.5\n"
          ]
        },
        {
          "name": "stderr",
          "output_type": "stream",
          "text": [
            "\n"
          ]
        },
        {
          "name": "stdout",
          "output_type": "stream",
          "text": [
            "\n",
            "      Epoch    GPU_mem   box_loss   cls_loss   dfl_loss  Instances       Size\n"
          ]
        },
        {
          "name": "stderr",
          "output_type": "stream",
          "text": [
            "    192/200      12.9G     0.7911     0.8619      1.416          4        640: 100%|██████████| 38/38 [00:38<00:00,  1.00s/it]\n",
            "                 Class     Images  Instances      Box(P          R      mAP50  mAP50-95): 100%|██████████| 19/19 [00:14<00:00,  1.33it/s]"
          ]
        },
        {
          "name": "stdout",
          "output_type": "stream",
          "text": [
            "                   all        300        338      0.783      0.745      0.789      0.492\n"
          ]
        },
        {
          "name": "stderr",
          "output_type": "stream",
          "text": [
            "\n"
          ]
        },
        {
          "name": "stdout",
          "output_type": "stream",
          "text": [
            "\n",
            "      Epoch    GPU_mem   box_loss   cls_loss   dfl_loss  Instances       Size\n"
          ]
        },
        {
          "name": "stderr",
          "output_type": "stream",
          "text": [
            "    193/200      13.3G     0.7984     0.8572      1.408          4        640: 100%|██████████| 38/38 [00:38<00:00,  1.00s/it]\n",
            "                 Class     Images  Instances      Box(P          R      mAP50  mAP50-95): 100%|██████████| 19/19 [00:14<00:00,  1.33it/s]"
          ]
        },
        {
          "name": "stdout",
          "output_type": "stream",
          "text": [
            "                   all        300        338      0.784      0.743      0.788      0.496\n"
          ]
        },
        {
          "name": "stderr",
          "output_type": "stream",
          "text": [
            "\n"
          ]
        },
        {
          "name": "stdout",
          "output_type": "stream",
          "text": [
            "\n",
            "      Epoch    GPU_mem   box_loss   cls_loss   dfl_loss  Instances       Size\n"
          ]
        },
        {
          "name": "stderr",
          "output_type": "stream",
          "text": [
            "    194/200      13.2G      0.759     0.8094      1.378          4        640: 100%|██████████| 38/38 [00:38<00:00,  1.00s/it]\n",
            "                 Class     Images  Instances      Box(P          R      mAP50  mAP50-95): 100%|██████████| 19/19 [00:14<00:00,  1.33it/s]"
          ]
        },
        {
          "name": "stdout",
          "output_type": "stream",
          "text": [
            "                   all        300        338      0.798      0.712       0.79      0.504\n"
          ]
        },
        {
          "name": "stderr",
          "output_type": "stream",
          "text": [
            "\n"
          ]
        },
        {
          "name": "stdout",
          "output_type": "stream",
          "text": [
            "\n",
            "      Epoch    GPU_mem   box_loss   cls_loss   dfl_loss  Instances       Size\n"
          ]
        },
        {
          "name": "stderr",
          "output_type": "stream",
          "text": [
            "    195/200      13.2G     0.7561     0.8107       1.39          4        640: 100%|██████████| 38/38 [00:38<00:00,  1.00s/it]\n",
            "                 Class     Images  Instances      Box(P          R      mAP50  mAP50-95): 100%|██████████| 19/19 [00:14<00:00,  1.33it/s]"
          ]
        },
        {
          "name": "stdout",
          "output_type": "stream",
          "text": [
            "                   all        300        338       0.79      0.739      0.789      0.502\n"
          ]
        },
        {
          "name": "stderr",
          "output_type": "stream",
          "text": [
            "\n"
          ]
        },
        {
          "name": "stdout",
          "output_type": "stream",
          "text": [
            "\n",
            "      Epoch    GPU_mem   box_loss   cls_loss   dfl_loss  Instances       Size\n"
          ]
        },
        {
          "name": "stderr",
          "output_type": "stream",
          "text": [
            "    196/200      13.2G     0.7247     0.7801      1.358          4        640: 100%|██████████| 38/38 [00:38<00:00,  1.00s/it]\n",
            "                 Class     Images  Instances      Box(P          R      mAP50  mAP50-95): 100%|██████████| 19/19 [00:14<00:00,  1.34it/s]"
          ]
        },
        {
          "name": "stdout",
          "output_type": "stream",
          "text": [
            "                   all        300        338      0.818      0.741      0.791      0.503\n"
          ]
        },
        {
          "name": "stderr",
          "output_type": "stream",
          "text": [
            "\n"
          ]
        },
        {
          "name": "stdout",
          "output_type": "stream",
          "text": [
            "\n",
            "      Epoch    GPU_mem   box_loss   cls_loss   dfl_loss  Instances       Size\n"
          ]
        },
        {
          "name": "stderr",
          "output_type": "stream",
          "text": [
            "    197/200      13.3G     0.7253     0.7661      1.318          5        640: 100%|██████████| 38/38 [00:38<00:00,  1.01s/it]\n",
            "                 Class     Images  Instances      Box(P          R      mAP50  mAP50-95): 100%|██████████| 19/19 [00:14<00:00,  1.32it/s]"
          ]
        },
        {
          "name": "stdout",
          "output_type": "stream",
          "text": [
            "                   all        300        338      0.804      0.749      0.794      0.505\n"
          ]
        },
        {
          "name": "stderr",
          "output_type": "stream",
          "text": [
            "\n"
          ]
        },
        {
          "name": "stdout",
          "output_type": "stream",
          "text": [
            "\n",
            "      Epoch    GPU_mem   box_loss   cls_loss   dfl_loss  Instances       Size\n"
          ]
        },
        {
          "name": "stderr",
          "output_type": "stream",
          "text": [
            "    198/200      12.9G     0.7322     0.7516      1.361          5        640: 100%|██████████| 38/38 [00:37<00:00,  1.00it/s]\n",
            "                 Class     Images  Instances      Box(P          R      mAP50  mAP50-95): 100%|██████████| 19/19 [00:14<00:00,  1.33it/s]"
          ]
        },
        {
          "name": "stdout",
          "output_type": "stream",
          "text": [
            "                   all        300        338      0.778      0.764      0.795       0.51\n"
          ]
        },
        {
          "name": "stderr",
          "output_type": "stream",
          "text": [
            "\n"
          ]
        },
        {
          "name": "stdout",
          "output_type": "stream",
          "text": [
            "\n",
            "      Epoch    GPU_mem   box_loss   cls_loss   dfl_loss  Instances       Size\n"
          ]
        },
        {
          "name": "stderr",
          "output_type": "stream",
          "text": [
            "    199/200      13.2G     0.7287     0.7679      1.338          4        640: 100%|██████████| 38/38 [00:38<00:00,  1.01s/it]\n",
            "                 Class     Images  Instances      Box(P          R      mAP50  mAP50-95): 100%|██████████| 19/19 [00:14<00:00,  1.33it/s]"
          ]
        },
        {
          "name": "stdout",
          "output_type": "stream",
          "text": [
            "                   all        300        338      0.791      0.766      0.798      0.509\n"
          ]
        },
        {
          "name": "stderr",
          "output_type": "stream",
          "text": [
            "\n"
          ]
        },
        {
          "name": "stdout",
          "output_type": "stream",
          "text": [
            "\n",
            "      Epoch    GPU_mem   box_loss   cls_loss   dfl_loss  Instances       Size\n"
          ]
        },
        {
          "name": "stderr",
          "output_type": "stream",
          "text": [
            "    200/200      13.2G     0.7064     0.7854      1.356          4        640: 100%|██████████| 38/38 [00:38<00:00,  1.00s/it]\n",
            "                 Class     Images  Instances      Box(P          R      mAP50  mAP50-95): 100%|██████████| 19/19 [00:14<00:00,  1.33it/s]"
          ]
        },
        {
          "name": "stdout",
          "output_type": "stream",
          "text": [
            "                   all        300        338      0.799      0.775      0.803      0.512\n"
          ]
        },
        {
          "name": "stderr",
          "output_type": "stream",
          "text": [
            "\n"
          ]
        },
        {
          "name": "stdout",
          "output_type": "stream",
          "text": [
            "\n",
            "200 epochs completed in 3.354 hours.\n",
            "Optimizer stripped from runs/train/animals_yolo_model/weights/last.pt, 119.1MB\n",
            "Optimizer stripped from runs/train/animals_yolo_model/weights/best.pt, 119.1MB\n",
            "\n",
            "Validating runs/train/animals_yolo_model/weights/best.pt...\n",
            "Ultralytics 8.3.159 🚀 Python-3.11.13 torch-2.6.0+cu124 CUDA:0 (Tesla T4, 15095MiB)\n",
            "YOLOv12x summary (fused): 283 layers, 59,046,809 parameters, 0 gradients, 198.5 GFLOPs\n"
          ]
        },
        {
          "name": "stderr",
          "output_type": "stream",
          "text": [
            "                 Class     Images  Instances      Box(P          R      mAP50  mAP50-95): 100%|██████████| 19/19 [00:14<00:00,  1.35it/s]\n"
          ]
        },
        {
          "name": "stdout",
          "output_type": "stream",
          "text": [
            "                   all        300        338      0.799       0.77      0.803       0.51\n",
            "               raccoon        100        110       0.87      0.849      0.895      0.583\n",
            "                   fox        100        123      0.744      0.662      0.703      0.411\n",
            "                   owl         96        105      0.784        0.8      0.811      0.537\n",
            "Speed: 0.3ms preprocess, 41.6ms inference, 0.0ms loss, 1.3ms postprocess per image\n",
            "Results saved to \u001b[1mruns/train/animals_yolo_model\u001b[0m\n"
          ]
        },
        {
          "data": {
            "text/plain": [
              "ultralytics.utils.metrics.DetMetrics object with attributes:\n",
              "\n",
              "ap_class_index: array([0, 1, 2])\n",
              "box: ultralytics.utils.metrics.Metric object\n",
              "confusion_matrix: <ultralytics.utils.metrics.ConfusionMatrix object at 0x7a5b93ccd310>\n",
              "curves: ['Precision-Recall(B)', 'F1-Confidence(B)', 'Precision-Confidence(B)', 'Recall-Confidence(B)']\n",
              "curves_results: [[array([          0,    0.001001,    0.002002,    0.003003,    0.004004,    0.005005,    0.006006,    0.007007,    0.008008,    0.009009,     0.01001,    0.011011,    0.012012,    0.013013,    0.014014,    0.015015,    0.016016,    0.017017,    0.018018,    0.019019,     0.02002,    0.021021,    0.022022,    0.023023,\n",
              "          0.024024,    0.025025,    0.026026,    0.027027,    0.028028,    0.029029,     0.03003,    0.031031,    0.032032,    0.033033,    0.034034,    0.035035,    0.036036,    0.037037,    0.038038,    0.039039,     0.04004,    0.041041,    0.042042,    0.043043,    0.044044,    0.045045,    0.046046,    0.047047,\n",
              "          0.048048,    0.049049,     0.05005,    0.051051,    0.052052,    0.053053,    0.054054,    0.055055,    0.056056,    0.057057,    0.058058,    0.059059,     0.06006,    0.061061,    0.062062,    0.063063,    0.064064,    0.065065,    0.066066,    0.067067,    0.068068,    0.069069,     0.07007,    0.071071,\n",
              "          0.072072,    0.073073,    0.074074,    0.075075,    0.076076,    0.077077,    0.078078,    0.079079,     0.08008,    0.081081,    0.082082,    0.083083,    0.084084,    0.085085,    0.086086,    0.087087,    0.088088,    0.089089,     0.09009,    0.091091,    0.092092,    0.093093,    0.094094,    0.095095,\n",
              "          0.096096,    0.097097,    0.098098,    0.099099,      0.1001,      0.1011,      0.1021,      0.1031,      0.1041,     0.10511,     0.10611,     0.10711,     0.10811,     0.10911,     0.11011,     0.11111,     0.11211,     0.11311,     0.11411,     0.11512,     0.11612,     0.11712,     0.11812,     0.11912,\n",
              "           0.12012,     0.12112,     0.12212,     0.12312,     0.12412,     0.12513,     0.12613,     0.12713,     0.12813,     0.12913,     0.13013,     0.13113,     0.13213,     0.13313,     0.13413,     0.13514,     0.13614,     0.13714,     0.13814,     0.13914,     0.14014,     0.14114,     0.14214,     0.14314,\n",
              "           0.14414,     0.14515,     0.14615,     0.14715,     0.14815,     0.14915,     0.15015,     0.15115,     0.15215,     0.15315,     0.15415,     0.15516,     0.15616,     0.15716,     0.15816,     0.15916,     0.16016,     0.16116,     0.16216,     0.16316,     0.16416,     0.16517,     0.16617,     0.16717,\n",
              "           0.16817,     0.16917,     0.17017,     0.17117,     0.17217,     0.17317,     0.17417,     0.17518,     0.17618,     0.17718,     0.17818,     0.17918,     0.18018,     0.18118,     0.18218,     0.18318,     0.18418,     0.18519,     0.18619,     0.18719,     0.18819,     0.18919,     0.19019,     0.19119,\n",
              "           0.19219,     0.19319,     0.19419,      0.1952,      0.1962,      0.1972,      0.1982,      0.1992,      0.2002,      0.2012,      0.2022,      0.2032,      0.2042,     0.20521,     0.20621,     0.20721,     0.20821,     0.20921,     0.21021,     0.21121,     0.21221,     0.21321,     0.21421,     0.21522,\n",
              "           0.21622,     0.21722,     0.21822,     0.21922,     0.22022,     0.22122,     0.22222,     0.22322,     0.22422,     0.22523,     0.22623,     0.22723,     0.22823,     0.22923,     0.23023,     0.23123,     0.23223,     0.23323,     0.23423,     0.23524,     0.23624,     0.23724,     0.23824,     0.23924,\n",
              "           0.24024,     0.24124,     0.24224,     0.24324,     0.24424,     0.24525,     0.24625,     0.24725,     0.24825,     0.24925,     0.25025,     0.25125,     0.25225,     0.25325,     0.25425,     0.25526,     0.25626,     0.25726,     0.25826,     0.25926,     0.26026,     0.26126,     0.26226,     0.26326,\n",
              "           0.26426,     0.26527,     0.26627,     0.26727,     0.26827,     0.26927,     0.27027,     0.27127,     0.27227,     0.27327,     0.27427,     0.27528,     0.27628,     0.27728,     0.27828,     0.27928,     0.28028,     0.28128,     0.28228,     0.28328,     0.28428,     0.28529,     0.28629,     0.28729,\n",
              "           0.28829,     0.28929,     0.29029,     0.29129,     0.29229,     0.29329,     0.29429,      0.2953,      0.2963,      0.2973,      0.2983,      0.2993,      0.3003,      0.3013,      0.3023,      0.3033,      0.3043,     0.30531,     0.30631,     0.30731,     0.30831,     0.30931,     0.31031,     0.31131,\n",
              "           0.31231,     0.31331,     0.31431,     0.31532,     0.31632,     0.31732,     0.31832,     0.31932,     0.32032,     0.32132,     0.32232,     0.32332,     0.32432,     0.32533,     0.32633,     0.32733,     0.32833,     0.32933,     0.33033,     0.33133,     0.33233,     0.33333,     0.33433,     0.33534,\n",
              "           0.33634,     0.33734,     0.33834,     0.33934,     0.34034,     0.34134,     0.34234,     0.34334,     0.34434,     0.34535,     0.34635,     0.34735,     0.34835,     0.34935,     0.35035,     0.35135,     0.35235,     0.35335,     0.35435,     0.35536,     0.35636,     0.35736,     0.35836,     0.35936,\n",
              "           0.36036,     0.36136,     0.36236,     0.36336,     0.36436,     0.36537,     0.36637,     0.36737,     0.36837,     0.36937,     0.37037,     0.37137,     0.37237,     0.37337,     0.37437,     0.37538,     0.37638,     0.37738,     0.37838,     0.37938,     0.38038,     0.38138,     0.38238,     0.38338,\n",
              "           0.38438,     0.38539,     0.38639,     0.38739,     0.38839,     0.38939,     0.39039,     0.39139,     0.39239,     0.39339,     0.39439,      0.3954,      0.3964,      0.3974,      0.3984,      0.3994,      0.4004,      0.4014,      0.4024,      0.4034,      0.4044,     0.40541,     0.40641,     0.40741,\n",
              "           0.40841,     0.40941,     0.41041,     0.41141,     0.41241,     0.41341,     0.41441,     0.41542,     0.41642,     0.41742,     0.41842,     0.41942,     0.42042,     0.42142,     0.42242,     0.42342,     0.42442,     0.42543,     0.42643,     0.42743,     0.42843,     0.42943,     0.43043,     0.43143,\n",
              "           0.43243,     0.43343,     0.43443,     0.43544,     0.43644,     0.43744,     0.43844,     0.43944,     0.44044,     0.44144,     0.44244,     0.44344,     0.44444,     0.44545,     0.44645,     0.44745,     0.44845,     0.44945,     0.45045,     0.45145,     0.45245,     0.45345,     0.45445,     0.45546,\n",
              "           0.45646,     0.45746,     0.45846,     0.45946,     0.46046,     0.46146,     0.46246,     0.46346,     0.46446,     0.46547,     0.46647,     0.46747,     0.46847,     0.46947,     0.47047,     0.47147,     0.47247,     0.47347,     0.47447,     0.47548,     0.47648,     0.47748,     0.47848,     0.47948,\n",
              "           0.48048,     0.48148,     0.48248,     0.48348,     0.48448,     0.48549,     0.48649,     0.48749,     0.48849,     0.48949,     0.49049,     0.49149,     0.49249,     0.49349,     0.49449,      0.4955,      0.4965,      0.4975,      0.4985,      0.4995,      0.5005,      0.5015,      0.5025,      0.5035,\n",
              "            0.5045,     0.50551,     0.50651,     0.50751,     0.50851,     0.50951,     0.51051,     0.51151,     0.51251,     0.51351,     0.51451,     0.51552,     0.51652,     0.51752,     0.51852,     0.51952,     0.52052,     0.52152,     0.52252,     0.52352,     0.52452,     0.52553,     0.52653,     0.52753,\n",
              "           0.52853,     0.52953,     0.53053,     0.53153,     0.53253,     0.53353,     0.53453,     0.53554,     0.53654,     0.53754,     0.53854,     0.53954,     0.54054,     0.54154,     0.54254,     0.54354,     0.54454,     0.54555,     0.54655,     0.54755,     0.54855,     0.54955,     0.55055,     0.55155,\n",
              "           0.55255,     0.55355,     0.55455,     0.55556,     0.55656,     0.55756,     0.55856,     0.55956,     0.56056,     0.56156,     0.56256,     0.56356,     0.56456,     0.56557,     0.56657,     0.56757,     0.56857,     0.56957,     0.57057,     0.57157,     0.57257,     0.57357,     0.57457,     0.57558,\n",
              "           0.57658,     0.57758,     0.57858,     0.57958,     0.58058,     0.58158,     0.58258,     0.58358,     0.58458,     0.58559,     0.58659,     0.58759,     0.58859,     0.58959,     0.59059,     0.59159,     0.59259,     0.59359,     0.59459,      0.5956,      0.5966,      0.5976,      0.5986,      0.5996,\n",
              "            0.6006,      0.6016,      0.6026,      0.6036,      0.6046,     0.60561,     0.60661,     0.60761,     0.60861,     0.60961,     0.61061,     0.61161,     0.61261,     0.61361,     0.61461,     0.61562,     0.61662,     0.61762,     0.61862,     0.61962,     0.62062,     0.62162,     0.62262,     0.62362,\n",
              "           0.62462,     0.62563,     0.62663,     0.62763,     0.62863,     0.62963,     0.63063,     0.63163,     0.63263,     0.63363,     0.63463,     0.63564,     0.63664,     0.63764,     0.63864,     0.63964,     0.64064,     0.64164,     0.64264,     0.64364,     0.64464,     0.64565,     0.64665,     0.64765,\n",
              "           0.64865,     0.64965,     0.65065,     0.65165,     0.65265,     0.65365,     0.65465,     0.65566,     0.65666,     0.65766,     0.65866,     0.65966,     0.66066,     0.66166,     0.66266,     0.66366,     0.66466,     0.66567,     0.66667,     0.66767,     0.66867,     0.66967,     0.67067,     0.67167,\n",
              "           0.67267,     0.67367,     0.67467,     0.67568,     0.67668,     0.67768,     0.67868,     0.67968,     0.68068,     0.68168,     0.68268,     0.68368,     0.68468,     0.68569,     0.68669,     0.68769,     0.68869,     0.68969,     0.69069,     0.69169,     0.69269,     0.69369,     0.69469,      0.6957,\n",
              "            0.6967,      0.6977,      0.6987,      0.6997,      0.7007,      0.7017,      0.7027,      0.7037,      0.7047,     0.70571,     0.70671,     0.70771,     0.70871,     0.70971,     0.71071,     0.71171,     0.71271,     0.71371,     0.71471,     0.71572,     0.71672,     0.71772,     0.71872,     0.71972,\n",
              "           0.72072,     0.72172,     0.72272,     0.72372,     0.72472,     0.72573,     0.72673,     0.72773,     0.72873,     0.72973,     0.73073,     0.73173,     0.73273,     0.73373,     0.73473,     0.73574,     0.73674,     0.73774,     0.73874,     0.73974,     0.74074,     0.74174,     0.74274,     0.74374,\n",
              "           0.74474,     0.74575,     0.74675,     0.74775,     0.74875,     0.74975,     0.75075,     0.75175,     0.75275,     0.75375,     0.75475,     0.75576,     0.75676,     0.75776,     0.75876,     0.75976,     0.76076,     0.76176,     0.76276,     0.76376,     0.76476,     0.76577,     0.76677,     0.76777,\n",
              "           0.76877,     0.76977,     0.77077,     0.77177,     0.77277,     0.77377,     0.77477,     0.77578,     0.77678,     0.77778,     0.77878,     0.77978,     0.78078,     0.78178,     0.78278,     0.78378,     0.78478,     0.78579,     0.78679,     0.78779,     0.78879,     0.78979,     0.79079,     0.79179,\n",
              "           0.79279,     0.79379,     0.79479,      0.7958,      0.7968,      0.7978,      0.7988,      0.7998,      0.8008,      0.8018,      0.8028,      0.8038,      0.8048,     0.80581,     0.80681,     0.80781,     0.80881,     0.80981,     0.81081,     0.81181,     0.81281,     0.81381,     0.81481,     0.81582,\n",
              "           0.81682,     0.81782,     0.81882,     0.81982,     0.82082,     0.82182,     0.82282,     0.82382,     0.82482,     0.82583,     0.82683,     0.82783,     0.82883,     0.82983,     0.83083,     0.83183,     0.83283,     0.83383,     0.83483,     0.83584,     0.83684,     0.83784,     0.83884,     0.83984,\n",
              "           0.84084,     0.84184,     0.84284,     0.84384,     0.84484,     0.84585,     0.84685,     0.84785,     0.84885,     0.84985,     0.85085,     0.85185,     0.85285,     0.85385,     0.85485,     0.85586,     0.85686,     0.85786,     0.85886,     0.85986,     0.86086,     0.86186,     0.86286,     0.86386,\n",
              "           0.86486,     0.86587,     0.86687,     0.86787,     0.86887,     0.86987,     0.87087,     0.87187,     0.87287,     0.87387,     0.87487,     0.87588,     0.87688,     0.87788,     0.87888,     0.87988,     0.88088,     0.88188,     0.88288,     0.88388,     0.88488,     0.88589,     0.88689,     0.88789,\n",
              "           0.88889,     0.88989,     0.89089,     0.89189,     0.89289,     0.89389,     0.89489,      0.8959,      0.8969,      0.8979,      0.8989,      0.8999,      0.9009,      0.9019,      0.9029,      0.9039,      0.9049,     0.90591,     0.90691,     0.90791,     0.90891,     0.90991,     0.91091,     0.91191,\n",
              "           0.91291,     0.91391,     0.91491,     0.91592,     0.91692,     0.91792,     0.91892,     0.91992,     0.92092,     0.92192,     0.92292,     0.92392,     0.92492,     0.92593,     0.92693,     0.92793,     0.92893,     0.92993,     0.93093,     0.93193,     0.93293,     0.93393,     0.93493,     0.93594,\n",
              "           0.93694,     0.93794,     0.93894,     0.93994,     0.94094,     0.94194,     0.94294,     0.94394,     0.94494,     0.94595,     0.94695,     0.94795,     0.94895,     0.94995,     0.95095,     0.95195,     0.95295,     0.95395,     0.95495,     0.95596,     0.95696,     0.95796,     0.95896,     0.95996,\n",
              "           0.96096,     0.96196,     0.96296,     0.96396,     0.96496,     0.96597,     0.96697,     0.96797,     0.96897,     0.96997,     0.97097,     0.97197,     0.97297,     0.97397,     0.97497,     0.97598,     0.97698,     0.97798,     0.97898,     0.97998,     0.98098,     0.98198,     0.98298,     0.98398,\n",
              "           0.98498,     0.98599,     0.98699,     0.98799,     0.98899,     0.98999,     0.99099,     0.99199,     0.99299,     0.99399,     0.99499,       0.996,       0.997,       0.998,       0.999,           1]), array([[          1,           1,           1, ...,    0.017085,   0.0085424,           0],\n",
              "       [          1,           1,           1, ...,  0.00091769,  0.00045884,           0],\n",
              "       [          1,           1,           1, ...,   0.0019041,  0.00095204,           0]]), 'Recall', 'Precision'], [array([          0,    0.001001,    0.002002,    0.003003,    0.004004,    0.005005,    0.006006,    0.007007,    0.008008,    0.009009,     0.01001,    0.011011,    0.012012,    0.013013,    0.014014,    0.015015,    0.016016,    0.017017,    0.018018,    0.019019,     0.02002,    0.021021,    0.022022,    0.023023,\n",
              "          0.024024,    0.025025,    0.026026,    0.027027,    0.028028,    0.029029,     0.03003,    0.031031,    0.032032,    0.033033,    0.034034,    0.035035,    0.036036,    0.037037,    0.038038,    0.039039,     0.04004,    0.041041,    0.042042,    0.043043,    0.044044,    0.045045,    0.046046,    0.047047,\n",
              "          0.048048,    0.049049,     0.05005,    0.051051,    0.052052,    0.053053,    0.054054,    0.055055,    0.056056,    0.057057,    0.058058,    0.059059,     0.06006,    0.061061,    0.062062,    0.063063,    0.064064,    0.065065,    0.066066,    0.067067,    0.068068,    0.069069,     0.07007,    0.071071,\n",
              "          0.072072,    0.073073,    0.074074,    0.075075,    0.076076,    0.077077,    0.078078,    0.079079,     0.08008,    0.081081,    0.082082,    0.083083,    0.084084,    0.085085,    0.086086,    0.087087,    0.088088,    0.089089,     0.09009,    0.091091,    0.092092,    0.093093,    0.094094,    0.095095,\n",
              "          0.096096,    0.097097,    0.098098,    0.099099,      0.1001,      0.1011,      0.1021,      0.1031,      0.1041,     0.10511,     0.10611,     0.10711,     0.10811,     0.10911,     0.11011,     0.11111,     0.11211,     0.11311,     0.11411,     0.11512,     0.11612,     0.11712,     0.11812,     0.11912,\n",
              "           0.12012,     0.12112,     0.12212,     0.12312,     0.12412,     0.12513,     0.12613,     0.12713,     0.12813,     0.12913,     0.13013,     0.13113,     0.13213,     0.13313,     0.13413,     0.13514,     0.13614,     0.13714,     0.13814,     0.13914,     0.14014,     0.14114,     0.14214,     0.14314,\n",
              "           0.14414,     0.14515,     0.14615,     0.14715,     0.14815,     0.14915,     0.15015,     0.15115,     0.15215,     0.15315,     0.15415,     0.15516,     0.15616,     0.15716,     0.15816,     0.15916,     0.16016,     0.16116,     0.16216,     0.16316,     0.16416,     0.16517,     0.16617,     0.16717,\n",
              "           0.16817,     0.16917,     0.17017,     0.17117,     0.17217,     0.17317,     0.17417,     0.17518,     0.17618,     0.17718,     0.17818,     0.17918,     0.18018,     0.18118,     0.18218,     0.18318,     0.18418,     0.18519,     0.18619,     0.18719,     0.18819,     0.18919,     0.19019,     0.19119,\n",
              "           0.19219,     0.19319,     0.19419,      0.1952,      0.1962,      0.1972,      0.1982,      0.1992,      0.2002,      0.2012,      0.2022,      0.2032,      0.2042,     0.20521,     0.20621,     0.20721,     0.20821,     0.20921,     0.21021,     0.21121,     0.21221,     0.21321,     0.21421,     0.21522,\n",
              "           0.21622,     0.21722,     0.21822,     0.21922,     0.22022,     0.22122,     0.22222,     0.22322,     0.22422,     0.22523,     0.22623,     0.22723,     0.22823,     0.22923,     0.23023,     0.23123,     0.23223,     0.23323,     0.23423,     0.23524,     0.23624,     0.23724,     0.23824,     0.23924,\n",
              "           0.24024,     0.24124,     0.24224,     0.24324,     0.24424,     0.24525,     0.24625,     0.24725,     0.24825,     0.24925,     0.25025,     0.25125,     0.25225,     0.25325,     0.25425,     0.25526,     0.25626,     0.25726,     0.25826,     0.25926,     0.26026,     0.26126,     0.26226,     0.26326,\n",
              "           0.26426,     0.26527,     0.26627,     0.26727,     0.26827,     0.26927,     0.27027,     0.27127,     0.27227,     0.27327,     0.27427,     0.27528,     0.27628,     0.27728,     0.27828,     0.27928,     0.28028,     0.28128,     0.28228,     0.28328,     0.28428,     0.28529,     0.28629,     0.28729,\n",
              "           0.28829,     0.28929,     0.29029,     0.29129,     0.29229,     0.29329,     0.29429,      0.2953,      0.2963,      0.2973,      0.2983,      0.2993,      0.3003,      0.3013,      0.3023,      0.3033,      0.3043,     0.30531,     0.30631,     0.30731,     0.30831,     0.30931,     0.31031,     0.31131,\n",
              "           0.31231,     0.31331,     0.31431,     0.31532,     0.31632,     0.31732,     0.31832,     0.31932,     0.32032,     0.32132,     0.32232,     0.32332,     0.32432,     0.32533,     0.32633,     0.32733,     0.32833,     0.32933,     0.33033,     0.33133,     0.33233,     0.33333,     0.33433,     0.33534,\n",
              "           0.33634,     0.33734,     0.33834,     0.33934,     0.34034,     0.34134,     0.34234,     0.34334,     0.34434,     0.34535,     0.34635,     0.34735,     0.34835,     0.34935,     0.35035,     0.35135,     0.35235,     0.35335,     0.35435,     0.35536,     0.35636,     0.35736,     0.35836,     0.35936,\n",
              "           0.36036,     0.36136,     0.36236,     0.36336,     0.36436,     0.36537,     0.36637,     0.36737,     0.36837,     0.36937,     0.37037,     0.37137,     0.37237,     0.37337,     0.37437,     0.37538,     0.37638,     0.37738,     0.37838,     0.37938,     0.38038,     0.38138,     0.38238,     0.38338,\n",
              "           0.38438,     0.38539,     0.38639,     0.38739,     0.38839,     0.38939,     0.39039,     0.39139,     0.39239,     0.39339,     0.39439,      0.3954,      0.3964,      0.3974,      0.3984,      0.3994,      0.4004,      0.4014,      0.4024,      0.4034,      0.4044,     0.40541,     0.40641,     0.40741,\n",
              "           0.40841,     0.40941,     0.41041,     0.41141,     0.41241,     0.41341,     0.41441,     0.41542,     0.41642,     0.41742,     0.41842,     0.41942,     0.42042,     0.42142,     0.42242,     0.42342,     0.42442,     0.42543,     0.42643,     0.42743,     0.42843,     0.42943,     0.43043,     0.43143,\n",
              "           0.43243,     0.43343,     0.43443,     0.43544,     0.43644,     0.43744,     0.43844,     0.43944,     0.44044,     0.44144,     0.44244,     0.44344,     0.44444,     0.44545,     0.44645,     0.44745,     0.44845,     0.44945,     0.45045,     0.45145,     0.45245,     0.45345,     0.45445,     0.45546,\n",
              "           0.45646,     0.45746,     0.45846,     0.45946,     0.46046,     0.46146,     0.46246,     0.46346,     0.46446,     0.46547,     0.46647,     0.46747,     0.46847,     0.46947,     0.47047,     0.47147,     0.47247,     0.47347,     0.47447,     0.47548,     0.47648,     0.47748,     0.47848,     0.47948,\n",
              "           0.48048,     0.48148,     0.48248,     0.48348,     0.48448,     0.48549,     0.48649,     0.48749,     0.48849,     0.48949,     0.49049,     0.49149,     0.49249,     0.49349,     0.49449,      0.4955,      0.4965,      0.4975,      0.4985,      0.4995,      0.5005,      0.5015,      0.5025,      0.5035,\n",
              "            0.5045,     0.50551,     0.50651,     0.50751,     0.50851,     0.50951,     0.51051,     0.51151,     0.51251,     0.51351,     0.51451,     0.51552,     0.51652,     0.51752,     0.51852,     0.51952,     0.52052,     0.52152,     0.52252,     0.52352,     0.52452,     0.52553,     0.52653,     0.52753,\n",
              "           0.52853,     0.52953,     0.53053,     0.53153,     0.53253,     0.53353,     0.53453,     0.53554,     0.53654,     0.53754,     0.53854,     0.53954,     0.54054,     0.54154,     0.54254,     0.54354,     0.54454,     0.54555,     0.54655,     0.54755,     0.54855,     0.54955,     0.55055,     0.55155,\n",
              "           0.55255,     0.55355,     0.55455,     0.55556,     0.55656,     0.55756,     0.55856,     0.55956,     0.56056,     0.56156,     0.56256,     0.56356,     0.56456,     0.56557,     0.56657,     0.56757,     0.56857,     0.56957,     0.57057,     0.57157,     0.57257,     0.57357,     0.57457,     0.57558,\n",
              "           0.57658,     0.57758,     0.57858,     0.57958,     0.58058,     0.58158,     0.58258,     0.58358,     0.58458,     0.58559,     0.58659,     0.58759,     0.58859,     0.58959,     0.59059,     0.59159,     0.59259,     0.59359,     0.59459,      0.5956,      0.5966,      0.5976,      0.5986,      0.5996,\n",
              "            0.6006,      0.6016,      0.6026,      0.6036,      0.6046,     0.60561,     0.60661,     0.60761,     0.60861,     0.60961,     0.61061,     0.61161,     0.61261,     0.61361,     0.61461,     0.61562,     0.61662,     0.61762,     0.61862,     0.61962,     0.62062,     0.62162,     0.62262,     0.62362,\n",
              "           0.62462,     0.62563,     0.62663,     0.62763,     0.62863,     0.62963,     0.63063,     0.63163,     0.63263,     0.63363,     0.63463,     0.63564,     0.63664,     0.63764,     0.63864,     0.63964,     0.64064,     0.64164,     0.64264,     0.64364,     0.64464,     0.64565,     0.64665,     0.64765,\n",
              "           0.64865,     0.64965,     0.65065,     0.65165,     0.65265,     0.65365,     0.65465,     0.65566,     0.65666,     0.65766,     0.65866,     0.65966,     0.66066,     0.66166,     0.66266,     0.66366,     0.66466,     0.66567,     0.66667,     0.66767,     0.66867,     0.66967,     0.67067,     0.67167,\n",
              "           0.67267,     0.67367,     0.67467,     0.67568,     0.67668,     0.67768,     0.67868,     0.67968,     0.68068,     0.68168,     0.68268,     0.68368,     0.68468,     0.68569,     0.68669,     0.68769,     0.68869,     0.68969,     0.69069,     0.69169,     0.69269,     0.69369,     0.69469,      0.6957,\n",
              "            0.6967,      0.6977,      0.6987,      0.6997,      0.7007,      0.7017,      0.7027,      0.7037,      0.7047,     0.70571,     0.70671,     0.70771,     0.70871,     0.70971,     0.71071,     0.71171,     0.71271,     0.71371,     0.71471,     0.71572,     0.71672,     0.71772,     0.71872,     0.71972,\n",
              "           0.72072,     0.72172,     0.72272,     0.72372,     0.72472,     0.72573,     0.72673,     0.72773,     0.72873,     0.72973,     0.73073,     0.73173,     0.73273,     0.73373,     0.73473,     0.73574,     0.73674,     0.73774,     0.73874,     0.73974,     0.74074,     0.74174,     0.74274,     0.74374,\n",
              "           0.74474,     0.74575,     0.74675,     0.74775,     0.74875,     0.74975,     0.75075,     0.75175,     0.75275,     0.75375,     0.75475,     0.75576,     0.75676,     0.75776,     0.75876,     0.75976,     0.76076,     0.76176,     0.76276,     0.76376,     0.76476,     0.76577,     0.76677,     0.76777,\n",
              "           0.76877,     0.76977,     0.77077,     0.77177,     0.77277,     0.77377,     0.77477,     0.77578,     0.77678,     0.77778,     0.77878,     0.77978,     0.78078,     0.78178,     0.78278,     0.78378,     0.78478,     0.78579,     0.78679,     0.78779,     0.78879,     0.78979,     0.79079,     0.79179,\n",
              "           0.79279,     0.79379,     0.79479,      0.7958,      0.7968,      0.7978,      0.7988,      0.7998,      0.8008,      0.8018,      0.8028,      0.8038,      0.8048,     0.80581,     0.80681,     0.80781,     0.80881,     0.80981,     0.81081,     0.81181,     0.81281,     0.81381,     0.81481,     0.81582,\n",
              "           0.81682,     0.81782,     0.81882,     0.81982,     0.82082,     0.82182,     0.82282,     0.82382,     0.82482,     0.82583,     0.82683,     0.82783,     0.82883,     0.82983,     0.83083,     0.83183,     0.83283,     0.83383,     0.83483,     0.83584,     0.83684,     0.83784,     0.83884,     0.83984,\n",
              "           0.84084,     0.84184,     0.84284,     0.84384,     0.84484,     0.84585,     0.84685,     0.84785,     0.84885,     0.84985,     0.85085,     0.85185,     0.85285,     0.85385,     0.85485,     0.85586,     0.85686,     0.85786,     0.85886,     0.85986,     0.86086,     0.86186,     0.86286,     0.86386,\n",
              "           0.86486,     0.86587,     0.86687,     0.86787,     0.86887,     0.86987,     0.87087,     0.87187,     0.87287,     0.87387,     0.87487,     0.87588,     0.87688,     0.87788,     0.87888,     0.87988,     0.88088,     0.88188,     0.88288,     0.88388,     0.88488,     0.88589,     0.88689,     0.88789,\n",
              "           0.88889,     0.88989,     0.89089,     0.89189,     0.89289,     0.89389,     0.89489,      0.8959,      0.8969,      0.8979,      0.8989,      0.8999,      0.9009,      0.9019,      0.9029,      0.9039,      0.9049,     0.90591,     0.90691,     0.90791,     0.90891,     0.90991,     0.91091,     0.91191,\n",
              "           0.91291,     0.91391,     0.91491,     0.91592,     0.91692,     0.91792,     0.91892,     0.91992,     0.92092,     0.92192,     0.92292,     0.92392,     0.92492,     0.92593,     0.92693,     0.92793,     0.92893,     0.92993,     0.93093,     0.93193,     0.93293,     0.93393,     0.93493,     0.93594,\n",
              "           0.93694,     0.93794,     0.93894,     0.93994,     0.94094,     0.94194,     0.94294,     0.94394,     0.94494,     0.94595,     0.94695,     0.94795,     0.94895,     0.94995,     0.95095,     0.95195,     0.95295,     0.95395,     0.95495,     0.95596,     0.95696,     0.95796,     0.95896,     0.95996,\n",
              "           0.96096,     0.96196,     0.96296,     0.96396,     0.96496,     0.96597,     0.96697,     0.96797,     0.96897,     0.96997,     0.97097,     0.97197,     0.97297,     0.97397,     0.97497,     0.97598,     0.97698,     0.97798,     0.97898,     0.97998,     0.98098,     0.98198,     0.98298,     0.98398,\n",
              "           0.98498,     0.98599,     0.98699,     0.98799,     0.98899,     0.98999,     0.99099,     0.99199,     0.99299,     0.99399,     0.99499,       0.996,       0.997,       0.998,       0.999,           1]), array([[    0.14389,     0.14389,      0.2179, ...,           0,           0,           0],\n",
              "       [    0.10511,     0.10511,     0.14964, ...,           0,           0,           0],\n",
              "       [   0.086468,    0.086468,     0.13017, ...,           0,           0,           0]]), 'Confidence', 'F1'], [array([          0,    0.001001,    0.002002,    0.003003,    0.004004,    0.005005,    0.006006,    0.007007,    0.008008,    0.009009,     0.01001,    0.011011,    0.012012,    0.013013,    0.014014,    0.015015,    0.016016,    0.017017,    0.018018,    0.019019,     0.02002,    0.021021,    0.022022,    0.023023,\n",
              "          0.024024,    0.025025,    0.026026,    0.027027,    0.028028,    0.029029,     0.03003,    0.031031,    0.032032,    0.033033,    0.034034,    0.035035,    0.036036,    0.037037,    0.038038,    0.039039,     0.04004,    0.041041,    0.042042,    0.043043,    0.044044,    0.045045,    0.046046,    0.047047,\n",
              "          0.048048,    0.049049,     0.05005,    0.051051,    0.052052,    0.053053,    0.054054,    0.055055,    0.056056,    0.057057,    0.058058,    0.059059,     0.06006,    0.061061,    0.062062,    0.063063,    0.064064,    0.065065,    0.066066,    0.067067,    0.068068,    0.069069,     0.07007,    0.071071,\n",
              "          0.072072,    0.073073,    0.074074,    0.075075,    0.076076,    0.077077,    0.078078,    0.079079,     0.08008,    0.081081,    0.082082,    0.083083,    0.084084,    0.085085,    0.086086,    0.087087,    0.088088,    0.089089,     0.09009,    0.091091,    0.092092,    0.093093,    0.094094,    0.095095,\n",
              "          0.096096,    0.097097,    0.098098,    0.099099,      0.1001,      0.1011,      0.1021,      0.1031,      0.1041,     0.10511,     0.10611,     0.10711,     0.10811,     0.10911,     0.11011,     0.11111,     0.11211,     0.11311,     0.11411,     0.11512,     0.11612,     0.11712,     0.11812,     0.11912,\n",
              "           0.12012,     0.12112,     0.12212,     0.12312,     0.12412,     0.12513,     0.12613,     0.12713,     0.12813,     0.12913,     0.13013,     0.13113,     0.13213,     0.13313,     0.13413,     0.13514,     0.13614,     0.13714,     0.13814,     0.13914,     0.14014,     0.14114,     0.14214,     0.14314,\n",
              "           0.14414,     0.14515,     0.14615,     0.14715,     0.14815,     0.14915,     0.15015,     0.15115,     0.15215,     0.15315,     0.15415,     0.15516,     0.15616,     0.15716,     0.15816,     0.15916,     0.16016,     0.16116,     0.16216,     0.16316,     0.16416,     0.16517,     0.16617,     0.16717,\n",
              "           0.16817,     0.16917,     0.17017,     0.17117,     0.17217,     0.17317,     0.17417,     0.17518,     0.17618,     0.17718,     0.17818,     0.17918,     0.18018,     0.18118,     0.18218,     0.18318,     0.18418,     0.18519,     0.18619,     0.18719,     0.18819,     0.18919,     0.19019,     0.19119,\n",
              "           0.19219,     0.19319,     0.19419,      0.1952,      0.1962,      0.1972,      0.1982,      0.1992,      0.2002,      0.2012,      0.2022,      0.2032,      0.2042,     0.20521,     0.20621,     0.20721,     0.20821,     0.20921,     0.21021,     0.21121,     0.21221,     0.21321,     0.21421,     0.21522,\n",
              "           0.21622,     0.21722,     0.21822,     0.21922,     0.22022,     0.22122,     0.22222,     0.22322,     0.22422,     0.22523,     0.22623,     0.22723,     0.22823,     0.22923,     0.23023,     0.23123,     0.23223,     0.23323,     0.23423,     0.23524,     0.23624,     0.23724,     0.23824,     0.23924,\n",
              "           0.24024,     0.24124,     0.24224,     0.24324,     0.24424,     0.24525,     0.24625,     0.24725,     0.24825,     0.24925,     0.25025,     0.25125,     0.25225,     0.25325,     0.25425,     0.25526,     0.25626,     0.25726,     0.25826,     0.25926,     0.26026,     0.26126,     0.26226,     0.26326,\n",
              "           0.26426,     0.26527,     0.26627,     0.26727,     0.26827,     0.26927,     0.27027,     0.27127,     0.27227,     0.27327,     0.27427,     0.27528,     0.27628,     0.27728,     0.27828,     0.27928,     0.28028,     0.28128,     0.28228,     0.28328,     0.28428,     0.28529,     0.28629,     0.28729,\n",
              "           0.28829,     0.28929,     0.29029,     0.29129,     0.29229,     0.29329,     0.29429,      0.2953,      0.2963,      0.2973,      0.2983,      0.2993,      0.3003,      0.3013,      0.3023,      0.3033,      0.3043,     0.30531,     0.30631,     0.30731,     0.30831,     0.30931,     0.31031,     0.31131,\n",
              "           0.31231,     0.31331,     0.31431,     0.31532,     0.31632,     0.31732,     0.31832,     0.31932,     0.32032,     0.32132,     0.32232,     0.32332,     0.32432,     0.32533,     0.32633,     0.32733,     0.32833,     0.32933,     0.33033,     0.33133,     0.33233,     0.33333,     0.33433,     0.33534,\n",
              "           0.33634,     0.33734,     0.33834,     0.33934,     0.34034,     0.34134,     0.34234,     0.34334,     0.34434,     0.34535,     0.34635,     0.34735,     0.34835,     0.34935,     0.35035,     0.35135,     0.35235,     0.35335,     0.35435,     0.35536,     0.35636,     0.35736,     0.35836,     0.35936,\n",
              "           0.36036,     0.36136,     0.36236,     0.36336,     0.36436,     0.36537,     0.36637,     0.36737,     0.36837,     0.36937,     0.37037,     0.37137,     0.37237,     0.37337,     0.37437,     0.37538,     0.37638,     0.37738,     0.37838,     0.37938,     0.38038,     0.38138,     0.38238,     0.38338,\n",
              "           0.38438,     0.38539,     0.38639,     0.38739,     0.38839,     0.38939,     0.39039,     0.39139,     0.39239,     0.39339,     0.39439,      0.3954,      0.3964,      0.3974,      0.3984,      0.3994,      0.4004,      0.4014,      0.4024,      0.4034,      0.4044,     0.40541,     0.40641,     0.40741,\n",
              "           0.40841,     0.40941,     0.41041,     0.41141,     0.41241,     0.41341,     0.41441,     0.41542,     0.41642,     0.41742,     0.41842,     0.41942,     0.42042,     0.42142,     0.42242,     0.42342,     0.42442,     0.42543,     0.42643,     0.42743,     0.42843,     0.42943,     0.43043,     0.43143,\n",
              "           0.43243,     0.43343,     0.43443,     0.43544,     0.43644,     0.43744,     0.43844,     0.43944,     0.44044,     0.44144,     0.44244,     0.44344,     0.44444,     0.44545,     0.44645,     0.44745,     0.44845,     0.44945,     0.45045,     0.45145,     0.45245,     0.45345,     0.45445,     0.45546,\n",
              "           0.45646,     0.45746,     0.45846,     0.45946,     0.46046,     0.46146,     0.46246,     0.46346,     0.46446,     0.46547,     0.46647,     0.46747,     0.46847,     0.46947,     0.47047,     0.47147,     0.47247,     0.47347,     0.47447,     0.47548,     0.47648,     0.47748,     0.47848,     0.47948,\n",
              "           0.48048,     0.48148,     0.48248,     0.48348,     0.48448,     0.48549,     0.48649,     0.48749,     0.48849,     0.48949,     0.49049,     0.49149,     0.49249,     0.49349,     0.49449,      0.4955,      0.4965,      0.4975,      0.4985,      0.4995,      0.5005,      0.5015,      0.5025,      0.5035,\n",
              "            0.5045,     0.50551,     0.50651,     0.50751,     0.50851,     0.50951,     0.51051,     0.51151,     0.51251,     0.51351,     0.51451,     0.51552,     0.51652,     0.51752,     0.51852,     0.51952,     0.52052,     0.52152,     0.52252,     0.52352,     0.52452,     0.52553,     0.52653,     0.52753,\n",
              "           0.52853,     0.52953,     0.53053,     0.53153,     0.53253,     0.53353,     0.53453,     0.53554,     0.53654,     0.53754,     0.53854,     0.53954,     0.54054,     0.54154,     0.54254,     0.54354,     0.54454,     0.54555,     0.54655,     0.54755,     0.54855,     0.54955,     0.55055,     0.55155,\n",
              "           0.55255,     0.55355,     0.55455,     0.55556,     0.55656,     0.55756,     0.55856,     0.55956,     0.56056,     0.56156,     0.56256,     0.56356,     0.56456,     0.56557,     0.56657,     0.56757,     0.56857,     0.56957,     0.57057,     0.57157,     0.57257,     0.57357,     0.57457,     0.57558,\n",
              "           0.57658,     0.57758,     0.57858,     0.57958,     0.58058,     0.58158,     0.58258,     0.58358,     0.58458,     0.58559,     0.58659,     0.58759,     0.58859,     0.58959,     0.59059,     0.59159,     0.59259,     0.59359,     0.59459,      0.5956,      0.5966,      0.5976,      0.5986,      0.5996,\n",
              "            0.6006,      0.6016,      0.6026,      0.6036,      0.6046,     0.60561,     0.60661,     0.60761,     0.60861,     0.60961,     0.61061,     0.61161,     0.61261,     0.61361,     0.61461,     0.61562,     0.61662,     0.61762,     0.61862,     0.61962,     0.62062,     0.62162,     0.62262,     0.62362,\n",
              "           0.62462,     0.62563,     0.62663,     0.62763,     0.62863,     0.62963,     0.63063,     0.63163,     0.63263,     0.63363,     0.63463,     0.63564,     0.63664,     0.63764,     0.63864,     0.63964,     0.64064,     0.64164,     0.64264,     0.64364,     0.64464,     0.64565,     0.64665,     0.64765,\n",
              "           0.64865,     0.64965,     0.65065,     0.65165,     0.65265,     0.65365,     0.65465,     0.65566,     0.65666,     0.65766,     0.65866,     0.65966,     0.66066,     0.66166,     0.66266,     0.66366,     0.66466,     0.66567,     0.66667,     0.66767,     0.66867,     0.66967,     0.67067,     0.67167,\n",
              "           0.67267,     0.67367,     0.67467,     0.67568,     0.67668,     0.67768,     0.67868,     0.67968,     0.68068,     0.68168,     0.68268,     0.68368,     0.68468,     0.68569,     0.68669,     0.68769,     0.68869,     0.68969,     0.69069,     0.69169,     0.69269,     0.69369,     0.69469,      0.6957,\n",
              "            0.6967,      0.6977,      0.6987,      0.6997,      0.7007,      0.7017,      0.7027,      0.7037,      0.7047,     0.70571,     0.70671,     0.70771,     0.70871,     0.70971,     0.71071,     0.71171,     0.71271,     0.71371,     0.71471,     0.71572,     0.71672,     0.71772,     0.71872,     0.71972,\n",
              "           0.72072,     0.72172,     0.72272,     0.72372,     0.72472,     0.72573,     0.72673,     0.72773,     0.72873,     0.72973,     0.73073,     0.73173,     0.73273,     0.73373,     0.73473,     0.73574,     0.73674,     0.73774,     0.73874,     0.73974,     0.74074,     0.74174,     0.74274,     0.74374,\n",
              "           0.74474,     0.74575,     0.74675,     0.74775,     0.74875,     0.74975,     0.75075,     0.75175,     0.75275,     0.75375,     0.75475,     0.75576,     0.75676,     0.75776,     0.75876,     0.75976,     0.76076,     0.76176,     0.76276,     0.76376,     0.76476,     0.76577,     0.76677,     0.76777,\n",
              "           0.76877,     0.76977,     0.77077,     0.77177,     0.77277,     0.77377,     0.77477,     0.77578,     0.77678,     0.77778,     0.77878,     0.77978,     0.78078,     0.78178,     0.78278,     0.78378,     0.78478,     0.78579,     0.78679,     0.78779,     0.78879,     0.78979,     0.79079,     0.79179,\n",
              "           0.79279,     0.79379,     0.79479,      0.7958,      0.7968,      0.7978,      0.7988,      0.7998,      0.8008,      0.8018,      0.8028,      0.8038,      0.8048,     0.80581,     0.80681,     0.80781,     0.80881,     0.80981,     0.81081,     0.81181,     0.81281,     0.81381,     0.81481,     0.81582,\n",
              "           0.81682,     0.81782,     0.81882,     0.81982,     0.82082,     0.82182,     0.82282,     0.82382,     0.82482,     0.82583,     0.82683,     0.82783,     0.82883,     0.82983,     0.83083,     0.83183,     0.83283,     0.83383,     0.83483,     0.83584,     0.83684,     0.83784,     0.83884,     0.83984,\n",
              "           0.84084,     0.84184,     0.84284,     0.84384,     0.84484,     0.84585,     0.84685,     0.84785,     0.84885,     0.84985,     0.85085,     0.85185,     0.85285,     0.85385,     0.85485,     0.85586,     0.85686,     0.85786,     0.85886,     0.85986,     0.86086,     0.86186,     0.86286,     0.86386,\n",
              "           0.86486,     0.86587,     0.86687,     0.86787,     0.86887,     0.86987,     0.87087,     0.87187,     0.87287,     0.87387,     0.87487,     0.87588,     0.87688,     0.87788,     0.87888,     0.87988,     0.88088,     0.88188,     0.88288,     0.88388,     0.88488,     0.88589,     0.88689,     0.88789,\n",
              "           0.88889,     0.88989,     0.89089,     0.89189,     0.89289,     0.89389,     0.89489,      0.8959,      0.8969,      0.8979,      0.8989,      0.8999,      0.9009,      0.9019,      0.9029,      0.9039,      0.9049,     0.90591,     0.90691,     0.90791,     0.90891,     0.90991,     0.91091,     0.91191,\n",
              "           0.91291,     0.91391,     0.91491,     0.91592,     0.91692,     0.91792,     0.91892,     0.91992,     0.92092,     0.92192,     0.92292,     0.92392,     0.92492,     0.92593,     0.92693,     0.92793,     0.92893,     0.92993,     0.93093,     0.93193,     0.93293,     0.93393,     0.93493,     0.93594,\n",
              "           0.93694,     0.93794,     0.93894,     0.93994,     0.94094,     0.94194,     0.94294,     0.94394,     0.94494,     0.94595,     0.94695,     0.94795,     0.94895,     0.94995,     0.95095,     0.95195,     0.95295,     0.95395,     0.95495,     0.95596,     0.95696,     0.95796,     0.95896,     0.95996,\n",
              "           0.96096,     0.96196,     0.96296,     0.96396,     0.96496,     0.96597,     0.96697,     0.96797,     0.96897,     0.96997,     0.97097,     0.97197,     0.97297,     0.97397,     0.97497,     0.97598,     0.97698,     0.97798,     0.97898,     0.97998,     0.98098,     0.98198,     0.98298,     0.98398,\n",
              "           0.98498,     0.98599,     0.98699,     0.98799,     0.98899,     0.98999,     0.99099,     0.99199,     0.99299,     0.99399,     0.99499,       0.996,       0.997,       0.998,       0.999,           1]), array([[    0.07758,     0.07758,     0.12269, ...,           1,           1,           1],\n",
              "       [   0.055901,    0.055901,    0.081861, ...,           1,           1,           1],\n",
              "       [    0.04529,     0.04529,    0.069911, ...,           1,           1,           1]]), 'Confidence', 'Precision'], [array([          0,    0.001001,    0.002002,    0.003003,    0.004004,    0.005005,    0.006006,    0.007007,    0.008008,    0.009009,     0.01001,    0.011011,    0.012012,    0.013013,    0.014014,    0.015015,    0.016016,    0.017017,    0.018018,    0.019019,     0.02002,    0.021021,    0.022022,    0.023023,\n",
              "          0.024024,    0.025025,    0.026026,    0.027027,    0.028028,    0.029029,     0.03003,    0.031031,    0.032032,    0.033033,    0.034034,    0.035035,    0.036036,    0.037037,    0.038038,    0.039039,     0.04004,    0.041041,    0.042042,    0.043043,    0.044044,    0.045045,    0.046046,    0.047047,\n",
              "          0.048048,    0.049049,     0.05005,    0.051051,    0.052052,    0.053053,    0.054054,    0.055055,    0.056056,    0.057057,    0.058058,    0.059059,     0.06006,    0.061061,    0.062062,    0.063063,    0.064064,    0.065065,    0.066066,    0.067067,    0.068068,    0.069069,     0.07007,    0.071071,\n",
              "          0.072072,    0.073073,    0.074074,    0.075075,    0.076076,    0.077077,    0.078078,    0.079079,     0.08008,    0.081081,    0.082082,    0.083083,    0.084084,    0.085085,    0.086086,    0.087087,    0.088088,    0.089089,     0.09009,    0.091091,    0.092092,    0.093093,    0.094094,    0.095095,\n",
              "          0.096096,    0.097097,    0.098098,    0.099099,      0.1001,      0.1011,      0.1021,      0.1031,      0.1041,     0.10511,     0.10611,     0.10711,     0.10811,     0.10911,     0.11011,     0.11111,     0.11211,     0.11311,     0.11411,     0.11512,     0.11612,     0.11712,     0.11812,     0.11912,\n",
              "           0.12012,     0.12112,     0.12212,     0.12312,     0.12412,     0.12513,     0.12613,     0.12713,     0.12813,     0.12913,     0.13013,     0.13113,     0.13213,     0.13313,     0.13413,     0.13514,     0.13614,     0.13714,     0.13814,     0.13914,     0.14014,     0.14114,     0.14214,     0.14314,\n",
              "           0.14414,     0.14515,     0.14615,     0.14715,     0.14815,     0.14915,     0.15015,     0.15115,     0.15215,     0.15315,     0.15415,     0.15516,     0.15616,     0.15716,     0.15816,     0.15916,     0.16016,     0.16116,     0.16216,     0.16316,     0.16416,     0.16517,     0.16617,     0.16717,\n",
              "           0.16817,     0.16917,     0.17017,     0.17117,     0.17217,     0.17317,     0.17417,     0.17518,     0.17618,     0.17718,     0.17818,     0.17918,     0.18018,     0.18118,     0.18218,     0.18318,     0.18418,     0.18519,     0.18619,     0.18719,     0.18819,     0.18919,     0.19019,     0.19119,\n",
              "           0.19219,     0.19319,     0.19419,      0.1952,      0.1962,      0.1972,      0.1982,      0.1992,      0.2002,      0.2012,      0.2022,      0.2032,      0.2042,     0.20521,     0.20621,     0.20721,     0.20821,     0.20921,     0.21021,     0.21121,     0.21221,     0.21321,     0.21421,     0.21522,\n",
              "           0.21622,     0.21722,     0.21822,     0.21922,     0.22022,     0.22122,     0.22222,     0.22322,     0.22422,     0.22523,     0.22623,     0.22723,     0.22823,     0.22923,     0.23023,     0.23123,     0.23223,     0.23323,     0.23423,     0.23524,     0.23624,     0.23724,     0.23824,     0.23924,\n",
              "           0.24024,     0.24124,     0.24224,     0.24324,     0.24424,     0.24525,     0.24625,     0.24725,     0.24825,     0.24925,     0.25025,     0.25125,     0.25225,     0.25325,     0.25425,     0.25526,     0.25626,     0.25726,     0.25826,     0.25926,     0.26026,     0.26126,     0.26226,     0.26326,\n",
              "           0.26426,     0.26527,     0.26627,     0.26727,     0.26827,     0.26927,     0.27027,     0.27127,     0.27227,     0.27327,     0.27427,     0.27528,     0.27628,     0.27728,     0.27828,     0.27928,     0.28028,     0.28128,     0.28228,     0.28328,     0.28428,     0.28529,     0.28629,     0.28729,\n",
              "           0.28829,     0.28929,     0.29029,     0.29129,     0.29229,     0.29329,     0.29429,      0.2953,      0.2963,      0.2973,      0.2983,      0.2993,      0.3003,      0.3013,      0.3023,      0.3033,      0.3043,     0.30531,     0.30631,     0.30731,     0.30831,     0.30931,     0.31031,     0.31131,\n",
              "           0.31231,     0.31331,     0.31431,     0.31532,     0.31632,     0.31732,     0.31832,     0.31932,     0.32032,     0.32132,     0.32232,     0.32332,     0.32432,     0.32533,     0.32633,     0.32733,     0.32833,     0.32933,     0.33033,     0.33133,     0.33233,     0.33333,     0.33433,     0.33534,\n",
              "           0.33634,     0.33734,     0.33834,     0.33934,     0.34034,     0.34134,     0.34234,     0.34334,     0.34434,     0.34535,     0.34635,     0.34735,     0.34835,     0.34935,     0.35035,     0.35135,     0.35235,     0.35335,     0.35435,     0.35536,     0.35636,     0.35736,     0.35836,     0.35936,\n",
              "           0.36036,     0.36136,     0.36236,     0.36336,     0.36436,     0.36537,     0.36637,     0.36737,     0.36837,     0.36937,     0.37037,     0.37137,     0.37237,     0.37337,     0.37437,     0.37538,     0.37638,     0.37738,     0.37838,     0.37938,     0.38038,     0.38138,     0.38238,     0.38338,\n",
              "           0.38438,     0.38539,     0.38639,     0.38739,     0.38839,     0.38939,     0.39039,     0.39139,     0.39239,     0.39339,     0.39439,      0.3954,      0.3964,      0.3974,      0.3984,      0.3994,      0.4004,      0.4014,      0.4024,      0.4034,      0.4044,     0.40541,     0.40641,     0.40741,\n",
              "           0.40841,     0.40941,     0.41041,     0.41141,     0.41241,     0.41341,     0.41441,     0.41542,     0.41642,     0.41742,     0.41842,     0.41942,     0.42042,     0.42142,     0.42242,     0.42342,     0.42442,     0.42543,     0.42643,     0.42743,     0.42843,     0.42943,     0.43043,     0.43143,\n",
              "           0.43243,     0.43343,     0.43443,     0.43544,     0.43644,     0.43744,     0.43844,     0.43944,     0.44044,     0.44144,     0.44244,     0.44344,     0.44444,     0.44545,     0.44645,     0.44745,     0.44845,     0.44945,     0.45045,     0.45145,     0.45245,     0.45345,     0.45445,     0.45546,\n",
              "           0.45646,     0.45746,     0.45846,     0.45946,     0.46046,     0.46146,     0.46246,     0.46346,     0.46446,     0.46547,     0.46647,     0.46747,     0.46847,     0.46947,     0.47047,     0.47147,     0.47247,     0.47347,     0.47447,     0.47548,     0.47648,     0.47748,     0.47848,     0.47948,\n",
              "           0.48048,     0.48148,     0.48248,     0.48348,     0.48448,     0.48549,     0.48649,     0.48749,     0.48849,     0.48949,     0.49049,     0.49149,     0.49249,     0.49349,     0.49449,      0.4955,      0.4965,      0.4975,      0.4985,      0.4995,      0.5005,      0.5015,      0.5025,      0.5035,\n",
              "            0.5045,     0.50551,     0.50651,     0.50751,     0.50851,     0.50951,     0.51051,     0.51151,     0.51251,     0.51351,     0.51451,     0.51552,     0.51652,     0.51752,     0.51852,     0.51952,     0.52052,     0.52152,     0.52252,     0.52352,     0.52452,     0.52553,     0.52653,     0.52753,\n",
              "           0.52853,     0.52953,     0.53053,     0.53153,     0.53253,     0.53353,     0.53453,     0.53554,     0.53654,     0.53754,     0.53854,     0.53954,     0.54054,     0.54154,     0.54254,     0.54354,     0.54454,     0.54555,     0.54655,     0.54755,     0.54855,     0.54955,     0.55055,     0.55155,\n",
              "           0.55255,     0.55355,     0.55455,     0.55556,     0.55656,     0.55756,     0.55856,     0.55956,     0.56056,     0.56156,     0.56256,     0.56356,     0.56456,     0.56557,     0.56657,     0.56757,     0.56857,     0.56957,     0.57057,     0.57157,     0.57257,     0.57357,     0.57457,     0.57558,\n",
              "           0.57658,     0.57758,     0.57858,     0.57958,     0.58058,     0.58158,     0.58258,     0.58358,     0.58458,     0.58559,     0.58659,     0.58759,     0.58859,     0.58959,     0.59059,     0.59159,     0.59259,     0.59359,     0.59459,      0.5956,      0.5966,      0.5976,      0.5986,      0.5996,\n",
              "            0.6006,      0.6016,      0.6026,      0.6036,      0.6046,     0.60561,     0.60661,     0.60761,     0.60861,     0.60961,     0.61061,     0.61161,     0.61261,     0.61361,     0.61461,     0.61562,     0.61662,     0.61762,     0.61862,     0.61962,     0.62062,     0.62162,     0.62262,     0.62362,\n",
              "           0.62462,     0.62563,     0.62663,     0.62763,     0.62863,     0.62963,     0.63063,     0.63163,     0.63263,     0.63363,     0.63463,     0.63564,     0.63664,     0.63764,     0.63864,     0.63964,     0.64064,     0.64164,     0.64264,     0.64364,     0.64464,     0.64565,     0.64665,     0.64765,\n",
              "           0.64865,     0.64965,     0.65065,     0.65165,     0.65265,     0.65365,     0.65465,     0.65566,     0.65666,     0.65766,     0.65866,     0.65966,     0.66066,     0.66166,     0.66266,     0.66366,     0.66466,     0.66567,     0.66667,     0.66767,     0.66867,     0.66967,     0.67067,     0.67167,\n",
              "           0.67267,     0.67367,     0.67467,     0.67568,     0.67668,     0.67768,     0.67868,     0.67968,     0.68068,     0.68168,     0.68268,     0.68368,     0.68468,     0.68569,     0.68669,     0.68769,     0.68869,     0.68969,     0.69069,     0.69169,     0.69269,     0.69369,     0.69469,      0.6957,\n",
              "            0.6967,      0.6977,      0.6987,      0.6997,      0.7007,      0.7017,      0.7027,      0.7037,      0.7047,     0.70571,     0.70671,     0.70771,     0.70871,     0.70971,     0.71071,     0.71171,     0.71271,     0.71371,     0.71471,     0.71572,     0.71672,     0.71772,     0.71872,     0.71972,\n",
              "           0.72072,     0.72172,     0.72272,     0.72372,     0.72472,     0.72573,     0.72673,     0.72773,     0.72873,     0.72973,     0.73073,     0.73173,     0.73273,     0.73373,     0.73473,     0.73574,     0.73674,     0.73774,     0.73874,     0.73974,     0.74074,     0.74174,     0.74274,     0.74374,\n",
              "           0.74474,     0.74575,     0.74675,     0.74775,     0.74875,     0.74975,     0.75075,     0.75175,     0.75275,     0.75375,     0.75475,     0.75576,     0.75676,     0.75776,     0.75876,     0.75976,     0.76076,     0.76176,     0.76276,     0.76376,     0.76476,     0.76577,     0.76677,     0.76777,\n",
              "           0.76877,     0.76977,     0.77077,     0.77177,     0.77277,     0.77377,     0.77477,     0.77578,     0.77678,     0.77778,     0.77878,     0.77978,     0.78078,     0.78178,     0.78278,     0.78378,     0.78478,     0.78579,     0.78679,     0.78779,     0.78879,     0.78979,     0.79079,     0.79179,\n",
              "           0.79279,     0.79379,     0.79479,      0.7958,      0.7968,      0.7978,      0.7988,      0.7998,      0.8008,      0.8018,      0.8028,      0.8038,      0.8048,     0.80581,     0.80681,     0.80781,     0.80881,     0.80981,     0.81081,     0.81181,     0.81281,     0.81381,     0.81481,     0.81582,\n",
              "           0.81682,     0.81782,     0.81882,     0.81982,     0.82082,     0.82182,     0.82282,     0.82382,     0.82482,     0.82583,     0.82683,     0.82783,     0.82883,     0.82983,     0.83083,     0.83183,     0.83283,     0.83383,     0.83483,     0.83584,     0.83684,     0.83784,     0.83884,     0.83984,\n",
              "           0.84084,     0.84184,     0.84284,     0.84384,     0.84484,     0.84585,     0.84685,     0.84785,     0.84885,     0.84985,     0.85085,     0.85185,     0.85285,     0.85385,     0.85485,     0.85586,     0.85686,     0.85786,     0.85886,     0.85986,     0.86086,     0.86186,     0.86286,     0.86386,\n",
              "           0.86486,     0.86587,     0.86687,     0.86787,     0.86887,     0.86987,     0.87087,     0.87187,     0.87287,     0.87387,     0.87487,     0.87588,     0.87688,     0.87788,     0.87888,     0.87988,     0.88088,     0.88188,     0.88288,     0.88388,     0.88488,     0.88589,     0.88689,     0.88789,\n",
              "           0.88889,     0.88989,     0.89089,     0.89189,     0.89289,     0.89389,     0.89489,      0.8959,      0.8969,      0.8979,      0.8989,      0.8999,      0.9009,      0.9019,      0.9029,      0.9039,      0.9049,     0.90591,     0.90691,     0.90791,     0.90891,     0.90991,     0.91091,     0.91191,\n",
              "           0.91291,     0.91391,     0.91491,     0.91592,     0.91692,     0.91792,     0.91892,     0.91992,     0.92092,     0.92192,     0.92292,     0.92392,     0.92492,     0.92593,     0.92693,     0.92793,     0.92893,     0.92993,     0.93093,     0.93193,     0.93293,     0.93393,     0.93493,     0.93594,\n",
              "           0.93694,     0.93794,     0.93894,     0.93994,     0.94094,     0.94194,     0.94294,     0.94394,     0.94494,     0.94595,     0.94695,     0.94795,     0.94895,     0.94995,     0.95095,     0.95195,     0.95295,     0.95395,     0.95495,     0.95596,     0.95696,     0.95796,     0.95896,     0.95996,\n",
              "           0.96096,     0.96196,     0.96296,     0.96396,     0.96496,     0.96597,     0.96697,     0.96797,     0.96897,     0.96997,     0.97097,     0.97197,     0.97297,     0.97397,     0.97497,     0.97598,     0.97698,     0.97798,     0.97898,     0.97998,     0.98098,     0.98198,     0.98298,     0.98398,\n",
              "           0.98498,     0.98599,     0.98699,     0.98799,     0.98899,     0.98999,     0.99099,     0.99199,     0.99299,     0.99399,     0.99499,       0.996,       0.997,       0.998,       0.999,           1]), array([[    0.99091,     0.99091,     0.97273, ...,           0,           0,           0],\n",
              "       [    0.87805,     0.87805,     0.86992, ...,           0,           0,           0],\n",
              "       [    0.95238,     0.95238,     0.94286, ...,           0,           0,           0]]), 'Confidence', 'Recall']]\n",
              "fitness: np.float64(0.5396859061098938)\n",
              "keys: ['metrics/precision(B)', 'metrics/recall(B)', 'metrics/mAP50(B)', 'metrics/mAP50-95(B)']\n",
              "maps: array([    0.58316,     0.41073,     0.53742])\n",
              "names: {0: 'raccoon', 1: 'fox', 2: 'owl'}\n",
              "nt_per_class: array([110, 123, 105])\n",
              "nt_per_image: array([100, 100,  96])\n",
              "results_dict: {'metrics/precision(B)': np.float64(0.7991648286301875), 'metrics/recall(B)': np.float64(0.7704195338079419), 'metrics/mAP50(B)': np.float64(0.8029274131474956), 'metrics/mAP50-95(B)': np.float64(0.5104368497723825), 'fitness': np.float64(0.5396859061098938)}\n",
              "save_dir: PosixPath('runs/train/animals_yolo_model')\n",
              "speed: {'preprocess': 0.2729882866697153, 'inference': 41.60209429999668, 'loss': 0.0007628200122174652, 'postprocess': 1.2609353966642327}\n",
              "stats: {'tp': [], 'conf': [], 'pred_cls': [], 'target_cls': [], 'target_img': []}\n",
              "task: 'detect'"
            ]
          },
          "execution_count": 2,
          "metadata": {},
          "output_type": "execute_result"
        }
      ],
      "source": [
        "from ultralytics import YOLO\n",
        "\n",
        "# Загружаем предобученную модель\n",
        "model = YOLO(\"yolo12x.pt\")\n",
        "\n",
        "# Обучаем модель\n",
        "model.train(\n",
        "    data=\"animals/data.yaml\",\n",
        "    epochs=200,\n",
        "    imgsz=640,\n",
        "    batch=8,\n",
        "    name=\"animals_yolo_model\",\n",
        "    project=\"runs/train\",\n",
        ")\n"
      ]
    },
    {
      "cell_type": "markdown",
      "metadata": {
        "id": "8aC0Z7FaMqKO"
      },
      "source": [
        "Результаты и оценка точности модели"
      ]
    },
    {
      "cell_type": "code",
      "execution_count": null,
      "metadata": {
        "colab": {
          "base_uri": "https://localhost:8080/"
        },
        "id": "mnL3fslP1fAR",
        "outputId": "b0978d2f-e802-414d-a483-8c57b19262dc"
      },
      "outputs": [
        {
          "output_type": "stream",
          "name": "stdout",
          "text": [
            "Ultralytics 8.3.162 🚀 Python-3.11.13 torch-2.6.0+cu124 CUDA:0 (Tesla T4, 15095MiB)\n",
            "YOLOv12x summary (fused): 283 layers, 59,046,809 parameters, 0 gradients, 198.5 GFLOPs\n",
            "\u001b[34m\u001b[1mval: \u001b[0mFast image access ✅ (ping: 0.0±0.0 ms, read: 1301.6±426.5 MB/s, size: 40.3 KB)\n"
          ]
        },
        {
          "output_type": "stream",
          "name": "stderr",
          "text": [
            "\u001b[34m\u001b[1mval: \u001b[0mScanning /content/animals/valid/labels.cache... 300 images, 4 backgrounds, 0 corrupt: 100%|██████████| 300/300 [00:00<?, ?it/s]\n",
            "                 Class     Images  Instances      Box(P          R      mAP50  mAP50-95): 100%|██████████| 19/19 [00:32<00:00,  1.71s/it]\n"
          ]
        },
        {
          "output_type": "stream",
          "name": "stdout",
          "text": [
            "                   all        300        338      0.798      0.764      0.802      0.512\n",
            "               raccoon        100        110      0.869      0.843      0.895      0.584\n",
            "                   fox        100        123      0.742       0.65      0.701      0.417\n",
            "                   owl         96        105      0.785        0.8      0.811      0.535\n",
            "Speed: 2.3ms preprocess, 98.6ms inference, 0.0ms loss, 2.0ms postprocess per image\n",
            "Results saved to \u001b[1mruns/detect/val3\u001b[0m\n",
            "Ultralytics 8.3.162 🚀 Python-3.11.13 torch-2.6.0+cu124 CUDA:0 (Tesla T4, 15095MiB)\n",
            "\u001b[34m\u001b[1mval: \u001b[0mFast image access ✅ (ping: 0.0±0.0 ms, read: 1417.5±617.3 MB/s, size: 49.9 KB)\n"
          ]
        },
        {
          "output_type": "stream",
          "name": "stderr",
          "text": [
            "\u001b[34m\u001b[1mval: \u001b[0mScanning /content/animals/test/labels... 300 images, 1 backgrounds, 0 corrupt: 100%|██████████| 300/300 [00:00<00:00, 2427.03it/s]"
          ]
        },
        {
          "output_type": "stream",
          "name": "stdout",
          "text": [
            "\u001b[34m\u001b[1mval: \u001b[0mNew cache created: /content/animals/test/labels.cache\n"
          ]
        },
        {
          "output_type": "stream",
          "name": "stderr",
          "text": [
            "\n",
            "                 Class     Images  Instances      Box(P          R      mAP50  mAP50-95): 100%|██████████| 19/19 [00:29<00:00,  1.54s/it]\n"
          ]
        },
        {
          "output_type": "stream",
          "name": "stdout",
          "text": [
            "                   all        300        358      0.857        0.7        0.8      0.499\n",
            "               raccoon        100        114      0.936      0.868      0.917      0.613\n",
            "                   fox        100        125      0.836      0.572      0.711      0.421\n",
            "                   owl         99        119      0.797      0.659      0.771      0.463\n",
            "Speed: 0.2ms preprocess, 92.3ms inference, 0.0ms loss, 1.3ms postprocess per image\n",
            "Results saved to \u001b[1mruns/detect/val4\u001b[0m\n"
          ]
        }
      ],
      "source": [
        "from ultralytics import YOLO\n",
        "\n",
        "# Загрузка обученной модели\n",
        "model = YOLO(\"best.pt\")\n",
        "\n",
        "# Оценка точности\n",
        "metrics = model.val(data=\"animals/data.yaml\")\n",
        "\n",
        "metrics_t = model.val(data=\"animals/data.yaml\", split=\"test\")"
      ]
    },
    {
      "cell_type": "code",
      "execution_count": null,
      "metadata": {
        "colab": {
          "base_uri": "https://localhost:8080/"
        },
        "id": "18e1b8d1",
        "outputId": "b21cd78a-fd19-4d87-c5a5-c056e81f7ba3"
      },
      "outputs": [
        {
          "output_type": "stream",
          "name": "stdout",
          "text": [
            "Оценка на валидационной выборке\n",
            "\n",
            "Все доступные метрики (по классам):\n",
            "Precision (p): [    0.86886     0.74158     0.78499]\n",
            "Recall (r): [    0.84328     0.65041     0.79971]\n",
            "F1 Score (f1): [    0.85588     0.69301     0.79228]\n",
            "AP50 по классам: [    0.89494     0.70146     0.81097]\n",
            "AP (IoU 0.5–0.95) по классам: [    0.58362     0.41693     0.53541]\n",
            "mAP50 (mean): 0.8024542432694356\n",
            "mAP (mean, IoU 0.5–0.95): 0.5119886914948132\n",
            "\n",
            "Класс: raccoon\n",
            "Ошибка 1 рода : 0.1311\n",
            "Ошибка 2 рода: 0.1567\n",
            "\n",
            "Класс: fox\n",
            "Ошибка 1 рода : 0.2584\n",
            "Ошибка 2 рода: 0.3496\n",
            "\n",
            "Класс: owl\n",
            "Ошибка 1 рода : 0.2150\n",
            "Ошибка 2 рода: 0.2003\n",
            "Оценка на тестовой выборке\n",
            "\n",
            "Все доступные метрики (по классам):\n",
            "Precision (p): [    0.93647     0.83627     0.79677]\n",
            "Recall (r): [    0.86842     0.57209     0.65894]\n",
            "F1 Score (f1): [    0.90116     0.67941     0.72133]\n",
            "AP50 по классам: [    0.91728     0.71143     0.77125]\n",
            "AP (IoU 0.5–0.95) по классам: [    0.61339      0.4208     0.46321]\n",
            "mAP50 (mean): 0.7999836213672085\n",
            "mAP (mean, IoU 0.5–0.95): 0.4991336405381196\n",
            "\n",
            "Класс: raccoon\n",
            "Ошибка 1 рода : 0.0635\n",
            "Ошибка 2 рода: 0.1316\n",
            "\n",
            "Класс: fox\n",
            "Ошибка 1 рода : 0.1637\n",
            "Ошибка 2 рода: 0.4279\n",
            "\n",
            "Класс: owl\n",
            "Ошибка 1 рода : 0.2032\n",
            "Ошибка 2 рода: 0.3411\n"
          ]
        }
      ],
      "source": [
        "# Вывод всех метрик YOLO\n",
        "print(\"Оценка на валидационной выборке\")\n",
        "\n",
        "print(\"\\nВсе доступные метрики (по классам):\")\n",
        "print(f\"Precision (p): {metrics.box.p}\")\n",
        "print(f\"Recall (r): {metrics.box.r}\")\n",
        "print(f\"F1 Score (f1): {metrics.box.f1}\")\n",
        "print(f\"AP50 по классам: {metrics.box.ap50}\")\n",
        "print(f\"AP (IoU 0.5–0.95) по классам: {metrics.box.ap}\")\n",
        "print(f\"mAP50 (mean): {metrics.box.map50}\")\n",
        "print(f\"mAP (mean, IoU 0.5–0.95): {metrics.box.map}\")\n",
        "\n",
        "# Приближенный расчет ошибок 1 и 2 рода\n",
        "precision = metrics.box.p\n",
        "recall = metrics.box.r\n",
        "\n",
        "fpr_approx = [1 - p for p in precision]  # Ошибка 1 рода ≈ 1 - Precision\n",
        "fnr = [1 - r for r in recall]            # Ошибка 2 рода = 1 - Recall\n",
        "\n",
        "for i, cls_name in enumerate(metrics.names.values()):\n",
        "    print(f\"\\nКласс: {cls_name}\")\n",
        "    print(f\"Ошибка 1 рода : {fpr_approx[i]:.4f}\")\n",
        "    print(f\"Ошибка 2 рода: {fnr[i]:.4f}\")\n",
        "\n",
        "\n",
        "print(\"Оценка на тестовой выборке\")\n",
        "# Вывод всех метрик YOLO\n",
        "print(\"\\nВсе доступные метрики (по классам):\")\n",
        "print(f\"Precision (p): {metrics_t.box.p}\")\n",
        "print(f\"Recall (r): {metrics_t.box.r}\")\n",
        "print(f\"F1 Score (f1): {metrics_t.box.f1}\")\n",
        "print(f\"AP50 по классам: {metrics_t.box.ap50}\")\n",
        "print(f\"AP (IoU 0.5–0.95) по классам: {metrics_t.box.ap}\")\n",
        "print(f\"mAP50 (mean): {metrics_t.box.map50}\")\n",
        "print(f\"mAP (mean, IoU 0.5–0.95): {metrics_t.box.map}\")\n",
        "\n",
        "# Приближенный расчет ошибок 1 и 2 рода\n",
        "precision = metrics_t.box.p\n",
        "recall = metrics_t.box.r\n",
        "\n",
        "fpr_approx = [1 - p for p in precision]  # Ошибка 1 рода ≈ 1 - Precision\n",
        "fnr = [1 - r for r in recall]            # Ошибка 2 рода = 1 - Recall\n",
        "\n",
        "for i, cls_name in enumerate(metrics_t.names.values()):\n",
        "    print(f\"\\nКласс: {cls_name}\")\n",
        "    print(f\"Ошибка 1 рода : {fpr_approx[i]:.4f}\")\n",
        "    print(f\"Ошибка 2 рода: {fnr[i]:.4f}\")\n",
        "\n",
        "  # Матрица ошибок\n",
        "cm = confusion_matrix(y_true, y_pred)\n",
        "\n",
        "# Ошибки по классам\n",
        "for idx, cls in enumerate(class_names):\n",
        "    TP = cm[idx, idx]\n",
        "    FP = cm[:, idx].sum() - TP\n",
        "    FN = cm[idx, :].sum() - TP\n",
        "    TN = cm.sum() - (TP + FP + FN)\n",
        "\n",
        "    fpr = FP / (FP + TN) if (FP + TN) > 0 else 0  # ошибка 1 рода\n",
        "    fnr = FN / (FN + TP) if (FN + TP) > 0 else 0  # ошибка 2 рода\n",
        "\n",
        "    print(f\"\\nКласс: {cls}\")\n",
        "    print(f\"Ошибка 1 рода : {fpr:.4f}\")\n",
        "    print(f\"Ошибка 2 рода: {fnr:.4f}\")\n"
      ]
    },
    {
      "cell_type": "code",
      "execution_count": null,
      "metadata": {
        "colab": {
          "base_uri": "https://localhost:8080/",
          "height": 1000
        },
        "id": "F7xzRIPkXAj6",
        "outputId": "5414d20d-799b-43f4-a34c-cd008aa9636e"
      },
      "outputs": [
        {
          "output_type": "display_data",
          "data": {
            "text/plain": [
              "<Figure size 800x600 with 2 Axes>"
            ],
            "image/png": "[encoded data removed]"
          },
          "metadata": {}
        },
        {
          "output_type": "display_data",
          "data": {
            "text/plain": [
              "<Figure size 1000x800 with 2 Axes>"
            ],
            "image/png": "[encoded data removed]"
          },
          "metadata": {}
        }
      ],
      "source": [
        "from sklearn.metrics import ConfusionMatrixDisplay\n",
        "import matplotlib.pyplot as plt\n",
        "\n",
        "# Получаем и обрезаем матрицу\n",
        "cm = metrics.confusion_matrix.matrix[:3, :3]\n",
        "class_names = ['raccoon', 'fox', 'owl']\n",
        "\n",
        "# Строим график\n",
        "disp = ConfusionMatrixDisplay(confusion_matrix=cm, display_labels=class_names)\n",
        "fig, ax = plt.subplots(figsize=(8, 6))\n",
        "disp.plot(ax=ax, cmap='Blues', values_format='.0f')\n",
        "\n",
        "plt.title(\"Матрица ошибок\")\n",
        "plt.xlabel(\"Предсказанные метки\")\n",
        "plt.ylabel(\"Истинные метки\")\n",
        "plt.grid(False)\n",
        "plt.tight_layout()\n",
        "plt.show()\n",
        "from sklearn.metrics import ConfusionMatrixDisplay\n",
        "import matplotlib.pyplot as plt\n",
        "import numpy as np\n",
        "\n",
        "# 1. Получаем \"сырую\" матрицу и обрезаем ее до ваших 3-х классов\n",
        "cm_raw = metrics.confusion_matrix.matrix[:3, :3]\n",
        "class_names = ['raccoon', 'fox', 'owl']\n",
        "\n",
        "# 2. Нормализуем матрицу по истинным значениям (по строкам)\n",
        "# Это покажет, какой процент объектов каждого класса был как распознан\n",
        "cm_normalized = cm_raw.astype('float') / cm_raw.sum(axis=1)[:, np.newaxis]\n",
        "\n",
        "# 3. Строим график\n",
        "fig, ax = plt.subplots(figsize=(10, 8))\n",
        "disp = ConfusionMatrixDisplay(confusion_matrix=cm_normalized,\n",
        "                              display_labels=class_names)\n",
        "\n",
        "# Используем формат '.2f' для отображения долей (процентов)\n",
        "disp.plot(ax=ax, cmap='Blues', values_format='.2f')\n",
        "\n",
        "# Добавляем подписи и заголовок\n",
        "plt.title(\"Нормализованная матрица ошибок\")\n",
        "plt.xlabel(\"Предсказанные метки\")\n",
        "plt.ylabel(\"Истинные метки\")\n",
        "plt.grid(False)\n",
        "plt.tight_layout()\n",
        "plt.show()"
      ]
    },
    {
      "cell_type": "markdown",
      "metadata": {
        "id": "n6-SUh9A12kU"
      },
      "source": [
        "Проверка работоспособности модели:"
      ]
    },
    {
      "cell_type": "code",
      "source": [
        "!unzip test.zip"
      ],
      "metadata": {
        "colab": {
          "base_uri": "https://localhost:8080/"
        },
        "id": "m9_4E3xbas77",
        "outputId": "d744ddbc-ae2c-4285-8ab4-33d01c49af30"
      },
      "execution_count": null,
      "outputs": [
        {
          "output_type": "stream",
          "name": "stdout",
          "text": [
            "Archive:  test.zip\n",
            "   creating: test/\n",
            "  inflating: test/fox.jpg            \n",
            "  inflating: test/owl.jpg            \n",
            "  inflating: test/rac.jpg            \n",
            "  inflating: test/город.jpg     \n",
            "  inflating: test/енот.jpg       \n",
            "  inflating: test/Кот.jpg         \n",
            "  inflating: test/лиса.jpg       \n",
            "  inflating: test/рыба.jpg       \n",
            "  inflating: test/сова.jpg       \n"
          ]
        }
      ]
    },
    {
      "cell_type": "code",
      "execution_count": 24,
      "metadata": {
        "colab": {
          "base_uri": "https://localhost:8080/"
        },
        "id": "3Rhfb-6W10Fi",
        "outputId": "d436c51e-f775-45f9-f1e0-08e69578ba78"
      },
      "outputs": [
        {
          "output_type": "stream",
          "name": "stdout",
          "text": [
            "\n",
            "0: 640x512 1 raccoon, 1 fox, 88.1ms\n",
            "Speed: 2.8ms preprocess, 88.1ms inference, 3.7ms postprocess per image at shape (1, 3, 640, 512)\n",
            "Processed Кот_detected_detected.jpg\n",
            "\n",
            "0: 480x640 (no detections), 79.2ms\n",
            "Speed: 4.3ms preprocess, 79.2ms inference, 0.8ms postprocess per image at shape (1, 3, 480, 640)\n",
            "Processed 1_detected.jpg\n",
            "\n",
            "0: 640x512 1 fox, 56.6ms\n",
            "Speed: 3.3ms preprocess, 56.6ms inference, 1.6ms postprocess per image at shape (1, 3, 640, 512)\n",
            "Processed Кот_detected_detected_detected.jpg\n",
            "\n",
            "0: 640x640 1 fox, 79.0ms\n",
            "Speed: 2.7ms preprocess, 79.0ms inference, 1.7ms postprocess per image at shape (1, 3, 640, 640)\n",
            "Processed fox_detected_detected_detected_detected.jpg\n",
            "\n",
            "0: 640x448 1 owl, 48.3ms\n",
            "Speed: 3.8ms preprocess, 48.3ms inference, 1.6ms postprocess per image at shape (1, 3, 640, 448)\n",
            "Processed сова_detected_detected.jpg\n",
            "\n",
            "0: 640x512 1 fox, 51.8ms\n",
            "Speed: 3.1ms preprocess, 51.8ms inference, 1.5ms postprocess per image at shape (1, 3, 640, 512)\n",
            "Processed Кот.jpg\n",
            "\n",
            "0: 480x640 1 raccoon, 55.4ms\n",
            "Speed: 3.0ms preprocess, 55.4ms inference, 1.6ms postprocess per image at shape (1, 3, 480, 640)\n",
            "Processed енот_detected_detected_detected.jpg\n",
            "\n",
            "0: 448x640 1 fox, 1 owl, 51.8ms\n",
            "Speed: 3.2ms preprocess, 51.8ms inference, 1.4ms postprocess per image at shape (1, 3, 448, 640)\n",
            "Processed рыба_detected_detected_detected_detected.jpg\n",
            "\n",
            "0: 640x640 1 raccoon, 77.0ms\n",
            "Speed: 3.9ms preprocess, 77.0ms inference, 1.7ms postprocess per image at shape (1, 3, 640, 640)\n",
            "Processed rac_detected.jpg\n",
            "\n",
            "0: 448x640 1 fox, 1 owl, 51.3ms\n",
            "Speed: 3.1ms preprocess, 51.3ms inference, 1.4ms postprocess per image at shape (1, 3, 448, 640)\n",
            "Processed рыба_detected_detected_detected.jpg\n",
            "\n",
            "0: 448x640 1 fox, 48.0ms\n",
            "Speed: 3.8ms preprocess, 48.0ms inference, 1.4ms postprocess per image at shape (1, 3, 448, 640)\n",
            "Processed m.jpg\n",
            "\n",
            "0: 640x640 1 owl, 77.0ms\n",
            "Speed: 2.8ms preprocess, 77.0ms inference, 1.6ms postprocess per image at shape (1, 3, 640, 640)\n",
            "Processed owl_detected_detected.jpg\n",
            "\n",
            "0: 640x640 1 fox, 1 owl, 78.9ms\n",
            "Speed: 3.0ms preprocess, 78.9ms inference, 1.8ms postprocess per image at shape (1, 3, 640, 640)\n",
            "Processed fox_detected_detected_detected.jpg\n",
            "\n",
            "0: 448x640 1 fox, 52.1ms\n",
            "Speed: 3.0ms preprocess, 52.1ms inference, 2.1ms postprocess per image at shape (1, 3, 448, 640)\n",
            "Processed рыба_detected.jpg\n",
            "\n",
            "0: 416x640 2 raccoons, 50.1ms\n",
            "Speed: 2.4ms preprocess, 50.1ms inference, 1.5ms postprocess per image at shape (1, 3, 416, 640)\n",
            "Processed лиса_detected_detected_detected_detected.jpg\n",
            "\n",
            "0: 640x640 1 owl, 79.1ms\n",
            "Speed: 2.6ms preprocess, 79.1ms inference, 1.7ms postprocess per image at shape (1, 3, 640, 640)\n",
            "Processed owl_detected_detected_detected.jpg\n",
            "\n",
            "0: 448x640 1 raccoon, 1 fox, 51.1ms\n",
            "Speed: 3.3ms preprocess, 51.1ms inference, 1.6ms postprocess per image at shape (1, 3, 448, 640)\n",
            "Processed m_detected_detected_detected_detected.jpg\n",
            "\n",
            "0: 480x640 1 raccoon, 54.7ms\n",
            "Speed: 2.8ms preprocess, 54.7ms inference, 1.5ms postprocess per image at shape (1, 3, 480, 640)\n",
            "Processed енот.jpg\n",
            "\n",
            "0: 416x640 2 raccoons, 1 fox, 50.3ms\n",
            "Speed: 2.3ms preprocess, 50.3ms inference, 1.6ms postprocess per image at shape (1, 3, 416, 640)\n",
            "Processed лиса_detected_detected.jpg\n",
            "\n",
            "0: 416x640 1 raccoon, 1 fox, 48.5ms\n",
            "Speed: 2.8ms preprocess, 48.5ms inference, 2.1ms postprocess per image at shape (1, 3, 416, 640)\n",
            "Processed лиса_detected.jpg\n",
            "\n",
            "0: 480x640 1 raccoon, 56.9ms\n",
            "Speed: 3.3ms preprocess, 56.9ms inference, 1.5ms postprocess per image at shape (1, 3, 480, 640)\n",
            "Processed енот_detected_detected.jpg\n",
            "\n",
            "0: 640x512 1 fox, 56.8ms\n",
            "Speed: 3.7ms preprocess, 56.8ms inference, 1.4ms postprocess per image at shape (1, 3, 640, 512)\n",
            "Processed Кот_detected_detected_detected_detected.jpg\n",
            "\n",
            "0: 640x640 (no detections), 74.6ms\n",
            "Speed: 4.5ms preprocess, 74.6ms inference, 0.6ms postprocess per image at shape (1, 3, 640, 640)\n",
            "Processed 2.jpg\n",
            "\n",
            "0: 384x640 (no detections), 43.7ms\n",
            "Speed: 3.5ms preprocess, 43.7ms inference, 0.7ms postprocess per image at shape (1, 3, 384, 640)\n",
            "Processed город_detected.jpg\n",
            "\n",
            "0: 448x640 1 raccoon, 1 fox, 49.8ms\n",
            "Speed: 3.5ms preprocess, 49.8ms inference, 1.5ms postprocess per image at shape (1, 3, 448, 640)\n",
            "Processed m_detected_detected_detected.jpg\n",
            "\n",
            "0: 416x640 1 fox, 47.9ms\n",
            "Speed: 3.1ms preprocess, 47.9ms inference, 1.5ms postprocess per image at shape (1, 3, 416, 640)\n",
            "Processed лиса.jpg\n",
            "\n",
            "0: 640x640 1 raccoon, 77.9ms\n",
            "Speed: 3.6ms preprocess, 77.9ms inference, 1.8ms postprocess per image at shape (1, 3, 640, 640)\n",
            "Processed rac_detected_detected_detected_detected.jpg\n",
            "\n",
            "0: 640x640 1 raccoon, 76.1ms\n",
            "Speed: 3.8ms preprocess, 76.1ms inference, 1.6ms postprocess per image at shape (1, 3, 640, 640)\n",
            "Processed rac_detected_detected_detected.jpg\n",
            "\n",
            "0: 384x640 1 fox, 46.0ms\n",
            "Speed: 3.6ms preprocess, 46.0ms inference, 1.5ms postprocess per image at shape (1, 3, 384, 640)\n",
            "Processed город_detected_detected.jpg\n",
            "\n",
            "0: 384x640 (no detections), 43.4ms\n",
            "Speed: 2.9ms preprocess, 43.4ms inference, 0.7ms postprocess per image at shape (1, 3, 384, 640)\n",
            "Processed город_detected_detected_detected.jpg\n",
            "\n",
            "0: 384x640 1 fox, 43.7ms\n",
            "Speed: 2.8ms preprocess, 43.7ms inference, 1.5ms postprocess per image at shape (1, 3, 384, 640)\n",
            "Processed город.jpg\n",
            "\n",
            "0: 640x640 1 owl, 76.8ms\n",
            "Speed: 3.1ms preprocess, 76.8ms inference, 1.5ms postprocess per image at shape (1, 3, 640, 640)\n",
            "Processed owl.jpg\n",
            "\n",
            "0: 448x640 1 raccoon, 1 fox, 50.0ms\n",
            "Speed: 3.8ms preprocess, 50.0ms inference, 1.5ms postprocess per image at shape (1, 3, 448, 640)\n",
            "Processed m_detected_detected.jpg\n",
            "\n",
            "0: 640x640 1 owl, 77.0ms\n",
            "Speed: 3.0ms preprocess, 77.0ms inference, 1.5ms postprocess per image at shape (1, 3, 640, 640)\n",
            "Processed owl_detected_detected_detected_detected.jpg\n",
            "\n",
            "0: 416x640 2 raccoons, 1 fox, 50.9ms\n",
            "Speed: 2.8ms preprocess, 50.9ms inference, 1.3ms postprocess per image at shape (1, 3, 416, 640)\n",
            "Processed лиса_detected_detected_detected.jpg\n",
            "\n",
            "0: 448x640 1 fox, 1 owl, 50.0ms\n",
            "Speed: 3.0ms preprocess, 50.0ms inference, 1.3ms postprocess per image at shape (1, 3, 448, 640)\n",
            "Processed рыба.jpg\n",
            "\n",
            "0: 640x448 1 owl, 48.1ms\n",
            "Speed: 3.9ms preprocess, 48.1ms inference, 1.6ms postprocess per image at shape (1, 3, 640, 448)\n",
            "Processed сова.jpg\n",
            "\n",
            "0: 640x448 1 owl, 46.3ms\n",
            "Speed: 3.7ms preprocess, 46.3ms inference, 1.6ms postprocess per image at shape (1, 3, 640, 448)\n",
            "Processed сова_detected_detected_detected.jpg\n",
            "\n",
            "0: 640x640 1 owl, 75.1ms\n",
            "Speed: 2.8ms preprocess, 75.1ms inference, 2.0ms postprocess per image at shape (1, 3, 640, 640)\n",
            "Processed owl_detected.jpg\n",
            "\n",
            "0: 640x640 (no detections), 74.6ms\n",
            "Speed: 4.8ms preprocess, 74.6ms inference, 0.9ms postprocess per image at shape (1, 3, 640, 640)\n",
            "Processed 2_detected.jpg\n",
            "\n",
            "0: 384x640 (no detections), 45.1ms\n",
            "Speed: 3.1ms preprocess, 45.1ms inference, 0.7ms postprocess per image at shape (1, 3, 384, 640)\n",
            "Processed город_detected_detected_detected_detected.jpg\n",
            "\n",
            "0: 640x448 1 owl, 48.8ms\n",
            "Speed: 4.1ms preprocess, 48.8ms inference, 1.5ms postprocess per image at shape (1, 3, 640, 448)\n",
            "Processed сова_detected.jpg\n",
            "\n",
            "0: 640x512 1 raccoon, 1 fox, 52.7ms\n",
            "Speed: 3.4ms preprocess, 52.7ms inference, 1.6ms postprocess per image at shape (1, 3, 640, 512)\n",
            "Processed Кот_detected.jpg\n",
            "\n",
            "0: 640x640 1 fox, 1 owl, 78.1ms\n",
            "Speed: 2.8ms preprocess, 78.1ms inference, 1.6ms postprocess per image at shape (1, 3, 640, 640)\n",
            "Processed fox_detected.jpg\n",
            "\n",
            "0: 480x640 (no detections), 52.2ms\n",
            "Speed: 4.2ms preprocess, 52.2ms inference, 0.8ms postprocess per image at shape (1, 3, 480, 640)\n",
            "Processed 1.jpg\n",
            "\n",
            "0: 480x640 (no detections), 48.4ms\n",
            "Speed: 4.8ms preprocess, 48.4ms inference, 0.8ms postprocess per image at shape (1, 3, 480, 640)\n",
            "Processed 1_detected_detected.jpg\n",
            "\n",
            "0: 640x640 1 fox, 77.8ms\n",
            "Speed: 3.0ms preprocess, 77.8ms inference, 2.2ms postprocess per image at shape (1, 3, 640, 640)\n",
            "Processed fox.jpg\n",
            "\n",
            "0: 640x640 1 raccoon, 75.8ms\n",
            "Speed: 6.9ms preprocess, 75.8ms inference, 1.7ms postprocess per image at shape (1, 3, 640, 640)\n",
            "Processed rac.jpg\n",
            "\n",
            "0: 480x640 1 raccoon, 56.7ms\n",
            "Speed: 2.8ms preprocess, 56.7ms inference, 1.5ms postprocess per image at shape (1, 3, 480, 640)\n",
            "Processed енот_detected_detected_detected_detected.jpg\n",
            "\n",
            "0: 448x640 1 raccoon, 1 fox, 50.7ms\n",
            "Speed: 3.3ms preprocess, 50.7ms inference, 1.5ms postprocess per image at shape (1, 3, 448, 640)\n",
            "Processed m_detected.jpg\n",
            "\n",
            "0: 480x640 1 raccoon, 54.6ms\n",
            "Speed: 2.7ms preprocess, 54.6ms inference, 1.4ms postprocess per image at shape (1, 3, 480, 640)\n",
            "Processed енот_detected.jpg\n",
            "\n",
            "0: 640x640 2 raccoons, 79.9ms\n",
            "Speed: 3.7ms preprocess, 79.9ms inference, 1.4ms postprocess per image at shape (1, 3, 640, 640)\n",
            "Processed rac_detected_detected.jpg\n",
            "\n",
            "0: 448x640 1 fox, 1 owl, 51.2ms\n",
            "Speed: 3.5ms preprocess, 51.2ms inference, 1.6ms postprocess per image at shape (1, 3, 448, 640)\n",
            "Processed рыба_detected_detected.jpg\n",
            "\n",
            "0: 640x640 1 fox, 1 owl, 77.0ms\n",
            "Speed: 2.9ms preprocess, 77.0ms inference, 1.6ms postprocess per image at shape (1, 3, 640, 640)\n",
            "Processed fox_detected_detected.jpg\n"
          ]
        }
      ],
      "source": [
        "\n",
        "from ultralytics import YOLO\n",
        "import cv2\n",
        "import numpy as np\n",
        "import os\n",
        "# Цвета для классов: raccoon, fox, owl\n",
        "colors = [\n",
        "    (255, 0, 0),    # raccoon - красный\n",
        "    (0, 255, 0),    # fox - зеленый\n",
        "    (0, 0, 255)     # owl - синий\n",
        "]\n",
        "\n",
        "# Обработка одного изображения\n",
        "def process_image(image_path):\n",
        "    image = cv2.imread(image_path)\n",
        "    results = model(image)[0]\n",
        "\n",
        "    image = results.orig_img\n",
        "    classes_names = results.names\n",
        "    classes = results.boxes.cls.cpu().numpy()\n",
        "    boxes = results.boxes.xyxy.cpu().numpy().astype(np.int32)\n",
        "    confs = results.boxes.conf.cpu().numpy()\n",
        "\n",
        "    grouped_objects = {}\n",
        "\n",
        "    for class_id, box, conf in zip(classes, boxes, confs):\n",
        "        class_name = classes_names[int(class_id)]\n",
        "        color = colors[int(class_id)]\n",
        "\n",
        "        # Определяем текст для вывода\n",
        "        if conf < 0.50:\n",
        "            display_text = f\"Unknown. May be {class_name}: {conf:.2f}\"\n",
        "            display_color = (128, 128, 128) # Серый цвет для \"Другое\"\n",
        "        else:\n",
        "            display_text = f\"{class_name} {conf:.2f}\"\n",
        "            display_color = color\n",
        "\n",
        "        if class_name not in grouped_objects:\n",
        "            grouped_objects[class_name] = []\n",
        "        grouped_objects[class_name].append(box)\n",
        "\n",
        "        x1, y1, x2, y2 = box\n",
        "        cv2.rectangle(image, (x1, y1), (x2, y2), display_color, 2)\n",
        "        cv2.putText(image, display_text, (x1, y1 - 10),\n",
        "                    cv2.FONT_HERSHEY_SIMPLEX, 0.5, display_color, 2)\n",
        "\n",
        "    # Сохраняем изображения и результаты\n",
        "    new_image_path = os.path.splitext(image_path)[0] + '_detected' + os.path.splitext(image_path)[1]\n",
        "    text_file_path = os.path.splitext(image_path)[0] + '_data.txt'\n",
        "\n",
        "    cv2.imwrite(new_image_path, image)\n",
        "    with open(text_file_path, 'w') as f:\n",
        "        for class_name, boxes in grouped_objects.items():\n",
        "            f.write(f\"{class_name} (count: {len(boxes)}):\\n\")\n",
        "            for i, box in enumerate(boxes, 1):\n",
        "                f.write(f\"  Object {i}: {box}\\n\")\n",
        "\n",
        "    print(f\"Processed {os.path.basename(image_path)}\")\n",
        "\n",
        "\n",
        "# Обработка всех изображений в папке\n",
        "def process_folder(folder_path):\n",
        "    supported_exts = ['.jpg', '.jpeg', '.png']\n",
        "    for filename in os.listdir(folder_path):\n",
        "        if any(filename.lower().endswith(ext) for ext in supported_exts):\n",
        "            image_path = os.path.join(folder_path, filename)\n",
        "            process_image(image_path)\n",
        "\n",
        "process_folder('test')\n"
      ]
    }
  ],
  "metadata": {
    "accelerator": "GPU",
    "colab": {
      "gpuType": "T4",
      "provenance": []
    },
    "kernelspec": {
      "display_name": "Python 3",
      "name": "python3"
    },
    "language_info": {
      "codemirror_mode": {
        "name": "ipython",
        "version": 3
      },
      "file_extension": ".py",
      "mimetype": "text/x-python",
      "name": "python",
      "nbconvert_exporter": "python",
      "pygments_lexer": "ipython3",
      "version": "3.13.5"
    }
  },
  "nbformat": 4,
  "nbformat_minor": 0
}