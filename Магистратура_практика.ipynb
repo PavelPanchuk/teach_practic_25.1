{
  "cells": [
    {
      "cell_type": "markdown",
      "metadata": {
        "id": "view-in-github",
        "colab_type": "text"
      },
      "source": [
        "<a href=\"https://colab.research.google.com/github/PavelPanchuk/teach_practic_25.1/blob/main/%D0%9C%D0%B0%D0%B3%D0%B8%D1%81%D1%82%D1%80%D0%B0%D1%82%D1%83%D1%80%D0%B0_%D0%BF%D1%80%D0%B0%D0%BA%D1%82%D0%B8%D0%BA%D0%B0.ipynb\" target=\"_parent\"><img src=\"https://colab.research.google.com/assets/colab-badge.svg\" alt=\"Open In Colab\"/></a>"
      ]
    },
    {
      "cell_type": "markdown",
      "metadata": {
        "id": "R3XpH2QEYfjY"
      },
      "source": [
        "\n",
        "Ссылки:\n",
        "1. https://www.ultralytics.com/\n",
        "2. https://docs.ultralytics.com/ru/models/yolo12/#detection-performance-coco-val2017\n",
        "3. https://habr.com/ru/articles/821971/\n",
        "4. https://docs.ultralytics.com/ru/datasets/detect/african-wildlife/#what-is-the-african-wildlife-dataset-and-how-can-it-be-used-in-computer-vision-projects\n",
        "5. https://docs.ultralytics.com/ru/datasets/detect/african-wildlife/\n",
        "6. https://public.roboflow.com/object-detection/raccoon -raccoon dataset\n",
        "7. https://www.kaggle.com/datasets/rahmasleam/bird-speciees-dataset?resource=download bird dataset (Barn Owl)\n",
        "8. https://www.kaggle.com/datasets/mmoreaux/caltech256 big dataset (owl)\n",
        "9. https://www.kaggle.com/datasets/snmahsa/animal-image-dataset-cats-dogs-and-foxes    fox dataset\n",
        "\n",
        "Библиотеки и пакеты:"
      ]
    },
    {
      "cell_type": "code",
      "execution_count": null,
      "metadata": {
        "id": "PODWTqqTZ-SI"
      },
      "outputs": [],
      "source": [
        "!pip install ultralytics"
      ]
    },
    {
      "cell_type": "markdown",
      "metadata": {
        "id": "kgtiqZ5CZ8z8"
      },
      "source": [
        "Пример кода с хабра\n",
        "\n"
      ]
    },
    {
      "cell_type": "code",
      "execution_count": 11,
      "metadata": {
        "colab": {
          "base_uri": "https://localhost:8080/"
        },
        "id": "YSl6S8py7tiS",
        "outputId": "60b1a3f1-783f-46e6-8eec-a9ffc5c87741"
      },
      "outputs": [
        {
          "output_type": "stream",
          "name": "stdout",
          "text": [
            "\n",
            "0: 640x640 2 persons, 3 cars, 1 truck, 3 traffic lights, 2 stop signs, 2 sports balls, 4663.7ms\n",
            "Speed: 9.5ms preprocess, 4663.7ms inference, 1.7ms postprocess per image at shape (1, 3, 640, 640)\n",
            "Processed test.png:\n",
            "Saved bounding-box image to test_yolo.png\n",
            "Saved data to test_data.txt\n"
          ]
        }
      ],
      "source": [
        "\n",
        "from ultralytics import YOLO\n",
        "import cv2\n",
        "import numpy as np\n",
        "import os\n",
        "\n",
        "# Загрузка модели YOLOv8\n",
        "# model = YOLO('yolov8n.pt')\n",
        "# model = YOLO('yolo12n.pt')\n",
        "model = YOLO('yolo12x.pt')\n",
        "# Список цветов для различных классов\n",
        "colors = [\n",
        "    (255, 0, 0), (0, 255, 0), (0, 0, 255), (255, 255, 0), (0, 255, 255),\n",
        "    (255, 0, 255), (192, 192, 192), (128, 128, 128), (128, 0, 0), (128, 128, 0),\n",
        "    (0, 128, 0), (128, 0, 128), (0, 128, 128), (0, 0, 128), (72, 61, 139),\n",
        "    (47, 79, 79), (47, 79, 47), (0, 206, 209), (148, 0, 211), (255, 20, 147)\n",
        "]\n",
        "\n",
        "# Функция для обработки изображения\n",
        "def process_image(image_path):\n",
        "    # Загрузка изображения\n",
        "    image = cv2.imread(image_path)\n",
        "    results = model(image)[0]\n",
        "\n",
        "    # Получение оригинального изображения и результатов\n",
        "    image = results.orig_img\n",
        "    classes_names = results.names\n",
        "    classes = results.boxes.cls.cpu().numpy()\n",
        "    boxes = results.boxes.xyxy.cpu().numpy().astype(np.int32)\n",
        "\n",
        "    # Подготовка словаря для группировки результатов по классам\n",
        "    grouped_objects = {}\n",
        "\n",
        "    # Рисование рамок и группировка результатов\n",
        "    for class_id, box in zip(classes, boxes):\n",
        "        class_name = classes_names[int(class_id)]\n",
        "        color = colors[int(class_id) % len(colors)]  # Выбор цвета для класса\n",
        "        if class_name not in grouped_objects:\n",
        "            grouped_objects[class_name] = []\n",
        "        grouped_objects[class_name].append(box)\n",
        "\n",
        "        # Рисование рамок на изображении\n",
        "        x1, y1, x2, y2 = box\n",
        "        cv2.rectangle(image, (x1, y1), (x2, y2), color, 2)\n",
        "        cv2.putText(image, class_name, (x1, y1 - 10), cv2.FONT_HERSHEY_SIMPLEX, 0.5, color, 2)\n",
        "\n",
        "    # Сохранение измененного изображения\n",
        "    new_image_path = os.path.splitext(image_path)[0] + '_yolo' + os.path.splitext(image_path)[1]\n",
        "    cv2.imwrite(new_image_path, image)\n",
        "\n",
        "    # Сохранение данных в текстовый файл\n",
        "    text_file_path = os.path.splitext(image_path)[0] + '_data.txt'\n",
        "    with open(text_file_path, 'w') as f:\n",
        "        for class_name, details in grouped_objects.items():\n",
        "            f.write(f\"{class_name}:\\n\")\n",
        "            for detail in details:\n",
        "                f.write(f\"Coordinates: ({detail[0]}, {detail[1]}, {detail[2]}, {detail[3]})\\n\")\n",
        "\n",
        "    print(f\"Processed {image_path}:\")\n",
        "    print(f\"Saved bounding-box image to {new_image_path}\")\n",
        "    print(f\"Saved data to {text_file_path}\")\n",
        "\n",
        "# process_image('1.jpg')\n",
        "process_image('test.png')"
      ]
    },
    {
      "cell_type": "markdown",
      "metadata": {
        "id": "QPu5bStgbl6b"
      },
      "source": [
        "Задание\n",
        "\n",
        "Классификация изображений -енот, филин и лиса- 100 элементов в 2х датасетах, две нейронных сети, одна из них  YOLO, вторая от Google. Оценить ошибки 1 и 2 рода. Погрешность по каждому.\n",
        "\n"
      ]
    },
    {
      "cell_type": "markdown",
      "metadata": {
        "id": "hSzkEPS5bx1z"
      },
      "source": [
        "**YOLO12**"
      ]
    },
    {
      "cell_type": "markdown",
      "metadata": {
        "id": "LSkTYhbDb0-C"
      },
      "source": [
        "Обучение на датасете"
      ]
    },
    {
      "cell_type": "code",
      "execution_count": null,
      "metadata": {
        "id": "G_oN5UBKbtUm"
      },
      "outputs": [],
      "source": []
    }
  ],
  "metadata": {
    "colab": {
      "provenance": [],
      "authorship_tag": "ABX9TyNnSlnp481iebDGQVZfiIiY",
      "include_colab_link": true
    },
    "kernelspec": {
      "display_name": "Python 3",
      "name": "python3"
    },
    "language_info": {
      "name": "python"
    }
  },
  "nbformat": 4,
  "nbformat_minor": 0
}